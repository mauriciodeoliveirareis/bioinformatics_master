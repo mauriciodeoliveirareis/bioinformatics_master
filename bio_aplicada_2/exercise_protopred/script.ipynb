{
 "cells": [
  {
   "cell_type": "code",
   "execution_count": 6,
   "id": "40bce854",
   "metadata": {},
   "outputs": [
    {
     "ename": "NameError",
     "evalue": "name '__file__' is not defined",
     "output_type": "error",
     "traceback": [
      "\u001b[0;31m---------------------------------------------------------------------------\u001b[0m",
      "\u001b[0;31mNameError\u001b[0m                                 Traceback (most recent call last)",
      "Cell \u001b[0;32mIn[6], line 3\u001b[0m\n\u001b[1;32m      1\u001b[0m \u001b[38;5;28;01mimport\u001b[39;00m\u001b[38;5;250m \u001b[39m\u001b[38;5;21;01mos\u001b[39;00m\n\u001b[1;32m      2\u001b[0m \u001b[38;5;28;01mfrom\u001b[39;00m\u001b[38;5;250m \u001b[39m\u001b[38;5;21;01mpathlib\u001b[39;00m\u001b[38;5;250m \u001b[39m\u001b[38;5;28;01mimport\u001b[39;00m Path\n\u001b[0;32m----> 3\u001b[0m parent \u001b[38;5;241m=\u001b[39m Path(\u001b[38;5;18;43m__file__\u001b[39;49m)\u001b[38;5;241m.\u001b[39mresolve()\u001b[38;5;241m.\u001b[39mparent\n\u001b[1;32m      4\u001b[0m os\u001b[38;5;241m.\u001b[39mchdir(parent)\n\u001b[1;32m      5\u001b[0m \u001b[38;5;28mprint\u001b[39m(\u001b[38;5;124mf\u001b[39m\u001b[38;5;124m'\u001b[39m\u001b[38;5;124mWorking on: \u001b[39m\u001b[38;5;130;01m\\n\u001b[39;00m\u001b[38;5;124m \u001b[39m\u001b[38;5;132;01m{\u001b[39;00mos\u001b[38;5;241m.\u001b[39mgetcwd()\u001b[38;5;132;01m}\u001b[39;00m\u001b[38;5;124m'\u001b[39m)\n",
      "\u001b[0;31mNameError\u001b[0m: name '__file__' is not defined"
     ]
    }
   ],
   "source": [
    "import os\n",
    "from pathlib import Path\n",
    "parent = Path(__file__).resolve().parent\n",
    "os.chdir(parent)\n",
    "print(f'Working on: \\n {os.getcwd()}')"
   ]
  },
  {
   "cell_type": "code",
   "execution_count": null,
   "id": "54705a5b",
   "metadata": {},
   "outputs": [
    {
     "data": {
      "application/vnd.microsoft.datawrangler.viewer.v0+json": {
       "columns": [
        {
         "name": "index",
         "rawType": "int64",
         "type": "integer"
        },
        {
         "name": "Models",
         "rawType": "object",
         "type": "unknown"
        },
        {
         "name": "Druglikeness; Bioavailability30; Caco-2 permeability; Blood-brain barrier; Plasma-protein binding",
         "rawType": "object",
         "type": "string"
        }
       ],
       "ref": "2810ddda-5bbb-47f0-9533-4ebe26be5ef4",
       "rows": [
        [
         "0",
         "Input method",
         "File"
        ],
        [
         "1",
         "File name",
         "Data_base_screening.csv"
        ],
        [
         "2",
         " \nMetadata",
         "Find below a short description of the information provided in this excel"
        ],
        [
         "3",
         "General organization",
         "Results are displayed in tables by model in different sheets"
        ],
        [
         "4",
         "Description of the data",
         "Find below a list of the columns in each table with a short description of their content"
        ],
        [
         "5",
         "ID",
         "Internal identifier of the predicted molecule (used in the tables and file name of reports)"
        ],
        [
         "6",
         "Chemical name",
         "Name of the substance (if introduced by the user)"
        ],
        [
         "7",
         "EC number",
         "EC number of the substance (if introduced by the user)"
        ],
        [
         "8",
         "Other regulatory ID",
         "Other regulatory numerical identifiers (if introduced by the user)"
        ],
        [
         "9",
         "Structural formula",
         "Structural formula of the substance (if introduced by the user)"
        ],
        [
         "10",
         "CAS",
         "CAS number the substance (if introduced by the user)"
        ],
        [
         "11",
         "SMILES",
         "SMILES string to identify the chemical structure of the substance (this is the actual input of the QSAR model)"
        ],
        [
         "12",
         "Experimental value*",
         "Experimental value of the substance for the endpoint of the model (if numerical, in the units used for the model)"
        ],
        [
         "13",
         "Experimental value (model units)*",
         "Experimental value in the units used in the QSAR model (only for regression models if different that the common units)"
        ],
        [
         "14",
         "Experimental value (common units)*",
         "Experimental value in common units (only for regression models developed in different units)"
        ],
        [
         "15",
         "Predicted value",
         "Predicted value (as a label for classification models and a value with the modelling units for regression models)"
        ],
        [
         "16",
         "Predicted value (model units)",
         "Predicted value in the units used in the QSAR model (only for regression models if different that the common units)"
        ],
        [
         "17",
         "Predicted value (common units)",
         "Predicted value in common units (only for regression models developed in different units)"
        ],
        [
         "18",
         "Predicted without units",
         "Predicted value without units (regression models only)"
        ],
        [
         "19",
         "Predicted binary (0/1)",
         "Predicted value of a classification as a binary numeric label (0 or 1)"
        ],
        [
         "20",
         "Applicability domain**",
         "The applicability domain assess if the substance is in the chemical space of the model or not (which affects the reliability of the prediction)"
        ],
        [
         "21",
         "Druglikeness",
         "All ProtoADME predictions include the evaluation of the druglikeness of the substance based on 8 set of rules."
        ],
        [
         "22",
         "    ",
         "More details on the rules on https://protopred.protoqsar.com/ProtoADME/druglikeness"
        ],
        [
         "23",
         "rule xxxxx YYYYY",
         "1 if the molecule violates the xxxxx rule include in the YYYYY set of rules"
        ],
        [
         "24",
         "Number of YYYYY rules violation",
         "Number of violations in the YYYYY set of rules"
        ],
        [
         "25",
         "Legend",
         "*Experimental value is only provided if the substance was included in the development dataset of the model"
        ],
        [
         "26",
         null,
         "**We apply 4 different methods, the methods that found the substance in the AD are indicated with abbreviations: T, Tanimoto-Jaccard; L, leverages; E, Euclidean distance; R, range of descriptors"
        ],
        [
         "27",
         null,
         "***(Summary sheet) The prediction falls outside the applicability domain of the model"
        ]
       ],
       "shape": {
        "columns": 2,
        "rows": 28
       }
      },
      "text/html": [
       "<div>\n",
       "<style scoped>\n",
       "    .dataframe tbody tr th:only-of-type {\n",
       "        vertical-align: middle;\n",
       "    }\n",
       "\n",
       "    .dataframe tbody tr th {\n",
       "        vertical-align: top;\n",
       "    }\n",
       "\n",
       "    .dataframe thead th {\n",
       "        text-align: right;\n",
       "    }\n",
       "</style>\n",
       "<table border=\"1\" class=\"dataframe\">\n",
       "  <thead>\n",
       "    <tr style=\"text-align: right;\">\n",
       "      <th></th>\n",
       "      <th>Models</th>\n",
       "      <th>Druglikeness; Bioavailability30; Caco-2 permeability; Blood-brain barrier; Plasma-protein binding</th>\n",
       "    </tr>\n",
       "  </thead>\n",
       "  <tbody>\n",
       "    <tr>\n",
       "      <th>0</th>\n",
       "      <td>Input method</td>\n",
       "      <td>File</td>\n",
       "    </tr>\n",
       "    <tr>\n",
       "      <th>1</th>\n",
       "      <td>File name</td>\n",
       "      <td>Data_base_screening.csv</td>\n",
       "    </tr>\n",
       "    <tr>\n",
       "      <th>2</th>\n",
       "      <td>\\nMetadata</td>\n",
       "      <td>Find below a short description of the informat...</td>\n",
       "    </tr>\n",
       "    <tr>\n",
       "      <th>3</th>\n",
       "      <td>General organization</td>\n",
       "      <td>Results are displayed in tables by model in di...</td>\n",
       "    </tr>\n",
       "    <tr>\n",
       "      <th>4</th>\n",
       "      <td>Description of the data</td>\n",
       "      <td>Find below a list of the columns in each table...</td>\n",
       "    </tr>\n",
       "    <tr>\n",
       "      <th>5</th>\n",
       "      <td>ID</td>\n",
       "      <td>Internal identifier of the predicted molecule ...</td>\n",
       "    </tr>\n",
       "    <tr>\n",
       "      <th>6</th>\n",
       "      <td>Chemical name</td>\n",
       "      <td>Name of the substance (if introduced by the user)</td>\n",
       "    </tr>\n",
       "    <tr>\n",
       "      <th>7</th>\n",
       "      <td>EC number</td>\n",
       "      <td>EC number of the substance (if introduced by t...</td>\n",
       "    </tr>\n",
       "    <tr>\n",
       "      <th>8</th>\n",
       "      <td>Other regulatory ID</td>\n",
       "      <td>Other regulatory numerical identifiers (if int...</td>\n",
       "    </tr>\n",
       "    <tr>\n",
       "      <th>9</th>\n",
       "      <td>Structural formula</td>\n",
       "      <td>Structural formula of the substance (if introd...</td>\n",
       "    </tr>\n",
       "    <tr>\n",
       "      <th>10</th>\n",
       "      <td>CAS</td>\n",
       "      <td>CAS number the substance (if introduced by the...</td>\n",
       "    </tr>\n",
       "    <tr>\n",
       "      <th>11</th>\n",
       "      <td>SMILES</td>\n",
       "      <td>SMILES string to identify the chemical structu...</td>\n",
       "    </tr>\n",
       "    <tr>\n",
       "      <th>12</th>\n",
       "      <td>Experimental value*</td>\n",
       "      <td>Experimental value of the substance for the en...</td>\n",
       "    </tr>\n",
       "    <tr>\n",
       "      <th>13</th>\n",
       "      <td>Experimental value (model units)*</td>\n",
       "      <td>Experimental value in the units used in the QS...</td>\n",
       "    </tr>\n",
       "    <tr>\n",
       "      <th>14</th>\n",
       "      <td>Experimental value (common units)*</td>\n",
       "      <td>Experimental value in common units (only for r...</td>\n",
       "    </tr>\n",
       "    <tr>\n",
       "      <th>15</th>\n",
       "      <td>Predicted value</td>\n",
       "      <td>Predicted value (as a label for classification...</td>\n",
       "    </tr>\n",
       "    <tr>\n",
       "      <th>16</th>\n",
       "      <td>Predicted value (model units)</td>\n",
       "      <td>Predicted value in the units used in the QSAR ...</td>\n",
       "    </tr>\n",
       "    <tr>\n",
       "      <th>17</th>\n",
       "      <td>Predicted value (common units)</td>\n",
       "      <td>Predicted value in common units (only for regr...</td>\n",
       "    </tr>\n",
       "    <tr>\n",
       "      <th>18</th>\n",
       "      <td>Predicted without units</td>\n",
       "      <td>Predicted value without units (regression mode...</td>\n",
       "    </tr>\n",
       "    <tr>\n",
       "      <th>19</th>\n",
       "      <td>Predicted binary (0/1)</td>\n",
       "      <td>Predicted value of a classification as a binar...</td>\n",
       "    </tr>\n",
       "    <tr>\n",
       "      <th>20</th>\n",
       "      <td>Applicability domain**</td>\n",
       "      <td>The applicability domain assess if the substan...</td>\n",
       "    </tr>\n",
       "    <tr>\n",
       "      <th>21</th>\n",
       "      <td>Druglikeness</td>\n",
       "      <td>All ProtoADME predictions include the evaluati...</td>\n",
       "    </tr>\n",
       "    <tr>\n",
       "      <th>22</th>\n",
       "      <td></td>\n",
       "      <td>More details on the rules on https://protopred...</td>\n",
       "    </tr>\n",
       "    <tr>\n",
       "      <th>23</th>\n",
       "      <td>rule xxxxx YYYYY</td>\n",
       "      <td>1 if the molecule violates the xxxxx rule incl...</td>\n",
       "    </tr>\n",
       "    <tr>\n",
       "      <th>24</th>\n",
       "      <td>Number of YYYYY rules violation</td>\n",
       "      <td>Number of violations in the YYYYY set of rules</td>\n",
       "    </tr>\n",
       "    <tr>\n",
       "      <th>25</th>\n",
       "      <td>Legend</td>\n",
       "      <td>*Experimental value is only provided if the su...</td>\n",
       "    </tr>\n",
       "    <tr>\n",
       "      <th>26</th>\n",
       "      <td>NaN</td>\n",
       "      <td>**We apply 4 different methods, the methods th...</td>\n",
       "    </tr>\n",
       "    <tr>\n",
       "      <th>27</th>\n",
       "      <td>NaN</td>\n",
       "      <td>***(Summary sheet) The prediction falls outsid...</td>\n",
       "    </tr>\n",
       "  </tbody>\n",
       "</table>\n",
       "</div>"
      ],
      "text/plain": [
       "                                Models  \\\n",
       "0                         Input method   \n",
       "1                            File name   \n",
       "2                           \\nMetadata   \n",
       "3                 General organization   \n",
       "4              Description of the data   \n",
       "5                                   ID   \n",
       "6                        Chemical name   \n",
       "7                            EC number   \n",
       "8                  Other regulatory ID   \n",
       "9                   Structural formula   \n",
       "10                                 CAS   \n",
       "11                              SMILES   \n",
       "12                 Experimental value*   \n",
       "13   Experimental value (model units)*   \n",
       "14  Experimental value (common units)*   \n",
       "15                     Predicted value   \n",
       "16       Predicted value (model units)   \n",
       "17      Predicted value (common units)   \n",
       "18             Predicted without units   \n",
       "19              Predicted binary (0/1)   \n",
       "20              Applicability domain**   \n",
       "21                        Druglikeness   \n",
       "22                                       \n",
       "23                    rule xxxxx YYYYY   \n",
       "24     Number of YYYYY rules violation   \n",
       "25                              Legend   \n",
       "26                                 NaN   \n",
       "27                                 NaN   \n",
       "\n",
       "   Druglikeness; Bioavailability30; Caco-2 permeability; Blood-brain barrier; Plasma-protein binding  \n",
       "0                                                File                                                 \n",
       "1                             Data_base_screening.csv                                                 \n",
       "2   Find below a short description of the informat...                                                 \n",
       "3   Results are displayed in tables by model in di...                                                 \n",
       "4   Find below a list of the columns in each table...                                                 \n",
       "5   Internal identifier of the predicted molecule ...                                                 \n",
       "6   Name of the substance (if introduced by the user)                                                 \n",
       "7   EC number of the substance (if introduced by t...                                                 \n",
       "8   Other regulatory numerical identifiers (if int...                                                 \n",
       "9   Structural formula of the substance (if introd...                                                 \n",
       "10  CAS number the substance (if introduced by the...                                                 \n",
       "11  SMILES string to identify the chemical structu...                                                 \n",
       "12  Experimental value of the substance for the en...                                                 \n",
       "13  Experimental value in the units used in the QS...                                                 \n",
       "14  Experimental value in common units (only for r...                                                 \n",
       "15  Predicted value (as a label for classification...                                                 \n",
       "16  Predicted value in the units used in the QSAR ...                                                 \n",
       "17  Predicted value in common units (only for regr...                                                 \n",
       "18  Predicted value without units (regression mode...                                                 \n",
       "19  Predicted value of a classification as a binar...                                                 \n",
       "20  The applicability domain assess if the substan...                                                 \n",
       "21  All ProtoADME predictions include the evaluati...                                                 \n",
       "22  More details on the rules on https://protopred...                                                 \n",
       "23  1 if the molecule violates the xxxxx rule incl...                                                 \n",
       "24     Number of violations in the YYYYY set of rules                                                 \n",
       "25  *Experimental value is only provided if the su...                                                 \n",
       "26  **We apply 4 different methods, the methods th...                                                 \n",
       "27  ***(Summary sheet) The prediction falls outsid...                                                 "
      ]
     },
     "execution_count": 8,
     "metadata": {},
     "output_type": "execute_result"
    }
   ],
   "source": [
    "# read protoadme_data_base_screening_out.xlsx on pandas dataframe\n",
    "import pandas as pd\n",
    "df = pd.read_excel(\"./protoadme_data_base_screening_out.xlsx\", skiprows=1, sheet_name=\"Summary\")\n",
    "df\n"
   ]
  },
  {
   "cell_type": "code",
   "execution_count": null,
   "id": "312f7ed7",
   "metadata": {},
   "outputs": [],
   "source": [
    "for i in list(globals().keys()):\n",
    "    if not i.startswith('_'):\n",
    "        exec('del ' + i)"
   ]
  },
  {
   "cell_type": "code",
   "execution_count": 7,
   "id": "e3db8e0c",
   "metadata": {},
   "outputs": [
    {
     "data": {
      "application/vnd.microsoft.datawrangler.viewer.v0+json": {
       "columns": [
        {
         "name": "index",
         "rawType": "int64",
         "type": "integer"
        },
        {
         "name": "Date",
         "rawType": "object",
         "type": "unknown"
        },
        {
         "name": "31 05 2025",
         "rawType": "object",
         "type": "string"
        }
       ],
       "ref": "ee00114e-53a4-4f15-8eed-c9d4365be9b9",
       "rows": [
        [
         "0",
         "Models",
         "Druglikeness; Bioavailability30; Caco-2 permeability; Blood-brain barrier; Plasma-protein binding"
        ],
        [
         "1",
         "Input method",
         "File"
        ],
        [
         "2",
         "File name",
         "Data_base_screening.csv"
        ],
        [
         "3",
         " \nMetadata",
         "Find below a short description of the information provided in this excel"
        ],
        [
         "4",
         "General organization",
         "Results are displayed in tables by model in different sheets"
        ],
        [
         "5",
         "Description of the data",
         "Find below a list of the columns in each table with a short description of their content"
        ],
        [
         "6",
         "ID",
         "Internal identifier of the predicted molecule (used in the tables and file name of reports)"
        ],
        [
         "7",
         "Chemical name",
         "Name of the substance (if introduced by the user)"
        ],
        [
         "8",
         "EC number",
         "EC number of the substance (if introduced by the user)"
        ],
        [
         "9",
         "Other regulatory ID",
         "Other regulatory numerical identifiers (if introduced by the user)"
        ],
        [
         "10",
         "Structural formula",
         "Structural formula of the substance (if introduced by the user)"
        ],
        [
         "11",
         "CAS",
         "CAS number the substance (if introduced by the user)"
        ],
        [
         "12",
         "SMILES",
         "SMILES string to identify the chemical structure of the substance (this is the actual input of the QSAR model)"
        ],
        [
         "13",
         "Experimental value*",
         "Experimental value of the substance for the endpoint of the model (if numerical, in the units used for the model)"
        ],
        [
         "14",
         "Experimental value (model units)*",
         "Experimental value in the units used in the QSAR model (only for regression models if different that the common units)"
        ],
        [
         "15",
         "Experimental value (common units)*",
         "Experimental value in common units (only for regression models developed in different units)"
        ],
        [
         "16",
         "Predicted value",
         "Predicted value (as a label for classification models and a value with the modelling units for regression models)"
        ],
        [
         "17",
         "Predicted value (model units)",
         "Predicted value in the units used in the QSAR model (only for regression models if different that the common units)"
        ],
        [
         "18",
         "Predicted value (common units)",
         "Predicted value in common units (only for regression models developed in different units)"
        ],
        [
         "19",
         "Predicted without units",
         "Predicted value without units (regression models only)"
        ],
        [
         "20",
         "Predicted binary (0/1)",
         "Predicted value of a classification as a binary numeric label (0 or 1)"
        ],
        [
         "21",
         "Applicability domain**",
         "The applicability domain assess if the substance is in the chemical space of the model or not (which affects the reliability of the prediction)"
        ],
        [
         "22",
         "Druglikeness",
         "All ProtoADME predictions include the evaluation of the druglikeness of the substance based on 8 set of rules."
        ],
        [
         "23",
         "    ",
         "More details on the rules on https://protopred.protoqsar.com/ProtoADME/druglikeness"
        ],
        [
         "24",
         "rule xxxxx YYYYY",
         "1 if the molecule violates the xxxxx rule include in the YYYYY set of rules"
        ],
        [
         "25",
         "Number of YYYYY rules violation",
         "Number of violations in the YYYYY set of rules"
        ],
        [
         "26",
         "Legend",
         "*Experimental value is only provided if the substance was included in the development dataset of the model"
        ],
        [
         "27",
         null,
         "**We apply 4 different methods, the methods that found the substance in the AD are indicated with abbreviations: T, Tanimoto-Jaccard; L, leverages; E, Euclidean distance; R, range of descriptors"
        ],
        [
         "28",
         null,
         "***(Summary sheet) The prediction falls outside the applicability domain of the model"
        ]
       ],
       "shape": {
        "columns": 2,
        "rows": 29
       }
      },
      "text/html": [
       "<div>\n",
       "<style scoped>\n",
       "    .dataframe tbody tr th:only-of-type {\n",
       "        vertical-align: middle;\n",
       "    }\n",
       "\n",
       "    .dataframe tbody tr th {\n",
       "        vertical-align: top;\n",
       "    }\n",
       "\n",
       "    .dataframe thead th {\n",
       "        text-align: right;\n",
       "    }\n",
       "</style>\n",
       "<table border=\"1\" class=\"dataframe\">\n",
       "  <thead>\n",
       "    <tr style=\"text-align: right;\">\n",
       "      <th></th>\n",
       "      <th>Date</th>\n",
       "      <th>31 05 2025</th>\n",
       "    </tr>\n",
       "  </thead>\n",
       "  <tbody>\n",
       "    <tr>\n",
       "      <th>0</th>\n",
       "      <td>Models</td>\n",
       "      <td>Druglikeness; Bioavailability30; Caco-2 permea...</td>\n",
       "    </tr>\n",
       "    <tr>\n",
       "      <th>1</th>\n",
       "      <td>Input method</td>\n",
       "      <td>File</td>\n",
       "    </tr>\n",
       "    <tr>\n",
       "      <th>2</th>\n",
       "      <td>File name</td>\n",
       "      <td>Data_base_screening.csv</td>\n",
       "    </tr>\n",
       "    <tr>\n",
       "      <th>3</th>\n",
       "      <td>\\nMetadata</td>\n",
       "      <td>Find below a short description of the informat...</td>\n",
       "    </tr>\n",
       "    <tr>\n",
       "      <th>4</th>\n",
       "      <td>General organization</td>\n",
       "      <td>Results are displayed in tables by model in di...</td>\n",
       "    </tr>\n",
       "    <tr>\n",
       "      <th>5</th>\n",
       "      <td>Description of the data</td>\n",
       "      <td>Find below a list of the columns in each table...</td>\n",
       "    </tr>\n",
       "    <tr>\n",
       "      <th>6</th>\n",
       "      <td>ID</td>\n",
       "      <td>Internal identifier of the predicted molecule ...</td>\n",
       "    </tr>\n",
       "    <tr>\n",
       "      <th>7</th>\n",
       "      <td>Chemical name</td>\n",
       "      <td>Name of the substance (if introduced by the user)</td>\n",
       "    </tr>\n",
       "    <tr>\n",
       "      <th>8</th>\n",
       "      <td>EC number</td>\n",
       "      <td>EC number of the substance (if introduced by t...</td>\n",
       "    </tr>\n",
       "    <tr>\n",
       "      <th>9</th>\n",
       "      <td>Other regulatory ID</td>\n",
       "      <td>Other regulatory numerical identifiers (if int...</td>\n",
       "    </tr>\n",
       "    <tr>\n",
       "      <th>10</th>\n",
       "      <td>Structural formula</td>\n",
       "      <td>Structural formula of the substance (if introd...</td>\n",
       "    </tr>\n",
       "    <tr>\n",
       "      <th>11</th>\n",
       "      <td>CAS</td>\n",
       "      <td>CAS number the substance (if introduced by the...</td>\n",
       "    </tr>\n",
       "    <tr>\n",
       "      <th>12</th>\n",
       "      <td>SMILES</td>\n",
       "      <td>SMILES string to identify the chemical structu...</td>\n",
       "    </tr>\n",
       "    <tr>\n",
       "      <th>13</th>\n",
       "      <td>Experimental value*</td>\n",
       "      <td>Experimental value of the substance for the en...</td>\n",
       "    </tr>\n",
       "    <tr>\n",
       "      <th>14</th>\n",
       "      <td>Experimental value (model units)*</td>\n",
       "      <td>Experimental value in the units used in the QS...</td>\n",
       "    </tr>\n",
       "    <tr>\n",
       "      <th>15</th>\n",
       "      <td>Experimental value (common units)*</td>\n",
       "      <td>Experimental value in common units (only for r...</td>\n",
       "    </tr>\n",
       "    <tr>\n",
       "      <th>16</th>\n",
       "      <td>Predicted value</td>\n",
       "      <td>Predicted value (as a label for classification...</td>\n",
       "    </tr>\n",
       "    <tr>\n",
       "      <th>17</th>\n",
       "      <td>Predicted value (model units)</td>\n",
       "      <td>Predicted value in the units used in the QSAR ...</td>\n",
       "    </tr>\n",
       "    <tr>\n",
       "      <th>18</th>\n",
       "      <td>Predicted value (common units)</td>\n",
       "      <td>Predicted value in common units (only for regr...</td>\n",
       "    </tr>\n",
       "    <tr>\n",
       "      <th>19</th>\n",
       "      <td>Predicted without units</td>\n",
       "      <td>Predicted value without units (regression mode...</td>\n",
       "    </tr>\n",
       "    <tr>\n",
       "      <th>20</th>\n",
       "      <td>Predicted binary (0/1)</td>\n",
       "      <td>Predicted value of a classification as a binar...</td>\n",
       "    </tr>\n",
       "    <tr>\n",
       "      <th>21</th>\n",
       "      <td>Applicability domain**</td>\n",
       "      <td>The applicability domain assess if the substan...</td>\n",
       "    </tr>\n",
       "    <tr>\n",
       "      <th>22</th>\n",
       "      <td>Druglikeness</td>\n",
       "      <td>All ProtoADME predictions include the evaluati...</td>\n",
       "    </tr>\n",
       "    <tr>\n",
       "      <th>23</th>\n",
       "      <td></td>\n",
       "      <td>More details on the rules on https://protopred...</td>\n",
       "    </tr>\n",
       "    <tr>\n",
       "      <th>24</th>\n",
       "      <td>rule xxxxx YYYYY</td>\n",
       "      <td>1 if the molecule violates the xxxxx rule incl...</td>\n",
       "    </tr>\n",
       "    <tr>\n",
       "      <th>25</th>\n",
       "      <td>Number of YYYYY rules violation</td>\n",
       "      <td>Number of violations in the YYYYY set of rules</td>\n",
       "    </tr>\n",
       "    <tr>\n",
       "      <th>26</th>\n",
       "      <td>Legend</td>\n",
       "      <td>*Experimental value is only provided if the su...</td>\n",
       "    </tr>\n",
       "    <tr>\n",
       "      <th>27</th>\n",
       "      <td>NaN</td>\n",
       "      <td>**We apply 4 different methods, the methods th...</td>\n",
       "    </tr>\n",
       "    <tr>\n",
       "      <th>28</th>\n",
       "      <td>NaN</td>\n",
       "      <td>***(Summary sheet) The prediction falls outsid...</td>\n",
       "    </tr>\n",
       "  </tbody>\n",
       "</table>\n",
       "</div>"
      ],
      "text/plain": [
       "                                  Date  \\\n",
       "0                               Models   \n",
       "1                         Input method   \n",
       "2                            File name   \n",
       "3                           \\nMetadata   \n",
       "4                 General organization   \n",
       "5              Description of the data   \n",
       "6                                   ID   \n",
       "7                        Chemical name   \n",
       "8                            EC number   \n",
       "9                  Other regulatory ID   \n",
       "10                  Structural formula   \n",
       "11                                 CAS   \n",
       "12                              SMILES   \n",
       "13                 Experimental value*   \n",
       "14   Experimental value (model units)*   \n",
       "15  Experimental value (common units)*   \n",
       "16                     Predicted value   \n",
       "17       Predicted value (model units)   \n",
       "18      Predicted value (common units)   \n",
       "19             Predicted without units   \n",
       "20              Predicted binary (0/1)   \n",
       "21              Applicability domain**   \n",
       "22                        Druglikeness   \n",
       "23                                       \n",
       "24                    rule xxxxx YYYYY   \n",
       "25     Number of YYYYY rules violation   \n",
       "26                              Legend   \n",
       "27                                 NaN   \n",
       "28                                 NaN   \n",
       "\n",
       "                                           31 05 2025  \n",
       "0   Druglikeness; Bioavailability30; Caco-2 permea...  \n",
       "1                                                File  \n",
       "2                             Data_base_screening.csv  \n",
       "3   Find below a short description of the informat...  \n",
       "4   Results are displayed in tables by model in di...  \n",
       "5   Find below a list of the columns in each table...  \n",
       "6   Internal identifier of the predicted molecule ...  \n",
       "7   Name of the substance (if introduced by the user)  \n",
       "8   EC number of the substance (if introduced by t...  \n",
       "9   Other regulatory numerical identifiers (if int...  \n",
       "10  Structural formula of the substance (if introd...  \n",
       "11  CAS number the substance (if introduced by the...  \n",
       "12  SMILES string to identify the chemical structu...  \n",
       "13  Experimental value of the substance for the en...  \n",
       "14  Experimental value in the units used in the QS...  \n",
       "15  Experimental value in common units (only for r...  \n",
       "16  Predicted value (as a label for classification...  \n",
       "17  Predicted value in the units used in the QSAR ...  \n",
       "18  Predicted value in common units (only for regr...  \n",
       "19  Predicted value without units (regression mode...  \n",
       "20  Predicted value of a classification as a binar...  \n",
       "21  The applicability domain assess if the substan...  \n",
       "22  All ProtoADME predictions include the evaluati...  \n",
       "23  More details on the rules on https://protopred...  \n",
       "24  1 if the molecule violates the xxxxx rule incl...  \n",
       "25     Number of violations in the YYYYY set of rules  \n",
       "26  *Experimental value is only provided if the su...  \n",
       "27  **We apply 4 different methods, the methods th...  \n",
       "28  ***(Summary sheet) The prediction falls outsid...  "
      ]
     },
     "execution_count": 7,
     "metadata": {},
     "output_type": "execute_result"
    }
   ],
   "source": [
    "df"
   ]
  }
 ],
 "metadata": {
  "kernelspec": {
   "display_name": "UEenv",
   "language": "python",
   "name": "python3"
  },
  "language_info": {
   "codemirror_mode": {
    "name": "ipython",
    "version": 3
   },
   "file_extension": ".py",
   "mimetype": "text/x-python",
   "name": "python",
   "nbconvert_exporter": "python",
   "pygments_lexer": "ipython3",
   "version": "3.9.22"
  }
 },
 "nbformat": 4,
 "nbformat_minor": 5
}
