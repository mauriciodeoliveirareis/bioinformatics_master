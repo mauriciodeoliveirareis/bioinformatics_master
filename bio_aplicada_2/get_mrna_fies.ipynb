{
 "cells": [
  {
   "cell_type": "code",
   "execution_count": 2,
   "id": "f65d4413",
   "metadata": {},
   "outputs": [
    {
     "name": "stdout",
     "output_type": "stream",
     "text": [
      "FASTA file saved at: ./mrna_seqs/homo_CCND2.fasta\n",
      "FASTA file saved at: ./mrna_seqs/mmusculus_CCND2.fasta\n"
     ]
    }
   ],
   "source": [
    "from Bio import Entrez, SeqIO\n",
    "import os\n",
    "\n",
    "# Set your email address (required by NCBI Entrez)\n",
    "Entrez.email = \"your_email@example.com\"\n",
    "\n",
    "def fetch_mrna_sequences(gene_id):\n",
    "    try:\n",
    "        # Search for the gene in NCBI\n",
    "        handle = Entrez.esearch(db=\"nucleotide\", term=f\"{gene_id}[Gene ID] AND mRNA[Filter]\")\n",
    "        record = Entrez.read(handle)\n",
    "        handle.close()\n",
    "        \n",
    "        # Get the list of mRNA IDs\n",
    "        mrna_ids = record[\"IdList\"]\n",
    "        if not mrna_ids:\n",
    "            print(\"No mRNA sequences found for this gene.\")\n",
    "            return None\n",
    "        \n",
    "        # Fetch the mRNA sequences\n",
    "        fasta_data_list = []\n",
    "        for mrna_id in mrna_ids:\n",
    "            handle = Entrez.efetch(db=\"nucleotide\", id=mrna_id, rettype=\"fasta\", retmode=\"text\")\n",
    "            fasta_data = handle.read()\n",
    "            handle.close()\n",
    "            fasta_data_list.append(fasta_data)\n",
    "        \n",
    "        return fasta_data_list\n",
    "    except Exception as e:\n",
    "        print(f\"An error occurred: {e}\")\n",
    "        return None\n",
    "\n",
    "\n",
    "def extract_coding_sequence(mrna_sequence):\n",
    "    \"\"\"\n",
    "    Extracts the coding sequence (CDS) from the given mRNA sequence.\n",
    "    Assumes the coding sequence starts with 'ATG' (start codon) and ends with a stop codon ('TAA', 'TAG', 'TGA').\n",
    "\n",
    "    Parameters:\n",
    "        mrna_sequence (str): The mRNA sequence.\n",
    "\n",
    "    Returns:\n",
    "        str: The coding sequence (CDS) or an empty string if no valid CDS is found.\n",
    "    \"\"\"\n",
    "    start_codon = \"ATG\"\n",
    "    stop_codons = {\"TAA\", \"TAG\", \"TGA\"}\n",
    "    \n",
    "    # Find the start codon\n",
    "    start_index = mrna_sequence.find(start_codon)\n",
    "    if start_index == -1:\n",
    "        print(\"Start codon not found.\")\n",
    "        return \"\"\n",
    "    \n",
    "    # Search for the stop codon in the correct reading frame\n",
    "    for i in range(start_index + 3, len(mrna_sequence), 3):\n",
    "        codon = mrna_sequence[i:i+3]\n",
    "        if codon in stop_codons:\n",
    "            return mrna_sequence[start_index:i+3]\n",
    "    \n",
    "    print(\"Stop codon not found.\")\n",
    "    return \"\"\n",
    "\n",
    "\n",
    "def save_mrna_fasta(content, file_name):\n",
    "    # Ensure the directory exists\n",
    "    os.makedirs('./mrna_seqs', exist_ok=True)\n",
    "    \n",
    "    # Create the full file path\n",
    "    file_path = os.path.join('./mrna_seqs', file_name)\n",
    "    \n",
    "    # Write the content to the file\n",
    "    with open(file_path, 'w') as file:\n",
    "        file.write(content)\n",
    "    print(f\"FASTA file saved at: {file_path}\")\n",
    "\n",
    "\n",
    "\n",
    "\n",
    "\n",
    "HOMO_SAPIENS_CCND2_GENE_ID = 894\n",
    "MUS_MUSCULUS_CCND2_GENE_ID = 12444  \n",
    "# Homo sapiens CCND2 gene has 3 different mrna seqs\n",
    "save_mrna_fasta(extract_coding_sequence(fetch_mrna_sequences(HOMO_SAPIENS_CCND2_GENE_ID)[0]), \"homo_CCND2.fasta\")\n",
    "save_mrna_fasta(extract_coding_sequence(fetch_mrna_sequences(MUS_MUSCULUS_CCND2_GENE_ID)[0]), \"mmusculus_CCND2.fasta\")\n"
   ]
  },
  {
   "cell_type": "code",
   "execution_count": null,
   "id": "6d876ec8",
   "metadata": {},
   "outputs": [
    {
     "name": "stdout",
     "output_type": "stream",
     "text": [
      "MRRMVATWMLEVCEEQKCEEEVFPLAMNYLDRFLAGVPTPKSHLQLLGAVCMFLASKLKETSPLTAEKLCIYTDNSIKPQELLEWELVVLGKLKWNLAAVTPH\n"
     ]
    },
    {
     "name": "stderr",
     "output_type": "stream",
     "text": [
      "/Users/mauriciodeoliveirareis/.pyenv/versions/bioinformatics_py_3_9/lib/python3.9/site-packages/Bio/Seq.py:2879: BiopythonWarning: Partial codon, len(sequence) not a multiple of three. Explicitly trim the sequence or add trailing N before translation. This may become an error in future.\n",
      "  warnings.warn(\n"
     ]
    }
   ],
   "source": [
    "from Bio.Seq import Seq\n",
    "\n",
    "def nucleotide_to_aminoacid(nucleotide_sequence):\n",
    "    \"\"\"\n",
    "    Converts a nucleotide sequence to an amino acid sequence.\n",
    "\n",
    "    Parameters:\n",
    "        nucleotide_sequence (str): The nucleotide sequence.\n",
    "\n",
    "    Returns:\n",
    "        str: The translated amino acid sequence.\n",
    "    \"\"\"\n",
    "    # Create a Seq object\n",
    "    seq_obj = Seq(nucleotide_sequence)\n",
    "    \n",
    "    # Translate the nucleotide sequence to an amino acid sequence\n",
    "    amino_acid_sequence = seq_obj.translate()\n",
    "    \n",
    "    return str(amino_acid_sequence)\n",
    "\n"
   ]
  },
  {
   "cell_type": "code",
   "execution_count": null,
   "id": "9a329cc5",
   "metadata": {
    "vscode": {
     "languageId": "ruby"
    }
   },
   "outputs": [
    {
     "name": "stdout",
     "output_type": "stream",
     "text": [
      "Amino acid sequence saved to: ./mrna_seqs/mmusculus_CCND2_amino.fasta\n",
      "Amino acid sequence saved to: ./mrna_seqs/homo_CCND2_amino.fasta\n"
     ]
    }
   ],
   "source": [
    "import glob\n",
    "# TODO, understand why these aminoacids look so weird \n",
    "# Get all .fasta files in the mrna_seqs directory\n",
    "fasta_files = glob.glob('./mrna_seqs/*.fasta')\n",
    "\n",
    "for fasta_file in fasta_files:\n",
    "    # Read the contents of the .fasta file\n",
    "    with open(fasta_file, 'r') as file:\n",
    "        fasta_content = file.read()\n",
    "    \n",
    "    # Extract the nucleotide sequence (ignoring the header line)\n",
    "    nucleotide_sequence = ''.join(fasta_content.splitlines()[1:])\n",
    "    \n",
    "    # Convert the nucleotide sequence to an amino acid sequence\n",
    "    amino_acid_sequence = nucleotide_to_aminoacid(nucleotide_sequence)\n",
    "    \n",
    "    # Create the new file name with the _amino prefix\n",
    "    amino_file = fasta_file.replace('.fasta', '_amino.fasta')\n",
    "    \n",
    "    # Write the amino acid sequence to the new file\n",
    "    with open(amino_file, 'w') as output_file:\n",
    "        output_file.write(f\">amino_{os.path.basename(fasta_file)}\\n{amino_acid_sequence}\")\n",
    "    \n",
    "    print(f\"Amino acid sequence saved to: {amino_file}\")"
   ]
  },
  {
   "cell_type": "code",
   "execution_count": null,
   "id": "69bd6c93",
   "metadata": {},
   "outputs": [],
   "source": []
  },
  {
   "cell_type": "code",
   "execution_count": null,
   "id": "65a9a448",
   "metadata": {},
   "outputs": [],
   "source": []
  }
 ],
 "metadata": {
  "kernelspec": {
   "display_name": "bioinformatics_py_3_9",
   "language": "python",
   "name": "python3"
  },
  "language_info": {
   "codemirror_mode": {
    "name": "ipython",
    "version": 3
   },
   "file_extension": ".py",
   "mimetype": "text/x-python",
   "name": "python",
   "nbconvert_exporter": "python",
   "pygments_lexer": "ipython3",
   "version": "3.9.21"
  }
 },
 "nbformat": 4,
 "nbformat_minor": 5
}
