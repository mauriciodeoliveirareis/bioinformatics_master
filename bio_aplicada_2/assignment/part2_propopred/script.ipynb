{
 "cells": [
  {
   "cell_type": "code",
   "execution_count": 6,
   "id": "40bce854",
   "metadata": {},
   "outputs": [
    {
     "ename": "NameError",
     "evalue": "name '__file__' is not defined",
     "output_type": "error",
     "traceback": [
      "\u001b[0;31m---------------------------------------------------------------------------\u001b[0m",
      "\u001b[0;31mNameError\u001b[0m                                 Traceback (most recent call last)",
      "Cell \u001b[0;32mIn[6], line 3\u001b[0m\n\u001b[1;32m      1\u001b[0m \u001b[38;5;28;01mimport\u001b[39;00m\u001b[38;5;250m \u001b[39m\u001b[38;5;21;01mos\u001b[39;00m\n\u001b[1;32m      2\u001b[0m \u001b[38;5;28;01mfrom\u001b[39;00m\u001b[38;5;250m \u001b[39m\u001b[38;5;21;01mpathlib\u001b[39;00m\u001b[38;5;250m \u001b[39m\u001b[38;5;28;01mimport\u001b[39;00m Path\n\u001b[0;32m----> 3\u001b[0m parent \u001b[38;5;241m=\u001b[39m Path(\u001b[38;5;18;43m__file__\u001b[39;49m)\u001b[38;5;241m.\u001b[39mresolve()\u001b[38;5;241m.\u001b[39mparent\n\u001b[1;32m      4\u001b[0m os\u001b[38;5;241m.\u001b[39mchdir(parent)\n\u001b[1;32m      5\u001b[0m \u001b[38;5;28mprint\u001b[39m(\u001b[38;5;124mf\u001b[39m\u001b[38;5;124m'\u001b[39m\u001b[38;5;124mWorking on: \u001b[39m\u001b[38;5;130;01m\\n\u001b[39;00m\u001b[38;5;124m \u001b[39m\u001b[38;5;132;01m{\u001b[39;00mos\u001b[38;5;241m.\u001b[39mgetcwd()\u001b[38;5;132;01m}\u001b[39;00m\u001b[38;5;124m'\u001b[39m)\n",
      "\u001b[0;31mNameError\u001b[0m: name '__file__' is not defined"
     ]
    }
   ],
   "source": [
    "import os\n",
    "from pathlib import Path\n",
    "parent = Path(__file__).resolve().parent\n",
    "os.chdir(parent)\n",
    "print(f'Working on: \\n {os.getcwd()}')"
   ]
  },
  {
   "cell_type": "code",
   "execution_count": 9,
   "id": "54705a5b",
   "metadata": {},
   "outputs": [
    {
     "data": {
      "application/vnd.microsoft.datawrangler.viewer.v0+json": {
       "columns": [
        {
         "name": "index",
         "rawType": "int64",
         "type": "integer"
        },
        {
         "name": "SMILES",
         "rawType": "object",
         "type": "string"
        },
        {
         "name": "Druglikeness score",
         "rawType": "object",
         "type": "string"
        },
        {
         "name": "Bioavailability30",
         "rawType": "object",
         "type": "string"
        },
        {
         "name": "Caco-2 permeability: cm/s",
         "rawType": "float64",
         "type": "float"
        },
        {
         "name": "Blood-brain barrier",
         "rawType": "object",
         "type": "string"
        },
        {
         "name": "Plasma-protein binding: %",
         "rawType": "float64",
         "type": "float"
        }
       ],
       "ref": "83e50c6c-c4e7-4377-91f0-16cfc1862fdb",
       "rows": [
        [
         "0",
         "Cc1nc(O)cc(C2COCCN2C(=O)c2ccnnc2)n1",
         "8/8",
         "Positive",
         "-4.86039",
         "BBB-",
         "0.46698"
        ],
        [
         "1",
         "CC(C)c1ncc2c(n1)C1(CCCN(S(=O)(=O)N(C)C)C1)OCC2",
         "8/8",
         "Positive",
         "-5.3177",
         "BBB+",
         "0.42523"
        ],
        [
         "2",
         "CC(C)NC(=O)CSc1sc2c(O)cc(O)nc2c1C(N)=O",
         "7/8",
         "Positive",
         "-5.83708",
         "BBB-",
         "0.73204"
        ],
        [
         "3",
         "COc1cc(NC(=O)CSc2nc3cc(C)[nH]c3c(=O)n2C(C)C)cc(OC)c1OC",
         "7/8",
         "Positive",
         "-5.02565",
         "BBB+",
         "0.88693"
        ],
        [
         "4",
         "NC(=O)c1c(SCC(=O)NC2CC2)sc2c(O)cc(O)nc12",
         "7/8",
         "Positive",
         "-5.79817",
         "BBB-",
         "0.71746"
        ],
        [
         "5",
         "Cc1noc(C)c1-c1cncc(C2CCCN2C(=O)c2ccnnc2)n1",
         "8/8",
         "Positive",
         "-5.19069",
         "BBB+",
         "0.78188"
        ],
        [
         "6",
         "COCCNC(=O)CN(c1cc(Cl)ccc1OC)[S+](C)(=O)[O-]",
         "7/8",
         "Positive",
         "-5.00915",
         "BBB-",
         "0.5783"
        ],
        [
         "7",
         "CN(Cc1ccc2nsnc2c1)C(=O)Cc1c[nH]c(=O)n(C)c1=O",
         "7/8",
         "Positive",
         "-5.02058",
         "BBB+",
         "0.71568"
        ],
        [
         "8",
         "CC(=O)c1c(C)nn(CC(=O)NCc2noc(C3CCCO3)n2)c1C",
         "7/8",
         "Positive",
         "-4.81759",
         "BBB+",
         "0.59524"
        ],
        [
         "9",
         "Cn1c(=O)c2c(ncn2CCCNC2=CC(=O)CC(C)(C)C2)n(C)c1=O",
         "7/8",
         "Positive",
         "-4.73883",
         "BBB+",
         "0.60017"
        ],
        [
         "10",
         "Cn1c(=O)c2c(ncn2CCCNC2=CC(=O)CC(C)(C)C2)n(C)c1=O",
         "7/8",
         "Positive",
         "-4.73883",
         "BBB+",
         "0.60017"
        ],
        [
         "11",
         "COc1c2c(cc3c1C(CC(=O)c1cccnc1)N(C)CC3)OCO2",
         "7/8",
         "Positive",
         "-4.68058",
         "BBB+",
         "0.75263"
        ],
        [
         "12",
         "Cc1noc(C2CCCCN2C(=O)c2cnc3c(O)cccn3c2=O)n1",
         "8/8",
         "Positive",
         "-4.97381",
         "BBB+",
         "0.80187"
        ],
        [
         "13",
         "CCOCCOc1ccccc1-n1ccnc1-c1cnn2cccnc12",
         "7/8",
         "Positive",
         "-4.68751",
         "BBB+",
         "0.82929"
        ],
        [
         "14",
         "CCc1cc(O)n2nc(C3CCCN3C(=O)c3cnc4ccccn4c3=O)cc2n1",
         "8/8",
         "Positive",
         "-4.79673",
         "BBB+",
         "0.82423"
        ],
        [
         "15",
         "CCc1cc(O)n2nc(C3CCCN3C(=O)c3cnc4ccccn4c3=O)cc2n1",
         "8/8",
         "Positive",
         "-4.79673",
         "BBB+",
         "0.82423"
        ],
        [
         "16",
         "Cc1cnc(C(=O)N2C3CCC2Cn2c(nn(CC4CC4)c2=O)C3)cn1",
         "8/8",
         "Positive",
         "-4.77145",
         "BBB+",
         "0.47275"
        ],
        [
         "17",
         "NC(=O)CN1CCCC(C(=O)NCc2cccc(OC(F)(F)F)c2)C1",
         "7/8",
         "Positive",
         "-5.158",
         "BBB+",
         "0.65093"
        ],
        [
         "18",
         "Cc1cc(/C=N/n2c(C)nnc2SCn2nc(C)c([N+](=O)[O-])c2C)n(C)n1",
         "7/8",
         "Positive",
         "-5.35307",
         "BBB+",
         "0.88472"
        ],
        [
         "19",
         "Cc1ncc(C(=O)N2CCc3nc4ccsc4c(=O)n3CC2)c(C)n1",
         "8/8",
         "Positive",
         "-4.66574",
         "BBB+",
         "0.79124"
        ],
        [
         "20",
         "O=C(ON1C(=O)CCC1=O)C1CCCN(S(=O)(=O)c2cccc3nsnc23)C1",
         "7/8",
         "Positive",
         "-5.4919",
         "BBB+",
         "0.74583"
        ],
        [
         "21",
         "COc1ccc2ncn(CC(C)(O)CCCO)c(=O)c2c1",
         "8/8",
         "Positive",
         "-4.98084",
         "BBB-",
         "0.54393"
        ],
        [
         "22",
         "CC(=O)c1c(C)nn(C(C)CC(=O)NCc2cc3n(n2)CCCNC3)c1C",
         "7/8",
         "Positive",
         "-5.08599",
         "BBB+",
         "0.52417"
        ],
        [
         "23",
         "COC1CCC2(OC)CCN(C(=O)c3cccc4nnnn34)C2C1",
         "8/8",
         "Positive",
         "-5.18518",
         "BBB+",
         "0.48951"
        ],
        [
         "24",
         "O=C(Nc1ccc2cn[nH]c2c1)Nc1ccccn1",
         "8/8",
         "Positive",
         "-4.80696",
         "BBB+",
         "0.81534"
        ],
        [
         "25",
         "Cc1cc(CNC(=O)Nc2ccc(OC3CCC3)c(F)c2)no1",
         "7/8",
         "Positive",
         "-4.95997",
         "BBB+",
         "0.81495"
        ],
        [
         "26",
         "COc1ccc(NC(=O)NC(C)(C)c2nc(C)no2)c2cccnc12",
         "7/8",
         "Positive",
         "-5.01391",
         "BBB+",
         "0.86144"
        ],
        [
         "27",
         "COc1cc(OC)c(NC(=O)NCc2nc(C)cc(N3CCCCC3)n2)cc1Cl",
         "7/8",
         "Positive",
         "-5.02719",
         "BBB-",
         "0.84733"
        ],
        [
         "28",
         "CNC(=O)c1cc(NC(=O)NCc2cc(CC(C)C)on2)ccc1OC",
         "7/8",
         "Positive",
         "-5.16494",
         "BBB-",
         "0.71855"
        ],
        [
         "29",
         "COc1ccc(NC(=O)NC(C)c2ccccn2)cn1",
         "8/8",
         "Positive",
         "-4.87113",
         "BBB-",
         "0.72782"
        ],
        [
         "30",
         "Cc1cccnc1NC(=O)Nc1ccc2c(c1)OCCO2",
         "8/8",
         "Positive",
         "-4.93574",
         "BBB+",
         "0.80385"
        ],
        [
         "31",
         "Cc1noc(C(C)(C)NC(=O)Nc2ccc(OC3CCCC3)cc2)n1",
         "7/8",
         "Positive",
         "-5.04109",
         "BBB+",
         "0.84742"
        ],
        [
         "32",
         "CCC1Oc2cc(C(C)NC(=O)NCc3nncn3CC)ccc2NC1=O",
         "7/8",
         "Positive",
         "-5.247",
         "BBB-",
         "0.7524"
        ],
        [
         "33",
         "COc1ccc(C)cc1NC(=O)NC(C)c1ccc2c(c1)OCO2",
         "7/8",
         "Positive",
         "-5.05572",
         "BBB+",
         "0.89563"
        ],
        [
         "34",
         "Cc1cc(C)n(-c2ccc(NC(=O)Nc3cc[nH]n3)cc2F)n1",
         "8/8",
         "Positive",
         "-5.01634",
         "BBB+",
         "0.81487"
        ],
        [
         "35",
         "Cc1cc(=O)[nH]c(N/N=C/c2cc([N+](=O)[O-])ccc2O)n1",
         "7/8",
         "Positive",
         "-5.03228",
         "BBB-",
         "0.7461"
        ],
        [
         "36",
         "CCn1cnnc1CNC(=O)Nc1ccc(OC(C)C)c(C)c1",
         "7/8",
         "Positive",
         "-4.90966",
         "BBB+",
         "0.7572"
        ],
        [
         "37",
         "Cc1noc(C(C)(C)NC(=O)Nc2cc(C3CCCOC3)nn2C)n1",
         "7/8",
         "Positive",
         "-5.0168",
         "BBB+",
         "0.57909"
        ],
        [
         "38",
         "O=C(Nc1cnn(CCO)c1)Nc1nc(-c2ccccc2)cs1",
         "7/8",
         "Positive",
         "-5.11509",
         "BBB-",
         "0.86198"
        ],
        [
         "39",
         "Cc1ccc(NC(=O)Nc2ccn(C)n2)cc1C(=O)N(C)C(C)C",
         "7/8",
         "Positive",
         "-4.88416",
         "BBB+",
         "0.75471"
        ],
        [
         "40",
         "COc1cncnc1NC(=O)Nc1ccc(CN(C(C)=O)C(C)C)cc1",
         "7/8",
         "Positive",
         "-4.96531",
         "BBB+",
         "0.79765"
        ],
        [
         "41",
         "COc1ccc(S(=O)(=O)NC(C)(C)C(=O)Nc2ccc(OC)cc2OC)cc1",
         "7/8",
         "Positive",
         "-5.26532",
         "BBB-",
         "0.84272"
        ],
        [
         "42",
         "Cc1cc2nc(NC(=O)Nc3ccn(CCN(C)C)n3)cc(N(C)C)n2n1",
         "7/8",
         "Positive",
         "-4.89631",
         "BBB+",
         "0.65129"
        ],
        [
         "43",
         "Cc1cc(N(C)C)nc(NC(=O)Nc2cccc(CCC(=O)O)c2)n1",
         "7/8",
         "Positive",
         "-5.01909",
         "BBB-",
         "0.79755"
        ],
        [
         "44",
         "O=C(NCc1nc2cccnc2[nH]1)Nc1ccc2c(c1)OCO2",
         "8/8",
         "Positive",
         "-5.38615",
         "BBB+",
         "0.74332"
        ],
        [
         "45",
         "COc1cc([N+](=O)[O-])ccc1NC(=O)Nc1cc(C)on1",
         "8/8",
         "Positive",
         "-5.28358",
         "BBB+",
         "0.80845"
        ],
        [
         "46",
         "COc1ccc(NC(=O)NCc2n[nH]c(=O)c3ccccc23)c(OC)c1",
         "7/8",
         "Positive",
         "-5.18963",
         "BBB+",
         "0.87457"
        ],
        [
         "47",
         "O=C(Nc1ccc2c(c1)CCC2=O)Nc1ccn(C2CCOCC2)n1",
         "7/8",
         "Positive",
         "-4.816",
         "BBB+",
         "0.73463"
        ],
        [
         "48",
         "CCOc1ccc(NC(=O)NC(C)c2ccccn2)cc1",
         "8/8",
         "Positive",
         "-4.87639",
         "BBB+",
         "0.85435"
        ],
        [
         "49",
         "COc1ccc(NC(=O)Nc2nnc(-c3ccccc3SCc3ccccc3)s2)cc1",
         "5/8",
         "Negative",
         "-5.18546",
         "BBB+",
         "0.97925"
        ]
       ],
       "shape": {
        "columns": 6,
        "rows": 95
       }
      },
      "text/html": [
       "<div>\n",
       "<style scoped>\n",
       "    .dataframe tbody tr th:only-of-type {\n",
       "        vertical-align: middle;\n",
       "    }\n",
       "\n",
       "    .dataframe tbody tr th {\n",
       "        vertical-align: top;\n",
       "    }\n",
       "\n",
       "    .dataframe thead th {\n",
       "        text-align: right;\n",
       "    }\n",
       "</style>\n",
       "<table border=\"1\" class=\"dataframe\">\n",
       "  <thead>\n",
       "    <tr style=\"text-align: right;\">\n",
       "      <th></th>\n",
       "      <th>SMILES</th>\n",
       "      <th>Druglikeness score</th>\n",
       "      <th>Bioavailability30</th>\n",
       "      <th>Caco-2 permeability: cm/s</th>\n",
       "      <th>Blood-brain barrier</th>\n",
       "      <th>Plasma-protein binding: %</th>\n",
       "    </tr>\n",
       "  </thead>\n",
       "  <tbody>\n",
       "    <tr>\n",
       "      <th>0</th>\n",
       "      <td>Cc1nc(O)cc(C2COCCN2C(=O)c2ccnnc2)n1</td>\n",
       "      <td>8/8</td>\n",
       "      <td>Positive</td>\n",
       "      <td>-4.86039</td>\n",
       "      <td>BBB-</td>\n",
       "      <td>0.46698</td>\n",
       "    </tr>\n",
       "    <tr>\n",
       "      <th>1</th>\n",
       "      <td>CC(C)c1ncc2c(n1)C1(CCCN(S(=O)(=O)N(C)C)C1)OCC2</td>\n",
       "      <td>8/8</td>\n",
       "      <td>Positive</td>\n",
       "      <td>-5.31770</td>\n",
       "      <td>BBB+</td>\n",
       "      <td>0.42523</td>\n",
       "    </tr>\n",
       "    <tr>\n",
       "      <th>2</th>\n",
       "      <td>CC(C)NC(=O)CSc1sc2c(O)cc(O)nc2c1C(N)=O</td>\n",
       "      <td>7/8</td>\n",
       "      <td>Positive</td>\n",
       "      <td>-5.83708</td>\n",
       "      <td>BBB-</td>\n",
       "      <td>0.73204</td>\n",
       "    </tr>\n",
       "    <tr>\n",
       "      <th>3</th>\n",
       "      <td>COc1cc(NC(=O)CSc2nc3cc(C)[nH]c3c(=O)n2C(C)C)cc...</td>\n",
       "      <td>7/8</td>\n",
       "      <td>Positive</td>\n",
       "      <td>-5.02565</td>\n",
       "      <td>BBB+</td>\n",
       "      <td>0.88693</td>\n",
       "    </tr>\n",
       "    <tr>\n",
       "      <th>4</th>\n",
       "      <td>NC(=O)c1c(SCC(=O)NC2CC2)sc2c(O)cc(O)nc12</td>\n",
       "      <td>7/8</td>\n",
       "      <td>Positive</td>\n",
       "      <td>-5.79817</td>\n",
       "      <td>BBB-</td>\n",
       "      <td>0.71746</td>\n",
       "    </tr>\n",
       "    <tr>\n",
       "      <th>...</th>\n",
       "      <td>...</td>\n",
       "      <td>...</td>\n",
       "      <td>...</td>\n",
       "      <td>...</td>\n",
       "      <td>...</td>\n",
       "      <td>...</td>\n",
       "    </tr>\n",
       "    <tr>\n",
       "      <th>90</th>\n",
       "      <td>CCOC(=O)c1ccc(NC(=O)NC(c2ccccc2)c2nnc(-c3ccc(C...</td>\n",
       "      <td>6/8</td>\n",
       "      <td>Positive</td>\n",
       "      <td>-5.04413</td>\n",
       "      <td>BBB+</td>\n",
       "      <td>0.98396</td>\n",
       "    </tr>\n",
       "    <tr>\n",
       "      <th>91</th>\n",
       "      <td>COc1ccc(NC(=O)Nc2nnc(-c3ccccc3SCc3ccccc3)s2)cc1</td>\n",
       "      <td>5/8</td>\n",
       "      <td>Negative</td>\n",
       "      <td>-5.18546</td>\n",
       "      <td>BBB+</td>\n",
       "      <td>0.97925</td>\n",
       "    </tr>\n",
       "    <tr>\n",
       "      <th>92</th>\n",
       "      <td>Oc1ccc(/N=N/c2ccc(Cl)cc2Cl)cc1/C=N/Nc1n/c(=N/c...</td>\n",
       "      <td>3/8</td>\n",
       "      <td>Positive</td>\n",
       "      <td>-5.05554</td>\n",
       "      <td>BBB-</td>\n",
       "      <td>0.97742</td>\n",
       "    </tr>\n",
       "    <tr>\n",
       "      <th>93</th>\n",
       "      <td>O=C(NC(=S)Nc1ccc(Cl)cc1-c1nc2ccccc2s1)c1ccc2c(...</td>\n",
       "      <td>7/8</td>\n",
       "      <td>Positive</td>\n",
       "      <td>-5.11507</td>\n",
       "      <td>BBB+</td>\n",
       "      <td>0.97852</td>\n",
       "    </tr>\n",
       "    <tr>\n",
       "      <th>94</th>\n",
       "      <td>CCc1ccc(Nc2nc(NCC(=O)Nc3ccc(OC)c(Cl)c3)nc(Nc3c...</td>\n",
       "      <td>2/8</td>\n",
       "      <td>Positive</td>\n",
       "      <td>-5.26011</td>\n",
       "      <td>BBB+</td>\n",
       "      <td>0.97921</td>\n",
       "    </tr>\n",
       "  </tbody>\n",
       "</table>\n",
       "<p>95 rows × 6 columns</p>\n",
       "</div>"
      ],
      "text/plain": [
       "                                               SMILES Druglikeness score  \\\n",
       "0                 Cc1nc(O)cc(C2COCCN2C(=O)c2ccnnc2)n1                8/8   \n",
       "1      CC(C)c1ncc2c(n1)C1(CCCN(S(=O)(=O)N(C)C)C1)OCC2                8/8   \n",
       "2              CC(C)NC(=O)CSc1sc2c(O)cc(O)nc2c1C(N)=O                7/8   \n",
       "3   COc1cc(NC(=O)CSc2nc3cc(C)[nH]c3c(=O)n2C(C)C)cc...                7/8   \n",
       "4            NC(=O)c1c(SCC(=O)NC2CC2)sc2c(O)cc(O)nc12                7/8   \n",
       "..                                                ...                ...   \n",
       "90  CCOC(=O)c1ccc(NC(=O)NC(c2ccccc2)c2nnc(-c3ccc(C...                6/8   \n",
       "91    COc1ccc(NC(=O)Nc2nnc(-c3ccccc3SCc3ccccc3)s2)cc1                5/8   \n",
       "92  Oc1ccc(/N=N/c2ccc(Cl)cc2Cl)cc1/C=N/Nc1n/c(=N/c...                3/8   \n",
       "93  O=C(NC(=S)Nc1ccc(Cl)cc1-c1nc2ccccc2s1)c1ccc2c(...                7/8   \n",
       "94  CCc1ccc(Nc2nc(NCC(=O)Nc3ccc(OC)c(Cl)c3)nc(Nc3c...                2/8   \n",
       "\n",
       "   Bioavailability30  Caco-2 permeability: cm/s Blood-brain barrier  \\\n",
       "0           Positive                   -4.86039                BBB-   \n",
       "1           Positive                   -5.31770                BBB+   \n",
       "2           Positive                   -5.83708                BBB-   \n",
       "3           Positive                   -5.02565                BBB+   \n",
       "4           Positive                   -5.79817                BBB-   \n",
       "..               ...                        ...                 ...   \n",
       "90          Positive                   -5.04413                BBB+   \n",
       "91          Negative                   -5.18546                BBB+   \n",
       "92          Positive                   -5.05554                BBB-   \n",
       "93          Positive                   -5.11507                BBB+   \n",
       "94          Positive                   -5.26011                BBB+   \n",
       "\n",
       "    Plasma-protein binding: %  \n",
       "0                     0.46698  \n",
       "1                     0.42523  \n",
       "2                     0.73204  \n",
       "3                     0.88693  \n",
       "4                     0.71746  \n",
       "..                        ...  \n",
       "90                    0.98396  \n",
       "91                    0.97925  \n",
       "92                    0.97742  \n",
       "93                    0.97852  \n",
       "94                    0.97921  \n",
       "\n",
       "[95 rows x 6 columns]"
      ]
     },
     "execution_count": 9,
     "metadata": {},
     "output_type": "execute_result"
    }
   ],
   "source": [
    "# read protoadme_data_base_screening_out.xlsx on pandas dataframe\n",
    "import pandas as pd\n",
    "df = pd.read_excel(\"./protoadme_data_base_screening_out.xlsx\", sheet_name=\"Summary\")\n",
    "\n"
   ]
  },
  {
   "cell_type": "code",
   "execution_count": null,
   "id": "312f7ed7",
   "metadata": {},
   "outputs": [],
   "source": [
    "for i in list(globals().keys()):\n",
    "    if not i.startswith('_'):\n",
    "        exec('del ' + i)"
   ]
  },
  {
   "cell_type": "code",
   "execution_count": 20,
   "id": "e3db8e0c",
   "metadata": {},
   "outputs": [
    {
     "data": {
      "application/vnd.microsoft.datawrangler.viewer.v0+json": {
       "columns": [
        {
         "name": "index",
         "rawType": "int64",
         "type": "integer"
        },
        {
         "name": "SMILES",
         "rawType": "object",
         "type": "string"
        },
        {
         "name": "Druglikeness score",
         "rawType": "object",
         "type": "string"
        },
        {
         "name": "Bioavailability30",
         "rawType": "object",
         "type": "string"
        },
        {
         "name": "Caco-2 permeability: cm/s",
         "rawType": "float64",
         "type": "float"
        },
        {
         "name": "Blood-brain barrier",
         "rawType": "object",
         "type": "string"
        },
        {
         "name": "Plasma-protein binding: %",
         "rawType": "float64",
         "type": "float"
        }
       ],
       "ref": "4a33ce4b-d6d7-436b-be54-22200000064d",
       "rows": [
        [
         "0",
         "Cc1nc(O)cc(C2COCCN2C(=O)c2ccnnc2)n1",
         "8/8",
         "Positive",
         "-4.86039",
         "BBB-",
         "0.46698"
        ],
        [
         "6",
         "COCCNC(=O)CN(c1cc(Cl)ccc1OC)[S+](C)(=O)[O-]",
         "7/8",
         "Positive",
         "-5.00915",
         "BBB-",
         "0.5783"
        ],
        [
         "21",
         "COc1ccc2ncn(CC(C)(O)CCCO)c(=O)c2c1",
         "8/8",
         "Positive",
         "-4.98084",
         "BBB-",
         "0.54393"
        ]
       ],
       "shape": {
        "columns": 6,
        "rows": 3
       }
      },
      "text/html": [
       "<div>\n",
       "<style scoped>\n",
       "    .dataframe tbody tr th:only-of-type {\n",
       "        vertical-align: middle;\n",
       "    }\n",
       "\n",
       "    .dataframe tbody tr th {\n",
       "        vertical-align: top;\n",
       "    }\n",
       "\n",
       "    .dataframe thead th {\n",
       "        text-align: right;\n",
       "    }\n",
       "</style>\n",
       "<table border=\"1\" class=\"dataframe\">\n",
       "  <thead>\n",
       "    <tr style=\"text-align: right;\">\n",
       "      <th></th>\n",
       "      <th>SMILES</th>\n",
       "      <th>Druglikeness score</th>\n",
       "      <th>Bioavailability30</th>\n",
       "      <th>Caco-2 permeability: cm/s</th>\n",
       "      <th>Blood-brain barrier</th>\n",
       "      <th>Plasma-protein binding: %</th>\n",
       "    </tr>\n",
       "  </thead>\n",
       "  <tbody>\n",
       "    <tr>\n",
       "      <th>0</th>\n",
       "      <td>Cc1nc(O)cc(C2COCCN2C(=O)c2ccnnc2)n1</td>\n",
       "      <td>8/8</td>\n",
       "      <td>Positive</td>\n",
       "      <td>-4.86039</td>\n",
       "      <td>BBB-</td>\n",
       "      <td>0.46698</td>\n",
       "    </tr>\n",
       "    <tr>\n",
       "      <th>6</th>\n",
       "      <td>COCCNC(=O)CN(c1cc(Cl)ccc1OC)[S+](C)(=O)[O-]</td>\n",
       "      <td>7/8</td>\n",
       "      <td>Positive</td>\n",
       "      <td>-5.00915</td>\n",
       "      <td>BBB-</td>\n",
       "      <td>0.57830</td>\n",
       "    </tr>\n",
       "    <tr>\n",
       "      <th>21</th>\n",
       "      <td>COc1ccc2ncn(CC(C)(O)CCCO)c(=O)c2c1</td>\n",
       "      <td>8/8</td>\n",
       "      <td>Positive</td>\n",
       "      <td>-4.98084</td>\n",
       "      <td>BBB-</td>\n",
       "      <td>0.54393</td>\n",
       "    </tr>\n",
       "  </tbody>\n",
       "</table>\n",
       "</div>"
      ],
      "text/plain": [
       "                                         SMILES Druglikeness score  \\\n",
       "0           Cc1nc(O)cc(C2COCCN2C(=O)c2ccnnc2)n1                8/8   \n",
       "6   COCCNC(=O)CN(c1cc(Cl)ccc1OC)[S+](C)(=O)[O-]                7/8   \n",
       "21           COc1ccc2ncn(CC(C)(O)CCCO)c(=O)c2c1                8/8   \n",
       "\n",
       "   Bioavailability30  Caco-2 permeability: cm/s Blood-brain barrier  \\\n",
       "0           Positive                   -4.86039                BBB-   \n",
       "6           Positive                   -5.00915                BBB-   \n",
       "21          Positive                   -4.98084                BBB-   \n",
       "\n",
       "    Plasma-protein binding: %  \n",
       "0                     0.46698  \n",
       "6                     0.57830  \n",
       "21                    0.54393  "
      ]
     },
     "execution_count": 20,
     "metadata": {},
     "output_type": "execute_result"
    }
   ],
   "source": [
    "filtered_df = df[\n",
    "    (df[\"Druglikeness score\"].isin([\"7/8\", \"8/8\"])) &\n",
    "    (df[\"Bioavailability30\"] == \"Positive\") &\n",
    "    (df[\"Caco-2 permeability: cm/s\"] > -6) &\n",
    "    (df[\"Blood-brain barrier\"].str.lower() == \"bbb-\") &\n",
    "    (df[\"Plasma-protein binding: %\"] < 0.7)\n",
    "]\n",
    "filtered_df "
   ]
  },
  {
   "cell_type": "code",
   "execution_count": 22,
   "id": "ea5fda41",
   "metadata": {},
   "outputs": [],
   "source": [
    "filtered_df.to_csv(\"filtered_screening_protoadme.csv\", index=False, sep=';')"
   ]
  },
  {
   "cell_type": "code",
   "execution_count": null,
   "id": "5fe56cef",
   "metadata": {},
   "outputs": [],
   "source": []
  },
  {
   "cell_type": "code",
   "execution_count": null,
   "id": "cde4f020",
   "metadata": {},
   "outputs": [],
   "source": []
  }
 ],
 "metadata": {
  "kernelspec": {
   "display_name": "UEenv",
   "language": "python",
   "name": "python3"
  },
  "language_info": {
   "codemirror_mode": {
    "name": "ipython",
    "version": 3
   },
   "file_extension": ".py",
   "mimetype": "text/x-python",
   "name": "python",
   "nbconvert_exporter": "python",
   "pygments_lexer": "ipython3",
   "version": "3.9.22"
  }
 },
 "nbformat": 4,
 "nbformat_minor": 5
}
