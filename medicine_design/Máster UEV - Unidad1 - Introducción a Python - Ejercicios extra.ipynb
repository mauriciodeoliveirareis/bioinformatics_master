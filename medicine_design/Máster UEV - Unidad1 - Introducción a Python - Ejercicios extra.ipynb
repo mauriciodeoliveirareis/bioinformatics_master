{
 "cells": [
  {
   "cell_type": "markdown",
   "id": "e4137b4a",
   "metadata": {},
   "source": [
    "# Máster de Formación Permanente en Bioinformática e Inteligencia Artificial en Salud\n",
    "## MÓDULO 6 - Diseño de terapias y medicamentos innovadores. \n",
    "### UNIDAD 1.4 Introducción a la quimioinformática"
   ]
  },
  {
   "cell_type": "markdown",
   "id": "a090eb24",
   "metadata": {},
   "source": [
    "Ejercicios extra de introducción a Python."
   ]
  },
  {
   "cell_type": "markdown",
   "id": "c87e7e14",
   "metadata": {},
   "source": [
    "# Parte 1: Ejercicios para conocer Python\n",
    "\n",
    "\n"
   ]
  },
  {
   "cell_type": "markdown",
   "id": "c4d244c2",
   "metadata": {
    "id": "c4d244c2"
   },
   "source": [
    "## Sección 1. Variables"
   ]
  },
  {
   "cell_type": "markdown",
   "id": "Xlzc_IucbG1B",
   "metadata": {
    "id": "Xlzc_IucbG1B"
   },
   "source": [
    "Guarda tu nombre en una variable y mira que tipo de ariable es."
   ]
  },
  {
   "cell_type": "code",
   "execution_count": 1,
   "id": "06fc1211",
   "metadata": {},
   "outputs": [
    {
     "name": "stdout",
     "output_type": "stream",
     "text": [
      "<class 'str'>\n"
     ]
    }
   ],
   "source": [
    "# Guardar el nombre en una variable\n",
    "mi_nombre = \"TuNombre\"\n",
    "\n",
    "# Mostrar el tipo de variable\n",
    "print(type(mi_nombre))\n"
   ]
  },
  {
   "cell_type": "markdown",
   "id": "-alCunTM5Wl-",
   "metadata": {
    "id": "-alCunTM5Wl-"
   },
   "source": [
    "Añade el apellido a la variable con tu nombre, usando el operador + entre las dos cadenas de caracteres.\n",
    "Imprime en pantalla tu nombre completo."
   ]
  },
  {
   "cell_type": "code",
   "execution_count": 2,
   "id": "44a46115",
   "metadata": {},
   "outputs": [
    {
     "name": "stdout",
     "output_type": "stream",
     "text": [
      "TuNombre Apellido\n"
     ]
    }
   ],
   "source": [
    "# Añade el apellido a la variable con tu nombre\n",
    "mi_nombre_completo = mi_nombre + \" Apellido\"\n",
    "\n",
    "# Imprime en pantalla tu nombre completo\n",
    "print(mi_nombre_completo)"
   ]
  },
  {
   "cell_type": "markdown",
   "id": "AwwZ0ecvbZce",
   "metadata": {
    "id": "AwwZ0ecvbZce"
   },
   "source": [
    "Ahora experimenta con números.\n",
    "Crea una variable con un decimal. Muestra en pantalla el valor y el tipo de variable.\n",
    "Transforma la variable en un entero y muestra en pantalla el valor y el tipo de variable."
   ]
  },
  {
   "cell_type": "code",
   "execution_count": 3,
   "id": "c6c50b99",
   "metadata": {},
   "outputs": [
    {
     "name": "stdout",
     "output_type": "stream",
     "text": [
      "10.5 <class 'float'>\n",
      "10 <class 'int'>\n"
     ]
    }
   ],
   "source": [
    "# Crear una variable con un decimal\n",
    "mi_decimal = 10.5\n",
    "\n",
    "# Mostrar en pantalla el valor y el tipo de variable\n",
    "print(mi_decimal, type(mi_decimal))\n",
    "\n",
    "# Transformar la variable en un entero\n",
    "mi_entero = int(mi_decimal)\n",
    "\n",
    "# Mostrar en pantalla el valor y el tipo de variable\n",
    "print(mi_entero, type(mi_entero))"
   ]
  },
  {
   "cell_type": "markdown",
   "id": "rfMlB5ILcCFM",
   "metadata": {
    "id": "rfMlB5ILcCFM"
   },
   "source": [
    "Crea ahora un variable con un entero y conviértelo a decimal.\n",
    "Haz lo mismo con una cadena de caracteres.\n",
    "¿Qué pasa en cada caso?"
   ]
  },
  {
   "cell_type": "code",
   "execution_count": 4,
   "id": "81fbb137",
   "metadata": {},
   "outputs": [
    {
     "name": "stdout",
     "output_type": "stream",
     "text": [
      "10.0 <class 'float'>\n",
      "123 <class 'int'>\n"
     ]
    }
   ],
   "source": [
    "# Crear una variable con un entero\n",
    "mi_entero_a_decimal = float(mi_entero)\n",
    "\n",
    "# Mostrar en pantalla el valor y el tipo de variable\n",
    "print(mi_entero_a_decimal, type(mi_entero_a_decimal))\n",
    "\n",
    "# Crear una variable con una cadena de caracteres\n",
    "mi_cadena = \"123\"\n",
    "\n",
    "# Convertir la cadena de caracteres a un número entero\n",
    "mi_cadena_a_entero = int(mi_cadena)\n",
    "\n",
    "# Mostrar en pantalla el valor y el tipo de variable\n",
    "print(mi_cadena_a_entero, type(mi_cadena_a_entero))"
   ]
  },
  {
   "cell_type": "markdown",
   "id": "wZG7W_gdc2Bt",
   "metadata": {
    "id": "wZG7W_gdc2Bt"
   },
   "source": [
    "En Python, puedes llevar a cabo operaciones matemáticas comunes con variables numéricas (mira la [documentación](https://docs.python.org/3/library/operator.html) para más información).  \n",
    "\n",
    "Ahora, intenta añadir 5 a tu variable entera y muestra el resultado en pantalla."
   ]
  },
  {
   "cell_type": "code",
   "execution_count": 5,
   "id": "0fcef950",
   "metadata": {},
   "outputs": [
    {
     "name": "stdout",
     "output_type": "stream",
     "text": [
      "15\n"
     ]
    }
   ],
   "source": [
    "# Añadir 5 a la variable entera\n",
    "resultado = mi_entero + 5\n",
    "\n",
    "# Mostrar el resultado en pantalla\n",
    "print(resultado)"
   ]
  },
  {
   "cell_type": "markdown",
   "id": "rcrecDxLhVVD",
   "metadata": {
    "id": "rcrecDxLhVVD"
   },
   "source": [
    "Crea una lista de tus verduras favoritas y muestra en pantalla cuantas verduras has incluido en la lista."
   ]
  },
  {
   "cell_type": "markdown",
   "id": "2a8FKT-8iA1y",
   "metadata": {
    "id": "2a8FKT-8iA1y"
   },
   "source": [
    "Aquí tenemos una lista con los nombres de algunos países:"
   ]
  },
  {
   "cell_type": "code",
   "execution_count": 6,
   "id": "mDySyyhLh__i",
   "metadata": {
    "id": "mDySyyhLh__i"
   },
   "outputs": [],
   "source": [
    "countries_list = [\"United States\", \"Canada\", \"United Kingdom\", \"Spain\", \"Canada\", \"Japan\", \"France\"]"
   ]
  },
  {
   "cell_type": "markdown",
   "id": "91Ai_vfPiOEM",
   "metadata": {
    "id": "91Ai_vfPiOEM"
   },
   "source": [
    "Convierte la lista en un set, usando la función set() y muestra el resultado.\n",
    "¿Qué le ha pasado a nuestra lista original? ¿Ves algún cambio?"
   ]
  },
  {
   "cell_type": "code",
   "execution_count": 7,
   "id": "5eceb8b5",
   "metadata": {},
   "outputs": [
    {
     "name": "stdout",
     "output_type": "stream",
     "text": [
      "Set resultante: {'United States', 'Japan', 'Canada', 'Spain', 'United Kingdom', 'France'}\n",
      "Lista original: ['United States', 'Canada', 'United Kingdom', 'Spain', 'Canada', 'Japan', 'France']\n"
     ]
    }
   ],
   "source": [
    "# Convertir la lista en un set\n",
    "countries_set = set(countries_list)\n",
    "\n",
    "# Mostrar el resultado\n",
    "print(\"Set resultante:\", countries_set)\n",
    "\n",
    "# Mostrar la lista original para verificar si hubo cambios\n",
    "print(\"Lista original:\", countries_list)"
   ]
  },
  {
   "cell_type": "markdown",
   "id": "155lO_KaitTl",
   "metadata": {
    "id": "155lO_KaitTl"
   },
   "source": [
    "En la siguiente celda creamos un diccionario para almacenar las edades de tres personas, usando sus nombres como clave:"
   ]
  },
  {
   "cell_type": "code",
   "execution_count": 8,
   "id": "bV27AEVXi0oL",
   "metadata": {
    "colab": {
     "base_uri": "https://localhost:8080/"
    },
    "executionInfo": {
     "elapsed": 239,
     "status": "ok",
     "timestamp": 1697181829769,
     "user": {
      "displayName": "Rita Ortega Vallbona",
      "userId": "17830401129805231568"
     },
     "user_tz": -120
    },
    "id": "bV27AEVXi0oL",
    "outputId": "53bd808f-0905-4319-b7ce-d13c235459b6"
   },
   "outputs": [
    {
     "name": "stdout",
     "output_type": "stream",
     "text": [
      "Julia  tiene  41  años.\n"
     ]
    }
   ],
   "source": [
    "gente = {\"Laura\" : 27,\n",
    "          \"Julia\" : 41,\n",
    "          \"Tom\" : 35}\n",
    "\n",
    "persona = \"Julia\"\n",
    "\n",
    "print(persona, \" tiene \", gente[persona],\" años.\")"
   ]
  },
  {
   "cell_type": "markdown",
   "id": "JO87uOJNkFFi",
   "metadata": {
    "id": "JO87uOJNkFFi"
   },
   "source": [
    "Añade una nueva persona al diccionario y muestra en pantalla el diccionario actualizado."
   ]
  },
  {
   "cell_type": "code",
   "execution_count": 9,
   "id": "b59aff54",
   "metadata": {},
   "outputs": [
    {
     "name": "stdout",
     "output_type": "stream",
     "text": [
      "{'Laura': 27, 'Julia': 41, 'Tom': 35, 'Carlos': 29}\n"
     ]
    }
   ],
   "source": [
    "# Añadir una nueva persona al diccionario\n",
    "gente[\"Carlos\"] = 29\n",
    "\n",
    "# Mostrar en pantalla el diccionario actualizado\n",
    "print(gente)"
   ]
  },
  {
   "cell_type": "markdown",
   "id": "HUWTF9vkkrKb",
   "metadata": {
    "id": "HUWTF9vkkrKb"
   },
   "source": [
    "**Ejercicio extra:** Crea un diccionario con información sobre los últimos 3 libros que te hayas leído, incluyendo título, autor, año de publicación y precio. Luego, muestra en pantalla la información de cada uno de los libros por separada. Intenta dar un formato agradable."
   ]
  },
  {
   "cell_type": "code",
   "execution_count": null,
   "id": "1a8eb4d2",
   "metadata": {},
   "outputs": [],
   "source": [
    "# Crear un diccionario con información sobre los últimos 3 libros leídos\n",
    "libros = {\n",
    "    \"Libro1\": {\"Título\": \"Cien años de soledad\", \"Autor\": \"Gabriel García Márquez\", \"Año\": 1967, \"Precio\": 20.99},\n",
    "    \"Libro2\": {\"Título\": \"1984\", \"Autor\": \"George Orwell\", \"Año\": 1949, \"Precio\": 15.50},\n",
    "    \"Libro3\": {\"Título\": \"El principito\", \"Autor\": \"Antoine de Saint-Exupéry\", \"Año\": 1943, \"Precio\": 10.75}\n",
    "}\n",
    "\n",
    "# Mostrar la información de cada libro por separado con formato agradable\n",
    "for clave, info in libros.items():\n",
    "    print(f\"{clave}:\")\n",
    "    for key, value in info.items():\n",
    "        print(f\"  {key}: {value}\")\n",
    "    print()"
   ]
  },
  {
   "cell_type": "markdown",
   "id": "1SbmqwH0lP_9",
   "metadata": {
    "id": "1SbmqwH0lP_9"
   },
   "source": [
    "## Sección 2. Funciones"
   ]
  },
  {
   "cell_type": "markdown",
   "id": "YSX0wP0UlTIG",
   "metadata": {
    "id": "YSX0wP0UlTIG"
   },
   "source": [
    "Crea una función llamada \"greet\" que tome el nombre de una persona como argumento y muestre en pantalla un saludo, como por ejemplo \"¡Hola, ______! ¿Cómo estás hoy?\". Luego, aplica la función con nombres diferentes."
   ]
  },
  {
   "cell_type": "code",
   "execution_count": null,
   "id": "tvb9SYeomV2e",
   "metadata": {
    "id": "tvb9SYeomV2e"
   },
   "outputs": [],
   "source": [
    "# ESCRIBE AQUÍ TU CÓDIGO"
   ]
  },
  {
   "cell_type": "markdown",
   "id": "u-nKrfgZmsEE",
   "metadata": {
    "id": "u-nKrfgZmsEE"
   },
   "source": [
    "Crea una función llamada \"calcular_area\" que tome la longitud y altura de un rectángulo como argumento y devuelva (pero no imprima en pantalla) su área. Luego, aplica la función con diferentes medidas y muestra en pantalla los resultados."
   ]
  },
  {
   "cell_type": "code",
   "execution_count": null,
   "id": "w44h28YWmxSK",
   "metadata": {
    "id": "w44h28YWmxSK"
   },
   "outputs": [],
   "source": [
    "# ESCRIBE AQUÍ TU CÓDIGO"
   ]
  },
  {
   "cell_type": "markdown",
   "id": "lL28j-LLnCXo",
   "metadata": {
    "id": "lL28j-LLnCXo"
   },
   "source": [
    "## Sección 3. Bucles *for*"
   ]
  },
  {
   "cell_type": "markdown",
   "id": "pP6BC0XMnagQ",
   "metadata": {
    "id": "pP6BC0XMnagQ"
   },
   "source": [
    "Crea un bucle en el que se itere del 1 al 10 (ambos incluidos) y muestra en pantalla cada número. En lugar de escribir manualmente la lista de números, usa la funcion `range()`. En el siguiente [enlace](https://python-reference.readthedocs.io/en/latest/docs/functions/range.html) encontrarás más información sobre la función."
   ]
  },
  {
   "cell_type": "code",
   "execution_count": null,
   "id": "otlUwwGTniZj",
   "metadata": {
    "colab": {
     "base_uri": "https://localhost:8080/"
    },
    "executionInfo": {
     "elapsed": 247,
     "status": "ok",
     "timestamp": 1697181844449,
     "user": {
      "displayName": "Rita Ortega Vallbona",
      "userId": "17830401129805231568"
     },
     "user_tz": -120
    },
    "id": "otlUwwGTniZj",
    "outputId": "6936e6bd-c1a1-4678-d219-bdc94fb584ee"
   },
   "outputs": [],
   "source": [
    "# ESCRIBE AQUÍ TU CÓDIGO"
   ]
  },
  {
   "cell_type": "markdown",
   "id": "l4oSlveioZ8Z",
   "metadata": {
    "id": "l4oSlveioZ8Z"
   },
   "source": [
    "Escribe ahora un bucle que calcule la suma de los números del 1 al 5 y muestra en pantalla el resultado."
   ]
  },
  {
   "cell_type": "code",
   "execution_count": null,
   "id": "xVos9zPVogGe",
   "metadata": {
    "id": "xVos9zPVogGe"
   },
   "outputs": [],
   "source": [
    "# ESCRIBE AQUÍ TU CÓDIGO"
   ]
  },
  {
   "cell_type": "markdown",
   "id": "bEGC3gPSotxd",
   "metadata": {
    "id": "bEGC3gPSotxd"
   },
   "source": [
    "Crea una lista llamada `lista_original` con los valores iniciales 1, 2 y 3. Luego, escribe un bucle *for* para añadir valores adicionales a esta lista desde otra lista llamada `nuevos_valores`. Finalmente, imprime la lista `lista_original` actualizada tras ampliarla con la lista `nuevos_valores`. Más información sobre las listas en Python en el siguiente [enlace](https://docs.python.org/3/tutorial/datastructures.html) "
   ]
  },
  {
   "cell_type": "code",
   "execution_count": null,
   "id": "R4wHzFOjowSw",
   "metadata": {
    "id": "R4wHzFOjowSw"
   },
   "outputs": [],
   "source": [
    "# ESCRIBE AQUÍ TU CÓDIGO"
   ]
  },
  {
   "cell_type": "markdown",
   "id": "ixwuaScv2XHN",
   "metadata": {
    "id": "ixwuaScv2XHN"
   },
   "source": [
    "Hemos creado un bucle *for* para transformar una lista de números decimales en enteros y almacenar los enteros en una nueva lista:"
   ]
  },
  {
   "cell_type": "code",
   "execution_count": null,
   "id": "P8vpYQXM2bI2",
   "metadata": {
    "id": "P8vpYQXM2bI2"
   },
   "outputs": [],
   "source": [
    "list_floats = [3.5, 2.6, 1.9, 2.5, 4.7, 8.1]\n",
    "list_ints = []\n",
    "\n",
    "for float_num in list_floats:\n",
    "  int_num = int(float_num)\n",
    "  list_ints.append(int_num)\n",
    "\n",
    "print(list_ints)"
   ]
  },
  {
   "cell_type": "markdown",
   "id": "4A9KDVm83TA2",
   "metadata": {
    "id": "4A9KDVm83TA2"
   },
   "source": [
    "La misma operación puede ser escrita en una única línea, lo que se conoce como listas comprensivas, como se muestra en el siguiente ejemplo:"
   ]
  },
  {
   "cell_type": "code",
   "execution_count": null,
   "id": "wpmAv91AzMbx",
   "metadata": {
    "id": "wpmAv91AzMbx"
   },
   "outputs": [],
   "source": [
    "list_ints = [int(float_num) for float_num in list_floats]\n",
    "\n",
    "print(list_ints)"
   ]
  },
  {
   "cell_type": "markdown",
   "id": "oOVdGpyy3oYw",
   "metadata": {
    "id": "oOVdGpyy3oYw"
   },
   "source": [
    "Esto permite una forma más compacta de escribir el código.\n",
    "\n",
    "Ahora, pruébalo tú mismo. Crea una lista con los nombres de los días laborables. Luego crea la lista `dias_felices` añadiendo los caracteres \":D\" a cada día laboral."
   ]
  },
  {
   "cell_type": "code",
   "execution_count": null,
   "id": "ZiC5rPBb4rCf",
   "metadata": {
    "id": "ZiC5rPBb4rCf"
   },
   "outputs": [],
   "source": [
    "# ESCRIBE AQUÍ TU CÓDIGO"
   ]
  },
  {
   "cell_type": "markdown",
   "id": "CzWeq88f7pj0",
   "metadata": {
    "id": "CzWeq88f7pj0"
   },
   "source": [
    "Puedes iterar sobre una cadena de caracteres como si fuera una lista. Mira el siguiente ejemplo:"
   ]
  },
  {
   "cell_type": "code",
   "execution_count": null,
   "id": "xRI7jAMu76wq",
   "metadata": {
    "colab": {
     "base_uri": "https://localhost:8080/"
    },
    "executionInfo": {
     "elapsed": 247,
     "status": "ok",
     "timestamp": 1697182188176,
     "user": {
      "displayName": "Rita Ortega Vallbona",
      "userId": "17830401129805231568"
     },
     "user_tz": -120
    },
    "id": "xRI7jAMu76wq",
    "outputId": "233aae7e-ae03-4b82-978f-18474d0a526a"
   },
   "outputs": [],
   "source": [
    "my_string = \"supercalifragilisticexpialidocious\"\n",
    "\n",
    "for letter in my_string:\n",
    "  print(letter)"
   ]
  },
  {
   "cell_type": "markdown",
   "id": "aWoo8TtN8Wfu",
   "metadata": {
    "id": "aWoo8TtN8Wfu"
   },
   "source": [
    "Ahora crea una lista (usando una lista comprensiva) donde incluyas todas las letras de `my_string`. Luego tranfórmalo en un set y muestra en pantalla cuantas letras diferentes tiene `my_string`."
   ]
  },
  {
   "cell_type": "code",
   "execution_count": null,
   "id": "Bx43puAI8sNh",
   "metadata": {
    "id": "Bx43puAI8sNh"
   },
   "outputs": [],
   "source": [
    "# ESCRIBE AQUÍ TU CÓDIGO"
   ]
  },
  {
   "cell_type": "markdown",
   "id": "JVNFHT2dpDcZ",
   "metadata": {
    "id": "JVNFHT2dpDcZ"
   },
   "source": [
    "## Sección 4. Claúsulas condicionales *if else*"
   ]
  },
  {
   "cell_type": "markdown",
   "id": "hnjSXkAHpHFI",
   "metadata": {
    "id": "hnjSXkAHpHFI"
   },
   "source": [
    "En la siguiente celda, hay que usar un estamento condicional para confirmar si un número es par o impar, basándose en el resto de su división entre 2."
   ]
  },
  {
   "cell_type": "code",
   "execution_count": null,
   "id": "9cDkP1GopJ_B",
   "metadata": {
    "colab": {
     "base_uri": "https://localhost:8080/"
    },
    "executionInfo": {
     "elapsed": 13677,
     "status": "ok",
     "timestamp": 1696237829716,
     "user": {
      "displayName": "Rita Ortega Vallbona",
      "userId": "17830401129805231568"
     },
     "user_tz": -120
    },
    "id": "9cDkP1GopJ_B",
    "outputId": "33577437-db31-4827-fd99-6bf686746cee"
   },
   "outputs": [],
   "source": [
    "# Obtén un número entero del usuario\n",
    "num = int(input(\"Introduce un número entero: \"))\n",
    "\n",
    "# Comprueba si el número es par o impar\n",
    "# ESCRIBE AQUÍ TU CÓDIGO\n"
   ]
  },
  {
   "cell_type": "markdown",
   "id": "7Qyr8tsFpO5I",
   "metadata": {
    "id": "7Qyr8tsFpO5I"
   },
   "source": [
    "Escribe un programa en Python que tome dos números como entrada y utilice una sentencia *if-else* para determinar cuál de los dos es mayor. Imprime el resultado en pantalla."
   ]
  },
  {
   "cell_type": "code",
   "execution_count": null,
   "id": "ajij83Z2pSbm",
   "metadata": {
    "id": "ajij83Z2pSbm"
   },
   "outputs": [],
   "source": [
    "# ESCRIBE AQUÍ TU CÓDIGO"
   ]
  },
  {
   "cell_type": "markdown",
   "id": "ZMMB0wCSpmsn",
   "metadata": {
    "id": "ZMMB0wCSpmsn"
   },
   "source": [
    "## Sección 5. Clausulas *Try except*"
   ]
  },
  {
   "cell_type": "markdown",
   "id": "mfW_HCPnp0BF",
   "metadata": {
    "id": "mfW_HCPnp0BF"
   },
   "source": [
    "En el siguiente bloque de código, se usa en bloque *try-except* para manejar dos tipos de excepciones: ZeroDivisionError (para divisiones entre 0) y ValueError (para acciones que no se pueden llevar a cabo debido al tipo de variable)."
   ]
  },
  {
   "cell_type": "code",
   "execution_count": null,
   "id": "UD2aKodIp2AW",
   "metadata": {
    "id": "UD2aKodIp2AW"
   },
   "outputs": [],
   "source": [
    "# Obtén dos número del usuario\n",
    "try:\n",
    "    num1 = float(input(\"Introduce el primer número: \"))\n",
    "    num2 = float(input(\"Introduce el segundo número: \"))\n",
    "\n",
    "    # Intenat dividirlos entre ellos\n",
    "    result = num1 / num2\n",
    "\n",
    "    # Imprime el resultado\n",
    "    print(\"Resultado de la división:\", result)\n",
    "\n",
    "except ZeroDivisionError:\n",
    "    print(\"Error: La división entre 0 no está permitida.\")\n",
    "except ValueError:\n",
    "    print(\"Error: Por favor, introduce valores numéricos válidos.\")"
   ]
  },
  {
   "cell_type": "markdown",
   "id": "ugqh9QVOp5Is",
   "metadata": {
    "id": "ugqh9QVOp5Is"
   },
   "source": [
    "Escribe una función que pida un número al usuario y calcule, tanto su logaritmo decimal como su logaritmo neperiano, e imprime el resultado en pantalla.\n",
    "Construye el código de forma que sea capaz de manejar posibles errores."
   ]
  },
  {
   "cell_type": "code",
   "execution_count": null,
   "id": "oVzQHYeUqH-T",
   "metadata": {
    "id": "oVzQHYeUqH-T"
   },
   "outputs": [],
   "source": [
    "# ESCRIBE AQUÍ TU CÓDIGO"
   ]
  }
 ],
 "metadata": {
  "colab": {
   "provenance": [
    {
     "file_id": "1BDhXBxo498T8Jh5B4x4nh4Ldd4hsTa7H",
     "timestamp": 1684842428006
    },
    {
     "file_id": "https://github.com/mpalominoschaetzlein/Python_QSAR_course/blob/main/Module1_Python_for_chemoinformaticsMPS.ipynb",
     "timestamp": 1684827171978
    }
   ]
  },
  "kernelspec": {
   "display_name": "UEenv",
   "language": "python",
   "name": "python3"
  },
  "language_info": {
   "codemirror_mode": {
    "name": "ipython",
    "version": 3
   },
   "file_extension": ".py",
   "mimetype": "text/x-python",
   "name": "python",
   "nbconvert_exporter": "python",
   "pygments_lexer": "ipython3",
   "version": "3.9.22"
  }
 },
 "nbformat": 4,
 "nbformat_minor": 5
}
