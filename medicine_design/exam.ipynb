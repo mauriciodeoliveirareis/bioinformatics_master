{
 "cells": [
  {
   "cell_type": "code",
   "execution_count": 5,
   "id": "c4dec399",
   "metadata": {},
   "outputs": [],
   "source": [
    "import pandas as pd   #Importa la librería pandas como pd\n",
    "import numpy as np\n",
    "import matplotlib.pyplot as plt\n",
    "from rdkit import Chem  #Importa la libraría Chem de rdkit\n",
    "from mordred import Calculator, descriptors\n",
    "from sklearn.model_selection import train_test_split\n",
    "from sklearn.impute import KNNImputer  \n",
    "\n"
   ]
  },
  {
   "cell_type": "code",
   "execution_count": 8,
   "id": "cc9f59e4",
   "metadata": {},
   "outputs": [
    {
     "name": "stdout",
     "output_type": "stream",
     "text": [
      "Compuestos restantes después de la limpieza: 5193\n"
     ]
    }
   ],
   "source": [
    "# 1. SMILES válidos\n",
    "df_clean = df[df['mol'].notnull()]\n",
    "\n",
    "# 2. Mutagenicidad válida\n",
    "df_clean = df_clean[df_clean['Mutagenicity'].isin(['positive', 'negative'])]\n",
    "\n",
    "# 3. Eliminar todos los SMILES duplicados (eliminar todos los que aparecen más de una vez)\n",
    "smiles_counts = df_clean['SMILES'].value_counts()\n",
    "unique_smiles = smiles_counts[smiles_counts == 1].index\n",
    "df_clean = df_clean[df_clean['SMILES'].isin(unique_smiles)]\n",
    "\n",
    "# Número de compuestos restantes\n",
    "num_compounds = len(df_clean)\n",
    "print(f'Compuestos restantes después de la limpieza: {num_compounds}')\n"
   ]
  }
 ],
 "metadata": {
  "kernelspec": {
   "display_name": "bioinformatics_py_3_9",
   "language": "python",
   "name": "python3"
  },
  "language_info": {
   "codemirror_mode": {
    "name": "ipython",
    "version": 3
   },
   "file_extension": ".py",
   "mimetype": "text/x-python",
   "name": "python",
   "nbconvert_exporter": "python",
   "pygments_lexer": "ipython3",
   "version": "3.9.21"
  }
 },
 "nbformat": 4,
 "nbformat_minor": 5
}
