{
 "cells": [
  {
   "cell_type": "markdown",
   "id": "a59b2543",
   "metadata": {
    "id": "a59b2543"
   },
   "source": [
    "# Máster de Formación Permanente en Bioinformática e Inteligencia Artificial en Salud\n",
    "## MÓDULO 6 - Diseño de terapias y medicamentos innovadores. \n",
    "### UNIDAD 1.4 Introducción a la quimioinformática"
   ]
  },
  {
   "cell_type": "markdown",
   "id": "cf6f496f",
   "metadata": {
    "id": "cf6f496f"
   },
   "source": [
    "En esta notebook vamos a practicar los conceptos básicos de Python."
   ]
  },
  {
   "cell_type": "markdown",
   "id": "THfWjg9mb3q5",
   "metadata": {
    "id": "THfWjg9mb3q5"
   },
   "source": [
    "# Parte 1: Ejercicios para conocer Python\n",
    "\n",
    "\n"
   ]
  },
  {
   "cell_type": "markdown",
   "id": "FtjluA1oLt-3",
   "metadata": {
    "id": "FtjluA1oLt-3"
   },
   "source": [
    "Vamos a empezar creando variables de diferentes tipos.\n",
    "\n",
    "Crearemos las siguientes variables:\n",
    "* Nombre (cadena de caracteres)\n",
    "* Edad (entero)\n",
    "* Altura (decimal)\n",
    "* ¿Tienes hermanos/as? (booleano)\n",
    "* Nombre de tus hermanas/os (lista)\n",
    "* Crea un diccionario con toda esta información y llámalo \"Datos_personales\""
   ]
  },
  {
   "cell_type": "code",
   "execution_count": 1,
   "id": "FGjUwM6Ka3ih",
   "metadata": {
    "colab": {
     "base_uri": "https://localhost:8080/"
    },
    "executionInfo": {
     "elapsed": 238,
     "status": "ok",
     "timestamp": 1697181752003,
     "user": {
      "displayName": "Rita Ortega Vallbona",
      "userId": "17830401129805231568"
     },
     "user_tz": -120
    },
    "id": "FGjUwM6Ka3ih",
    "outputId": "7b48af8f-1755-48c2-969d-dea9c8acc6d9"
   },
   "outputs": [
    {
     "name": "stdout",
     "output_type": "stream",
     "text": [
      "{'Nombre': 'Juan', 'Edad': 28, 'Altura': 1.75, 'Tienes_hermanos': True, 'Nombres_hermanos': ['Ana', 'Carlos']}\n"
     ]
    }
   ],
   "source": [
    "# Creación de variables de diferentes tipos\n",
    "Nombre = \"Juan\"\n",
    "Edad = 28\n",
    "Altura = 1.75\n",
    "Tienes_hermanos = True\n",
    "Nombres_hermanos = [\"Ana\", \"Carlos\"]\n",
    "\n",
    "# Creación del diccionario con toda la información\n",
    "Datos_personales = {\n",
    "    \"Nombre\": Nombre,\n",
    "    \"Edad\": Edad,\n",
    "    \"Altura\": Altura,\n",
    "    \"Tienes_hermanos\": Tienes_hermanos,\n",
    "    \"Nombres_hermanos\": Nombres_hermanos\n",
    "}\n",
    "\n",
    "print(Datos_personales)"
   ]
  },
  {
   "cell_type": "markdown",
   "id": "Xlzc_IucbG1B",
   "metadata": {
    "id": "Xlzc_IucbG1B"
   },
   "source": [
    "Confirma que todas las variables son del tipo correspondiente."
   ]
  },
  {
   "cell_type": "code",
   "execution_count": 2,
   "id": "-BdE2IW1l3oq",
   "metadata": {
    "id": "-BdE2IW1l3oq"
   },
   "outputs": [
    {
     "name": "stdout",
     "output_type": "stream",
     "text": [
      "True\n",
      "True\n",
      "True\n",
      "True\n",
      "True\n",
      "True\n"
     ]
    }
   ],
   "source": [
    "# Confirmación de tipos de variables\n",
    "print(isinstance(Nombre, str))  # Debe ser True\n",
    "print(isinstance(Edad, int))    # Debe ser True\n",
    "print(isinstance(Altura, float))  # Debe ser True\n",
    "print(isinstance(Tienes_hermanos, bool))  # Debe ser True\n",
    "print(isinstance(Nombres_hermanos, list))  # Debe ser True\n",
    "print(isinstance(Datos_personales, dict))  # Debe ser True\n"
   ]
  },
  {
   "cell_type": "markdown",
   "id": "-alCunTM5Wl-",
   "metadata": {
    "id": "-alCunTM5Wl-"
   },
   "source": [
    "Obtén cuantos hermanos/as tienes y añádelo como nueva entrada al diccionario."
   ]
  },
  {
   "cell_type": "code",
   "execution_count": null,
   "id": "IlNLrDc55oR-",
   "metadata": {
    "colab": {
     "base_uri": "https://localhost:8080/"
    },
    "executionInfo": {
     "elapsed": 238,
     "status": "ok",
     "timestamp": 1697181759113,
     "user": {
      "displayName": "Rita Ortega Vallbona",
      "userId": "17830401129805231568"
     },
     "user_tz": -120
    },
    "id": "IlNLrDc55oR-",
    "outputId": "86670816-503e-4695-88a2-3b74b166b1ac"
   },
   "outputs": [
    {
     "name": "stdout",
     "output_type": "stream",
     "text": [
      "John Smith\n"
     ]
    }
   ],
   "source": [
    "# Obtener el número de hermanos/as\n",
    "numero_hermanos = len(Nombres_hermanos)\n",
    "\n",
    "# Añadirlo como nueva entrada al diccionario\n",
    "Datos_personales[\"Numero_hermanos\"] = numero_hermanos\n",
    "\n",
    "print(Datos_personales)"
   ]
  },
  {
   "cell_type": "markdown",
   "id": "2Zg-0B7C6HdO",
   "metadata": {
    "id": "2Zg-0B7C6HdO"
   },
   "source": [
    "Usa la variable \"Nombre\" para añadir tus apellidos y crear la variable \"Nombre completo\"."
   ]
  },
  {
   "cell_type": "code",
   "execution_count": null,
   "id": "sVfRKoxB6KpR",
   "metadata": {
    "id": "sVfRKoxB6KpR"
   },
   "outputs": [],
   "source": [
    "# Crear la variable \"Nombre completo\" añadiendo apellidos a la variable \"Nombre\"\n",
    "Apellidos = \"Pérez García\"\n",
    "Nombre_completo = f\"{Nombre} {Apellidos}\"\n",
    "\n",
    "print(Nombre_completo)"
   ]
  },
  {
   "cell_type": "markdown",
   "id": "AwwZ0ecvbZce",
   "metadata": {
    "id": "AwwZ0ecvbZce"
   },
   "source": [
    "Crea en el diccionario la variable \"Peso\". Conviértela a entero."
   ]
  },
  {
   "cell_type": "code",
   "execution_count": 3,
   "id": "b59c2577",
   "metadata": {},
   "outputs": [
    {
     "name": "stdout",
     "output_type": "stream",
     "text": [
      "{'Nombre': 'Juan', 'Edad': 28, 'Altura': 1.75, 'Tienes_hermanos': True, 'Nombres_hermanos': ['Ana', 'Carlos'], 'Peso': 70}\n"
     ]
    }
   ],
   "source": [
    "# Añadir la variable \"Peso\" al diccionario y convertirla a entero\n",
    "Peso = 70.5  # Ejemplo de peso en kilogramos\n",
    "Datos_personales[\"Peso\"] = int(Peso)\n",
    "\n",
    "print(Datos_personales)"
   ]
  },
  {
   "cell_type": "markdown",
   "id": "101c8373",
   "metadata": {},
   "source": [
    "Crea una función para calcular el IMC y úsala para introducir dicho valor en el diccionario. La fórmula del IMC es: peso / altura<sup>2</sup>."
   ]
  },
  {
   "cell_type": "code",
   "execution_count": 4,
   "id": "5n9QUosIcNY_",
   "metadata": {
    "id": "5n9QUosIcNY_"
   },
   "outputs": [
    {
     "name": "stdout",
     "output_type": "stream",
     "text": [
      "{'Nombre': 'Juan', 'Edad': 28, 'Altura': 1.75, 'Tienes_hermanos': True, 'Nombres_hermanos': ['Ana', 'Carlos'], 'Peso': 70, 'IMC': 22.857142857142858}\n"
     ]
    }
   ],
   "source": [
    "# Función para calcular el IMC\n",
    "def calcular_imc(peso, altura):\n",
    "    return peso / (altura ** 2)\n",
    "\n",
    "# Calcular el IMC y añadirlo al diccionario\n",
    "imc = calcular_imc(Datos_personales[\"Peso\"], Datos_personales[\"Altura\"])\n",
    "Datos_personales[\"IMC\"] = imc\n",
    "\n",
    "print(Datos_personales)\n"
   ]
  },
  {
   "cell_type": "markdown",
   "id": "rfMlB5ILcCFM",
   "metadata": {
    "id": "rfMlB5ILcCFM"
   },
   "source": [
    "Crea una lista con tus frutas favoritas."
   ]
  },
  {
   "cell_type": "code",
   "execution_count": 5,
   "id": "241f2a5c",
   "metadata": {},
   "outputs": [
    {
     "name": "stdout",
     "output_type": "stream",
     "text": [
      "['Manzana', 'Plátano', 'Fresa', 'Mango', 'Naranja']\n"
     ]
    }
   ],
   "source": [
    "# Crear una lista con mis frutas favoritas\n",
    "frutas_favoritas = [\"Manzana\", \"Plátano\", \"Fresa\", \"Mango\", \"Naranja\"]\n",
    "\n",
    "print(frutas_favoritas)"
   ]
  },
  {
   "cell_type": "markdown",
   "id": "4092de16",
   "metadata": {},
   "source": [
    "Usa un bucle para crear un lista con cuantas letras tiene cada una de tus frutas favoritas."
   ]
  },
  {
   "cell_type": "code",
   "execution_count": 6,
   "id": "5ef90c73",
   "metadata": {},
   "outputs": [
    {
     "name": "stdout",
     "output_type": "stream",
     "text": [
      "[7, 7, 5, 5, 7]\n"
     ]
    }
   ],
   "source": [
    "# Crear una lista con la cantidad de letras de cada fruta favorita\n",
    "longitudes_frutas = []\n",
    "for fruta in frutas_favoritas:\n",
    "    longitudes_frutas.append(len(fruta))\n",
    "\n",
    "print(longitudes_frutas)"
   ]
  },
  {
   "cell_type": "markdown",
   "id": "2aeeae35",
   "metadata": {},
   "source": [
    "Ahora repetiremos el proceso usando un método más \"pythonico\" (list comprehension)"
   ]
  },
  {
   "cell_type": "code",
   "execution_count": 7,
   "id": "126928ca",
   "metadata": {},
   "outputs": [
    {
     "name": "stdout",
     "output_type": "stream",
     "text": [
      "[7, 7, 5, 5, 7]\n"
     ]
    }
   ],
   "source": [
    "# Usar comprensión de listas para calcular la cantidad de letras de cada fruta favorita\n",
    "longitudes_frutas_pythonico = [len(fruta) for fruta in frutas_favoritas]\n",
    "\n",
    "print(longitudes_frutas_pythonico)"
   ]
  },
  {
   "cell_type": "markdown",
   "id": "e4096f96",
   "metadata": {},
   "source": [
    "Crea una función llamada \"nombre_largo\" que devuelva \"Sí\" si el nombre tiene 8 letras o más, y \"No\" si tiene menos. Aplícala para crear una entrada en el diccionario llamada \"¿Mi nombre es largo?\""
   ]
  },
  {
   "cell_type": "code",
   "execution_count": 9,
   "id": "63d5f7a6",
   "metadata": {},
   "outputs": [
    {
     "name": "stdout",
     "output_type": "stream",
     "text": [
      "{'Nombre': 'Juan', 'Edad': 28, 'Altura': 1.75, 'Tienes_hermanos': True, 'Nombres_hermanos': ['Ana', 'Carlos'], 'Peso': 70, 'IMC': 22.857142857142858, '¿Mi nombre es largo?': 'No'}\n"
     ]
    }
   ],
   "source": [
    "# Función para determinar si un nombre es largo\n",
    "def nombre_largo(nombre):\n",
    "    return \"Sí\" if len(nombre) >= 8 else \"No\"\n",
    "\n",
    "# Aplicar la función y añadir la entrada al diccionario\n",
    "Datos_personales[\"¿Mi nombre es largo?\"] = nombre_largo(Datos_personales[\"Nombre\"])\n",
    "\n",
    "print(Datos_personales)"
   ]
  },
  {
   "cell_type": "markdown",
   "id": "f7051308",
   "metadata": {},
   "source": [
    "Crea un bucle que te devuelva la longitud (len) de cada uno de los objetos que contiene el dictionario \"Datos_personales\""
   ]
  },
  {
   "cell_type": "code",
   "execution_count": 10,
   "id": "3f070f90",
   "metadata": {},
   "outputs": [
    {
     "name": "stdout",
     "output_type": "stream",
     "text": [
      "La longitud de 'Nombre' es: 4\n",
      "No se puede calcular la longitud del valor de 'Edad'\n",
      "No se puede calcular la longitud del valor de 'Altura'\n",
      "No se puede calcular la longitud del valor de 'Tienes_hermanos'\n",
      "La longitud de 'Nombres_hermanos' es: 2\n",
      "No se puede calcular la longitud del valor de 'Peso'\n",
      "No se puede calcular la longitud del valor de 'IMC'\n",
      "La longitud de '¿Mi nombre es largo?' es: 2\n"
     ]
    }
   ],
   "source": [
    "# Bucle para obtener la longitud de cada objeto en el diccionario\n",
    "for clave, valor in Datos_personales.items():\n",
    "    try:\n",
    "        print(f\"La longitud de '{clave}' es: {len(valor)}\")\n",
    "    except TypeError:\n",
    "        print(f\"No se puede calcular la longitud del valor de '{clave}'\")"
   ]
  },
  {
   "cell_type": "markdown",
   "id": "1fccb099",
   "metadata": {},
   "source": [
    "Evita el mensaje de error usando una claúsula Try/except. En lugar del error se devolverá el mensaje \"No se puede calcular la longitud del valor de {clave del dictionario que estemos mirando}\"."
   ]
  },
  {
   "cell_type": "code",
   "execution_count": 11,
   "id": "10228e7a",
   "metadata": {},
   "outputs": [
    {
     "name": "stdout",
     "output_type": "stream",
     "text": [
      "La longitud de 'Nombre' es: 4\n",
      "No se puede calcular la longitud del valor de 'Edad'\n",
      "No se puede calcular la longitud del valor de 'Altura'\n",
      "No se puede calcular la longitud del valor de 'Tienes_hermanos'\n",
      "La longitud de 'Nombres_hermanos' es: 2\n",
      "No se puede calcular la longitud del valor de 'Peso'\n",
      "No se puede calcular la longitud del valor de 'IMC'\n",
      "La longitud de '¿Mi nombre es largo?' es: 2\n"
     ]
    }
   ],
   "source": [
    "# Bucle para obtener la longitud de cada objeto en el diccionario\n",
    "for clave, valor in Datos_personales.items():\n",
    "    try:\n",
    "        longitud = len(valor)\n",
    "        print(f\"La longitud de '{clave}' es: {longitud}\")\n",
    "    except TypeError:\n",
    "        print(f\"No se puede calcular la longitud del valor de '{clave}'\")\n",
    "    "
   ]
  },
  {
   "cell_type": "code",
   "execution_count": null,
   "id": "e0b4477c",
   "metadata": {},
   "outputs": [],
   "source": []
  }
 ],
 "metadata": {
  "colab": {
   "provenance": [
    {
     "file_id": "1BDhXBxo498T8Jh5B4x4nh4Ldd4hsTa7H",
     "timestamp": 1684842428006
    },
    {
     "file_id": "https://github.com/mpalominoschaetzlein/Python_QSAR_course/blob/main/Module1_Python_for_chemoinformaticsMPS.ipynb",
     "timestamp": 1684827171978
    }
   ]
  },
  "kernelspec": {
   "display_name": "bioinformatics",
   "language": "python",
   "name": "python3"
  },
  "language_info": {
   "codemirror_mode": {
    "name": "ipython",
    "version": 3
   },
   "file_extension": ".py",
   "mimetype": "text/x-python",
   "name": "python",
   "nbconvert_exporter": "python",
   "pygments_lexer": "ipython3",
   "version": "3.13.1"
  }
 },
 "nbformat": 4,
 "nbformat_minor": 5
}
