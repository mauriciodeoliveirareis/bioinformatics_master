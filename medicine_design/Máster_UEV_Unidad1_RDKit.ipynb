{
 "cells": [
  {
   "cell_type": "markdown",
   "id": "e6122a73",
   "metadata": {},
   "source": [
    "# Ejercicios con RDKit y análisis de toxicidad - EC50 Pimephales\n",
    "\n",
    "En este notebook trabajaremos con el conjunto de datos generado anteriormente, el cual contiene estructuras químicas (SMILES) y valores de toxicidad frente a *Pimephales promelas* (Fathead Minnow). Usaremos la librería RDKit para procesar las moléculas y obtener descriptores químicos.\n",
    "\n",
    "**Objetivos:**\n",
    "- Aprender a sanitizar y preparar estructuras SMILES\n",
    "- Eliminar duplicados químicos\n",
    "- Calcular descriptores moleculares usando RDKit\n",
    "- Explorar relaciones entre descriptores y toxicidad\n",
    "\n",
    "Importa las librerías necesarias y carga el archivo `'EC50_Pimephales.csv'`. Visualiza las primeras filas para asegurarte que el DataFrame es correcto."
   ]
  },
  {
   "cell_type": "code",
   "execution_count": 4,
   "id": "8a6da62a",
   "metadata": {},
   "outputs": [
    {
     "name": "stdout",
     "output_type": "stream",
     "text": [
      "Collecting rdkit\n",
      "  Downloading rdkit-2024.9.6-cp313-cp313-macosx_11_0_arm64.whl.metadata (4.0 kB)\n",
      "Requirement already satisfied: numpy in /Users/mauriciodeoliveirareis/.pyenv/versions/3.13.1/envs/bioinformatics/lib/python3.13/site-packages (from rdkit) (2.2.4)\n",
      "Requirement already satisfied: Pillow in /Users/mauriciodeoliveirareis/.pyenv/versions/3.13.1/envs/bioinformatics/lib/python3.13/site-packages (from rdkit) (11.1.0)\n",
      "Downloading rdkit-2024.9.6-cp313-cp313-macosx_11_0_arm64.whl (27.8 MB)\n",
      "\u001b[2K   \u001b[90m━━━━━━━━━━━━━━━━━━━━━━━━━━━━━━━━━━━━━━━━\u001b[0m \u001b[32m27.8/27.8 MB\u001b[0m \u001b[31m2.2 MB/s\u001b[0m eta \u001b[36m0:00:00\u001b[0m00:01\u001b[0m00:01\u001b[0mm\n",
      "\u001b[?25hInstalling collected packages: rdkit\n",
      "Successfully installed rdkit-2024.9.6\n",
      "\n",
      "\u001b[1m[\u001b[0m\u001b[34;49mnotice\u001b[0m\u001b[1;39;49m]\u001b[0m\u001b[39;49m A new release of pip is available: \u001b[0m\u001b[31;49m24.3.1\u001b[0m\u001b[39;49m -> \u001b[0m\u001b[32;49m25.0.1\u001b[0m\n",
      "\u001b[1m[\u001b[0m\u001b[34;49mnotice\u001b[0m\u001b[1;39;49m]\u001b[0m\u001b[39;49m To update, run: \u001b[0m\u001b[32;49mpip install --upgrade pip\u001b[0m\n"
     ]
    }
   ],
   "source": [
    "!pip install rdkit"
   ]
  },
  {
   "cell_type": "code",
   "execution_count": 7,
   "id": "fa0de366",
   "metadata": {},
   "outputs": [],
   "source": [
    "# Escribe aquí tu solución\n",
    "import pandas as pd \n",
    "import numpy as np\n",
    "from rdkit import Chem\n",
    "\n",
    "df = pd.read_csv('EC50_Pimephales.csv', sep=';')"
   ]
  },
  {
   "cell_type": "markdown",
   "id": "ca8ba5bc",
   "metadata": {},
   "source": [
    "### 🔬 Ejercicio 1: Sanitizar SMILES\n",
    "Convierte cada SMILES en un objeto Mol con RDKit y luego vuelve a generar el SMILES a partir del objeto Mol.\n",
    "\n",
    "Elimina los compuestos incorrectos."
   ]
  },
  {
   "cell_type": "code",
   "execution_count": 13,
   "id": "0e26fb97",
   "metadata": {},
   "outputs": [],
   "source": [
    "# Escribe aquí tu solución\n",
    "# Convertir SMILES a objetos Mol y regenerar SMILES\n",
    "def sanitize_smiles(smiles):\n",
    "    try:\n",
    "        mol = Chem.MolFromSmiles(smiles)\n",
    "        if mol is not None:\n",
    "            return Chem.MolToSmiles(mol)\n",
    "    except:\n",
    "        return None\n",
    "    return None\n",
    "\n",
    "df['Sanitized_SMILES'] = df['SMILES'].apply(sanitize_smiles)\n",
    "\n",
    "# Eliminar compuestos incorrectos\n",
    "df = df[df['Sanitized_SMILES'].notnull()]\n"
   ]
  },
  {
   "cell_type": "markdown",
   "id": "541e6f2b",
   "metadata": {},
   "source": [
    "### 🧹 Ejercicio 2: Eliminar duplicados\n",
    "Elimina los SMILES repetidos del DataFrame tras la sanitización."
   ]
  },
  {
   "cell_type": "code",
   "execution_count": 14,
   "id": "ab6d4351",
   "metadata": {},
   "outputs": [
    {
     "name": "stdout",
     "output_type": "stream",
     "text": [
      "Number of unique compounds: 96\n"
     ]
    }
   ],
   "source": [
    "# Escribe aquí tu solución\n",
    "df.drop_duplicates(subset=['Sanitized_SMILES'] ).reset_index(drop=True)\n",
    "print(\"Number of unique compounds:\", len(df['Sanitized_SMILES'].unique()))"
   ]
  },
  {
   "cell_type": "markdown",
   "id": "f693363c",
   "metadata": {},
   "source": [
    "### 🧬 Ejercicio 3: Calcular descriptores moleculares\n",
    "Primero vamos a familiarizarnos con las funciones `GetAtoms()`, `GetSymbol()`, `GetAtomicNum()`, `GetNumAtoms()`, `GetRingInfo()` y `NumRings()`.\n",
    "\n",
    "Empieza buscando el SMILES del ácido acetilsalicílico y transfórmalo en un objeto `mol`"
   ]
  },
  {
   "cell_type": "code",
   "execution_count": 15,
   "id": "f884dd91",
   "metadata": {},
   "outputs": [
    {
     "name": "stdout",
     "output_type": "stream",
     "text": [
      "Número de átomos en el compuesto -->  13\n",
      "Lista de los átomos en el compuesto -->  ['C', 'C', 'O', 'O', 'C', 'C', 'C', 'C', 'C', 'C', 'C', 'O', 'O']\n",
      "Lista de los números atómicos -->  [6, 6, 8, 8, 6, 6, 6, 6, 6, 6, 6, 8, 8]\n",
      "Número de anillos en el compuesto -->  1\n"
     ]
    }
   ],
   "source": [
    "smi = \"CC(=O)OC1=CC=CC=C1C(=O)O\"\n",
    "mol = Chem.MolFromSmiles(smi)\n",
    "\n",
    "print('Número de átomos en el compuesto --> ', mol.GetNumAtoms())\n",
    "\n",
    "lista_de_atomos = [atom.GetSymbol() for atom in mol.GetAtoms()]\n",
    "print('Lista de los átomos en el compuesto --> ', lista_de_atomos)\n",
    "\n",
    "numeros_atomicos = [atom.GetAtomicNum() for atom in mol.GetAtoms()]\n",
    "print('Lista de los números atómicos --> ', numeros_atomicos)\n",
    "\n",
    "numero_anillos = mol.GetRingInfo().NumRings()\n",
    "print('Número de anillos en el compuesto --> ', numero_anillos)"
   ]
  },
  {
   "cell_type": "markdown",
   "id": "f4f1f7f9",
   "metadata": {},
   "source": [
    "Ahora define una función que calcule el número de átomos de nitrogeno en un compuesto."
   ]
  },
  {
   "cell_type": "code",
   "execution_count": 19,
   "id": "01a3e4cf",
   "metadata": {},
   "outputs": [],
   "source": [
    "# Escribe aquí tu solución\n",
    "def num_nitrogens(smi):\n",
    "    mol = Chem.MolFromSmiles(smi)\n",
    "    if mol is not None:\n",
    "        return sum(1 for atom in mol.GetAtoms() if atom.GetSymbol() == 'N')\n",
    "    return 0"
   ]
  },
  {
   "cell_type": "markdown",
   "id": "9330f596",
   "metadata": {},
   "source": [
    "Ahora una que calcule la proporción de oxígeno en un compuesto."
   ]
  },
  {
   "cell_type": "code",
   "execution_count": 16,
   "id": "c959b4d6",
   "metadata": {},
   "outputs": [],
   "source": [
    "def oxigen_proportion(smi):\n",
    "    mol = Chem.MolFromSmiles(smi)\n",
    "    if mol is not None:\n",
    "        num_oxigen = sum(1 for atom in mol.GetAtoms() if atom.GetSymbol() == 'O')\n",
    "        return num_oxigen / mol.GetNumAtoms()\n",
    "    return 0"
   ]
  },
  {
   "cell_type": "markdown",
   "id": "0e3b77c0",
   "metadata": {},
   "source": [
    "Y por último una que calcule la cantidad de anillos aromáticos en un compuesto."
   ]
  },
  {
   "cell_type": "code",
   "execution_count": 17,
   "id": "6277a7e0",
   "metadata": {},
   "outputs": [],
   "source": [
    "# Escribe aquí tu solución\n",
    "def num_aromatic_rings(smi):\n",
    "    mol = Chem.MolFromSmiles(smi)\n",
    "    if mol is not None:\n",
    "        return len(mol.GetRingInfo().BondRings())\n",
    "    return 0"
   ]
  },
  {
   "cell_type": "markdown",
   "id": "a9ab6a39",
   "metadata": {},
   "source": [
    "Aplica las funciones que has definido al ácido acetilsalicílico"
   ]
  },
  {
   "cell_type": "code",
   "execution_count": null,
   "id": "da4bc52b",
   "metadata": {},
   "outputs": [
    {
     "name": "stdout",
     "output_type": "stream",
     "text": [
      "El número de átomos de nitrógeno en el ácido acético es: 0\n",
      "La proporción de oxígeno en el ácido acético es: 0.31\n",
      "El número de anillos aromáticos en el ácido acético es: 1\n"
     ]
    }
   ],
   "source": [
    "# Escribe aquí tu solución\n",
    "smi_ac_acid = \"CC(=O)OC1=CC=CC=C1C(=O)O\"\n",
    "num_nitrogens_ac_acid = num_nitrogens(smi_ac_acid)\n",
    "oxigen_proportion_ac_acid = oxigen_proportion(smi_ac_acid)\n",
    "num_aromatic_rings_ac_acid = num_aromatic_rings(smi_ac_acid)\n",
    "\n",
    "print(f\"El número de átomos de nitrógeno en el ácido acético es: {num_nitrogens_ac_acid}\")\n",
    "print(f\"La proporción de oxígeno en el ácido acético es: {oxigen_proportion_ac_acid:.2f}\")\n",
    "print(f\"El número de anillos aromáticos en el ácido acético es: {num_aromatic_rings_ac_acid}\")\n",
    "\n",
    "# Use the functions from above and crea"
   ]
  },
  {
   "cell_type": "markdown",
   "id": "a2444ba8",
   "metadata": {},
   "source": [
    "Ahora usa las funciones con el DataFrame y crea 3 columnas nuevas, una por cada descriptor."
   ]
  },
  {
   "cell_type": "code",
   "execution_count": null,
   "id": "1b582b88",
   "metadata": {},
   "outputs": [],
   "source": [
    "# Escribe aquí tu solución\n"
   ]
  },
  {
   "cell_type": "markdown",
   "id": "d24427fa",
   "metadata": {},
   "source": [
    "### 📊 Ejercicio 4: Estadísticas y visualización\n",
    "Muestra estadísticas de los descriptores y crea histogramas."
   ]
  },
  {
   "cell_type": "code",
   "execution_count": 23,
   "id": "bbeeb465",
   "metadata": {},
   "outputs": [
    {
     "data": {
      "text/html": [
       "<div>\n",
       "<style scoped>\n",
       "    .dataframe tbody tr th:only-of-type {\n",
       "        vertical-align: middle;\n",
       "    }\n",
       "\n",
       "    .dataframe tbody tr th {\n",
       "        vertical-align: top;\n",
       "    }\n",
       "\n",
       "    .dataframe thead th {\n",
       "        text-align: right;\n",
       "    }\n",
       "</style>\n",
       "<table border=\"1\" class=\"dataframe\">\n",
       "  <thead>\n",
       "    <tr style=\"text-align: right;\">\n",
       "      <th></th>\n",
       "      <th>Conc 1 Mean (Standardized)</th>\n",
       "      <th>log_Conc</th>\n",
       "    </tr>\n",
       "  </thead>\n",
       "  <tbody>\n",
       "    <tr>\n",
       "      <th>count</th>\n",
       "      <td>590.000000</td>\n",
       "      <td>590.000000</td>\n",
       "    </tr>\n",
       "    <tr>\n",
       "      <th>mean</th>\n",
       "      <td>368.747772</td>\n",
       "      <td>0.277976</td>\n",
       "    </tr>\n",
       "    <tr>\n",
       "      <th>std</th>\n",
       "      <td>3733.425665</td>\n",
       "      <td>1.359091</td>\n",
       "    </tr>\n",
       "    <tr>\n",
       "      <th>min</th>\n",
       "      <td>0.000200</td>\n",
       "      <td>-3.698970</td>\n",
       "    </tr>\n",
       "    <tr>\n",
       "      <th>25%</th>\n",
       "      <td>0.170250</td>\n",
       "      <td>-0.768948</td>\n",
       "    </tr>\n",
       "    <tr>\n",
       "      <th>50%</th>\n",
       "      <td>1.500000</td>\n",
       "      <td>0.176091</td>\n",
       "    </tr>\n",
       "    <tr>\n",
       "      <th>75%</th>\n",
       "      <td>13.675000</td>\n",
       "      <td>1.135547</td>\n",
       "    </tr>\n",
       "    <tr>\n",
       "      <th>max</th>\n",
       "      <td>62000.000000</td>\n",
       "      <td>4.792392</td>\n",
       "    </tr>\n",
       "  </tbody>\n",
       "</table>\n",
       "</div>"
      ],
      "text/plain": [
       "       Conc 1 Mean (Standardized)    log_Conc\n",
       "count                  590.000000  590.000000\n",
       "mean                   368.747772    0.277976\n",
       "std                   3733.425665    1.359091\n",
       "min                      0.000200   -3.698970\n",
       "25%                      0.170250   -0.768948\n",
       "50%                      1.500000    0.176091\n",
       "75%                     13.675000    1.135547\n",
       "max                  62000.000000    4.792392"
      ]
     },
     "execution_count": 23,
     "metadata": {},
     "output_type": "execute_result"
    }
   ],
   "source": [
    "#show descriptors about df data\n",
    "df.describe()"
   ]
  },
  {
   "cell_type": "code",
   "execution_count": 24,
   "id": "f19ac626",
   "metadata": {},
   "outputs": [
    {
     "data": {
      "text/html": [
       "<div>\n",
       "<style scoped>\n",
       "    .dataframe tbody tr th:only-of-type {\n",
       "        vertical-align: middle;\n",
       "    }\n",
       "\n",
       "    .dataframe tbody tr th {\n",
       "        vertical-align: top;\n",
       "    }\n",
       "\n",
       "    .dataframe thead th {\n",
       "        text-align: right;\n",
       "    }\n",
       "</style>\n",
       "<table border=\"1\" class=\"dataframe\">\n",
       "  <thead>\n",
       "    <tr style=\"text-align: right;\">\n",
       "      <th></th>\n",
       "      <th>CAS Number</th>\n",
       "      <th>Chemical Name</th>\n",
       "      <th>SMILES</th>\n",
       "      <th>Species Scientific Name</th>\n",
       "      <th>Species Common Name</th>\n",
       "      <th>Species Sub Phylum</th>\n",
       "      <th>Effect</th>\n",
       "      <th>Organism Lifestage</th>\n",
       "      <th>Exposure Duration Mean (Days)</th>\n",
       "      <th>Conc 1 Mean (Standardized)</th>\n",
       "      <th>Conc 1 Mean Op (Standardized)</th>\n",
       "      <th>Conc 1 Units (Standardized)</th>\n",
       "      <th>log_Conc</th>\n",
       "      <th>Es tóxico</th>\n",
       "      <th>Sanitized_SMILES</th>\n",
       "    </tr>\n",
       "  </thead>\n",
       "  <tbody>\n",
       "    <tr>\n",
       "      <th>0</th>\n",
       "      <td>50-29-3</td>\n",
       "      <td>1,1'-(2,2,2-Trichloroethylidene)bis[4-chlorobe...</td>\n",
       "      <td>Clc1ccc(C(c2ccc(Cl)cc2)C(Cl)(Cl)Cl)cc1</td>\n",
       "      <td>Pimephales promelas</td>\n",
       "      <td>Fathead Minnow</td>\n",
       "      <td>Vertebrata</td>\n",
       "      <td>Mortality</td>\n",
       "      <td>Not reported</td>\n",
       "      <td>NR</td>\n",
       "      <td>0.0138</td>\n",
       "      <td>NaN</td>\n",
       "      <td>AI mg/L</td>\n",
       "      <td>-1.860121</td>\n",
       "      <td>Tóxico</td>\n",
       "      <td>Clc1ccc(C(c2ccc(Cl)cc2)C(Cl)(Cl)Cl)cc1</td>\n",
       "    </tr>\n",
       "    <tr>\n",
       "      <th>1</th>\n",
       "      <td>50-29-3</td>\n",
       "      <td>1,1'-(2,2,2-Trichloroethylidene)bis[4-chlorobe...</td>\n",
       "      <td>Clc1ccc(C(c2ccc(Cl)cc2)C(Cl)(Cl)Cl)cc1</td>\n",
       "      <td>Pimephales promelas</td>\n",
       "      <td>Fathead Minnow</td>\n",
       "      <td>Vertebrata</td>\n",
       "      <td>Mortality</td>\n",
       "      <td>Not reported</td>\n",
       "      <td>NR</td>\n",
       "      <td>0.0200</td>\n",
       "      <td>&gt;</td>\n",
       "      <td>AI mg/L</td>\n",
       "      <td>-1.698970</td>\n",
       "      <td>Tóxico</td>\n",
       "      <td>Clc1ccc(C(c2ccc(Cl)cc2)C(Cl)(Cl)Cl)cc1</td>\n",
       "    </tr>\n",
       "    <tr>\n",
       "      <th>2</th>\n",
       "      <td>50-29-3</td>\n",
       "      <td>1,1'-(2,2,2-Trichloroethylidene)bis[4-chlorobe...</td>\n",
       "      <td>Clc1ccc(C(c2ccc(Cl)cc2)C(Cl)(Cl)Cl)cc1</td>\n",
       "      <td>Pimephales promelas</td>\n",
       "      <td>Fathead Minnow</td>\n",
       "      <td>Vertebrata</td>\n",
       "      <td>Mortality</td>\n",
       "      <td>Not reported</td>\n",
       "      <td>NR</td>\n",
       "      <td>0.0142</td>\n",
       "      <td>NaN</td>\n",
       "      <td>AI mg/L</td>\n",
       "      <td>-1.847712</td>\n",
       "      <td>Tóxico</td>\n",
       "      <td>Clc1ccc(C(c2ccc(Cl)cc2)C(Cl)(Cl)Cl)cc1</td>\n",
       "    </tr>\n",
       "    <tr>\n",
       "      <th>3</th>\n",
       "      <td>50-29-3</td>\n",
       "      <td>1,1'-(2,2,2-Trichloroethylidene)bis[4-chlorobe...</td>\n",
       "      <td>Clc1ccc(C(c2ccc(Cl)cc2)C(Cl)(Cl)Cl)cc1</td>\n",
       "      <td>Pimephales promelas</td>\n",
       "      <td>Fathead Minnow</td>\n",
       "      <td>Vertebrata</td>\n",
       "      <td>Mortality</td>\n",
       "      <td>Not reported</td>\n",
       "      <td>NR</td>\n",
       "      <td>0.0099</td>\n",
       "      <td>NaN</td>\n",
       "      <td>AI mg/L</td>\n",
       "      <td>-2.004365</td>\n",
       "      <td>Tóxico</td>\n",
       "      <td>Clc1ccc(C(c2ccc(Cl)cc2)C(Cl)(Cl)Cl)cc1</td>\n",
       "    </tr>\n",
       "    <tr>\n",
       "      <th>4</th>\n",
       "      <td>50-29-3</td>\n",
       "      <td>1,1'-(2,2,2-Trichloroethylidene)bis[4-chlorobe...</td>\n",
       "      <td>Clc1ccc(C(c2ccc(Cl)cc2)C(Cl)(Cl)Cl)cc1</td>\n",
       "      <td>Pimephales promelas</td>\n",
       "      <td>Fathead Minnow</td>\n",
       "      <td>Vertebrata</td>\n",
       "      <td>Mortality</td>\n",
       "      <td>Not reported</td>\n",
       "      <td>NR</td>\n",
       "      <td>0.0124</td>\n",
       "      <td>NaN</td>\n",
       "      <td>AI mg/L</td>\n",
       "      <td>-1.906578</td>\n",
       "      <td>Tóxico</td>\n",
       "      <td>Clc1ccc(C(c2ccc(Cl)cc2)C(Cl)(Cl)Cl)cc1</td>\n",
       "    </tr>\n",
       "  </tbody>\n",
       "</table>\n",
       "</div>"
      ],
      "text/plain": [
       "  CAS Number                                      Chemical Name  \\\n",
       "0    50-29-3  1,1'-(2,2,2-Trichloroethylidene)bis[4-chlorobe...   \n",
       "1    50-29-3  1,1'-(2,2,2-Trichloroethylidene)bis[4-chlorobe...   \n",
       "2    50-29-3  1,1'-(2,2,2-Trichloroethylidene)bis[4-chlorobe...   \n",
       "3    50-29-3  1,1'-(2,2,2-Trichloroethylidene)bis[4-chlorobe...   \n",
       "4    50-29-3  1,1'-(2,2,2-Trichloroethylidene)bis[4-chlorobe...   \n",
       "\n",
       "                                   SMILES Species Scientific Name  \\\n",
       "0  Clc1ccc(C(c2ccc(Cl)cc2)C(Cl)(Cl)Cl)cc1     Pimephales promelas   \n",
       "1  Clc1ccc(C(c2ccc(Cl)cc2)C(Cl)(Cl)Cl)cc1     Pimephales promelas   \n",
       "2  Clc1ccc(C(c2ccc(Cl)cc2)C(Cl)(Cl)Cl)cc1     Pimephales promelas   \n",
       "3  Clc1ccc(C(c2ccc(Cl)cc2)C(Cl)(Cl)Cl)cc1     Pimephales promelas   \n",
       "4  Clc1ccc(C(c2ccc(Cl)cc2)C(Cl)(Cl)Cl)cc1     Pimephales promelas   \n",
       "\n",
       "  Species Common Name Species Sub Phylum     Effect Organism Lifestage  \\\n",
       "0      Fathead Minnow         Vertebrata  Mortality       Not reported   \n",
       "1      Fathead Minnow         Vertebrata  Mortality       Not reported   \n",
       "2      Fathead Minnow         Vertebrata  Mortality       Not reported   \n",
       "3      Fathead Minnow         Vertebrata  Mortality       Not reported   \n",
       "4      Fathead Minnow         Vertebrata  Mortality       Not reported   \n",
       "\n",
       "  Exposure Duration Mean (Days)  Conc 1 Mean (Standardized)  \\\n",
       "0                            NR                      0.0138   \n",
       "1                            NR                      0.0200   \n",
       "2                            NR                      0.0142   \n",
       "3                            NR                      0.0099   \n",
       "4                            NR                      0.0124   \n",
       "\n",
       "  Conc 1 Mean Op (Standardized) Conc 1 Units (Standardized)  log_Conc  \\\n",
       "0                           NaN                     AI mg/L -1.860121   \n",
       "1                             >                     AI mg/L -1.698970   \n",
       "2                           NaN                     AI mg/L -1.847712   \n",
       "3                           NaN                     AI mg/L -2.004365   \n",
       "4                           NaN                     AI mg/L -1.906578   \n",
       "\n",
       "  Es tóxico                        Sanitized_SMILES  \n",
       "0    Tóxico  Clc1ccc(C(c2ccc(Cl)cc2)C(Cl)(Cl)Cl)cc1  \n",
       "1    Tóxico  Clc1ccc(C(c2ccc(Cl)cc2)C(Cl)(Cl)Cl)cc1  \n",
       "2    Tóxico  Clc1ccc(C(c2ccc(Cl)cc2)C(Cl)(Cl)Cl)cc1  \n",
       "3    Tóxico  Clc1ccc(C(c2ccc(Cl)cc2)C(Cl)(Cl)Cl)cc1  \n",
       "4    Tóxico  Clc1ccc(C(c2ccc(Cl)cc2)C(Cl)(Cl)Cl)cc1  "
      ]
     },
     "execution_count": 24,
     "metadata": {},
     "output_type": "execute_result"
    }
   ],
   "source": [
    "df.head()"
   ]
  },
  {
   "cell_type": "markdown",
   "id": "5154621b",
   "metadata": {},
   "source": [
    "### 📈 Ejercicio 5: Relación con toxicidad\n",
    "Representa gráficos de dispersión entre cada descriptor y el valor logarítmico de concentración."
   ]
  },
  {
   "cell_type": "code",
   "execution_count": null,
   "id": "e95369d4",
   "metadata": {},
   "outputs": [],
   "source": [
    "# Escribe aquí tu solución"
   ]
  },
  {
   "cell_type": "markdown",
   "id": "33b4807b",
   "metadata": {},
   "source": [
    "### 💾 Ejercicio 6: Guardar dataset final\n",
    "Guarda el DataFrame con SMILES sanitizados y descriptores en un nuevo CSV."
   ]
  },
  {
   "cell_type": "code",
   "execution_count": null,
   "id": "2c704729",
   "metadata": {},
   "outputs": [],
   "source": [
    "# Escribe aquí tu solución"
   ]
  }
 ],
 "metadata": {
  "kernelspec": {
   "display_name": "bioinformatics",
   "language": "python",
   "name": "python3"
  },
  "language_info": {
   "codemirror_mode": {
    "name": "ipython",
    "version": 3
   },
   "file_extension": ".py",
   "mimetype": "text/x-python",
   "name": "python",
   "nbconvert_exporter": "python",
   "pygments_lexer": "ipython3",
   "version": "3.13.1"
  }
 },
 "nbformat": 4,
 "nbformat_minor": 5
}
