{
 "cells": [
  {
   "cell_type": "markdown",
   "id": "e6122a73",
   "metadata": {},
   "source": [
    "# Ejercicios con RDKit y análisis de toxicidad - EC50 Pimephales\n",
    "\n",
    "En este notebook trabajaremos con el conjunto de datos generado anteriormente, el cual contiene estructuras químicas (SMILES) y valores de toxicidad frente a *Pimephales promelas* (Fathead Minnow). Usaremos la librería RDKit para procesar las moléculas y obtener descriptores químicos.\n",
    "\n",
    "**Objetivos:**\n",
    "- Aprender a sanitizar y preparar estructuras SMILES\n",
    "- Eliminar duplicados químicos\n",
    "- Calcular descriptores moleculares usando RDKit\n",
    "- Explorar relaciones entre descriptores y toxicidad\n",
    "\n",
    "Importa las librerías necesarias y carga el archivo `'EC50_Pimephales.csv'`. Visualiza las primeras filas para asegurarte que el DataFrame es correcto."
   ]
  },
  {
   "cell_type": "code",
   "execution_count": null,
   "id": "fa0de366",
   "metadata": {},
   "outputs": [],
   "source": [
    "# Escribe aquí tu solución"
   ]
  },
  {
   "cell_type": "markdown",
   "id": "ca8ba5bc",
   "metadata": {},
   "source": [
    "### 🔬 Ejercicio 1: Sanitizar SMILES\n",
    "Convierte cada SMILES en un objeto Mol con RDKit y luego vuelve a generar el SMILES a partir del objeto Mol.\n",
    "\n",
    "Elimina los compuestos incorrectos."
   ]
  },
  {
   "cell_type": "code",
   "execution_count": null,
   "id": "0e26fb97",
   "metadata": {},
   "outputs": [],
   "source": [
    "# Escribe aquí tu solución"
   ]
  },
  {
   "cell_type": "markdown",
   "id": "541e6f2b",
   "metadata": {},
   "source": [
    "### 🧹 Ejercicio 2: Eliminar duplicados\n",
    "Elimina los SMILES repetidos del DataFrame tras la sanitización."
   ]
  },
  {
   "cell_type": "code",
   "execution_count": null,
   "id": "ab6d4351",
   "metadata": {},
   "outputs": [],
   "source": [
    "# Escribe aquí tu solución"
   ]
  },
  {
   "cell_type": "markdown",
   "id": "f693363c",
   "metadata": {},
   "source": [
    "### 🧬 Ejercicio 3: Calcular descriptores moleculares\n",
    "Primero vamos a familiarizarnos con las funciones `GetAtoms()`, `GetSymbol()`, `GetAtomicNum()`, `GetNumAtoms()`, `GetRingInfo()` y `NumRings()`.\n",
    "\n",
    "Empieza buscando el SMILES del ácido acetilsalicílico y transfórmalo en un objeto `mol`"
   ]
  },
  {
   "cell_type": "code",
   "execution_count": null,
   "id": "f884dd91",
   "metadata": {},
   "outputs": [],
   "source": [
    "smi = _________\n",
    "mol = _________\n",
    "\n",
    "print('Número de átomos en el compuesto --> ', mol.GetNumAtoms())\n",
    "\n",
    "lista_de_atomos = [atom.GetSymbol() for atom in mol.GetAtoms()]\n",
    "print('Lista de los átomos en el compuesto --> ', lista_de_atomos)\n",
    "\n",
    "numeros_atomicos = [atom.GetAtomicNum() for atom in mol.GetAtoms()]\n",
    "print('Lista de los números atómicos --> ', numeros_atomicos)\n",
    "\n",
    "numero_anillos = mol.GetRingInfo().NumRings()\n",
    "print('Número de anillos en el compuesto --> ', numero_anillos)"
   ]
  },
  {
   "cell_type": "markdown",
   "id": "f4f1f7f9",
   "metadata": {},
   "source": [
    "Ahora define una función que calcule el número de átomos de nitrogeno en un compuesto."
   ]
  },
  {
   "cell_type": "code",
   "execution_count": null,
   "id": "01a3e4cf",
   "metadata": {},
   "outputs": [],
   "source": [
    "# Escribe aquí tu solución"
   ]
  },
  {
   "cell_type": "markdown",
   "id": "9330f596",
   "metadata": {},
   "source": [
    "Ahora una que calcule la proporción de oxígeno en un compuesto."
   ]
  },
  {
   "cell_type": "code",
   "execution_count": null,
   "id": "c959b4d6",
   "metadata": {},
   "outputs": [],
   "source": [
    "# Escribe aquí tu solución"
   ]
  },
  {
   "cell_type": "markdown",
   "id": "0e3b77c0",
   "metadata": {},
   "source": [
    "Y por último una que calcule la cantidad de anillos aromáticos en un compuesto."
   ]
  },
  {
   "cell_type": "code",
   "execution_count": null,
   "id": "6277a7e0",
   "metadata": {},
   "outputs": [],
   "source": [
    "# Escribe aquí tu solución"
   ]
  },
  {
   "cell_type": "markdown",
   "id": "a9ab6a39",
   "metadata": {},
   "source": [
    "Aplica las funciones que has definido al ácido acetilsalicílico"
   ]
  },
  {
   "cell_type": "code",
   "execution_count": null,
   "id": "da4bc52b",
   "metadata": {},
   "outputs": [],
   "source": [
    "# Escribe aquí tu solución"
   ]
  },
  {
   "cell_type": "markdown",
   "id": "a2444ba8",
   "metadata": {},
   "source": [
    "Ahora usa las funciones con el DataFrame y crea 3 columnas nuevas, una por cada descriptor."
   ]
  },
  {
   "cell_type": "code",
   "execution_count": null,
   "id": "1b582b88",
   "metadata": {},
   "outputs": [],
   "source": [
    "# Escribe aquí tu solución"
   ]
  },
  {
   "cell_type": "markdown",
   "id": "d24427fa",
   "metadata": {},
   "source": [
    "### 📊 Ejercicio 4: Estadísticas y visualización\n",
    "Muestra estadísticas de los descriptores y crea histogramas."
   ]
  },
  {
   "cell_type": "code",
   "execution_count": null,
   "id": "bbeeb465",
   "metadata": {},
   "outputs": [],
   "source": [
    "# Escribe aquí tu solución"
   ]
  },
  {
   "cell_type": "markdown",
   "id": "5154621b",
   "metadata": {},
   "source": [
    "### 📈 Ejercicio 5: Relación con toxicidad\n",
    "Representa gráficos de dispersión entre cada descriptor y el valor logarítmico de concentración."
   ]
  },
  {
   "cell_type": "code",
   "execution_count": null,
   "id": "e95369d4",
   "metadata": {},
   "outputs": [],
   "source": [
    "# Escribe aquí tu solución"
   ]
  },
  {
   "cell_type": "markdown",
   "id": "33b4807b",
   "metadata": {},
   "source": [
    "### 💾 Ejercicio 6: Guardar dataset final\n",
    "Guarda el DataFrame con SMILES sanitizados y descriptores en un nuevo CSV."
   ]
  },
  {
   "cell_type": "code",
   "execution_count": null,
   "id": "2c704729",
   "metadata": {},
   "outputs": [],
   "source": [
    "# Escribe aquí tu solución"
   ]
  }
 ],
 "metadata": {
  "kernelspec": {
   "display_name": "Protocosas",
   "language": "python",
   "name": "python3"
  },
  "language_info": {
   "codemirror_mode": {
    "name": "ipython",
    "version": 3
   },
   "file_extension": ".py",
   "mimetype": "text/x-python",
   "name": "python",
   "nbconvert_exporter": "python",
   "pygments_lexer": "ipython3",
   "version": "3.9.4"
  }
 },
 "nbformat": 4,
 "nbformat_minor": 5
}
