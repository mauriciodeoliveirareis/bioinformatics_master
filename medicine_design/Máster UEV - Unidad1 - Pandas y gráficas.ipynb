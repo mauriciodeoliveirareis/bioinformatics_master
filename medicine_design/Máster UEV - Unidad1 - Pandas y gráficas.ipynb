{
 "cells": [
  {
   "cell_type": "markdown",
   "id": "86061f7b",
   "metadata": {},
   "source": [
    "# Ejercicios con Pandas y Visualización de Datos - Toxicidad Acuática\n",
    "\n",
    "En este notebook trabajaremos con un conjunto de datos relacionado con la toxicidad acuática de compuestos químicos.\n",
    "Utilizaremos **pandas** para manipular los datos y **matplotlib** para representar gráficamente la información.\n",
    "\n",
    "🔧 Asegúrate de tener los paquetes `pandas` y `matplotlib` instalados antes de ejecutar el notebook.\n",
    "\n",
    "Importa las librerías necesarias y carga el archivo `'Dataset_EC50_Pandas.csv'`. Visualiza las primeras filas para asegurarte que el DataFrame es correcto.\n"
   ]
  },
  {
   "cell_type": "code",
   "execution_count": 2,
   "id": "c6fca142",
   "metadata": {},
   "outputs": [
    {
     "data": {
      "text/html": [
       "<div>\n",
       "<style scoped>\n",
       "    .dataframe tbody tr th:only-of-type {\n",
       "        vertical-align: middle;\n",
       "    }\n",
       "\n",
       "    .dataframe tbody tr th {\n",
       "        vertical-align: top;\n",
       "    }\n",
       "\n",
       "    .dataframe thead th {\n",
       "        text-align: right;\n",
       "    }\n",
       "</style>\n",
       "<table border=\"1\" class=\"dataframe\">\n",
       "  <thead>\n",
       "    <tr style=\"text-align: right;\">\n",
       "      <th></th>\n",
       "      <th>CAS Number</th>\n",
       "      <th>Chemical Name</th>\n",
       "      <th>SMILES</th>\n",
       "      <th>Species Scientific Name</th>\n",
       "      <th>Species Common Name</th>\n",
       "      <th>Species Sub Phylum</th>\n",
       "      <th>Effect</th>\n",
       "      <th>Organism Lifestage</th>\n",
       "      <th>Exposure Duration Mean (Days)</th>\n",
       "      <th>Conc 1 Mean (Standardized)</th>\n",
       "      <th>Conc 1 Mean Op (Standardized)</th>\n",
       "      <th>Conc 1 Units (Standardized)</th>\n",
       "    </tr>\n",
       "  </thead>\n",
       "  <tbody>\n",
       "    <tr>\n",
       "      <th>0</th>\n",
       "      <td>50-29-3</td>\n",
       "      <td>1,1'-(2,2,2-Trichloroethylidene)bis[4-chlorobe...</td>\n",
       "      <td>Clc1ccc(C(c2ccc(Cl)cc2)C(Cl)(Cl)Cl)cc1</td>\n",
       "      <td>Osteichthyes</td>\n",
       "      <td>Bony Fishes</td>\n",
       "      <td>Vertebrata</td>\n",
       "      <td>Mortality</td>\n",
       "      <td>Juvenile</td>\n",
       "      <td>NR</td>\n",
       "      <td>0.028</td>\n",
       "      <td>NaN</td>\n",
       "      <td>AI mg/L</td>\n",
       "    </tr>\n",
       "    <tr>\n",
       "      <th>1</th>\n",
       "      <td>50-29-3</td>\n",
       "      <td>1,1'-(2,2,2-Trichloroethylidene)bis[4-chlorobe...</td>\n",
       "      <td>Clc1ccc(C(c2ccc(Cl)cc2)C(Cl)(Cl)Cl)cc1</td>\n",
       "      <td>Mugil cephalus</td>\n",
       "      <td>Striped Mullet</td>\n",
       "      <td>Vertebrata</td>\n",
       "      <td>Mortality</td>\n",
       "      <td>Not reported</td>\n",
       "      <td>NR</td>\n",
       "      <td>0.0004</td>\n",
       "      <td>NaN</td>\n",
       "      <td>AI mg/L</td>\n",
       "    </tr>\n",
       "    <tr>\n",
       "      <th>2</th>\n",
       "      <td>50-29-3</td>\n",
       "      <td>1,1'-(2,2,2-Trichloroethylidene)bis[4-chlorobe...</td>\n",
       "      <td>Clc1ccc(C(c2ccc(Cl)cc2)C(Cl)(Cl)Cl)cc1</td>\n",
       "      <td>Mugil cephalus</td>\n",
       "      <td>Striped Mullet</td>\n",
       "      <td>Vertebrata</td>\n",
       "      <td>Mortality</td>\n",
       "      <td>Not reported</td>\n",
       "      <td>NR</td>\n",
       "      <td>0.0008</td>\n",
       "      <td>NaN</td>\n",
       "      <td>AI mg/L</td>\n",
       "    </tr>\n",
       "    <tr>\n",
       "      <th>3</th>\n",
       "      <td>50-29-3</td>\n",
       "      <td>1,1'-(2,2,2-Trichloroethylidene)bis[4-chlorobe...</td>\n",
       "      <td>Clc1ccc(C(c2ccc(Cl)cc2)C(Cl)(Cl)Cl)cc1</td>\n",
       "      <td>Mugil cephalus</td>\n",
       "      <td>Striped Mullet</td>\n",
       "      <td>Vertebrata</td>\n",
       "      <td>Mortality</td>\n",
       "      <td>Not reported</td>\n",
       "      <td>NR</td>\n",
       "      <td>0.0055</td>\n",
       "      <td>NaN</td>\n",
       "      <td>AI mg/L</td>\n",
       "    </tr>\n",
       "    <tr>\n",
       "      <th>4</th>\n",
       "      <td>50-29-3</td>\n",
       "      <td>1,1'-(2,2,2-Trichloroethylidene)bis[4-chlorobe...</td>\n",
       "      <td>Clc1ccc(C(c2ccc(Cl)cc2)C(Cl)(Cl)Cl)cc1</td>\n",
       "      <td>Mugil cephalus</td>\n",
       "      <td>Striped Mullet</td>\n",
       "      <td>Vertebrata</td>\n",
       "      <td>Mortality</td>\n",
       "      <td>Not reported</td>\n",
       "      <td>NR</td>\n",
       "      <td>0.0004</td>\n",
       "      <td>NaN</td>\n",
       "      <td>AI mg/L</td>\n",
       "    </tr>\n",
       "  </tbody>\n",
       "</table>\n",
       "</div>"
      ],
      "text/plain": [
       "  CAS Number                                      Chemical Name  \\\n",
       "0    50-29-3  1,1'-(2,2,2-Trichloroethylidene)bis[4-chlorobe...   \n",
       "1    50-29-3  1,1'-(2,2,2-Trichloroethylidene)bis[4-chlorobe...   \n",
       "2    50-29-3  1,1'-(2,2,2-Trichloroethylidene)bis[4-chlorobe...   \n",
       "3    50-29-3  1,1'-(2,2,2-Trichloroethylidene)bis[4-chlorobe...   \n",
       "4    50-29-3  1,1'-(2,2,2-Trichloroethylidene)bis[4-chlorobe...   \n",
       "\n",
       "                                   SMILES Species Scientific Name  \\\n",
       "0  Clc1ccc(C(c2ccc(Cl)cc2)C(Cl)(Cl)Cl)cc1            Osteichthyes   \n",
       "1  Clc1ccc(C(c2ccc(Cl)cc2)C(Cl)(Cl)Cl)cc1          Mugil cephalus   \n",
       "2  Clc1ccc(C(c2ccc(Cl)cc2)C(Cl)(Cl)Cl)cc1          Mugil cephalus   \n",
       "3  Clc1ccc(C(c2ccc(Cl)cc2)C(Cl)(Cl)Cl)cc1          Mugil cephalus   \n",
       "4  Clc1ccc(C(c2ccc(Cl)cc2)C(Cl)(Cl)Cl)cc1          Mugil cephalus   \n",
       "\n",
       "  Species Common Name Species Sub Phylum     Effect Organism Lifestage  \\\n",
       "0         Bony Fishes         Vertebrata  Mortality           Juvenile   \n",
       "1      Striped Mullet         Vertebrata  Mortality       Not reported   \n",
       "2      Striped Mullet         Vertebrata  Mortality       Not reported   \n",
       "3      Striped Mullet         Vertebrata  Mortality       Not reported   \n",
       "4      Striped Mullet         Vertebrata  Mortality       Not reported   \n",
       "\n",
       "  Exposure Duration Mean (Days) Conc 1 Mean (Standardized)  \\\n",
       "0                            NR                      0.028   \n",
       "1                            NR                     0.0004   \n",
       "2                            NR                     0.0008   \n",
       "3                            NR                     0.0055   \n",
       "4                            NR                     0.0004   \n",
       "\n",
       "  Conc 1 Mean Op (Standardized) Conc 1 Units (Standardized)  \n",
       "0                           NaN                     AI mg/L  \n",
       "1                           NaN                     AI mg/L  \n",
       "2                           NaN                     AI mg/L  \n",
       "3                           NaN                     AI mg/L  \n",
       "4                           NaN                     AI mg/L  "
      ]
     },
     "execution_count": 2,
     "metadata": {},
     "output_type": "execute_result"
    }
   ],
   "source": [
    "import pandas as pd\n",
    "\n",
    "# Cargar el archivo CSV con el delimitador correcto\n",
    "df = pd.read_csv('Dataset_EC50_Pandas.csv', sep=';')\n",
    "\n",
    "# Visualizar las primeras filas del DataFrame\n",
    "df.head()"
   ]
  },
  {
   "cell_type": "markdown",
   "id": "9fa4d130",
   "metadata": {},
   "source": [
    "# Ejercicios con Pandas y Visualización de Datos - Toxicidad Acuática"
   ]
  },
  {
   "cell_type": "markdown",
   "id": "9bd6a0b7",
   "metadata": {},
   "source": [
    "### Ejercicio 1: Exploración básica\n",
    "Muestra cuántas filas y columnas tiene el DataFrame, y qué nombres tienen las columnas."
   ]
  },
  {
   "cell_type": "code",
   "execution_count": 3,
   "id": "5e889383",
   "metadata": {},
   "outputs": [
    {
     "name": "stdout",
     "output_type": "stream",
     "text": [
      "El DataFrame tiene 4227 filas y 12 columnas.\n",
      "Los nombres de las columnas son:\n",
      "['CAS Number', 'Chemical Name', 'SMILES', 'Species Scientific Name', 'Species Common Name', 'Species Sub Phylum', 'Effect', 'Organism Lifestage', 'Exposure Duration Mean (Days)', 'Conc 1 Mean (Standardized)', 'Conc 1 Mean Op (Standardized)', 'Conc 1 Units (Standardized)']\n"
     ]
    }
   ],
   "source": [
    "# Mostrar el número de filas y columnas\n",
    "print(f\"El DataFrame tiene {df.shape[0]} filas y {df.shape[1]} columnas.\")\n",
    "\n",
    "# Mostrar los nombres de las columnas\n",
    "print(\"Los nombres de las columnas son:\")\n",
    "print(df.columns.tolist())"
   ]
  },
  {
   "cell_type": "markdown",
   "id": "7d0582b5",
   "metadata": {},
   "source": [
    "### Ejercicio 2: Detección de valores nulos\n",
    "Cuenta cuántos valores faltantes hay en la columna \"Conc 1 Mean (Standardized)\"."
   ]
  },
  {
   "cell_type": "code",
   "execution_count": 4,
   "id": "4e73edb5",
   "metadata": {},
   "outputs": [
    {
     "name": "stdout",
     "output_type": "stream",
     "text": [
      "Hay 0 valores faltantes en la columna 'Conc 1 Mean (Standardized)'.\n"
     ]
    }
   ],
   "source": [
    "# Contar valores nulos en la columna \"Conc 1 Mean (Standardized)\"\n",
    "valores_nulos = df['Conc 1 Mean (Standardized)'].isnull().sum()\n",
    "print(f\"Hay {valores_nulos} valores faltantes en la columna 'Conc 1 Mean (Standardized)'.\")"
   ]
  },
  {
   "cell_type": "markdown",
   "id": "fa6760d6",
   "metadata": {},
   "source": [
    "### Ejercicio 3: Valores únicos\n",
    "Muestra todos los efectos diferentes registrados en la base de datos."
   ]
  },
  {
   "cell_type": "code",
   "execution_count": 5,
   "id": "41790560",
   "metadata": {},
   "outputs": [
    {
     "name": "stdout",
     "output_type": "stream",
     "text": [
      "Efectos diferentes registrados en la base de datos:\n",
      "['Mortality']\n"
     ]
    }
   ],
   "source": [
    "# Mostrar todos los efectos diferentes registrados en la base de datos\n",
    "efectos_unicos = df['Effect'].unique()\n",
    "print(\"Efectos diferentes registrados en la base de datos:\")\n",
    "print(efectos_unicos)"
   ]
  },
  {
   "cell_type": "markdown",
   "id": "94ea4f23",
   "metadata": {},
   "source": [
    "### Ejercicio 4: Especies más frecuentes\n",
    "Muestra las 5 especies científicas más comunes en el dataset."
   ]
  },
  {
   "cell_type": "code",
   "execution_count": 6,
   "id": "3cb21ea5",
   "metadata": {},
   "outputs": [
    {
     "name": "stdout",
     "output_type": "stream",
     "text": [
      "Las 5 especies científicas más comunes son:\n",
      "Species Scientific Name\n",
      "Pimephales promelas    658\n",
      "Lepomis macrochirus    568\n",
      "Oncorhynchus mykiss    493\n",
      "Danio rerio            426\n",
      "Ictalurus punctatus    184\n",
      "Name: count, dtype: int64\n"
     ]
    }
   ],
   "source": [
    "# Mostrar las 5 especies científicas más comunes\n",
    "especies_comunes = df['Species Scientific Name'].value_counts().head(5)\n",
    "print(\"Las 5 especies científicas más comunes son:\")\n",
    "print(especies_comunes)"
   ]
  },
  {
   "cell_type": "markdown",
   "id": "1ad2435c",
   "metadata": {},
   "source": [
    "### Ejercicio 5: Estadísticas descriptivas\n",
    "Convierte la columna de concentración a formato numérico y muestra estadísticas básicas."
   ]
  },
  {
   "cell_type": "code",
   "execution_count": 7,
   "id": "88fda3f7",
   "metadata": {},
   "outputs": [
    {
     "name": "stdout",
     "output_type": "stream",
     "text": [
      "Estadísticas descriptivas de la columna 'Conc 1 Mean (Standardized)':\n",
      "count    4.118000e+03\n",
      "mean     1.778908e+02\n",
      "std      1.792027e+03\n",
      "min      2.000000e-07\n",
      "25%      8.489183e-02\n",
      "50%      6.800000e-01\n",
      "75%      1.023000e+01\n",
      "max      6.200000e+04\n",
      "Name: Conc 1 Mean (Standardized), dtype: float64\n"
     ]
    }
   ],
   "source": [
    "# Convertir la columna \"Conc 1 Mean (Standardized)\" a formato numérico\n",
    "df['Conc 1 Mean (Standardized)'] = pd.to_numeric(df['Conc 1 Mean (Standardized)'], errors='coerce')\n",
    "\n",
    "# Mostrar estadísticas descriptivas básicas\n",
    "estadisticas = df['Conc 1 Mean (Standardized)'].describe()\n",
    "print(\"Estadísticas descriptivas de la columna 'Conc 1 Mean (Standardized)':\")\n",
    "print(estadisticas)"
   ]
  },
  {
   "cell_type": "markdown",
   "id": "6f0e1b3c",
   "metadata": {},
   "source": [
    "### Ejercicio 6: Filtrado de datos\n",
    "Filtra las filas donde el efecto es \"Mortality\" y la concentración es superior a 1."
   ]
  },
  {
   "cell_type": "code",
   "execution_count": 8,
   "id": "0679c094",
   "metadata": {},
   "outputs": [
    {
     "name": "stdout",
     "output_type": "stream",
     "text": [
      "   CAS Number                                      Chemical Name  \\\n",
      "13    50-29-3  1,1'-(2,2,2-Trichloroethylidene)bis[4-chlorobe...   \n",
      "22    50-29-3  1,1'-(2,2,2-Trichloroethylidene)bis[4-chlorobe...   \n",
      "27    50-29-3  1,1'-(2,2,2-Trichloroethylidene)bis[4-chlorobe...   \n",
      "49    50-29-3  1,1'-(2,2,2-Trichloroethylidene)bis[4-chlorobe...   \n",
      "51    50-29-3  1,1'-(2,2,2-Trichloroethylidene)bis[4-chlorobe...   \n",
      "\n",
      "                                    SMILES Species Scientific Name  \\\n",
      "13  Clc1ccc(C(c2ccc(Cl)cc2)C(Cl)(Cl)Cl)cc1        Gambusia affinis   \n",
      "22  Clc1ccc(C(c2ccc(Cl)cc2)C(Cl)(Cl)Cl)cc1        Gambusia affinis   \n",
      "27  Clc1ccc(C(c2ccc(Cl)cc2)C(Cl)(Cl)Cl)cc1    Rasbora heteromorpha   \n",
      "49  Clc1ccc(C(c2ccc(Cl)cc2)C(Cl)(Cl)Cl)cc1    Rasbora heteromorpha   \n",
      "51  Clc1ccc(C(c2ccc(Cl)cc2)C(Cl)(Cl)Cl)cc1    Rasbora heteromorpha   \n",
      "\n",
      "           Species Common Name Species Sub Phylum     Effect  \\\n",
      "13        Western Mosquitofish         Vertebrata  Mortality   \n",
      "22        Western Mosquitofish         Vertebrata  Mortality   \n",
      "27  Harlequinfish, Red Rasbora         Vertebrata  Mortality   \n",
      "49  Harlequinfish, Red Rasbora         Vertebrata  Mortality   \n",
      "51  Harlequinfish, Red Rasbora         Vertebrata  Mortality   \n",
      "\n",
      "   Organism Lifestage Exposure Duration Mean (Days)  \\\n",
      "13       Not reported                            NR   \n",
      "22       Not reported                            NR   \n",
      "27       Not reported                            NR   \n",
      "49       Not reported                            NR   \n",
      "51       Not reported                            NR   \n",
      "\n",
      "    Conc 1 Mean (Standardized) Conc 1 Mean Op (Standardized)  \\\n",
      "13                        1.40                           NaN   \n",
      "22                        8.51                           NaN   \n",
      "27                       14.20                           NaN   \n",
      "49                        8.00                           NaN   \n",
      "51                       10.70                           NaN   \n",
      "\n",
      "   Conc 1 Units (Standardized)  \n",
      "13                     AI mg/L  \n",
      "22                     AI mg/L  \n",
      "27                     AI mg/L  \n",
      "49                     AI mg/L  \n",
      "51                     AI mg/L  \n"
     ]
    }
   ],
   "source": [
    "# Filtrar las filas donde el efecto es \"Mortality\" y la concentración es superior a 1\n",
    "filtro_mortalidad = df[(df['Effect'] == 'Mortality') & (df['Conc 1 Mean (Standardized)'] > 1)]\n",
    "\n",
    "# Mostrar las primeras filas del resultado filtrado\n",
    "print(filtro_mortalidad.head())"
   ]
  },
  {
   "cell_type": "markdown",
   "id": "aeeb16dd",
   "metadata": {},
   "source": [
    "### Ejercicio 7: Agrupación por especie\n",
    "Calcula la concentración media por especie (nombre común) y ordénalas de mayor a menor."
   ]
  },
  {
   "cell_type": "code",
   "execution_count": 9,
   "id": "5bb3c850",
   "metadata": {},
   "outputs": [
    {
     "name": "stdout",
     "output_type": "stream",
     "text": [
      "Concentración media por especie (nombre común), ordenadas de mayor a menor:\n",
      "Species Common Name\n",
      "Bleak             5000.040000\n",
      "Indian Catfish    2170.432444\n",
      "Mummichog         1338.880803\n",
      "Sunbleak           946.707143\n",
      "Common Carp        836.277254\n",
      "Name: Conc 1 Mean (Standardized), dtype: float64\n"
     ]
    }
   ],
   "source": [
    "# Calcular la concentración media por especie (nombre común) y ordenarlas de mayor a menor\n",
    "concentracion_media_especie = df.groupby('Species Common Name')['Conc 1 Mean (Standardized)'].mean().sort_values(ascending=False)\n",
    "\n",
    "# Mostrar las primeras filas del resultado\n",
    "print(\"Concentración media por especie (nombre común), ordenadas de mayor a menor:\")\n",
    "print(concentracion_media_especie.head())"
   ]
  },
  {
   "cell_type": "markdown",
   "id": "ee390720",
   "metadata": {},
   "source": [
    "### Ejercicio 8: Gráfico de barras\n",
    "Representa en un gráfico las 10 especies con mayor concentración media."
   ]
  },
  {
   "cell_type": "code",
   "execution_count": 9,
   "id": "b95083a4",
   "metadata": {},
   "outputs": [
    {
     "name": "stdout",
     "output_type": "stream",
     "text": [
      "Requirement already satisfied: nbformat in /Users/mauriciodeoliveirareis/.pyenv/versions/3.13.1/envs/bioinformatics/lib/python3.13/site-packages (5.10.4)\n",
      "Requirement already satisfied: fastjsonschema>=2.15 in /Users/mauriciodeoliveirareis/.pyenv/versions/3.13.1/envs/bioinformatics/lib/python3.13/site-packages (from nbformat) (2.21.1)\n",
      "Requirement already satisfied: jsonschema>=2.6 in /Users/mauriciodeoliveirareis/.pyenv/versions/3.13.1/envs/bioinformatics/lib/python3.13/site-packages (from nbformat) (4.23.0)\n",
      "Requirement already satisfied: jupyter-core!=5.0.*,>=4.12 in /Users/mauriciodeoliveirareis/.pyenv/versions/3.13.1/envs/bioinformatics/lib/python3.13/site-packages (from nbformat) (5.7.2)\n",
      "Requirement already satisfied: traitlets>=5.1 in /Users/mauriciodeoliveirareis/.pyenv/versions/3.13.1/envs/bioinformatics/lib/python3.13/site-packages (from nbformat) (5.14.3)\n",
      "Requirement already satisfied: attrs>=22.2.0 in /Users/mauriciodeoliveirareis/.pyenv/versions/3.13.1/envs/bioinformatics/lib/python3.13/site-packages (from jsonschema>=2.6->nbformat) (25.3.0)\n",
      "Requirement already satisfied: jsonschema-specifications>=2023.03.6 in /Users/mauriciodeoliveirareis/.pyenv/versions/3.13.1/envs/bioinformatics/lib/python3.13/site-packages (from jsonschema>=2.6->nbformat) (2024.10.1)\n",
      "Requirement already satisfied: referencing>=0.28.4 in /Users/mauriciodeoliveirareis/.pyenv/versions/3.13.1/envs/bioinformatics/lib/python3.13/site-packages (from jsonschema>=2.6->nbformat) (0.36.2)\n",
      "Requirement already satisfied: rpds-py>=0.7.1 in /Users/mauriciodeoliveirareis/.pyenv/versions/3.13.1/envs/bioinformatics/lib/python3.13/site-packages (from jsonschema>=2.6->nbformat) (0.24.0)\n",
      "Requirement already satisfied: platformdirs>=2.5 in /Users/mauriciodeoliveirareis/.pyenv/versions/3.13.1/envs/bioinformatics/lib/python3.13/site-packages (from jupyter-core!=5.0.*,>=4.12->nbformat) (4.3.7)\n",
      "\n",
      "\u001b[1m[\u001b[0m\u001b[34;49mnotice\u001b[0m\u001b[1;39;49m]\u001b[0m\u001b[39;49m A new release of pip is available: \u001b[0m\u001b[31;49m24.3.1\u001b[0m\u001b[39;49m -> \u001b[0m\u001b[32;49m25.0.1\u001b[0m\n",
      "\u001b[1m[\u001b[0m\u001b[34;49mnotice\u001b[0m\u001b[1;39;49m]\u001b[0m\u001b[39;49m To update, run: \u001b[0m\u001b[32;49mpip install --upgrade pip\u001b[0m\n"
     ]
    }
   ],
   "source": [
    "!pip install --upgrade nbformat"
   ]
  },
  {
   "cell_type": "code",
   "execution_count": 10,
   "id": "a4204970",
   "metadata": {},
   "outputs": [
    {
     "data": {
      "application/vnd.plotly.v1+json": {
       "config": {
        "plotlyServerURL": "https://plot.ly"
       },
       "data": [
        {
         "hovertemplate": "Species Common Name=%{x}<br>Concentración Media (Standardized)=%{y}<extra></extra>",
         "legendgroup": "",
         "marker": {
          "color": "#636efa",
          "pattern": {
           "shape": ""
          }
         },
         "name": "",
         "orientation": "v",
         "showlegend": false,
         "textposition": "auto",
         "type": "bar",
         "x": [
          "Bleak",
          "Indian Catfish",
          "Mummichog",
          "Sunbleak",
          "Common Carp",
          "Striped Bass",
          "Zebra Danio",
          "Fathead Minnow",
          "Goldfish",
          "Motsuga, Stone Moroko"
         ],
         "xaxis": "x",
         "y": {
          "bdata": "16NwPQqIs0B0tFtp3fSgQHCAMfGF65RAOqiDOqiVjUDrkdPQNyKKQOuAKNnM5IJAPLeiCx6dd0BzTNqTuEx2QHHZmH+gaXVAXI/C9SgMa0A=",
          "dtype": "f8"
         },
         "yaxis": "y"
        }
       ],
       "layout": {
        "barmode": "relative",
        "legend": {
         "tracegroupgap": 0
        },
        "template": {
         "data": {
          "bar": [
           {
            "error_x": {
             "color": "#2a3f5f"
            },
            "error_y": {
             "color": "#2a3f5f"
            },
            "marker": {
             "line": {
              "color": "#E5ECF6",
              "width": 0.5
             },
             "pattern": {
              "fillmode": "overlay",
              "size": 10,
              "solidity": 0.2
             }
            },
            "type": "bar"
           }
          ],
          "barpolar": [
           {
            "marker": {
             "line": {
              "color": "#E5ECF6",
              "width": 0.5
             },
             "pattern": {
              "fillmode": "overlay",
              "size": 10,
              "solidity": 0.2
             }
            },
            "type": "barpolar"
           }
          ],
          "carpet": [
           {
            "aaxis": {
             "endlinecolor": "#2a3f5f",
             "gridcolor": "white",
             "linecolor": "white",
             "minorgridcolor": "white",
             "startlinecolor": "#2a3f5f"
            },
            "baxis": {
             "endlinecolor": "#2a3f5f",
             "gridcolor": "white",
             "linecolor": "white",
             "minorgridcolor": "white",
             "startlinecolor": "#2a3f5f"
            },
            "type": "carpet"
           }
          ],
          "choropleth": [
           {
            "colorbar": {
             "outlinewidth": 0,
             "ticks": ""
            },
            "type": "choropleth"
           }
          ],
          "contour": [
           {
            "colorbar": {
             "outlinewidth": 0,
             "ticks": ""
            },
            "colorscale": [
             [
              0,
              "#0d0887"
             ],
             [
              0.1111111111111111,
              "#46039f"
             ],
             [
              0.2222222222222222,
              "#7201a8"
             ],
             [
              0.3333333333333333,
              "#9c179e"
             ],
             [
              0.4444444444444444,
              "#bd3786"
             ],
             [
              0.5555555555555556,
              "#d8576b"
             ],
             [
              0.6666666666666666,
              "#ed7953"
             ],
             [
              0.7777777777777778,
              "#fb9f3a"
             ],
             [
              0.8888888888888888,
              "#fdca26"
             ],
             [
              1,
              "#f0f921"
             ]
            ],
            "type": "contour"
           }
          ],
          "contourcarpet": [
           {
            "colorbar": {
             "outlinewidth": 0,
             "ticks": ""
            },
            "type": "contourcarpet"
           }
          ],
          "heatmap": [
           {
            "colorbar": {
             "outlinewidth": 0,
             "ticks": ""
            },
            "colorscale": [
             [
              0,
              "#0d0887"
             ],
             [
              0.1111111111111111,
              "#46039f"
             ],
             [
              0.2222222222222222,
              "#7201a8"
             ],
             [
              0.3333333333333333,
              "#9c179e"
             ],
             [
              0.4444444444444444,
              "#bd3786"
             ],
             [
              0.5555555555555556,
              "#d8576b"
             ],
             [
              0.6666666666666666,
              "#ed7953"
             ],
             [
              0.7777777777777778,
              "#fb9f3a"
             ],
             [
              0.8888888888888888,
              "#fdca26"
             ],
             [
              1,
              "#f0f921"
             ]
            ],
            "type": "heatmap"
           }
          ],
          "histogram": [
           {
            "marker": {
             "pattern": {
              "fillmode": "overlay",
              "size": 10,
              "solidity": 0.2
             }
            },
            "type": "histogram"
           }
          ],
          "histogram2d": [
           {
            "colorbar": {
             "outlinewidth": 0,
             "ticks": ""
            },
            "colorscale": [
             [
              0,
              "#0d0887"
             ],
             [
              0.1111111111111111,
              "#46039f"
             ],
             [
              0.2222222222222222,
              "#7201a8"
             ],
             [
              0.3333333333333333,
              "#9c179e"
             ],
             [
              0.4444444444444444,
              "#bd3786"
             ],
             [
              0.5555555555555556,
              "#d8576b"
             ],
             [
              0.6666666666666666,
              "#ed7953"
             ],
             [
              0.7777777777777778,
              "#fb9f3a"
             ],
             [
              0.8888888888888888,
              "#fdca26"
             ],
             [
              1,
              "#f0f921"
             ]
            ],
            "type": "histogram2d"
           }
          ],
          "histogram2dcontour": [
           {
            "colorbar": {
             "outlinewidth": 0,
             "ticks": ""
            },
            "colorscale": [
             [
              0,
              "#0d0887"
             ],
             [
              0.1111111111111111,
              "#46039f"
             ],
             [
              0.2222222222222222,
              "#7201a8"
             ],
             [
              0.3333333333333333,
              "#9c179e"
             ],
             [
              0.4444444444444444,
              "#bd3786"
             ],
             [
              0.5555555555555556,
              "#d8576b"
             ],
             [
              0.6666666666666666,
              "#ed7953"
             ],
             [
              0.7777777777777778,
              "#fb9f3a"
             ],
             [
              0.8888888888888888,
              "#fdca26"
             ],
             [
              1,
              "#f0f921"
             ]
            ],
            "type": "histogram2dcontour"
           }
          ],
          "mesh3d": [
           {
            "colorbar": {
             "outlinewidth": 0,
             "ticks": ""
            },
            "type": "mesh3d"
           }
          ],
          "parcoords": [
           {
            "line": {
             "colorbar": {
              "outlinewidth": 0,
              "ticks": ""
             }
            },
            "type": "parcoords"
           }
          ],
          "pie": [
           {
            "automargin": true,
            "type": "pie"
           }
          ],
          "scatter": [
           {
            "fillpattern": {
             "fillmode": "overlay",
             "size": 10,
             "solidity": 0.2
            },
            "type": "scatter"
           }
          ],
          "scatter3d": [
           {
            "line": {
             "colorbar": {
              "outlinewidth": 0,
              "ticks": ""
             }
            },
            "marker": {
             "colorbar": {
              "outlinewidth": 0,
              "ticks": ""
             }
            },
            "type": "scatter3d"
           }
          ],
          "scattercarpet": [
           {
            "marker": {
             "colorbar": {
              "outlinewidth": 0,
              "ticks": ""
             }
            },
            "type": "scattercarpet"
           }
          ],
          "scattergeo": [
           {
            "marker": {
             "colorbar": {
              "outlinewidth": 0,
              "ticks": ""
             }
            },
            "type": "scattergeo"
           }
          ],
          "scattergl": [
           {
            "marker": {
             "colorbar": {
              "outlinewidth": 0,
              "ticks": ""
             }
            },
            "type": "scattergl"
           }
          ],
          "scattermap": [
           {
            "marker": {
             "colorbar": {
              "outlinewidth": 0,
              "ticks": ""
             }
            },
            "type": "scattermap"
           }
          ],
          "scattermapbox": [
           {
            "marker": {
             "colorbar": {
              "outlinewidth": 0,
              "ticks": ""
             }
            },
            "type": "scattermapbox"
           }
          ],
          "scatterpolar": [
           {
            "marker": {
             "colorbar": {
              "outlinewidth": 0,
              "ticks": ""
             }
            },
            "type": "scatterpolar"
           }
          ],
          "scatterpolargl": [
           {
            "marker": {
             "colorbar": {
              "outlinewidth": 0,
              "ticks": ""
             }
            },
            "type": "scatterpolargl"
           }
          ],
          "scatterternary": [
           {
            "marker": {
             "colorbar": {
              "outlinewidth": 0,
              "ticks": ""
             }
            },
            "type": "scatterternary"
           }
          ],
          "surface": [
           {
            "colorbar": {
             "outlinewidth": 0,
             "ticks": ""
            },
            "colorscale": [
             [
              0,
              "#0d0887"
             ],
             [
              0.1111111111111111,
              "#46039f"
             ],
             [
              0.2222222222222222,
              "#7201a8"
             ],
             [
              0.3333333333333333,
              "#9c179e"
             ],
             [
              0.4444444444444444,
              "#bd3786"
             ],
             [
              0.5555555555555556,
              "#d8576b"
             ],
             [
              0.6666666666666666,
              "#ed7953"
             ],
             [
              0.7777777777777778,
              "#fb9f3a"
             ],
             [
              0.8888888888888888,
              "#fdca26"
             ],
             [
              1,
              "#f0f921"
             ]
            ],
            "type": "surface"
           }
          ],
          "table": [
           {
            "cells": {
             "fill": {
              "color": "#EBF0F8"
             },
             "line": {
              "color": "white"
             }
            },
            "header": {
             "fill": {
              "color": "#C8D4E3"
             },
             "line": {
              "color": "white"
             }
            },
            "type": "table"
           }
          ]
         },
         "layout": {
          "annotationdefaults": {
           "arrowcolor": "#2a3f5f",
           "arrowhead": 0,
           "arrowwidth": 1
          },
          "autotypenumbers": "strict",
          "coloraxis": {
           "colorbar": {
            "outlinewidth": 0,
            "ticks": ""
           }
          },
          "colorscale": {
           "diverging": [
            [
             0,
             "#8e0152"
            ],
            [
             0.1,
             "#c51b7d"
            ],
            [
             0.2,
             "#de77ae"
            ],
            [
             0.3,
             "#f1b6da"
            ],
            [
             0.4,
             "#fde0ef"
            ],
            [
             0.5,
             "#f7f7f7"
            ],
            [
             0.6,
             "#e6f5d0"
            ],
            [
             0.7,
             "#b8e186"
            ],
            [
             0.8,
             "#7fbc41"
            ],
            [
             0.9,
             "#4d9221"
            ],
            [
             1,
             "#276419"
            ]
           ],
           "sequential": [
            [
             0,
             "#0d0887"
            ],
            [
             0.1111111111111111,
             "#46039f"
            ],
            [
             0.2222222222222222,
             "#7201a8"
            ],
            [
             0.3333333333333333,
             "#9c179e"
            ],
            [
             0.4444444444444444,
             "#bd3786"
            ],
            [
             0.5555555555555556,
             "#d8576b"
            ],
            [
             0.6666666666666666,
             "#ed7953"
            ],
            [
             0.7777777777777778,
             "#fb9f3a"
            ],
            [
             0.8888888888888888,
             "#fdca26"
            ],
            [
             1,
             "#f0f921"
            ]
           ],
           "sequentialminus": [
            [
             0,
             "#0d0887"
            ],
            [
             0.1111111111111111,
             "#46039f"
            ],
            [
             0.2222222222222222,
             "#7201a8"
            ],
            [
             0.3333333333333333,
             "#9c179e"
            ],
            [
             0.4444444444444444,
             "#bd3786"
            ],
            [
             0.5555555555555556,
             "#d8576b"
            ],
            [
             0.6666666666666666,
             "#ed7953"
            ],
            [
             0.7777777777777778,
             "#fb9f3a"
            ],
            [
             0.8888888888888888,
             "#fdca26"
            ],
            [
             1,
             "#f0f921"
            ]
           ]
          },
          "colorway": [
           "#636efa",
           "#EF553B",
           "#00cc96",
           "#ab63fa",
           "#FFA15A",
           "#19d3f3",
           "#FF6692",
           "#B6E880",
           "#FF97FF",
           "#FECB52"
          ],
          "font": {
           "color": "#2a3f5f"
          },
          "geo": {
           "bgcolor": "white",
           "lakecolor": "white",
           "landcolor": "#E5ECF6",
           "showlakes": true,
           "showland": true,
           "subunitcolor": "white"
          },
          "hoverlabel": {
           "align": "left"
          },
          "hovermode": "closest",
          "mapbox": {
           "style": "light"
          },
          "paper_bgcolor": "white",
          "plot_bgcolor": "#E5ECF6",
          "polar": {
           "angularaxis": {
            "gridcolor": "white",
            "linecolor": "white",
            "ticks": ""
           },
           "bgcolor": "#E5ECF6",
           "radialaxis": {
            "gridcolor": "white",
            "linecolor": "white",
            "ticks": ""
           }
          },
          "scene": {
           "xaxis": {
            "backgroundcolor": "#E5ECF6",
            "gridcolor": "white",
            "gridwidth": 2,
            "linecolor": "white",
            "showbackground": true,
            "ticks": "",
            "zerolinecolor": "white"
           },
           "yaxis": {
            "backgroundcolor": "#E5ECF6",
            "gridcolor": "white",
            "gridwidth": 2,
            "linecolor": "white",
            "showbackground": true,
            "ticks": "",
            "zerolinecolor": "white"
           },
           "zaxis": {
            "backgroundcolor": "#E5ECF6",
            "gridcolor": "white",
            "gridwidth": 2,
            "linecolor": "white",
            "showbackground": true,
            "ticks": "",
            "zerolinecolor": "white"
           }
          },
          "shapedefaults": {
           "line": {
            "color": "#2a3f5f"
           }
          },
          "ternary": {
           "aaxis": {
            "gridcolor": "white",
            "linecolor": "white",
            "ticks": ""
           },
           "baxis": {
            "gridcolor": "white",
            "linecolor": "white",
            "ticks": ""
           },
           "bgcolor": "#E5ECF6",
           "caxis": {
            "gridcolor": "white",
            "linecolor": "white",
            "ticks": ""
           }
          },
          "title": {
           "x": 0.05
          },
          "xaxis": {
           "automargin": true,
           "gridcolor": "white",
           "linecolor": "white",
           "ticks": "",
           "title": {
            "standoff": 15
           },
           "zerolinecolor": "white",
           "zerolinewidth": 2
          },
          "yaxis": {
           "automargin": true,
           "gridcolor": "white",
           "linecolor": "white",
           "ticks": "",
           "title": {
            "standoff": 15
           },
           "zerolinecolor": "white",
           "zerolinewidth": 2
          }
         }
        },
        "title": {
         "font": {
          "size": 14
         },
         "text": "Top 10 Especies con Mayor Concentración Media"
        },
        "xaxis": {
         "anchor": "y",
         "domain": [
          0,
          1
         ],
         "tickangle": 45,
         "title": {
          "text": "Especies"
         }
        },
        "yaxis": {
         "anchor": "x",
         "domain": [
          0,
          1
         ],
         "title": {
          "text": "Concentración Media (Standardized)"
         }
        }
       }
      }
     },
     "metadata": {},
     "output_type": "display_data"
    }
   ],
   "source": [
    "import matplotlib.pyplot as plt\n",
    "import plotly.express as px\n",
    "\n",
    "# Seleccionar las 10 especies con mayor concentración media\n",
    "top_10_especies = concentracion_media_especie.head(10)\n",
    "\n",
    "\n",
    "# Crear el gráfico de barras interactivo con Plotly\n",
    "fig = px.bar(top_10_especies, \n",
    "             x=top_10_especies.index, \n",
    "             y=top_10_especies.values, \n",
    "             labels={'x': 'Especies', 'y': 'Concentración Media (Standardized)'},\n",
    "             title='Top 10 Especies con Mayor Concentración Media')\n",
    "\n",
    "# Personalizar el diseño\n",
    "fig.update_layout(xaxis_title='Especies',\n",
    "                  yaxis_title='Concentración Media (Standardized)',\n",
    "                  title_font_size=14,\n",
    "                  xaxis_tickangle=45)\n",
    "\n",
    "# Mostrar el gráfico interactivo\n",
    "fig.show()\n"
   ]
  },
  {
   "cell_type": "markdown",
   "id": "9171563c",
   "metadata": {},
   "source": [
    "### Ejercicio 9: Gráfico de dispersión\n",
    "Representa un gráfico tipo boxplot para ver cómo varía la concentración según el subfilo."
   ]
  },
  {
   "cell_type": "code",
   "execution_count": 12,
   "id": "59b20dda",
   "metadata": {},
   "outputs": [
    {
     "data": {
      "text/plain": [
       "<Figure size 1000x600 with 0 Axes>"
      ]
     },
     "metadata": {},
     "output_type": "display_data"
    },
    {
     "data": {
      "image/png": "[encoded data removed]",
      "text/plain": [
       "<Figure size 640x480 with 1 Axes>"
      ]
     },
     "metadata": {},
     "output_type": "display_data"
    }
   ],
   "source": [
    "plt.figure(figsize=(10, 6))\n",
    "df.boxplot(column='Conc 1 Mean (Standardized)', by='Species Sub Phylum', grid=False, showfliers=False)\n",
    "plt.title('Variación de la Concentración según el Subfilo')\n",
    "plt.suptitle('')  # Eliminar el título automático del boxplot\n",
    "plt.xlabel('Subfilo')\n",
    "plt.ylabel('Concentración Media (Standardized)')\n",
    "plt.xticks(rotation=45)\n",
    "plt.show()\n"
   ]
  },
  {
   "cell_type": "markdown",
   "id": "49e58a6c",
   "metadata": {},
   "source": [
    "### Ejercicio 10: Exportación de subconjunto\n",
    "Exporta a un nuevo CSV los registros con concentración mayor que 1."
   ]
  },
  {
   "cell_type": "code",
   "execution_count": 13,
   "id": "a4e2c04b",
   "metadata": {},
   "outputs": [
    {
     "name": "stdout",
     "output_type": "stream",
     "text": [
      "Archivo exportado correctamente.\n"
     ]
    }
   ],
   "source": [
    "# Filtrar los registros con concentración mayor que 1\n",
    "registros_filtrados = df[df['Conc 1 Mean (Standardized)'] > 1]\n",
    "\n",
    "# Exportar a un nuevo archivo CSV\n",
    "registros_filtrados.to_csv('registros_con_concentracion_mayor_a_1.csv', index=False)\n",
    "\n",
    "print(\"Archivo exportado correctamente.\")"
   ]
  },
  {
   "cell_type": "markdown",
   "id": "f03be84f",
   "metadata": {},
   "source": [
    "### Ejercicio 11: Comprobar distribución\n",
    "Representa un histograma del valor de concentración para analizar si sigue una distribución normal."
   ]
  },
  {
   "cell_type": "code",
   "execution_count": 14,
   "id": "e36384fc",
   "metadata": {},
   "outputs": [
    {
     "data": {
      "image/png": "[encoded data removed]",
      "text/plain": [
       "<Figure size 1000x600 with 1 Axes>"
      ]
     },
     "metadata": {},
     "output_type": "display_data"
    }
   ],
   "source": [
    "# Escribe aquí tu solución\n",
    "# Representar un histograma del valor de concentración\n",
    "plt.figure(figsize=(10, 6))\n",
    "plt.hist(df['Conc 1 Mean (Standardized)'].dropna(), bins=50, color='skyblue', edgecolor='black')\n",
    "plt.title('Histograma del Valor de Concentración')\n",
    "plt.xlabel('Concentración Media (Standardized)')\n",
    "plt.ylabel('Frecuencia')\n",
    "plt.grid(axis='y', linestyle='--', alpha=0.7)\n",
    "plt.show()"
   ]
  },
  {
   "cell_type": "markdown",
   "id": "aadfc8ee",
   "metadata": {},
   "source": [
    "### Ejercicio 12: Transformación logarítmica\n",
    "Crea una nueva columna con el logaritmo de la concentración (añade 1 para evitar log(0)) y grafícalo de nuevo."
   ]
  },
  {
   "cell_type": "code",
   "execution_count": 22,
   "id": "fa284bfa",
   "metadata": {},
   "outputs": [
    {
     "data": {
      "image/png": "[encoded data removed]",
      "text/plain": [
       "<Figure size 1000x600 with 1 Axes>"
      ]
     },
     "metadata": {},
     "output_type": "display_data"
    }
   ],
   "source": [
    "import numpy as np\n",
    "# Escribe aquí tu solución\n",
    "# Crear una nueva columna con el logaritmo de la concentración (añadiendo 1)\n",
    "df['Log Conc 1 Mean (Standardized)'] = np.log10(df['Conc 1 Mean (Standardized)'])\n",
    "\n",
    "# Representar un histograma del logaritmo de la concentración\n",
    "plt.figure(figsize=(10, 6))\n",
    "plt.hist(df['Log Conc 1 Mean (Standardized)'].dropna(), bins=50, color='lightgreen', edgecolor='black')\n",
    "plt.title('Histograma del Logaritmo del Valor de Concentración')\n",
    "plt.xlabel('Logaritmo de la Concentración Media (Standardized)')\n",
    "plt.ylabel('Frecuencia')\n",
    "plt.grid(axis='y', linestyle='--', alpha=0.7)\n",
    "plt.show()"
   ]
  },
  {
   "cell_type": "markdown",
   "id": "b2856496",
   "metadata": {},
   "source": [
    "### Ejercicio 13: Clasificación de toxicidad\n",
    "Crea una columna nueva que diga si un compuesto es \"Tóxico\" (> 1) o \"No tóxico\" (<= 1)."
   ]
  },
  {
   "cell_type": "code",
   "execution_count": 23,
   "id": "21abed9d",
   "metadata": {},
   "outputs": [
    {
     "data": {
      "text/html": [
       "<div>\n",
       "<style scoped>\n",
       "    .dataframe tbody tr th:only-of-type {\n",
       "        vertical-align: middle;\n",
       "    }\n",
       "\n",
       "    .dataframe tbody tr th {\n",
       "        vertical-align: top;\n",
       "    }\n",
       "\n",
       "    .dataframe thead th {\n",
       "        text-align: right;\n",
       "    }\n",
       "</style>\n",
       "<table border=\"1\" class=\"dataframe\">\n",
       "  <thead>\n",
       "    <tr style=\"text-align: right;\">\n",
       "      <th></th>\n",
       "      <th>Conc 1 Mean (Standardized)</th>\n",
       "      <th>Toxicidad</th>\n",
       "    </tr>\n",
       "  </thead>\n",
       "  <tbody>\n",
       "    <tr>\n",
       "      <th>0</th>\n",
       "      <td>0.0280</td>\n",
       "      <td>No tóxico</td>\n",
       "    </tr>\n",
       "    <tr>\n",
       "      <th>1</th>\n",
       "      <td>0.0004</td>\n",
       "      <td>No tóxico</td>\n",
       "    </tr>\n",
       "    <tr>\n",
       "      <th>2</th>\n",
       "      <td>0.0008</td>\n",
       "      <td>No tóxico</td>\n",
       "    </tr>\n",
       "    <tr>\n",
       "      <th>3</th>\n",
       "      <td>0.0055</td>\n",
       "      <td>No tóxico</td>\n",
       "    </tr>\n",
       "    <tr>\n",
       "      <th>4</th>\n",
       "      <td>0.0004</td>\n",
       "      <td>No tóxico</td>\n",
       "    </tr>\n",
       "  </tbody>\n",
       "</table>\n",
       "</div>"
      ],
      "text/plain": [
       "   Conc 1 Mean (Standardized)  Toxicidad\n",
       "0                      0.0280  No tóxico\n",
       "1                      0.0004  No tóxico\n",
       "2                      0.0008  No tóxico\n",
       "3                      0.0055  No tóxico\n",
       "4                      0.0004  No tóxico"
      ]
     },
     "execution_count": 23,
     "metadata": {},
     "output_type": "execute_result"
    }
   ],
   "source": [
    "# Crear una nueva columna que clasifique los compuestos como \"Tóxico\" o \"No tóxico\"\n",
    "df['Toxicidad'] = df['Conc 1 Mean (Standardized)'].apply(lambda x: 'Tóxico' if x > 1 else 'No tóxico')\n",
    "\n",
    "# Mostrar las primeras filas para verificar\n",
    "df[['Conc 1 Mean (Standardized)', 'Toxicidad']].head()"
   ]
  }
 ],
 "metadata": {
  "kernelspec": {
   "display_name": "bioinformatics",
   "language": "python",
   "name": "python3"
  },
  "language_info": {
   "codemirror_mode": {
    "name": "ipython",
    "version": 3
   },
   "file_extension": ".py",
   "mimetype": "text/x-python",
   "name": "python",
   "nbconvert_exporter": "python",
   "pygments_lexer": "ipython3",
   "version": "3.13.1"
  }
 },
 "nbformat": 4,
 "nbformat_minor": 5
}
