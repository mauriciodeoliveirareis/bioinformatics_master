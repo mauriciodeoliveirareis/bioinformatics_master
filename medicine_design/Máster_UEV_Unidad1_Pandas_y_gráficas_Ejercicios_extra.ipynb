{
 "cells": [
  {
   "cell_type": "markdown",
   "id": "06ec7a1e",
   "metadata": {},
   "source": [
    "# Máster de Formación Permanente en Bioinformática e Inteligencia Artificial en Salud\n",
    "## MÓDULO 6 - Diseño de terapias y medicamentos innovadores. \n",
    "### UNIDAD 1.4 Introducción a la quimioinformática"
   ]
  },
  {
   "cell_type": "markdown",
   "id": "7cdae359",
   "metadata": {},
   "source": [
    "Ejercicios extra de introducción al paquete Pandas para manejo de dataframes y MatPlotLib para la visualización de datos."
   ]
  },
  {
   "cell_type": "markdown",
   "id": "THfWjg9mb3q5",
   "metadata": {
    "id": "THfWjg9mb3q5"
   },
   "source": [
    "# Parte 1: Ejercicios para practicar con Pandas\n",
    "\n",
    "\n"
   ]
  },
  {
   "cell_type": "markdown",
   "id": "rjuwKgr4sB6h",
   "metadata": {
    "id": "rjuwKgr4sB6h"
   },
   "source": [
    "## Importa Pandas y Matplotlib\n"
   ]
  },
  {
   "cell_type": "markdown",
   "id": "pBuQFVWzsMAU",
   "metadata": {
    "id": "pBuQFVWzsMAU"
   },
   "source": [
    "En este notebook usaremos 2 librerías de Python\n",
    "\n",
    "*   Pandas: para manejar dataframes\n",
    "*   Matplotlib: para visualización de datos\n",
    "\n",
    "Importa ambas librerias. `Pandas` como `pd` y `matplotlib.pyplot` como `plt`\n",
    "\n"
   ]
  },
  {
   "cell_type": "code",
   "execution_count": null,
   "id": "m8XSy6Gqsmtj",
   "metadata": {
    "id": "m8XSy6Gqsmtj"
   },
   "outputs": [],
   "source": [
    "# ESCRIBE AQUÍ TU CÓDIGO\n",
    "\n",
    "# la siguiente línea es necesaria para mostrar las gráficas directamente en este jupyter notebok.\n",
    "%matplotlib inline\n"
   ]
  },
  {
   "cell_type": "markdown",
   "id": "c4d244c2",
   "metadata": {
    "id": "c4d244c2"
   },
   "source": [
    "## Sección 1. Entrada y salida de datos con Pandas: Leyendo y guardando DataFrames"
   ]
  },
  {
   "cell_type": "markdown",
   "id": "e0440839",
   "metadata": {
    "id": "e0440839"
   },
   "source": [
    "Uno de los papeles más importantes de la librería Pandas es su capacidad de leer y guardar dataframes.\n",
    "\n",
    "Usando el dataset de ejemplo `california_housing_train`, practicaremos los diferentes conceptos básicos de análisis y visualización de datos."
   ]
  },
  {
   "cell_type": "markdown",
   "id": "52d5c080",
   "metadata": {},
   "source": [
    "Primero, leemos el archivo csv `california_housing_train.csv` y visualizamos sus primeras filas para confirmar que la importación se ha llevado a cabo correctamente."
   ]
  },
  {
   "cell_type": "code",
   "execution_count": null,
   "id": "yHXSHoG4t5Vq",
   "metadata": {
    "colab": {
     "base_uri": "https://localhost:8080/",
     "height": 206
    },
    "executionInfo": {
     "elapsed": 275,
     "status": "ok",
     "timestamp": 1696921783761,
     "user": {
      "displayName": "Rita Ortega Vallbona",
      "userId": "17830401129805231568"
     },
     "user_tz": -120
    },
    "id": "yHXSHoG4t5Vq",
    "outputId": "8c03838a-dbdb-4c21-dcd5-094f622e0ead"
   },
   "outputs": [],
   "source": [
    "# ESCRIBE AQUÍ TU CÓDIGO"
   ]
  },
  {
   "cell_type": "markdown",
   "id": "T9CW1HrBxfkr",
   "metadata": {
    "id": "T9CW1HrBxfkr"
   },
   "source": [
    "Ahora vuelve a leer el archivo csv, pero indicando que el separador es `;`. Vuelve a visualizar las primeras líneas del DataFrame. ¿Qué le ha pasado? ¿Cómo influye la correcta indicación del separador cuando tratamos con archivos `.csv`?"
   ]
  },
  {
   "cell_type": "code",
   "execution_count": null,
   "id": "-BdE2IW1l3oq",
   "metadata": {
    "id": "-BdE2IW1l3oq"
   },
   "outputs": [],
   "source": [
    "# ESCRIBE AQUÍ TU CÓDIGO"
   ]
  },
  {
   "cell_type": "markdown",
   "id": "glkYnrTzzl4P",
   "metadata": {
    "id": "glkYnrTzzl4P"
   },
   "source": [
    "Ahora guarda el DataFrame, fuera de la carpeta en la que te encuentras, como archivo `.txt` separado por tabulaciones (\\t). Establace el parámetro `Index` como `False`, esto evitará que se guarde el índice como una columna extra. "
   ]
  },
  {
   "cell_type": "code",
   "execution_count": null,
   "id": "kgPKoOCc5NHG",
   "metadata": {
    "id": "kgPKoOCc5NHG"
   },
   "outputs": [],
   "source": [
    "# ESCRIBE AQUÍ TU CÓDIGO"
   ]
  },
  {
   "cell_type": "markdown",
   "id": "0moRn6DE6BYt",
   "metadata": {
    "id": "0moRn6DE6BYt"
   },
   "source": [
    "Ahora guarda el DataFrame como archivo excel. Recuerda establacer el parámetro `Index` como `False`, esto evitará que se guarde el índice como una columna extra."
   ]
  },
  {
   "cell_type": "code",
   "execution_count": null,
   "id": "utUzjHI96uq3",
   "metadata": {
    "id": "utUzjHI96uq3"
   },
   "outputs": [],
   "source": [
    "# ESCRIBE AQUÍ TU CÓDIGO"
   ]
  },
  {
   "cell_type": "markdown",
   "id": "X8pngii57ooz",
   "metadata": {
    "id": "X8pngii57ooz"
   },
   "source": [
    "## Sección 2. Explora tus datos: Entendiendo su estructura y contenido"
   ]
  },
  {
   "cell_type": "markdown",
   "id": "9p1hr-NE8EpK",
   "metadata": {
    "id": "9p1hr-NE8EpK"
   },
   "source": [
    "Comprueba cuantas filas y columnas tiene el DataFrame. Obtén una lista con los nombres de las columans."
   ]
  },
  {
   "cell_type": "code",
   "execution_count": null,
   "id": "LqD2pI9N8OeC",
   "metadata": {
    "id": "LqD2pI9N8OeC"
   },
   "outputs": [],
   "source": [
    "# ESCRIBE AQUÍ TU CÓDIGO"
   ]
  },
  {
   "cell_type": "markdown",
   "id": "ZNOIf5i7-QTj",
   "metadata": {
    "id": "ZNOIf5i7-QTj"
   },
   "source": [
    "Muestra en pantalla las primeras 5 filas del DataFrame."
   ]
  },
  {
   "cell_type": "code",
   "execution_count": null,
   "id": "b8IpOjVt-dlV",
   "metadata": {
    "id": "b8IpOjVt-dlV"
   },
   "outputs": [],
   "source": [
    "# ESCRIBE AQUÍ TU CÓDIGO"
   ]
  },
  {
   "cell_type": "markdown",
   "id": "9dce1514",
   "metadata": {},
   "source": [
    "Muestra ahora las últimas 11 filas."
   ]
  },
  {
   "cell_type": "code",
   "execution_count": null,
   "id": "SuUWJp7W-EIj",
   "metadata": {
    "colab": {
     "base_uri": "https://localhost:8080/"
    },
    "executionInfo": {
     "elapsed": 277,
     "status": "ok",
     "timestamp": 1696921807714,
     "user": {
      "displayName": "Rita Ortega Vallbona",
      "userId": "17830401129805231568"
     },
     "user_tz": -120
    },
    "id": "SuUWJp7W-EIj",
    "outputId": "92bfa816-9a5a-4c97-9142-ffd19700d14a"
   },
   "outputs": [],
   "source": [
    "# ESCRIBE AQUÍ TU CÓDIGO"
   ]
  },
  {
   "cell_type": "markdown",
   "id": "CDLeglYA_l25",
   "metadata": {
    "id": "CDLeglYA_l25"
   },
   "source": [
    "Ahora comprueba cuantos valores únicos hay en la columna `housing_median_age`."
   ]
  },
  {
   "cell_type": "code",
   "execution_count": null,
   "id": "Rj62F6oP_ynJ",
   "metadata": {
    "id": "Rj62F6oP_ynJ"
   },
   "outputs": [],
   "source": [
    "# ESCRIBE AQUÍ TU CÓDIGO"
   ]
  },
  {
   "cell_type": "markdown",
   "id": "KPHRNv3gM9ZI",
   "metadata": {
    "id": "KPHRNv3gM9ZI"
   },
   "source": [
    "## Sección 3. Manipulación de datos con Pandas: Crear, transformar y combinar DataFrames"
   ]
  },
  {
   "cell_type": "markdown",
   "id": "eiikXbLfNuDl",
   "metadata": {
    "id": "eiikXbLfNuDl"
   },
   "source": [
    "Vamos a continuar trabajando con el DataFrame que hemos cargado en las tareas anteriores.\n",
    "\n",
    "Primero, crea una nueva columna que contenga la media de habitaciones por casa en cada bloque."
   ]
  },
  {
   "cell_type": "code",
   "execution_count": null,
   "id": "yQQMxgeefE-M",
   "metadata": {
    "colab": {
     "base_uri": "https://localhost:8080/",
     "height": 206
    },
    "executionInfo": {
     "elapsed": 323,
     "status": "ok",
     "timestamp": 1696921839070,
     "user": {
      "displayName": "Rita Ortega Vallbona",
      "userId": "17830401129805231568"
     },
     "user_tz": -120
    },
    "id": "yQQMxgeefE-M",
    "outputId": "d411c104-8e67-4639-b745-6e968f1a1c50"
   },
   "outputs": [],
   "source": [
    "# ESCRIBE AQUÍ TU CÓDIGO"
   ]
  },
  {
   "cell_type": "markdown",
   "id": "i41htHjGgAWH",
   "metadata": {
    "id": "i41htHjGgAWH"
   },
   "source": [
    "Crea otra columna, llamada `population_per_household`, que contenga la cantidad de habitantes por bloque."
   ]
  },
  {
   "cell_type": "code",
   "execution_count": null,
   "id": "eMn9pyGBfcU5",
   "metadata": {
    "id": "eMn9pyGBfcU5"
   },
   "outputs": [],
   "source": [
    "# ESCRIBE AQUÍ TU CÓDIGO"
   ]
  },
  {
   "cell_type": "markdown",
   "id": "VD9uX-lRhJ3I",
   "metadata": {
    "id": "VD9uX-lRhJ3I"
   },
   "source": [
    "Usa la función `groupby` para agrupar los datos por la columna `'housing_median_age'`. Después de agrupar, calculamos el valor medio de `'median_house_value'` para cada grupo usando la función `mean()`. Finalmente, usamos `reset_index()` para restablecer el índice del DataFrame resultante para una mejor legibilidad."
   ]
  },
  {
   "cell_type": "code",
   "execution_count": null,
   "id": "-wXoxkhhinAg",
   "metadata": {
    "id": "-wXoxkhhinAg"
   },
   "outputs": [],
   "source": [
    "# ESCRIBE AQUÍ TU CÓDIGO"
   ]
  },
  {
   "cell_type": "markdown",
   "id": "beK4MxhsmrqW",
   "metadata": {
    "id": "beK4MxhsmrqW"
   },
   "source": [
    "Ahora usamos `loc` para seleccionar filas utilizando etiquetas. \n",
    "* Selecciona las filas donde `'rooms_per_household'` sea mayor que 5\n",
    "* Selecciona solo las columnas `'latitude'` y `'longitude'` de las filas seleccionadas\n",
    "* Muestra en pantalla el DataFrame resultante"
   ]
  },
  {
   "cell_type": "code",
   "execution_count": null,
   "id": "po720yKtnS61",
   "metadata": {
    "id": "po720yKtnS61"
   },
   "outputs": [],
   "source": [
    "# ESCRIBE AQUÍ TU CÓDIGO"
   ]
  },
  {
   "cell_type": "markdown",
   "id": "JkGnov_en3Bj",
   "metadata": {
    "id": "JkGnov_en3Bj"
   },
   "source": [
    "Usando la columna `'median_house_value'`, creada anteriormente, obten:\n",
    "* El valor máximo de dicha columna\n",
    "* El valor mínimo de dicha columna\n",
    "* La media junto con su desviación estandar"
   ]
  },
  {
   "cell_type": "code",
   "execution_count": null,
   "id": "iw500jTcpqkR",
   "metadata": {
    "id": "iw500jTcpqkR"
   },
   "outputs": [],
   "source": [
    "# ESCRIBE AQUÍ TU CÓDIGO"
   ]
  },
  {
   "cell_type": "markdown",
   "id": "xCjHifrMs4WN",
   "metadata": {
    "id": "xCjHifrMs4WN"
   },
   "source": [
    "Ahora crearemos 2 dataframes a partir del DataFrame original:\n",
    "* Uno llamado `casas_nuevas`, que contenga las filas donde `house_median_age` sea igual o menor a 5.\n",
    "* Otro llamado `casas_antiguas`, que contenga aquellas donde `house_median_age` sea mayor que 50. \n",
    "\n",
    "Luego une los dos DataFrames en uno nuevo llamado `extremos_de_edad`."
   ]
  },
  {
   "cell_type": "code",
   "execution_count": null,
   "id": "B3bWjpj_yhWp",
   "metadata": {
    "colab": {
     "base_uri": "https://localhost:8080/"
    },
    "executionInfo": {
     "elapsed": 254,
     "status": "ok",
     "timestamp": 1696921904984,
     "user": {
      "displayName": "Rita Ortega Vallbona",
      "userId": "17830401129805231568"
     },
     "user_tz": -120
    },
    "id": "B3bWjpj_yhWp",
    "outputId": "3717f970-bdc5-44d9-cff9-0319be1f936a"
   },
   "outputs": [],
   "source": [
    "# ESCRIBE AQUÍ TU CÓDIGO"
   ]
  },
  {
   "cell_type": "markdown",
   "id": "OvorM8_cyrdg",
   "metadata": {
    "id": "OvorM8_cyrdg"
   },
   "source": [
    "Obten el mismo DataFrame final (`extremos_de_edad`) sin crear y unir dos DataFrames, sino usando operadores lógicos (`&` para Y, `|` para O)."
   ]
  },
  {
   "cell_type": "code",
   "execution_count": null,
   "id": "2_kMqXdNyrxm",
   "metadata": {
    "id": "2_kMqXdNyrxm"
   },
   "outputs": [],
   "source": [
    "# ESCRIBE AQUÍ TU CÓDIGO"
   ]
  },
  {
   "cell_type": "markdown",
   "id": "-gKylrpM22QE",
   "metadata": {
    "id": "-gKylrpM22QE"
   },
   "source": [
    "Ahora calcula el número total de dormitorios por hogar para cada fila del conjunto de datos. Usa la función `apply` para aplicar una función personalizada a cada fila."
   ]
  },
  {
   "cell_type": "code",
   "execution_count": null,
   "id": "v5hOIdZs3LgE",
   "metadata": {
    "colab": {
     "base_uri": "https://localhost:8080/"
    },
    "executionInfo": {
     "elapsed": 260,
     "status": "ok",
     "timestamp": 1696921916881,
     "user": {
      "displayName": "Rita Ortega Vallbona",
      "userId": "17830401129805231568"
     },
     "user_tz": -120
    },
    "id": "v5hOIdZs3LgE",
    "outputId": "4980e944-02e1-4ed9-efde-aab3ff9ab1ef"
   },
   "outputs": [],
   "source": [
    "# ESCRIBE AQUÍ TU CÓDIGO"
   ]
  },
  {
   "cell_type": "markdown",
   "id": "6_OaarpP7dSu",
   "metadata": {
    "id": "6_OaarpP7dSu"
   },
   "source": [
    "Building on our previous example of applying an external function using apply, let's explore the power of using apply with lambda functions. Lambda functions are a concise way to create small, one-time functions on the fly. In this example, we'll use a lambda function within the apply method to calculate a new column, the 'income_to_age_ratio,' by dividing 'median_income' by 'housing_median_age' for each row in our dataset. This illustrates how we can apply dynamic transformations efficiently to our data using the combined strength of apply and lambda functions."
   ]
  },
  {
   "cell_type": "markdown",
   "id": "d0bDMaAZnEGi",
   "metadata": {
    "id": "d0bDMaAZnEGi"
   },
   "source": [
    "# Parte 2: Visualización de datos usando Matplotlib"
   ]
  },
  {
   "cell_type": "markdown",
   "id": "0gss-FwDEd5p",
   "metadata": {
    "id": "0gss-FwDEd5p"
   },
   "source": [
    "## Sección 1. Matplotlib: Introducción"
   ]
  },
  {
   "cell_type": "markdown",
   "id": "ooE-bQ1YEogY",
   "metadata": {
    "id": "ooE-bQ1YEogY"
   },
   "source": [
    "Matplotlib es una potente biblioteca de Python utilizada para crear visualizaciones estáticas, animadas e interactivas en varios formatos. Es especialmente adecuada para tareas de visualización de datos, lo que la convierte en una herramienta esencial para el análisis de datos.\n",
    "\n",
    "Matplotlib proporciona una amplia gama de funciones para crear diferentes tipos de gráficos. La forma más simple de crear una gráfica básica es utilizando la función `plt.plot()`. \n",
    "\n",
    "Aquí tienes un ejemplo:"
   ]
  },
  {
   "cell_type": "code",
   "execution_count": null,
   "id": "95vKJga7cq4l",
   "metadata": {
    "colab": {
     "base_uri": "https://localhost:8080/",
     "height": 490
    },
    "executionInfo": {
     "elapsed": 839,
     "status": "ok",
     "timestamp": 1696922255437,
     "user": {
      "displayName": "Rita Ortega Vallbona",
      "userId": "17830401129805231568"
     },
     "user_tz": -120
    },
    "id": "95vKJga7cq4l",
    "outputId": "a607b60e-e80a-4be1-d31f-7c4cb1785959"
   },
   "outputs": [],
   "source": [
    "import matplotlib.pyplot as plt\n",
    "# Datos de prueba\n",
    "x = [1, 2, 3, 4, 5]\n",
    "y = [10, 16, 8, 14, 7]\n",
    "\n",
    "# Crea una gráfica de línea\n",
    "plt.plot(x, y)\n",
    "\n",
    "# Añade etiquetas y un título\n",
    "plt.xlabel('X-axis')\n",
    "plt.ylabel('Y-axis')\n",
    "plt.title('Simple Line Plot')"
   ]
  },
  {
   "cell_type": "markdown",
   "id": "saw_mNSEcfZL",
   "metadata": {
    "id": "saw_mNSEcfZL"
   },
   "source": [
    "\n",
    "Matplotlib admite varios tipos de gráficos, incluyendo:\n",
    "\n",
    "* Gráfico de líneas: Se utiliza para visualizar puntos de datos conectados por líneas, como se muestra en el ejemplo anterior.\n",
    "\n",
    "* Gráfico de dispersión: Útil para mostrar puntos de datos individuales, a menudo utilizado para visualizar relaciones entre dos variables.\n",
    "\n",
    "* Gráfico de barras: Ideal para comparar datos entre categorías o mostrar datos categóricos.\n",
    "\n",
    "* Histograma: Se utiliza para visualizar la distribución de una sola variable.\n",
    "\n",
    "* Diagrama de caja (boxplot): Ideal para mostrar la distribución, variabilidad y valores atípicos de un conjunto de datos.\n",
    "\n",
    "* Gráfico de sectores (pie chart): Bueno para mostrar partes de un todo, donde cada categoría representa una porción del total.\n",
    "\n",
    "* Mapa de calor (heatmap): Eficaz para mostrar la correlación o intensidad de los datos en forma de matriz.\n",
    "\n",
    "* Gráficos en 3D: Matplotlib también admite visualización en 3D para datos más complejos.\n",
    "\n",
    "Matplotlib permite una personalización extensa de los gráficos. Puedes cambiar colores, estilos de línea, añadir leyendas, anotaciones y mucho más. No dudes en explorar la documentación y los ejemplos para descubrir todo el abanico de opciones de personalización.\n",
    "\n",
    "Recuerda que Matplotlib es solo una de las muchas bibliotecas de visualización de datos disponibles en Python, y dependiendo de tus necesidades, puedes explorar otras bibliotecas como Seaborn, Plotly o Bokeh para visualizaciones más avanzadas e interactivas.\n",
    "\n",
    "Sin embargo, para mantenerlo simple, en este notebook de Jupyter nos centraremos en la representación de datos usando gráficos de barras y de dispersión, ya que son los que utilizaremos en el proceso de creación de un modelo QSAR."
   ]
  },
  {
   "cell_type": "markdown",
   "id": "Qt9gOOAin4pr",
   "metadata": {
    "id": "Qt9gOOAin4pr"
   },
   "source": [
    "## Sección 2. Gráficos de barras: Cómo representar datos de clasificación."
   ]
  },
  {
   "cell_type": "markdown",
   "id": "4Rw7A-c3g8yh",
   "metadata": {
    "id": "4Rw7A-c3g8yh"
   },
   "source": [
    "Primero, crea un DataFrame a partir del archivo `california_housing_train.csv` y otro a partir de `california_housing_test.csv`. Crea, a cada uno de ellos, una columna llamada `\"Categorización_valor\"` donde se considere `\"Valor alto\"` si el `'median_house_value'` igual o mayor que 200000, y `\"Valor abjo\"` en caso contrario."
   ]
  },
  {
   "cell_type": "code",
   "execution_count": null,
   "id": "k3mkoHtwhFYJ",
   "metadata": {
    "colab": {
     "base_uri": "https://localhost:8080/"
    },
    "executionInfo": {
     "elapsed": 362,
     "status": "ok",
     "timestamp": 1696925694117,
     "user": {
      "displayName": "Rita Ortega Vallbona",
      "userId": "17830401129805231568"
     },
     "user_tz": -120
    },
    "id": "k3mkoHtwhFYJ",
    "outputId": "8fd88a57-f179-470e-ac52-200ba6d217fa"
   },
   "outputs": [],
   "source": [
    "# ESCRIBE AQUÍ TU CÓDIGO"
   ]
  },
  {
   "cell_type": "markdown",
   "id": "TVwDNza8qKYv",
   "metadata": {
    "id": "TVwDNza8qKYv"
   },
   "source": [
    "Ahora usamos value_counts para calcular el número de muestras de `\"Valor alto\"` y `\"Valor bajo\"` por separado tanto para el conjunto de entrenamiento como para el de prueba.\n",
    "\n",
    "Luego creamos un gráfico de barras apiladas usando Matplotlib, donde \"Train\" y \"Test\" representan los conjuntos de datos, y dentro de cada barra verás los segmentos apilados para las muestras de `\"Valor alto\"` (verde) y `\"Valor bajo\"` (rojo)."
   ]
  },
  {
   "cell_type": "code",
   "execution_count": null,
   "id": "v3Xm3r2ZrInj",
   "metadata": {
    "colab": {
     "base_uri": "https://localhost:8080/",
     "height": 490
    },
    "executionInfo": {
     "elapsed": 650,
     "status": "ok",
     "timestamp": 1696926162180,
     "user": {
      "displayName": "Rita Ortega Vallbona",
      "userId": "17830401129805231568"
     },
     "user_tz": -120
    },
    "id": "v3Xm3r2ZrInj",
    "outputId": "f116f246-ee2f-41be-c6ba-f7b6b260c1d2"
   },
   "outputs": [],
   "source": [
    "# ESCRIBE AQUÍ TU CÓDIGO"
   ]
  },
  {
   "cell_type": "markdown",
   "id": "T7HC-cQBr6eZ",
   "metadata": {
    "id": "T7HC-cQBr6eZ"
   },
   "source": [
    "Ahora crea una columna llamada `\"Categorización_ingresos\"` en la que:\n",
    "* Se clasifique como `\"Ingresos bajos\"` si el valor de `\"median_income\"` es menor que 3\n",
    "* Se clasifique como `\"Ingresos medios\"` si el valor de `\"median_income\"` es igual o mayor que 3, pero menor que 6\n",
    "* Se clasifique como `\"Ingresos altos\"` el el resto de los casos."
   ]
  },
  {
   "cell_type": "code",
   "execution_count": null,
   "id": "3AsaScQ8sEyt",
   "metadata": {
    "colab": {
     "base_uri": "https://localhost:8080/"
    },
    "executionInfo": {
     "elapsed": 238,
     "status": "ok",
     "timestamp": 1696926524484,
     "user": {
      "displayName": "Rita Ortega Vallbona",
      "userId": "17830401129805231568"
     },
     "user_tz": -120
    },
    "id": "3AsaScQ8sEyt",
    "outputId": "0693251b-4ba1-4d8c-8727-40dbaff4835d"
   },
   "outputs": [],
   "source": [
    "# ESCRIBE AQUÍ TU CÓDIGO\n"
   ]
  },
  {
   "cell_type": "markdown",
   "id": "011527af",
   "metadata": {},
   "source": [
    "Ahora, crea un gráfico de barras apiladas a partir de la clasificación en 3 categorías del ingreso que acabas de crear."
   ]
  },
  {
   "cell_type": "code",
   "execution_count": null,
   "id": "Op7319FQtOLV",
   "metadata": {
    "id": "Op7319FQtOLV"
   },
   "outputs": [],
   "source": [
    "# ESCRIBE AQUÍ TU CÓDIGO\n",
    "\n",
    "\n",
    "\n",
    "# Obten el número de muestras en cada una de las categorías de la columna \"Categorización_ingresos\".\n",
    "\n",
    "\n",
    "\n",
    "\n",
    "# Calcula el valor de inicio para las barras de \"Low Income\".\n",
    "# Nota: En una gráfica de barras apiladas, el valor de inicio de una barra es el valor final de la barra anterior.\n",
    "# En este caso, la gráfica empezará con la categoría \"Ingresos altos\" y luego se apilarán las demás categorías.\n",
    "# Para definir dicho valor, usa el parámetro bottom de la función bar() de matplotlib.\n",
    "\n",
    "\n",
    "\n",
    "\n",
    "\n",
    "# Crea cada una de las series individuales de la gráfica de barras apiladas.\n",
    "\n",
    "\n",
    "\n",
    "\n",
    "# Añade etiquetas, título y leyenda\n",
    "\n",
    "\n"
   ]
  },
  {
   "cell_type": "markdown",
   "id": "VUwZH_MRoMEH",
   "metadata": {
    "id": "VUwZH_MRoMEH"
   },
   "source": [
    "## Section 3. Gráficas de dispersión: Cómo representar datos de regresión"
   ]
  },
  {
   "cell_type": "markdown",
   "id": "f1PnEZtO1HRV",
   "metadata": {
    "id": "f1PnEZtO1HRV"
   },
   "source": [
    "Ahora crea un diagrama de dispersión utilizando las columnas de longitud y latitud del conjunto de entrenamiento. No te olvides de incluir título y etiquetas."
   ]
  },
  {
   "cell_type": "code",
   "execution_count": null,
   "id": "vYqzsq6m1orA",
   "metadata": {
    "colab": {
     "base_uri": "https://localhost:8080/",
     "height": 564
    },
    "executionInfo": {
     "elapsed": 942,
     "status": "ok",
     "timestamp": 1696928885164,
     "user": {
      "displayName": "Rita Ortega Vallbona",
      "userId": "17830401129805231568"
     },
     "user_tz": -120
    },
    "id": "vYqzsq6m1orA",
    "outputId": "9b5221f1-39a1-411b-deb2-1b5ba4710a18"
   },
   "outputs": [],
   "source": [
    "# ESCRIBE AQUÍ TU CÓDIGO"
   ]
  },
  {
   "cell_type": "markdown",
   "id": "z3XIB1zN2EaV",
   "metadata": {
    "id": "z3XIB1zN2EaV"
   },
   "source": [
    "Si superpusieras este diagrama de dispersión sobre un mapa de California, coincidiría bastante bien, ¿no crees?\n",
    "\n",
    "Ahora, crea un nuevo diagrama de dispersión donde el eje x sea la longitud y el eje y sea la latitud, y representa las muestras del conjunto de entrenamiento en azul y las del conjunto de prueba en rojo.\n",
    "\n",
    "Nota: ¿Recuerdas cómo crear una gráfica de barras apiladas como si fueran dos gráficas de barras diferentes? Puedes hacer los mismo con los gráficos de dispersión."
   ]
  },
  {
   "cell_type": "code",
   "execution_count": null,
   "id": "r34IiJBz2Dbf",
   "metadata": {
    "id": "r34IiJBz2Dbf"
   },
   "outputs": [],
   "source": [
    "# ESCRIBE AQUÍ TU CÓDIGO"
   ]
  },
  {
   "cell_type": "markdown",
   "id": "nA-x_8NQ3m6a",
   "metadata": {
    "id": "nA-x_8NQ3m6a"
   },
   "source": [
    "Supongamos que has desarrollado un modelo de aprendizaje automático capaz de predecir el `'median_house_value'` en el conjunto de prueba, lo que implica crear una columna `'predicted_value'` con los valores estimados de las viviendas.\n",
    "\n",
    "Usa el siguiente código para crear esos supuestos valores predichos."
   ]
  },
  {
   "cell_type": "code",
   "execution_count": null,
   "id": "F0Q-IOqb4Gu7",
   "metadata": {
    "colab": {
     "base_uri": "https://localhost:8080/"
    },
    "executionInfo": {
     "elapsed": 241,
     "status": "ok",
     "timestamp": 1696936202378,
     "user": {
      "displayName": "Rita Ortega Vallbona",
      "userId": "17830401129805231568"
     },
     "user_tz": -120
    },
    "id": "F0Q-IOqb4Gu7",
    "outputId": "05345be7-1551-4141-d255-8ac6ec966638"
   },
   "outputs": [],
   "source": [
    "# Como no vamos a usar ningún modelo de machine learning real en este notebook\n",
    "# vamos a introducir algunos números aleatorios en nuestra columna de predicción.\n",
    "# Sin embargo, queremos que los números aleatorios estén alrededor de la media de \n",
    "# los valores de nuestra columna \"median_house_value\"\n",
    "\n",
    "import numpy as np\n",
    "\n",
    "# Calcula la media de \"median_house_value\"\n",
    "mean_value = df_test[\"median_house_value\"].mean()\n",
    "\n",
    "# Generamos números aleatorios alrededor de la media con una desviación estándar de 500000.\n",
    "np.random.seed(42)  # Parámetro necesario para asegurar la reproducibilidad de los resultados.\n",
    "std_deviation = 500000\n",
    "random_values = np.random.normal(loc=mean_value, scale=std_deviation, size=len(df))\n",
    "\n",
    "# Create the \"predicted_value\" column\n",
    "# Creamos la columna \"predicted_value\".\n",
    "df_test['predicted_value'] = random_values\n",
    "\n",
    "print(df_test.head())\n",
    "\n"
   ]
  },
  {
   "cell_type": "markdown",
   "id": "qLeI7Qwq5ctn",
   "metadata": {
    "id": "qLeI7Qwq5ctn"
   },
   "source": [
    "Usa la columna `'median_house_value'` como los valores observados y la columna `'predicted_value'` como los valores predichos. Con estas columnas, crea una gráfica de dispersión.\n",
    "\n",
    "Dibuja una línea de igualdad para visualizar mejor las diferencias entre los valores observados y los predichos. Esta línea diagonal muestra cuándo ambas variables tienen el mismo valor. La distancia vertical y horizontal a la línea representa la diferencia absoluta entre los grupos. La distancia diagonal representa la mitad de esa diferencia. Cuanto más alejados estén los puntos de la línea, mayor será la diferencia entre las variables."
   ]
  },
  {
   "cell_type": "code",
   "execution_count": null,
   "id": "XB2B0NoDQ-6a",
   "metadata": {
    "colab": {
     "base_uri": "https://localhost:8080/",
     "height": 718
    },
    "executionInfo": {
     "elapsed": 1081,
     "status": "ok",
     "timestamp": 1696936206405,
     "user": {
      "displayName": "Rita Ortega Vallbona",
      "userId": "17830401129805231568"
     },
     "user_tz": -120
    },
    "id": "XB2B0NoDQ-6a",
    "outputId": "1f7fc995-5994-47ae-bd0d-a01492cec755"
   },
   "outputs": [],
   "source": [
    "# ESCRIBE AQUÍ TU CÓDIGO\n",
    "\n",
    "# Crea el gráfico de dispersión.\n",
    "\n",
    "\n",
    "# Añade una línea de igualdad (línea diagonal).\n",
    "plt.plot([df_test['median_house_value'].min(), df_test['median_house_value'].max()],\n",
    "         [df_test['median_house_value'].min(), df_test['median_house_value'].max()],\n",
    "         linestyle='--', color='red', linewidth=2, label='Line of Equality')\n",
    "\n",
    "# Añade etiquetas y un título.\n",
    "\n",
    "# Añade una leyenda.\n",
    "\n",
    "# Añade líneas de cuadrícula para referencia.\n"
   ]
  },
  {
   "cell_type": "markdown",
   "id": "jAUKOcwFogSW",
   "metadata": {
    "id": "jAUKOcwFogSW"
   },
   "source": [
    "A lo largo de esta sección, hemos explorado varias técnicas de visualización de datos, utilizándolas para demostrar cómo los datos pueden representarse de manera efectiva. A medida que avances en el curso, encontrarás aplicaciones del mundo real de la visualización de datos en la curación de datos y en el análisis del rendimiento de modelos QSAR. Estos ejemplos mostrarán cómo la visualización de datos se convierte en una herramienta indispensable para obtener información, tomar decisiones fundamentadas y mejorar la comprensión general de los datos en diversos escenarios."
   ]
  }
 ],
 "metadata": {
  "colab": {
   "provenance": [
    {
     "file_id": "1BDhXBxo498T8Jh5B4x4nh4Ldd4hsTa7H",
     "timestamp": 1684842428006
    },
    {
     "file_id": "https://github.com/mpalominoschaetzlein/Python_QSAR_course/blob/main/Module1_Python_for_chemoinformaticsMPS.ipynb",
     "timestamp": 1684827171978
    }
   ]
  },
  "kernelspec": {
   "display_name": "base",
   "language": "python",
   "name": "python3"
  },
  "language_info": {
   "codemirror_mode": {
    "name": "ipython",
    "version": 3
   },
   "file_extension": ".py",
   "mimetype": "text/x-python",
   "name": "python",
   "nbconvert_exporter": "python",
   "pygments_lexer": "ipython3",
   "version": "3.11.7"
  }
 },
 "nbformat": 4,
 "nbformat_minor": 5
}
