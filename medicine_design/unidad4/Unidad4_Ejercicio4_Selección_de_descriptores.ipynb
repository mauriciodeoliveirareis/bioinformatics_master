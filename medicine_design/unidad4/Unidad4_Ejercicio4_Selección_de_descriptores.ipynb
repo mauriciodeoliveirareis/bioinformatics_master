{
 "cells": [
  {
   "cell_type": "markdown",
   "id": "3MEMVlBI8HxT",
   "metadata": {
    "id": "3MEMVlBI8HxT"
   },
   "source": [
    "# Módulo 4: Modelo de clasificación QSAR (paso a paso)"
   ]
  },
  {
   "cell_type": "markdown",
   "id": "AVWYlPSF8Hxq",
   "metadata": {
    "id": "AVWYlPSF8Hxq"
   },
   "source": [
    "En este módulo desarrollaremos nuestro primer modelo QSAR, concretamente un modelo para la toxicidad aguda en lombrices de tierra. Dado que desarrollar un modelo QSAR implica un flujo de trabajo con varios pasos y este es tu primer modelo, este módulo será extenso, ya que exploraremos cada paso cuidadosamente. Por ello, el flujo de trabajo se divide en diferentes lecciones, y la práctica en Python correspondiente está separada en distintos archivos Jupyter Notebook. Como recordatorio, en este curso el flujo de trabajo para desarrollar un modelo QSAR se divide en las siguientes partes:\n",
    "\n",
    "- Parte 1: Obtención y depuración de datos\n",
    "- Parte 2: Cálculo de descriptores moleculares\n",
    "- Parte 3: División entre entrenamiento y prueba, y estandarización\n",
    "- Parte 4: Selección de descriptores\n",
    "- Parte 5: Desarrollo y optimización del modelo\n",
    "- Parte 6: Predicción y dominio de aplicabilidad"
   ]
  },
  {
   "cell_type": "markdown",
   "id": "a41281f0",
   "metadata": {
    "id": "a41281f0"
   },
   "source": [
    "# Parte 4: Selección de descriptores"
   ]
  },
  {
   "cell_type": "markdown",
   "id": "96ccd108",
   "metadata": {
    "id": "96ccd108"
   },
   "source": [
    "En esta sesión aprenderemos cómo preparar los datos para obtener un conjunto de descriptores moleculares con los que construir un modelo.\n",
    "Dado que los descriptores seleccionados para el modelo están relacionados con las características estructurales incluidas en él, este paso se conoce comúnmente como selección de características (feature selection).\n",
    "\n",
    "En primer lugar, abriremos el archivo con los descriptores calculados [Sección 1].\n",
    "\n",
    "Después, necesitaremos eliminar (o reducir) todos aquellos descriptores que no aporten información [Sección 2].\n",
    "\n",
    "A continuación, realizaremos una selección de los descriptores más informativos [Sección 3].\n",
    "\n",
    "Estos pasos de reducción y eliminación se llevan a cabo en el conjunto de entrenamiento, y la selección final se aplica también al conjunto de prueba para su posterior modelado."
   ]
  },
  {
   "cell_type": "markdown",
   "id": "71bad2f6",
   "metadata": {
    "id": "71bad2f6"
   },
   "source": [
    "## Sección 1. Lectura de los archivos con los descriptores calculados"
   ]
  },
  {
   "cell_type": "code",
   "execution_count": null,
   "id": "aj_aHZzXz6ZH",
   "metadata": {
    "id": "aj_aHZzXz6ZH"
   },
   "outputs": [],
   "source": [
    "#Importa la libreria pandas\n",
    "import pandas as pd\n",
    "#Crea los dataframes df_train_for_selection y df_test_for_selection\n",
    "df_train_for_selection = \n",
    "df_test_for_selection =_____________"
   ]
  },
  {
   "cell_type": "markdown",
   "id": "_bmWR4iyInIU",
   "metadata": {
    "id": "_bmWR4iyInIU"
   },
   "source": [
    "Puedes comprobar los tamaños y las columnas de las tablas para asegurarte de que estás trabajando con los archivos adecuados."
   ]
  },
  {
   "cell_type": "code",
   "execution_count": null,
   "id": "xBoWaXM8Ik48",
   "metadata": {
    "id": "xBoWaXM8Ik48"
   },
   "outputs": [],
   "source": [
    "#ESCRIBE AQUÍ TU CÓDIGO"
   ]
  },
  {
   "cell_type": "markdown",
   "id": "fb110e8e",
   "metadata": {
    "id": "fb110e8e"
   },
   "source": [
    "## Sección 2: Reducción no supervisada de descriptores"
   ]
  },
  {
   "cell_type": "markdown",
   "id": "9a95469a",
   "metadata": {
    "id": "9a95469a"
   },
   "source": [
    "Para comenzar, guarda los **descriptores**, los **SMILES** y la columna **y** del conjunto de entrenamiento en las siguientes 3 variables, seleccionando las columnas correspondientes:"
   ]
  },
  {
   "cell_type": "code",
   "execution_count": null,
   "id": "JGklxmp1JIh0",
   "metadata": {
    "id": "JGklxmp1JIh0"
   },
   "outputs": [],
   "source": [
    "df_descriptors = _____________\n",
    "df_smiles = _____________\n",
    "df_y = _____________"
   ]
  },
  {
   "cell_type": "markdown",
   "id": "4bcc86c0",
   "metadata": {
    "id": "4bcc86c0"
   },
   "source": [
    "Como puedes ver, por el momento tenemos todo el conjunto de descriptores, pero habrá algunos que no nos aportan información útil, por lo que necesitaremos eliminarlos. Lo haremos siguiendo estos pasos:\n",
    "\n",
    "* Descriptores infinitos o vacíos (en principio, este problema ya ha sido resuelto anteriormente)\n",
    "\n",
    "* Descriptores constantes\n",
    "\n",
    "* Descriptores correlacionados\n",
    "\n",
    "Empezando por el primero, descriptores infinitos: son aquellos que tienen valores demasiado grandes. Este tipo de valores puede influir en la relación estadística con la variable de salida e impedir que detectemos las verdaderas relaciones útiles que nos permitirían construir un modelo.\n",
    "\n",
    "Una forma de detectar valores infinitos es utilizando numpy.isfinite (consulta este enlace para más detalles:\n",
    "https://numpy.org/doc/stable/reference/generated/numpy.isfinite.html)."
   ]
  },
  {
   "cell_type": "code",
   "execution_count": null,
   "id": "0b159a7d",
   "metadata": {
    "id": "0b159a7d"
   },
   "outputs": [],
   "source": [
    "import numpy as np\n",
    "\n",
    "finite_cols = np.isfinite(df_descriptors).all()\n",
    "\n",
    "print(\"shape of the dataframe before: \", df_descriptors.shape)\n",
    "if sum(finite_cols) < len(df_descriptors.columns):\n",
    "    print(\"There are infinites, and have been eliminated\")\n",
    "    booleans = list(finite_cols)\n",
    "    to_drop = []\n",
    "    for i,boolean in enumerate(booleans):\n",
    "        if boolean == False:\n",
    "            to_drop.append(i)\n",
    "    df_descriptors = df_descriptors.drop(df_descriptors.columns[to_drop], axis=1)\n",
    "else:\n",
    "    print(\"There are no infinites\")\n",
    "\n",
    "print(\"shape of the dataframe after: \", df_descriptors.shape)\n"
   ]
  },
  {
   "cell_type": "markdown",
   "id": "99a92b96",
   "metadata": {
    "id": "99a92b96"
   },
   "source": [
    "Continuaremos con la identificación y eliminación de **descriptores constantes**.\n",
    "Itera sobre las columnas del DataFrame de descriptores y comprueba cuáles tienen un **único valor**.\n",
    "(Consulta esta función: https://pandas.pydata.org/docs/reference/api/pandas.DataFrame.nunique.html y utilízala a tu favor)."
   ]
  },
  {
   "cell_type": "code",
   "execution_count": null,
   "id": "07aebabf",
   "metadata": {
    "id": "07aebabf"
   },
   "outputs": [],
   "source": [
    "uniq_cols = _______.nunique(axis=0, dropna=True)\n",
    "\n",
    "print(\"shape of the dataframe before: \", ______.______)\n",
    "\n",
    "if any(ele == 1 for ele in list(uniq_cols)):\n",
    "    print(\"There are columns with one unique value, and have been eliminated\")\n",
    "    to_drop = []\n",
    "    for i, col in enumerate(uniq_cols):\n",
    "        if col == 1:\n",
    "            to_drop.________(i)\n",
    "    df_descriptors = df_descriptors.drop(df_descriptors.columns[to_drop], axis=1)\n",
    "else:\n",
    "    print(\"There are no columns with one unique value\")\n",
    "\n",
    "print(\"shape of the dataframe after: \", ______.______)"
   ]
  },
  {
   "cell_type": "markdown",
   "id": "ecc74216",
   "metadata": {
    "id": "ecc74216"
   },
   "source": [
    "Una vez que hayas eliminado los descriptores constantes, tu DataFrame debería contener menos descriptores."
   ]
  },
  {
   "cell_type": "markdown",
   "id": "UsWMXVzn3yny",
   "metadata": {
    "id": "UsWMXVzn3yny"
   },
   "source": [
    "Ahora vamos a comprobar si hay algún descriptor con valores ausentes. A priori, este problema debería haberse resuelto anteriormente.\n",
    "\n",
    "Necesitamos considerar qué proporción de valores ausentes (valores nulos, consulta este enlace para más información:\n",
    "https://pandas.pydata.org/docs/reference/api/pandas.isnull.html) podemos tolerar en una columna de descriptores.\n",
    "\n",
    "Estableceremos un umbral bastante restrictivo de 0.00000000001. Esto significa que eliminaremos cualquier columna cuya proporción de valores ausentes respecto al total supere ese umbral.\n",
    "\n",
    "Iteraremos por las columnas del DataFrame de descriptores, comprobaremos cuáles superan ese límite de valores nulos, las eliminaremos y guardaremos el DataFrame resultante en la variable correspondiente."
   ]
  },
  {
   "cell_type": "code",
   "execution_count": null,
   "id": "3962884d",
   "metadata": {
    "id": "3962884d"
   },
   "outputs": [],
   "source": [
    "missing_threshold = 0.00000000001\n",
    "\n",
    "missing_series = df_descriptors.isnull().sum() / df_descriptors.shape[0]\n",
    "print(\"shape of the dataframe before: \", df_descriptors.shape)\n",
    "if any(ele > missing_threshold for ele in list(missing_series)):\n",
    "    print(\"There are empty descriptors, and have been eliminated\")\n",
    "    to_drop = []\n",
    "    for i, col in enumerate(missing_series):\n",
    "        if col > missing_threshold:\n",
    "            to_drop.append(i)\n",
    "    df_descriptors = df_descriptors.drop(df_descriptors.columns[to_drop], axis=1)\n",
    "else:\n",
    "    print(\"There are no empty descriptors\")\n",
    "\n",
    "print(\"shape of the dataframe after: \", df_descriptors.shape)\n"
   ]
  },
  {
   "cell_type": "markdown",
   "id": "3824b8e0",
   "metadata": {
    "id": "3824b8e0"
   },
   "source": [
    "Finalmente, identificaremos cuáles de los descriptores restantes son descriptores correlacionados.\n",
    "Esto significa que debemos encontrar qué descriptores son colineales, basándonos en un coeficiente de correlación entre características de 0.9.\n",
    "Para cada par de características correlacionadas, se eliminará solo una de ellas.\n",
    "\n",
    "Ejecuta la siguiente celda para eliminar los descriptores correlacionados (puede tardar un par de minutos en completarse)."
   ]
  },
  {
   "cell_type": "code",
   "execution_count": null,
   "id": "1bc1226c",
   "metadata": {
    "id": "1bc1226c"
   },
   "outputs": [],
   "source": [
    "correl_threshold = 0.9\n",
    "\n",
    "def correlation(dataset, threshold):\n",
    "    col_corr = set() #Set para almacenar los nombres de las columnas que tienen una correlación mayor al umbral\n",
    "    corr_matrix = dataset.corr().abs()\n",
    "    for i in range(len(corr_matrix.columns)):\n",
    "        for j in range(i):\n",
    "            if (corr_matrix.iloc[i, j] >= threshold) and (corr_matrix.columns[j] not in col_corr):\n",
    "                colname = corr_matrix.columns[i] #Obtención del nombre de la columna\n",
    "                col_corr.add(colname)\n",
    "                if colname in dataset.columns:\n",
    "                    del dataset[colname] #Eliminación de la columna\n",
    "    return dataset\n",
    "\n",
    "print(\"shape of the dataframe before: \", df_descriptors.shape)\n",
    "\n",
    "df_descriptors = correlation(df_descriptors, correl_threshold)\n",
    "\n",
    "print(\"shape of the dataframe after: \", df_descriptors.shape)\n"
   ]
  },
  {
   "cell_type": "markdown",
   "id": "RO6QGA4e64P3",
   "metadata": {
    "id": "RO6QGA4e64P3"
   },
   "source": [
    "Ahora tenemos que añadir las columnas 'SMILES' y 'y' al DataFrame resultante, filtrar el conjunto de validación para que contenga las mismas columnas, y guardar ambos conjuntos."
   ]
  },
  {
   "cell_type": "code",
   "execution_count": null,
   "id": "VikdhrDS8Ybo",
   "metadata": {
    "id": "VikdhrDS8Ybo"
   },
   "outputs": [],
   "source": [
    "#Inserta la columna SMILES y la columna y en el dataframe df_descriptors (obtenidas anteriormente)\n",
    "df_descriptors.insert(0,'SMILES',___________________) \n",
    "df_descriptors.insert(1,'y',________________) \n",
    "\n",
    "#Guarda dataframe df_descriptors en un archivo csv llamado \"Earthworm_acute_toxicity_Train_descriptors_elimination.csv\"\n",
    "df_descriptors.to_csv(_______________________)\n",
    "\n",
    "#Obtén las columnas del dataframe df_descriptors\n",
    "train_columns = df_descriptors._______________\n",
    "\n",
    "# filter test dataframe by columns present in train df\n",
    "#Filtra el dataframe df_test_for_selection con las columnas que están en el dataframe df_descriptors\n",
    "df_test_filtered = df_test_for_selection[_____________] \n",
    "\n",
    "#Guarda el dataframe df_test_filtered en un archivo csv llamado \"Earthworm_acute_toxicity_Test_descriptors_elimination.csv\"\n",
    "df_test_filtered.______________(_______________)"
   ]
  },
  {
   "cell_type": "markdown",
   "id": "ZmsVs8N9_vfY",
   "metadata": {
    "id": "ZmsVs8N9_vfY"
   },
   "source": [
    "### **Q1.** ¿Cuántos descriptores tienes después de la selección de características no supervisada?"
   ]
  },
  {
   "cell_type": "code",
   "execution_count": null,
   "id": "Enj6QsNN_xnW",
   "metadata": {
    "id": "Enj6QsNN_xnW"
   },
   "outputs": [],
   "source": [
    "#ESCRIBE AQUÍ TU CÓDIGO"
   ]
  },
  {
   "cell_type": "markdown",
   "id": "55d38f51",
   "metadata": {
    "id": "55d38f51"
   },
   "source": [
    "## Sección 3: Selección supervisada de descriptores\n",
    "\n"
   ]
  },
  {
   "cell_type": "markdown",
   "id": "-UF-Ov_kW9bM",
   "metadata": {
    "id": "-UF-Ov_kW9bM"
   },
   "source": [
    "### Algoritmo de Eliminación Recursiva de Características (RFE, por sus siglas en inglés)\n",
    "\n",
    "Una vez que hemos limpiado y dividido nuestro conjunto de datos en entrenamiento y prueba, podemos proceder a seleccionar las características más relevantes para construir un modelo que prediga nuestra variable de salida.\n",
    "Comenzaremos con un método llamado Eliminación Recursiva de Características (RFE). Consulta la documentación de Scikit-Learn para más detalles sobre cómo funciona:\n",
    "https://scikit-learn.org/stable/modules/generated/sklearn.feature_selection.RFE.html\n",
    "\n",
    "RFE es un método que puede utilizar diferentes estimadores como base para ordenar y seleccionar características.\n",
    "Estos estimadores son, en sí mismos, métodos de aprendizaje supervisado que proporcionan información sobre la importancia de cada característica.\n",
    "Aprenderemos más sobre estos métodos en la próxima sesión práctica, pero por ahora es importante tener en cuenta que conviene usar un estimador acorde con el tipo de modelo que vamos a construir.\n",
    "\n",
    "![RFE.png](data:image/png;base64,iVBORw0KGgoAAAANSUhEUgAABJgAAAKOCAMAAADd1VM+AAAAAXNSR0IArs4c6QAAAARnQU1BAACxjwv8YQUAAADMUExURQAAAAAAAM/v7wAAAAAAANfn9wAAAAAAAAAAANXq9AAAAAAAANfn8wAAAAAAANbp9QAAAAAAANfn9AAAAAAAANbo9AAAAAAAANXn8wAAAAAAANjq9gAAAAAAANfq9QAAAAAAANjp9QAAAAAAANfq9gAAAAAAANjp9QAAAAAAANfp9QAAAAAAANjp9QAAAA4QEB4gIigsLiwwMjxBRElQVFlgZWdvdXR9hICLko2ZoJSgqJmlrqGvuKSyu6++yLrK1LzM1sfY48ra5tfp9XC9pioAAAAudFJOUwAQEBMgICIvMDA8QEBKUFBYYGBncHB2gICFj4+Wn5+or6+4v7/Lz8/c39/u7+/NA5QJAAAACXBIWXMAABcRAAAXEQHKJvM/AABfNklEQVR4Xu29CXvjOJal7Qh32V2ucpcro8IZrnRndHrSla5UmtJo8fL5kzUa/f//NOcuAAmKlCVa1ObzPk9YBAhcgCDviUtwOyKEEEIIIYQQQgghhBBCCCGEEEIIIYQQQgghhBBCCCGEEEIIIYQQQgghhBBCCCGEEEIIIYSQfeQyu/Gl1Ti+7mTZiSecBrZusktfIoSQQFNhusqALwfWJEynp75ACPmgNBWmToWiNLWVcpGd+RIh5IPSVEyy7NiXctYjTDcUJkI+Og3F5GTuPA5QmAgha6GhmJxRmAghKwDJOL/Nsmu9ZBYml/X3MruUi2m351i8y+50DcRE84IYfEHV2wtdzLKzq+wOhQMXcZ3MfGO15gon37Ps+2kQpnOk7i7tVO8My53vPp0tCWsW/bnodC5jv9SA2LtUy1LmBN3q2FZABo9vshtYkS7cXc+fRab4ht7ZdhBCtk+WXahzd8R9S8J01dFVZ9f6I6sus1v4OlAnPrbl7FoSWXYTFhWrBCGbE6ZTNdv5bsLk5W6lfetKlqm8eUIKQWawdFfqF/oQhclsZh3pF4RJil8E0538PgUrr+ThGgzahtjGE0K2DvwRccZZJ7tCoiRMWefs6OQ262Rfjo+vsw5WiGN/QXRiNyV9VyG4sEtuuuZLVJ+rrPNF14nd9FTuNrvVFlUbvkAPjo/ObjXRyRDewPodlk+1YzCAJqAz18dnX2K/Cn2wU7mTTnZzIpGYiBBa65wdXx3DArpweltQyxphyjrnR9jCihl6Qsg2cA+186qyMEnkgsBFtOVYQx7kaYkbyYPj60nXmYZbOLmShHPiQRVEwqRCc5Vzi85Q27QI4gHzHZj3YmgKdr+bvS+iUjeqinm/tMqNCo4J07VFXJYHM1rAzxXRnvzUA4NiQ7tACNkF3IkhLvhbEiZ1aLi5ys+tC5MKwLnIxVUIRW5FwdyQ8yW7tYVbMZUI07UKnSgPdEMNCVfIDU0pvgyVOkF/TPSK/XLBMWHq2Nkf8tBQMHOZ3S0VAgWDN8kWEEK2h8/9mHSUhEkDjiAqqgBhwhpyITkaFEkuihcmkUBQH6yDpiTCdOMiorYug7idIYWYpXNtKyWgsgWh1C8PzTQY024hPnMJEk0KreH37ipXulrCRoVWCCHbZlVhch2RajbfrECFUmGKTn4uVhJhCgV1zXc3ABBi2Xz3d9EmEapIqV9uWg1pt3L7EtfFlE5+d67f0iYKEyG7xqrCVBAFVREDJWuESQWmUph0jVw+C0iepXWiyNRCKfWr0AfrVm5fknnq4k7NeWAHcCoayM1TmAjZNVYVphgxnZakqEaY5iOmMMfswlQSg5MvEkSdY61PUgmlfnmVKmFKIiZweil3AsSpJgoTIXtBpTDpDQDVwmQ+nM4xKakwrTzHVODkDs3HOSaRmpIwRXGE4Gi3queYHCSLPZuHwkTIrlElTJCdWmGyC1gXEs9cB4W4s6tyRffXAsKtXOpKpCJczNOrchfhqpwo2aWrmU+mF6/KmWS4MFkVu6Cn3bIeaB76l/fYMq1IPRQmQnaNRJiuwr1D9cJkl9TDTQCqHV9UrVJhCvcxnc/fx3Rmt2LbfUzHfh+T3hMFqdHA51qsx/uYoHAlYTLB0XuprFuoYfcx6c2UoTXfGqgWhYmQ/SIRpgvRnWPokglApTB1LvQOa9GBG73z+0u48ztx/yuYOq6+8/tGnrU7u7NpHliUO7/vNIG/p0fHyIJyQaquj0UjoUJlYUr6IPHXSSe7PS3c+a2lIY5Xeju4B2V1UJgI2TUSYULEofPCLgBVwnSrF7o6dpqVPiuXCBOCGEUjmVSYvNqN2S+W8yfeLNjyZ+XEeEmY7rSY9QEyJZnFmrE1t2AF66EwEbJrpMJ0fNmRB/oXCNMNIpAsPP9/LNe88rcL6G9E3y5g91KnwqRvAL89C3pwcZO/XeD0OwRG3xsA5O0C8m6DOWEq9kEecRM79nYBzctbO4dpf+XAAihMhJD3EnSEEEJ2BgoTIWTnoDARQnYOChMhZOegMBFCdg4KEyGEEEIIIYQQQgghhLzJp7988iVCCNkJPv3XvzIKEyFkh/j0939lGYWJELI7fPrHv/WtGBSm5Wl6D5G8T0BeslSkga39fP7/uGOv7GzECV958LH49KPJEoVpFZoK05UMtC8H1iRMp2+8banEisXXwVVZko+O7E0xS3Gt7/skH4NclihMq9BUmOwllylNbaVclF8DtZgVi6+DE3/Hec7x7QpbPl+dHCyfclnKsn8b/wr8r8D/RP478k/nx5x/OH+P/FfgL5H/DPxH4FPA+7QXNBWTwheUIusRJnvn99KsWHwdXNub0Qsk38x7k+/zARc5WP7hqgRcKFw4/vM/XUr+8hdXF+CCA1yE/uGiJLhU/dOlC7ic/c//uMIBF71//ctl8N///iPg3QCe8ccfXgR4rcVy6R0oyqV3syCXvinv08GGYnIydx4HPogwHRc/kGesJkzn4UtY5EPwT1eDCpfZFh5CffrkWglcLBfLpWtQUS5dqQpy6Wr2F2+rGQ3FpPRqXeODCNMX+wxMkdWE6ahjn8wiH4RP/71rwrQNsP3nt1lmL8YuvVv7Ul/OfY7FO3kTOICY2Au7tRi8Lnnn91V2Z19yU/Sd37rOxjlXBHtldxCmc6TCO7/lNd+d8EZxSViz6M9FpxPfRX6pBsSefIpAP0bg7/zWrYAMHt/I91a0C3fX+VlkZXEH3Tm9kw+zHB1f3YUXj4uE+MZjlDrBVL5p10F27vSE7XTO7NGtn4nlm6ad0MOusOlQzDNpwQpL97IbH8zv/n28Cqr2Edl7TJo88UHJMvuWiH8LyQ5tF4Ar+/TImX3IRFZdZrfwSaBeWfpKyk1YVPzrJzewa0tRmOyLJh394GX6lRT/rIk5oiekEGQGS3elfqEPUWn8KynyOSkRJil+EUznl7UqizvYNMk8KX1w5UZMoY71xqS0sGnn/u26U/1GVMVnWY7jJ0INbJotIK+46dg0TWjd0AU7h/uiv7ZayeOtqn1EDoD/gDT54gcFRzP+lz6z77+VhCnrnB2d4L/x7Mvx8bU6mHjHF/x/bjclfVfPvgjflcOaL1F9rrIOYonK78rdZrfaojqYfFzz+AjBgiQ6ErHAuji5fFfuRAygCYjD9fHZl9ivQh/s3Oykk93oJ+T8u3Kds+OrY1hAF071I5iBiuIOzN6enFwdHd9JQCgft0NJmIIN2XjpDPoqslHcNP1WOvgijaDB72ZWpMY4dxkpbpqfyiWbjk3EaKOzUuC7jJB830+7d6azVLLZjlkUkDm3j8hB8B//7QsfFD/M7byqLEwSueC/etEWeCAcFXlaQr+Cq1/PBWfqiHBKSTjhS7zwbJMKzVXOzW9RW5r0L/Eed2Dei6Ep2I1f4oWn3rjHhX5pFfvUpSlN+BKv5sGMFvBzRf1seKCiuAOzujVoUNdpbZiSjcfW6Ay2foA43TT/DrmebnmXkWfDKOjnzuMI2Ka5MBU3HXW0eSRg3MNL/bw6SGQ9oWofEXIAuBNDXPC3JEzq0HApddhbOejhCOq15yIXV8Gtb+0ExbzI0C97C+Fj4pYSrtWJxI3hnmpIuEJuaErxZTjbCfpT8HjvlwuOKU3H5AF5aCiYuXSJKVJR3Almb012pGGEM27KN+5K2k83zc6zUODYuiqcFy7EfZdCeZ8UE6Zk0+Mm6nfN07EMQ1FB1T4i5ADw/2RxaONvSZj0/3Vb4y7teeKDkmMujFwUT/+3DuqDdXC0YEPxGMNsXQZxE2dFuNC5tpUSUNmCUOqXuTBa1IgFzSKIcQkSDw2t4ffuquTSFcWdsGlBXbRoMOUbpxuabtqpipBKzVlQGhT3BW9QI6G4aVY63XSUMy1SIwifvl/kouo2KqjaR4QcAKsKkzuTVPMZWgGumgpTsIS4QF0299RYUNd8dwMADm4zxN/Fgc15nVK/3LQa0m7l9iVmiCmdEPbP8zoVxR3fXAhi5DyW9D5r0+mmHd2JkF2JrHzxakJUlaAVhU3zbUs3PZTTFm3y+zZoU1g3D4WJHCjucnZolwRg/qBPREF9ykDJoDdG9F6PJcyGEgp6oJAjeZaG+jUUJknmqYs7NeeBnVBR3Mk3N3IZS3qfU2GyLl6J+VuJvHCeG4lmYwv5pnnFdNNDOWtRpvaBzYTZuoL1fGQoTORAcR+yQ7skAPMHfSFiOo0KY6Sp6L3zEZPO9QIXJi8XOPkikYTEKvk8TblfXkVb1G7l9pOICZxeyi0NpbOitLhT2lwjpHzjqiKmcwzJsZ7EuYWUglaETYNVKZhueigXWjy+kFuZ7KTRhz6SN0NhIgdKpTDpDQDVwmROkc4xKakwrTzHVODkDs3HOSbRjpIwRXGE4Gi3queYHCTznlUUd8KmxTkmIZgqClO6aVjXwXmaBUJhjqlAqhW6aSgoTaWbHgazIMjHfqdXyUYRChM5UKqECbKjAjB/0IdLVxfiPtfBs+5EalJh0gKCXvIONpRwMU/d7iI4s7j7pbu8+r9rhl7qKgmTVbGrWuaL2gPNQ//yHltm0V0rijtBmO5cIVS9gqmiMKWbJttxeq32UMM0LZYA3vVk00yYkk1HORsVGZ0gTlauPLRFKEzkQEmESa9V6yyuCsD8QY/zCXXGcBOAascXde/Ue+Ck6t/n6qzBhnJmtzXafUzHfjMPUqciNRrJXIv1eB8TnLQkTCYrei+V+2K4MUlvpgyt+dZAavKeVRR3gjCFmwy0/WCqKEzppkkPv9xZBOaX/I/vbJsUraIqmm+aCU6y6airo4LMcxFjHdgL71Jx9FIoTORASYTpQnRH7jg2AZg/6CEKnYt4bzOcCS76Jdz5nTjFFUwdV9/5fSO3Vp/d2VwJLMrtz3eawN9TvekaPgp/vT4WjYQKlYUp6YNoy0knuz0t3PmtpaEgV3ojduEMq6K4E4QJ0iB3fqP/2J5gqihM6aZJM7cxwtE7vzEsKkKKTUSlm4Zy0m6y6TeZjordBn6tDx3aXe9SPA/ASlCYyIGSCBNCCJ1cdQGYP+gvs1u90GVPg5WelUudwq4rWWgSbBhe7cbsF8sVH1MTlRTEeEmY7rSY9QHeLZnpA27emlsoPrpWUdwJwlRpKhGmpMsAI2Ldq2owPCtXtArtU7tFO1DrPJEMLMTZFLACChM5UFJhOr7syDPqC4TpBnFGFp7/P5ZrXvnbBfQ3oo/g2zlNlArDXlAQlOACwUJ4u8Dpd/isPdiPWmhJnpufE6ZiH47h3WLHXhegeXlr5zCdPuxfUdwJ3ZF1hbcLmKlUmIqbBhBBBUNn6P/c2wVsZXHTztGALBU2HZumbxewcTiWLvjA4qRSB6GKqn10yHz++vNv9/czsk/c//7L18++Aw+ZXEH2gosQTi0maG8FxVPRD83nn6hJ+8pPf/KdeLjsmTAdd5bSlXphWlLZDp+vlKV95qvvxoNlz4TpaP6d31XUCxPf+W385Ac42VN+8R15qOybMC33mZNaYeJXUgzq0t5z4Mq0b8J0dBXuM19ErTBVfJXuI/LVD26yxxz22dzeCdNxZ4lJojphWqry4fMnzi8dAoc/A04+FjyROwh+9t1JyEHwmQHTYcCQiRwSnGE6EA7+ngHyofjFj2uy5xz6LQPkY/G7H9dkz7n3HUrIIUBhOhR8hxJyCPhRTfYe36GEHAJ+VJO9x3coIYeAH9Vk7/EdSsgh4Ec12Xt8hxJyCPhRTfYe36GEHAJ+VJO9x3coIYeAH9Vk7/EdSsgh4Ec12Xt8hxJyCPhRTfYe36GEHAJ+VJO9x3coIYeAH9Vk7/EdSsgh4Ec12Xt8hxJyCPhRTfYe36GEHAJ+VJO9x3coIYeAH9Vk7/EdSsgh4Ec12Xt8hxJyCPhR/RaDrMDjbPaYZb7mbVA2e/Bl8IzkGL+DbGAZ7yCrsjHft8fsWTfBk62yysi8waA78aVl8B1KyCHgR/Vb1AnT+El/FiLC1PdlMEJys8I06fbwt3Vhmqj6riZMTzISdYyzkS8tg+/QtdPi1ybrv97fgEv5fm2WnXkS3OjRCjrfzz2riK/MsrvrU82I5TPZ5DNfVApW3+K6s8RXeMlb+FH9FjUq8iwi9RYiTNnUE7NZF6nNCtNIAqbWhem1u/r2jHQkahksXp3iO3TttCNMF/JnWWE6NeFYyElHPvhfLUzgi+cV8DVCR2utR5hOsitfIu/Aj+q3qFERjZ7eAkLRy148MXuV/bxRYZpkXflpW5gabM/YRqKWl1VM+g5dO60I03XmC8twsYwuXOsH/0vC5Lp3+j3TtSmx7Pltdie/qU5CmHxpRawn5H34Uf0W7xSmUX5S8giV2qwwPdgM1x4K06yXLT/L5Dt07bQiTCs5/c0SwnSSfZefamE6OrrNJJ5KycuedDKJ4NYkTKcVbZFl+Kf/Cn5Uv8U7heklk1kepZ89bFaYpl3z7n0UpocVZpl8h87z6UdfaMZ+CNNVptNIdcJ0kd36Uk6h7LWefq1JmKCCnGVqRJbl0uRH9Vu8U5imWfivH0svmxWmZ59530dherWz0KXwHVrm049/NHUwYz+EqdPRnzphqlKZQlnbxnUJ05eqGS3yNjLLE6TJj+q3KHudOj9cXfAsZTzsZll3mLiblB1kfvnuORu4O1Y6MtbBRpb1IHjTUTfrPvqs+fQBZ4D9pzCHPsE6lInC9Iy+9EYmfiVhGvq9CiJMj72s66Vg8rGP3ve9BU0FE54M63ImI3RjIHPpgm6tpdCoMPbWB9njFI1lw9fZ7AWWBmFE1IDXsSq6BS/Y5u7ICmEMpiOkpO3C5Nxb+A5NEVlq7GAGnPb4upPdBi++kDniG528Pjr7Lpe8fGr6FKU61+n8SjHvBMvZjQQ2Nst8ZkpwmV2qfay4vMvuXBtOru/kchlqXmphyRYDbgyqcXyT3cRJ8XM/faoXJhOuIokwyYnguoTptCI8I0uge9qlyY/qt1hSmORWACW4riBlH7OhJUbZ0xvCJPc5gYdXuXwXbjTwRNY3pfAkOqA2pt6TbtAI+QmEqEQKWymIBQgmzeZURAp0TQheRT5Az8oGnr3OQLvhPdU+zAnTgxnsTnxMzG6ooqdotiS1w7hp/zEGkCnr9nD5czndnSkmS+8WpttbtWJadK3LmZ77XPiynkV5olO8glbMO4UsCahYEqYrW3NmplUcQuHOSS5MnteRfkA1xIh1CVx5kFInTF8qwr5C2e9acl3CdNThuVwjdP8CkSY/qt+iUpjmTuWQ+4iQ4wXuGyIPIGXjOUk3e31DmLL+eDaRcAUyg8hBnXWC+OhlNn3quoogiULivmoDgoPY5hU/oiPeNwcWTcxElfqT2RhhmNvoQyxEN8T3hypJ435cKSL30st6VtmALXROuiEy+4qaE4RWPgi+Pda6NIYuPaFCNtRGdZJNNAddfMXmyWb5SMweoMMT7b/nZqPpRJX8MZ+cewvbtwWCLL1bmORi+wlUQ2KVcxUGScH3Otn1sSzLNa3TLPt+cnTyPSvcxpPkfc9uT46Ov5gZ65MLk1ytP7nNOtmX4+NrC21upeLRecfnfkRBTjrZjRnDGqhG5+z4KjZ16yJTI0zHd7mGRfKy6Kd0am3CdGNSTVbEjlbhn+sVpq7//w7X0v/7DS3bNRd8haO5O9YJkyrDCzqnFczkAJGHpLBaGnz0qEfOkfCDMMSaG2h8lQoTytoC3F5VDZGS2IBmmHgO1PfdxMR+cSalDUCgCves48TKIjZ0AyoWRGNkv2Vh0pHxHobWhl4FdmWzfCTwE842ZeORjGqE5aIyLsJ3biCXpfcLk/rrjYqExRaiSWfBdY+zDBHRd7sslnh3kuc6cKuxTSpM4sYIrsQ+jKHYqcubBTomTNfZrebdyFkbmk7mccI2VgvT+W3VyVUoe3xh+ofyAamHJiL5Ji0Fzk59ae/JD6LN8sf/8cP6DSQCCEi6UpjgRX7mk+Rr2aHlPMIh3R3rhMl8FCqiv1oKcuFTVFAM/O25AEK+xEY/WEIMgw6kwjQKK7EJdjplQjIIJ5dWPLTQF9PT2P+n4uyzz9qDoVSGMKloIFtEpyxMug4pbdS3OW6HFfZc2yhg2xnHACDHm3wTP5KcT42PqL+4hQCEQwXhXAOjcEOQiAVcN563QVBsxXmuAWleIiWJMGmMFIxp7HPpU0ZnBWHqeBhyLnWLTQOEPLZQEqbI9xhb5fgqwXRkjcJkgnwA/PHJFzaBjzZk6cdPflS/xVLClDMvTM/mtn346RvCZMFPHkSgFEIijxtUG6A/JjGIp7DWoxyhJ+1635woQNgEW0Abrp+KFcfZ50PMRXt+KpoIg4dGAAU0Cuo/5/FMSZisKFJawrc5kghTLwqRSixyffNAvm1v4Ts38g/fXcBzmhGuykFm9Becffku8zvHMhftJy1ndo8iKBRL8uD23y+CPlghFya1Dx2QH1ch4eT86k4taNaJ66PUPY2lHRMwUC1MOAWswFciUnPDMcJSSk2sQuzO/rMNYYIsrXmOSZmM5YJWWZjg4fBQ/evuWCdM5sDBgpbKZ1oQyzxJIdcNXRvrSFojGe2b0w9die0VxWb8PIIkYeFBRqQ3MkUoWIgxDsh7jCZfZeILDJ6KfQl1Q9FgqdDH2XT8NLRQz3Nz8XmQ2KlYtnKEq/GdWyBKk6ebEaIXd/qTa5sKFye2uW19EO2LLhpBfdI8m7u+NW16U5gubnz6O2TlOiEx1ZLCJEJzoiJagZU9u43z9RSmeTYvTCpL6xamyVMIrcrCZBe+n0U43PHKJpXolIkwFYpKfq4bugKRSw7S+WohdiU34lkveuVekJQqE7RJpEkvigXyLfFLcga6GS7d6YX9YN9aD42FvoTtmj7LHQaCrLfcghBp8UJ6foTr0V1bwqXJU82IEybqyDiRgrpcn5sTn1lQAuWSKfJA0IZSnsyYA50psj7VC5OIX+fmC5QvZOU6IckVhEmmuoq5Ec89vgvz9RSmeTYtTC5LaxYmvZreHTziXKuQb2X1wZChz6GI45VNKtEpgwUtVSgq+cHbfQWSOZb21ULsSm5Es+wWg/7oGYqkuRO5UwpAmYonroUt8QxDu/lsEqbTYW7fWg+Nhb74dpmUDR5ebL3lFoRIixfShe6/ie3PMipNvtyMQsR0Kmdv39WdgxOfyFlddh7kJWEu7/hCbmWSiWbrU60wXWadCzn9ssz3RUxothPPKYuEsrBlW0hhmmezwhRlab3CJBf1n/XEJsm3svpUij4d4o5XNqlEpwwWtFShqOQHb/cVedJI07EruRE9PYMe2Q2NheKvTxAOqExl10pb5Uxf5B4kCbO8kpkLFoJx365+1n3UmSxbb7kFIdLihXR1m9X4Dp0D0uRLzQjyonNMF8HFO7kTn9xhOZ9PyqnKO/6u5qxPtcIUru7jZDBkNZpj8j7CTFFynFg2RFQUpnk2Kky5LK1XmB7sUj9I8mPZyVjnitzxKr0/OmWwoKWSOaZnKVSaYypOZkcxMGrmmPILb2lxhECSVbgWlxPn0VM8PnT7Zi40FozbduWX9Wy9b21xjgkbGsdASEd4Eb5DK/iH/zbDr5pBk25zlYJMXCKhV9nxeykZNsNceCotyTvzfHPaN4QpaAZO/kIWxCpclUN/5oTJk9XChLoVL0mKZdFP7cLahCmM0gGwUWEq4kf1W0SvdqLYFN0mFqo6lcNanDXJ5Sd3vLJJJTplsKClkqtyr6IsNkk968latJZcuUqVpnBVztVGL+/n3q9SFMHKwj1OKcOojymmfb49i4Qp75leTgydKF6Vy+fgjOLk+2J8h66dS7/Of2sqYvKCIOMSEnGn7n4ta27sEvnxXeGugGIeAi6dY75YTphUhE7tNNSEKdzHpC8KKKtGSNYI00VVyJSXhf7J4hqFab61PeWwhAlr54XpKRvJzQJNhAlK5PbS+5ggSWJD5UlAObhx7v5C8T4mC6z0qn9saKpX5WIdFaa8PUhiHo0h4Yqh3YiFVhcmJGW9dwLWTHet/7FrAFsYl9/Ad+jagTB1LsLt25CKy+OjU5nzhu/dydNqxyiAwAh+LHd53xRjkyTvOruD2lzYG0bsQlmtMH2XR/OOv8iFOc2SOaCTTnZ7WrjzW0sH3rjzG+vnQ6a8rNxUjp+1CdMB3fl9EMIUIgp5Cq2Q72Vf5UVMsuCOt4Iw4W/pzm+TC2iNrEXSQqahenh0f6V457c2CF+H98cwS6aICsmhzmSjPW1gGjVPkKdYVEFQGt2Im7v0HFOIxOTBPFnvW4ufcNOW3/kdxQjLHiu+ie/QtYMg6Q5j5BfV7cpadql3gIcn2nRCqPhcXKCYd+y3GehEsyhbfFZuXpjc8K1dlZOre6XWyqqRPysXgNGC0KC8tJvoViGBFmB1TphyZEWy2jvgnfdVweIBPSu3p8LU98dZDUQUQ3l4rJvZw2ROcE7Ilea6460iTBOYfJlNn7t+s3VfHmXLn5WT+6ams1ekXbYk04FFOy2TS2322JpeROvp03BjaIGqHH6fpvrknIiMtIe18l6AqBEA4ZQ8K4duuIAMUPPFDT6YeC4SJkREqD97Rtsql1NXJJmIn2j/5bwtjgF4z7NyawK+J7cChXcIXN5lne9nOm0ErfgOsbDLdPBVJMpvFyjmHcsLA25VxDTmujR/rhImfefkLWIznVg6hhpKGXu7gPajLEznfq+1qoiSChOWJayrEya7brcuYTqktwvsqTDhp6gCEn2Arl8Nd4JzYq3Ol7jjFa/JmwiB6JSpMOVvF7ATK3nIV1L+MEp4NYCd4YX2nDAhNZDigkc9bnEItUGT0YQ1G189YHFUANKrWDwVUr0QzYkla71amGKNR8+XMZCCPnDWeFGY3vd2gQ/EXSpUdcSXtzThqqhbC7i0EPIg2FNhmj1YvBF4gnvLS4ySy1qhLLwyePDKwoQ4TK7kx/cjSbL3OI3dkvcxhddAhfac/H1MA6+lydmrvO4JVXCCJnqpL2DK3yRVej1TQF+nFLuh72OKKQRCsGSt1wiTvndJrCItwzZFUkdK3kEVGi8KUzdM87+N79APynJicFyMmFbmdklhuqu4BLiv7Low7THPy58N7RzjosC/ge/QD4q/83sxOJn0pSZ88Zsf3uKg3vlNYWqPbjGm2y/8OwpL4Tv0o7LMt0lO7ooz86vi02NvclBfSaEwtcfjCt69Y/h3FJbCd+hH5aRjd3tuneNDCpgoTC3i35XbQ3biu3L7wuWOzOzsSj/WA4WpRexLvHvITnyJl3xkKEwtMunqjUZ7x2v1s3k1+A4lZI1QmNrkcZXIY3cY2e3uS+I7lJA1QmEi78R3KCFrhMJE3onvUELWCIWJvBPfoYSsEQoTeSe+QwlZIxQm8k58hxKyRihM5J34DiVkjVCYyDvxHUrIGtmaMN37YU32Hd+hhKyRrQnTb35Ykz3nd9+hhKyRrQnTz35ckz3nF9+hhKyRrQnTD35ckz3nm+9QQtbI1oTpsx/XZM/5k+9QQtbI1oSJ53KHAc/kSBtsT5gYMh0C93/23UnIOtmeMHGW6RDgDBNphS0KE0/m9p+fP/u+JGStbFOYqEz7DnWJtMRWhenoqx/gZB+5/0pdIi2xXWE6+jODpr3lV857k9bYsjAdHX3++uvvfqSTveH+12+UJdIiWxemg+ZH/yWErASFqU0y/yWErASFqU0oTIQ0gsLUJhQmQhpBYWoTChMhjaAwtQmFiZBGUJjahMJESCMoTG1CYSKkERSmNqEwEdIIClObUJgIaQSFqU0oTIQ0gsLUJhQmQhpBYWoTChMhjaAwtQmFiZBGUJjahMJESCMoTG1CYSKkERSmNqEwEdIIClObUJgIaQSFqU0oTIQ0gsLUJhQmQhpBYWoTChMhjaAwtQmFiZBGUJja4T+UTP9yiAlZEQpTO/w9y+FHnAhZEQpTS/zbVSnLOMSErAq9piXykIkBEyGrQmFqixAycYQJWRm6TVuEkIkBEyErQ2FqDQuZOMCErA79pjUsZGLARMjqUJjaQ0Imji8hDaDjtIeETAyYCGkAhalF/s2AiZBG0HNa5O8MmAhpxFqE6fPffvr19/v7GSnxv/+vLxDn/vdffv762Y8bQup4vzB9/uE3P+hIGepSNb/+4AcPIdW8V5g+//C7H2yELM/9Vz+ACKnincL0Z0ZLpBm//dmPIULmeZ8wfeW8EmkMgyZSy7uE6asfYYQ04ZsfR4SUeY8wUZfI+/jJjyRCSrxDmKhL5L3w6hypprkw/ZnzS+TdcAacVNJcmH71Q4uQ5vzuRxMhCY2FiSdyZB3w0hypoqkwfeZ9lWQd3PsBRUiRpsL0gx9XhLwPhkykgqbCxBkmsh44y0QqaChMf/ajipD38ic/pgjJaShMPJMj64LncmSehsL0sx9UhLyXX/yYIiSnoTD94gcVIe/lNz+mCMlpKEy8WYCsC94wQOahMJFt48cUITkNhckPKULejx9ThORQmMi28WOKkBwKE9k2fkwRkkNhItvGjylCcihMZNv4MUVIDoWJbBs/pgjJoTCRbePHFCE5FCaybfyYIiSHwkS2jR9ThORQmMi28WOKkJw2hCmLdAfPnreQcZaNfbECrH30xVUZZANfWp3HLPOlXQCDADzRmKzxeLxnJN/CjylCctoVJtCfeu4CNi1MTwtai6xHmMZPvvBOVhWm6k1cuzCtZfP8mCIkpx1hCkIyHmTZgy8voDVhqma0qLX18ryuri8eojlqNrG5MFWzns3zY4qQnHaFaTYbZtnEF+vZrDCt6OPvYm1dX63TdaXXLUzr2Tw/pgjJaVuYXrPs7WkmCtObUJjIh6JtYVrq2KUwvQmFiXwoKEytQmFaAj+mCMnZnDCNh90s6w7VYeA4SGdZ71Gv2QU/6pf8SYr0X7DWTEwfUaBvVTzVG4UZrMmoB7ez00aYeexmw1e/ljTIHqcP3axrZfXyljnoC+x3R95krOTYVblHlHyWZl9wWio9thZSk2D6gOb7T9Y3VHodYOMG1pZkafdC/6T2I9I2GKDY+XLKiFKjK+MgzF5HGNWhl4Xdlx66as0WNWiCYr1HbKNnPqNr+dhJyvcMKA5zsIiF+ZEsbF7SjXwkS52twY8pQnLaFiY4lLn6yI5im3JC7rOl+rLOvQ5FEm/0Ijj+1d4rDnKhpwan8B6hC8UAz3AMYSQJ+IgsP0Z3erDCXampS5ofumSNxkpOFCYv9uLd0auMqUn0zZu3myMes770tetdRI7X9f7F2llF52NqUPTnIEyhoZ6JSrBrNQe2CS4YBWHyWlihmVMv0bUtD+Ngmx6GWTclWMTC/EjmwpR2I45kqbN1+DFFSE7bwtTPevoLN3/E4fmCQxU/cLNuf4z/UKNOwetwdNuB7SB3MJmNxRPE3hT/U6Mw/gPvicsMVZKwtiupVziS2ZMba1CjP5niv/XgTvj/eyJta9ng4w8QmckMoY0pU6zkBGGCm6EXCDi0x+iNlCiZnGD1y2z61DV3lkpPszEkzIcCTUoA8Yra0pbURhiB2jo4aedRFimxNZSVTug0WoAhaJcqDGKjwetsgi1xwcu649nTcyztYOh6aEDkQquhHJqXLRd9eUK7U10rdaY9GeYpMqX5aLFyJMPmlboRRzLtbC1+TBGS06owTV+gG3Lsi0OZ6MBl4Jr4a0d2T49Z9SO4Z3r8DszL4fRqb+Sm4GUStLicTIKrq1qJXOEvPMP0JbiTWUYLYsi9Fj92ixW8TerGSk4UJq0Lp9NSfpWxZBImtC5sShKVXGJ9KIYuz+i7rBBhkCSkWHqSdh5nTpqCLYunlLzT2hBq4hfmNOKUBs2QDUooHXj0oYMuSq9R2YphhPWvdbanvzClZaFM+I0WK0fSN6/cjTCSaWfr8WOKkJx2hCkH/5MKOEZtwY5lJE0UHtQXxY/k6FaHDLjkqCagytR9QVzGxMduOu6LO8Wy+L8b7eB/bE3l7mRuOlJ9cK+F0GmmVLYwyys58DL7q/IQe2zdSE26BU2K0VAplI6dzTukm4ptQn7aefxxTRkWQybvNH50HFETdeDxPqq9EN/YEHrpgEmORTb46Zu6qL6gPk7XNPWgoxPKWt+ixcqR9M0rdyOMZNrZevyYIiSnXWEa+QFbQI9lHLLmueb94kcIOtLC+C/bfML+e87/24UjwzsQRz3ECrGsEUQkupNLjsmWe20vFHJHjZWcKEzhf3/rcRCmokn0zZs3WUElT7swRUod0tVp593lAaz6EvBOYyy6TzH8GEUthXjjb7TrpR1Ucp3Uk6oohDIGaB/ncENfXyyrRIuVI+mbV+5GGMm0s/X4MUVITnuncjJLYic4kclYLvhgZXScKEzIT3UBq4KHahUrqej/5fABubAU9C2UVawDILiTBQEuad547p4WtsVKThQmTcUeW7HUZN68xRl5X4tGp+MnaIB1SP4C37Ji5+M6aTKX6tA+xgmD5ZIce+FCEevG3ipI+X7QAoWVGiyhLhRk+KzqmJdVokVbKI1keTC8G3Gjk87W48cUITltzjHhMA1OhkP5CecBClZG34jCBEoqlnuoVtELPQGxr8oEbRJpyssq0TOCO3nSVljjBfe0TsRKzhvCVDRZaF5XzwvT9FlulhCsQ15eV6ed92JG6GHefrigpqfIwXpYHS0VNg7k3dECiNBypIJfBuyKsbysEi3aQmkkk7+CtRvTSWfr8WOKkJxWJ78hJuGQ1YO/O3i087LoOOYHSMql7PD/rpH7q1YJsqao1YncOgSgTHlZJTZb6U7WeMF3rROxkmO5wVFjcSu2ojDZJfjBw0vokJfX1WnndZMCoYfF7o7lliGTcbcumbo6WipsHMi7owWQzNEK0yeNbSRmzcsq0aItrChMSWfr8WOKkJxWhUkuqNl/lnI9/VmPTl0ZHcf8AMm+/O+aHL65v2qVPFng9Qke359bGTsw70440bLGC75rnSi4k2K5wVFjcSuWmiw0r6tz73ajfYQjOhChQ15eV6edL3fDKXQXiQcMLFQkL2uro6WkdKE7WiBPFpjITZbZtLwyWrSF0kh6B8rdSDchdLYeP6YIyWlVmOQwtwP7wW8P8JXRccwPNIlYqnAVSlaV5pj8IloJRGXFskrsQHAn94vaOSapnbpT6Fpw1NhjK5aaTOaYYDX3biuNc1qrHDvk7u5bls4xJaMQiO0bU73PIpncgapHu2lppFzytQCSladWOMUbF8oq0WLoeDKScTDSbpRH0jpbjx9ThOS0K0xT/GepHhIP8LpTOSRHIdOIl7rgBKgCt0kCqgB8oXhhS/8njx0I7uSNm99448WrcnaRO3WnN4SpaDK5KgenLwtTnrZ7DWPtsGWFzg9TjQ3E9p0HMVG8HCayHe2mpTGAfqVNFQK7oPLqPURV/3vwsqqQ0aItpJsdNq/cjfJIWmfr8WOKkJx2hUmcTo/JeETDR7EyOo65rCXhP8XjF0nzH9hAFZMnATLwmvu6ClMsa8IQiwZ3cs8v38cUhS8/LcmxFkI7scdWLDWZ9y3ex2RJLx3TsGId8g3V1WnnsXWuKfFGK8HbjzXV1/Oy4T4mXxt7a4R7k6A6UiAGMLrlsawKUyxr1xejxcqR9M0rdyOMRtrZevyYIiSnZWHCoapeF+IAeXoKK6MzmMt6shQy+Q3REnWJvXCjk50YxP/2h/rf9cDvzkQd/I0diO6kzuZ1vDX8WMgU7/zOey28JUxFk/N3fksKWDpEe/J8n3XIHTUYK3Q+3mgK04UOefvRksZ75Vuuo93YWwOrfYZLCyAZxk62PNyUb5FbuEschdBStFg5kt7/cjdCx9PO1uPHFCE5bQsT/jcVqcDPcDKbPnblYauC4+BQxl9PTsIBbkhynD8rh6Q+K4e0OWFXnvCCmMmpBzyl/xqf94odiO6UjXDC5eYRC6ifPGiuvDJAAqak14J1zf4WemzFSialby+zKZKqpaGS3ruJDEQm2JLZcw9bn5xymbG084ib5Fk52ArTcoK3Dw2Q+yNe+6aEUhY10Z5EKrndsIkBFH8uPCuHIZRn5ZCW5lH7AfsGMiJ1oCKyKci07XSLlSPpm1fuhlWd62wtfkwRktO2MIWQCQIidO2CebUwScr+KzfGiJUAqqq98Ky6lQlvF/C24CtK4T9yENypZ2v9mRdxL8n3PnnhpNfAumZ/K4QpNRn6Jg+t5pV0SZahy8qjrYnu7m0mnY+FkzvhQ/uhofBSBUtlQ+1GtBs30ZFnj0HfH0aJY2ehUhgHqxDeLqDrosXqkfTNK3UjjmSps3X4MUVITuvChP9N9SxObpWRN/Po1bUaYZL/YuU3IG8R6j9He+kbmDSVv0VIyoZU7EBwp8EUa/3lT6iJUEGnb+R9T9FC0mtgXbO/FcKUmkRv5MYFT4ZKQK6VQ2DkzU/Sc5hBKrp7aLPYeUkVbDmxfV1ZfA0VGgjvbop28010pHvobCyQvoFJbxWIL4DSTfFUrGAL+Jtutm9e2o18JEudrcGPKUJy2hCmXSP317XRgsnFRGHaKu1sth9ThORQmBpBYVojfkwRkkNhagSFaY34MUVIDoWpERSmNeLHFCE5FKZGUJjWiB9ThORQmBqxDWECntgaFCayIShMjaAwrRE/pgjJ+QjCRHYbP6YIyaEwkW3jxxQhORQmsm38mCIkh8JEto0fU4TkUJjItvFjipAcChPZNn5MEZJDYSLbxo8pQnIoTGTb+DFFSA6FiWwbP6YIydmYMMmLXO3N07tJ05uaCy+F2ywbv/k8Et51maAP8zW7P92PKUJyNiVME33Lqie2xNTeJFvNdoVprK8df4un4nO8FCZywGxKmB62/3T8tL/IZbbn5+C59Frfaka78IIBUC9MoIFQ+zFFSM6mhGmrfm8sdpmtdrD8vvFKgutvHQoTaR0Kk0NhWhoKE2kdCpNDYVoaChNpHQqTQ2FaGgoTaZ3NCJNerJEjF/8eu9lQbhuYPsjX057sC2WD7FE/ZyZr5Fu7g8QFH+EJz/JdOvmuq3yhLX4CrWTjpadl7Etp6ffM4DiCCoB84673kH7tLAiTfq4uftQt/cRb1QffzBFreiib9dDNurEnlR2Wr7oBydIWwgfaMFj6wTmrbYVySbAOx4Era9arfOltWP7Smy0UR0rA2Og39npYKd+N68ZNTEdKeoMysRfjYf45PAoTWScbFya5nUm8I367Vn1gkD3ABUBXPvotFD/eCrcPuf7NV/sAdtmG2obTTN3V5ZPigVyYwndoky/dup/H79D2dGVooKeumaacKExVPcw3y9qq7nAuTOGLtvYZ3Cx7svL6hW1dqhAmbyEZsNyS3SExJ0xhpAyMTei199C+AF4aKV+H7lrNB036plKYyDrZ8KkcDuP+ZIoQYIL/e19mU3ieOqn4Jv6bfsLqbDiRj4MXP8mLgz3kdvtj/eC1uOq8je549gQxwhKMveKnqD3BZfpZFyELQoZEmayDU4QAMICVPTEJyyjz3LXOpyknCFNlDwcZwsPJ7AVWxVxth1044NwSMr6itkgqVqMzUwyKyktwfScIU1e2FS0k3zB+gXi8ziaQDpe4kjCFhg0Rbe91X1qExuq6dKTkO8koJJqmA4BtxrZJG3ITFoWJrJPNC5OFG3AoXcDx7K6irgPX0HJwRiun4GDXXPiAOvirOc68DXM1/O9vCwP/n99wl8GPBhfwMzXqWAdHrlZYiTgAhrUBGMRvmgqY1doeWjaS1sPqDgfhGLq6oHXREwyW+jp0Qn5Qq0qYrCo6VVgJA7bl6Jdke6GCMHnDBixrryFnZsXaL43Uo4+N76NJCMeQb6OjVW08VsKPKUJyNi5M5jA4qv1eZ0gB/sJVxDOiL6ROWMi1czj1rzob8BxtS/VAXclwl+llQ02KLxfWagen0YOfxCTaM5lSR05TAbNa3UPpkm3GSCSntsNBOOJ6G60wWNALaTgdEy8TbKBTXlfIN822Nm5W7JY3bBR6bS2a7dJI9VyIJBrDz4OJGehK06F3Psqr4McUITkbFybzABzqflTjMMcBPfBYAYe15qdOiNwQaaj7m3/N24iiF4SjFxxSMJfBWrNRUCFBOwiTHgyh2FiErfsUo6M0FTCr1T2MXTJtqetwKJ0ThMkGywcjHRMvE20kJkbRMkI4/I0rS91yYNlGLLSotksjhc33pAVQQaekNaRD72w8VsKPKUJyNi5M5iGPcUrE/qv31fGwTp1wLlfN1Nko1B2E//MFs4K1QVz6xbVau+BVahJnLQgiHjz6SFOOVanuIYy686rO1XU4HxZhOn4aWkwSct1oYbsEqx1tFE3k7Zoi5itDt0LDRqnXXqA0UnnSqucN4lwut1EYwmXxY4qQnC0JU8E1NCuk5xxcqXb7OhtPoh+BWCRYKThOwYAn9GJVACbD5b2BilGaclKraQ9hVP4Kkq7rcCiNFp6Hft1O1oRcN5qOideONkJhJU9YpZi2hUJHlFKvvUBppPKkrkUAVSC3Uai1LH5MEZJzgMKE0jmxSLBScJyCAU+48hja07HcDoRzOAsW0pSSWi25+IrCZPcqDB5ebI3nBqPpmHjtaCMUVvKEVYppWyh0RCn12guURipP6lrUKZDbKNRaFj+mCMk5TGHS3zKWX1hbMOCJJCcwfoAa2dwLSFNlqyUXLwrTU9F6aQOsNM6Yuo8ajdkazw1G0zHxMtFGKKzkCasU07ZQ6IhS6rUXKI1UntS1pd7EdKHWsvgxRUjOLswxPeeuMufgSrXb19lAqXQayDErWJvPnISZGKC1dbZknmnPTStpyqxW9xBGXcLm55gKHQ6lbUpcsDVhsNxotG1YmWgjFFaSOSZsblwZulXYAFDqtRcojVSeDL17sqQRbISRWAE/pgjJ2ZIwJReoICPBVeYcXKl2+zobr/lVuQSzklxrKriW1k5vn8p5cNNGkjKr1T2MXTJ9qOtwKB2MhOteYbDcaDomXjvaCIWV4lU5kdqwEpucdMsp9doLlEYqT5ow271OkWAj34il8WOKkJwtCROOcvejcEuPucqcgyvVbl9nwx0HoERBetxKXAudKERWwRfdpK6MFlWK0lTArFb3EFVcisJ9TNUd9tLBiFiRNaG4G03HxGtHG9G2gN57UbsXqeeRGwTRulXYAFDqdShQGqlwfwCEX/KxDS6z2kawETdiefyYIiRnS8KEdOkmaPOBOQdXat2+0oYUt5BpGH1HcCv40f/5K+/8hkkVKztdCwEUUnDsNBUwq7U9NGf2IK6uw146NuD3VltuNBptG6HDbiMUVsp3fg/9JBKG04aNUq9DgdJIIaljg42SJCqZUKHbqB1shJFYAT+mCMnZljBNuln3ZTZ97tpDacFV5hxcmcs1MzU2zP+m+pR/wVklXFA/w1p5Agw/hYDJa4tJSIisREvwyB6qvPZVUNJUwPpW00O5yjfCOZzrxIIOD5CBiKqP2s+9DOWQG7rvRnFCVRBErx1tzG1r/3U2Qbf0Vi2EPMOJPDzY9W6Fho1Sr2OB0khhw58Lz8o92LNyaEOSwUYYiRXwY4qQnG0JU/6gvf8vbK4y5+BKjdvX2IALw5WUZBYEwqL14jPzKlMBrx1MWswVUlY0TTnWt5oeDrKe1bHXCdR2GNXFAPRDeTRzYbCCUZG5UCPUjjZCYSeYGlrD/uqDZ7tMmDdslMc1FCiNlDzkC/rhkR83ahsXbISRWAE/pgjJ2ZowzfQ1QuHlRsFV5hxcqXH7GhuCvI8pvCkoIk/tWwCBhfRtTXltfR9TXKnvR6pJGda3mh7CqLzfqOc9rO+w3IMAsXpBOCL2YQapsJXB6BRrJZIyrHa0URhZRd6dFF7sBPydTasJU3mkpPfYlrhW3scU2gg2KExkHWxKmD4mZQX4AFCYyDqgMLUJhWkZ/JgiJIfC1CYUpmXwY4qQHApTm1CYlsGPKUJyKExtQmFaBj+mCMmhMLXJRxOmsd4+4Iml8WOKkBwKU5tQmJbBjylCcihMZNv4MUVITkNhuvdjipB348cUITkNhel3P6YIeS+/+zFFSE5DYfrVDypC3stvfkwRktNQmH7yg4qQ9/KzH1OE5DQUph/8oCLkvXzzY4qQnIbC9NkPKkLey5/8mCIkp6EwcfabrAlOMZEKmgoTz+XIeuCZHKmgqTB9ZshE1sH9Zz+iCCnQVJiOvvqBRch7YMBEqmgsTEe/+ZFFSHN+Z8BEqmguTH/2Q4uQxtz/zY8mQhKaCxPnv8m74YkcqeYdwnT0sx9dhDTjJz+SCCnxHmHigynkXfzECSZSw7uEiZfmSHPuv/pRRMgc7xOmoz/zdibSjN84703qeacwMWgijbj/ytM4soB3CxOkiXc0kdX4lbJEFrMGYTo6+uvXn3/ly3bJMtz/9su3P/txQ0gdaxEmUsOP/ksIWQkKU5tk/ksIWQkKU5tQmAhpBIWpTShMhDSCwtQmFCZCGkFhahMKEyGNoDC1CYWJkEZQmNqEwkRIIyhMbUJhIqQRFKY2oTAR0ggKU5tQmAhpBIWpTShMhDSCwtQmFCZCGkFhahMKEyGNoDC1CYWJkEZQmNqEwkRIIyhMbUJhIqQRFKY2oTAR0ggKU5tQmAhpBIWpTShMhDSCwtQmFCZCGkFhahMKEyGNoDC1CYWJkEZQmNqEwkRIIyhMbUJhIqQRFKY2oTAR0ggKU5tQmAhpBIWpTShMhDSCwtQmFCZCGkFhahMKEyGNoDC1CYWJkEZQmNrhL38XMv37F88jhCwJhakd/ivL+bvnEUKWhMLUEv9yVcqyf3kOIWRZKEwtkYdMDJgIWRUKU1uEkIkBEyErQ2FqixAyMWAiZGUoTK1hIRMDJkJWh8LUGhYyMWAiZHUoTO0hIRMDJkIaQGFqDwmZGDAR0gAKU4v8iwETIY2gMLXIfzFgIqQRFKY2+W//JYSsxJ4K0+e/fvvt/n626/xf/91Z7n/56W8+pITsEHspTJ+/7b4m7RE/+bASsjPsozD99Xf3KLIe7v/qI0vIjrCHwvSV4dLa+epjS8husH/C9NV9iayTH3x0CdkJ9k6Y/sp4qRV4Nkd2iX0Tps+/uSOR9XLvA0zILrBvwvTN/Yism28+woTsAHsmTJ95Qa4tGDKRHWLPhOlv7kVk/XD+m+wOeyZMP7sTvY+xvilJ6Q3HntkWj1nmSw2x3npiDl25lm34xceYkO2zZ8L0qzvR+ygIExh5bks0Eabxky8ImxImnsuR3WHPhGk9U0xwdXfl6Usvy15suSUaCNNz9uhLQt7bat5avywUJrI77JkwrecmpqIrT3tZzxfboYEwZVsRppmPMSHbZ8+EyV3onSSu/JRlE19sBQoTIStDYVqbX9dAYSJkZShMFKaAjzEh24fCFBPTx36W9R+nmhhkj9PHXpYNX2ezF+QPQoXXURe5z7I4yTL9RVVfmoxQZeCZThSm50GW9UbxtHE8hKFuuFtBVnoCS4JmC6GDdV2iMJHDg8L0mHX19xU+L/Tg96ICD/B90J2M9Nev3T1bwu4x6IdbDV6yTPTsGVIjDEzcDBemqetN12XLrbqihZRESvXCVN0lChM5PD68ME26pi7TrmrGSy/riayIOiB4ekIMlQ0ns3HXrt1BgQavs8mDKdODaxp0pY+/MNsfz6ZP3Wxo2YoLEwzC3it+VPiQ+4jg6QVShh808zSdTYber+pTuZouUZjIAfLBhWmCIKev8c0o66piQKAe8CM6Ikk5ZZJfu3aHlaJAqiuwADtaZ9bTOj03hezCrVEmTIi0LFQamAWXQymL/IGnevZbK0wVXSpuzTvxMSZk+3xUYcoZqZhMoxg8aRgEFdB8yIqKjHk/5MWUCBIiUVE301u0J7oS0ZQLxLAYMpkw9U1McMaoJmDODWm7A6/wYEFQrTBVdCn/fTc+xoRsn48uTE8+GQ3J8SVTmYGfJ0EFQhSEXDtlE3Ayh7+uQKZlo3inJoz5ElBhyufJIWlF1TERwjncsBBk1QlTVZcoTOQQ+cincjJVFITG4hoFaiUqYBFOyLcq4ZRLwyOEPK5Apk+hihb2eAiohYJ4hOgITMZyIRAiBGtyUe5ZBademKq6lNh+Hz7GhGyfjz3HBGVyCUDMkoO8ahXIFcPSFl3hjE7CIb8kZ+RSoRaePFtRy5MnmcwWxKRfz+uaeQoT+eh8bGGa9sJSUAllaWGa9SXj1U4DvbKRS4VawJ8csaxK1B08oq6anD7ZrQAyiU5hIh+ejy1Mcg6ldwdErw8sKUwPci74WDVlHQnC5Elj0s16zzqpldeayE2WOn1EYSIfnQ8uTPB2E4Fwm2WgWgWSOSbRFWRPkatxTmHyqIhaQLl81gk8ZN2q+SSc8UnHKEzko/PRhQmLKhHhpqBAtQoUr8qZkHWzF+iIXlEbxqtyCWoBZ2zhqpwSzMuKgghNrWMUJvLR+ejCJLPeogKTKAZ2r1K1CmCdV7T7mKT6A1bpYr5yVAy/zEIvKBEaKlz0k7WPeX8oTIQoH16YIBQaKw3Cnd8mIdUqULrzGzxn/UfXKFmp52dpFGQW8NdCpqFGaCG6eu1q2XAfOOI2zjERQmGS8EZVYeLPyvVtXY0KvGRZ/3U2Qa7PJ0HX+nb7t60cz6bPsOQTSIJbkBuWprNXD9AQXQ0ns+kjioollHlAErqks1X95DFgChP5eFCYQsgkwYuikU2dCkBRlGFQDrnKH+a1w0qLvRy3MLXbAcK3D/z9AN0Xayi8XSA26s0KFCby8aAwyV2WKhb6PqbwwqQ6FZhN5H1MhVcuoXY+563vYwqvdHKCheIrl4DctyQl/XKg3ioQzT6gjShuFCby8fiQwrRfvCU8FCZyeFCYdh4KE/l4UJh2HgoT+XhQmHYeChP5eFCYdh4KE/l4UJh2HghP8e6BErqSwkQODArTzkNhIh8PChMJ+BgTsn0oTCTgY0zI9qEwkYCPMSHbh8JEAj7GhGwfChMJ+BgTsn0oTCTgY0zI9qEwkYCPMSHbh8JEAj7GhGwfChMJ+BgTsn0OXpjW9iTZ6kzlnXL+2t3WGKRfdwGDbjlnSXyMCdk+FKalmOi7uN9inKqQvkz3zcZLlVbkJX7pLjKez1oOH2NCtg9P5ZbhtWtvtV3Mc/JxE/k2QZKuplRpVXpzAZMEUc2k2MeYkO1DYVqG8LrtxZSEKL7seyFLqVctz1Vf/31Zqrfz+BgTsn0oTMuws8LUt48Al6gKo5bAx5iQ7UNhWoZdFaZx9VfJH5rNMvkYE7J9KEzLsKvCNLIPZJZ5LX6ifHl8jAnZPgcvTHZVDn9n42GW9aACchW/a99+e4TgPPWyLH7tTT/31nuwMyFUmo6y7uhBX8amM8r67bnw5Tip/Syfh/NPZCqyKHhSVEcr5V+bK9qIlaI+2QJae+xmQ/m2XFo7/XJdN5zJlT5o16s8w3sLH2NCts/HESb/TO6Df3G3LyshLf4NXPvUZPhcrn1KF5WgZVnm6gEz8Wu9fZGAvLbELbXC9ArNEHr2CcvERr0wactztUPlnkqnyK2SZs9mw0bncj7GhGyfjyNMWX88m0jw0X1G0GRS9Jh1JfsV2Roz9bPu03T20jNlkkqj6WQo+qGnclOURigyQW1xfKk9nGhtFYQoLoafyqESWhSjPVGzko1QaU6Ysv5kOpqUa6Myevbctf48mryWs2VF5dzTG/gYE7J9Po4wdcWxX+DxKkFdlxbLnvbUpZHUUyCogSRRyf3bhenJFQhpWYHimj0pi4vhwoSTQQ12YFQCq5KNemGyUmlt9EizEf3J78BvFihla4Zs1or4GBOyfT6OMNk0MSIR/TWpgXaYHphL98JdQUhCDmKlIExBCFxzgo4h0NL8SmGaxtwnnZIu2QiVYilbCN0s1UaPTKYs4Ov5ylK2SqXK72r4GBOyfT7QHJMmg9ZEYbLIAi79JO7sc8amB6jkaRemSBQmq+2ro4gYVihGMWW1eEOYrJul2q+I8J48A4Qn8UrZIGzuSvgYE7J9Po4wmSgEAQjCFOZiJPhAoeDdGgPFSqkwjZ/l4VwsuLQsFqZYKNcREG2ESnPCZMlybZ2c7z9ofCTy6f1LsoVSV5bDx5iQ7fPRhSkIjqQLKqCrK4TpRS7LK0gsJUx6dS2g6xMboVKsawshWa499ct4A9GgvH9JthDNrYKPMSHbh8JkLCVM5v/90fPD8sLkkmFEaYk2QqVY1xZCslwbnZJQC6duiO3y/iXZQjS3Cj7GhGwfCpMhc9JvChO0ZKQ5VnJJYQpNGCUboVKsawtpN0uMHyBCdo3O+6eEbKHUleXwMSZk+3x0YfIbgebnmEZFx7fSNiUurCBMj+njIWUboVLMtoWQLNUO2O0N+RyT43c9gGhuFXyMCdk+eyZM9+5Dy/OGMLm0wMef06tyT/PClKeHywtTvG/JKNsIlUJdF66QLNWOPGiLhdl0w7LB3Jpl8DEmZPt8eGEyKQr3Mblfx/uYqoVpalfUlhImqJ3nqtGyjVCp5ydh/na5UKlU2xsKChTuYypl6/0D3vNV8DEmZPvsmTD95j60PG8Jkz71hnMgvxFcdSq/89vd20rD3e3uIHlCDj9LCRNW+r3bKntlG6HS0G9c6Fs6mkprhwAKKdGxcLNmKVt7vvqd37/5GBOyffZMmH5yJ1qet4RJnjIb9/1yFmRBnpXDT3o5/sHW9/S5tTHEQguUhamfDYpy4Ksn/rQbjIq1ko1QCQGRPHYn2YkwpbWhmD1I56v3N9yGVcrOV6zELz7GhGyfPROmv7kTLc9bwgSPBxaW5G8X0MApFyYsyXJ4iH+IEy6sKQuTyJznCGF1fJ2AhkolG7GSRFDgeZAKU03t2EFTwjRb4i99QHg1/uZjTMj22TNh+rzyJNNbwjR7RAwzskADyPuVep7MhWn23NPp5Fd5ldNwLCEKUmVhmsn1elM4Ia7WNyoFoyUbeSX0Q94LVRamUm198VJMpe9jitl5/grcf/YxJmT77JkwHX1zN1oPUTv2lFF1ZDRu8gbLbz7ChOwA+yZMn393P1oL+y5MNe/QfQj3Wa4AAyayS+ybMB391R1pLey7MOHEr+qcrVt989NCOMNEdom9E6ajr+5J62DvhWlt35X7yUeXkJ1g/4RpndNMey9MszV9iZcTTGS32ENhOvrr6vd/17D/wvQyP530WhVFLeT+Bx9ZQnaEfRSm9Z3O7b8wzQb60vIio/DukyW5/8Z5b7Jr7KcwHR398PNaL899VO5/++UHyhLZPfZVmPaDH/2XELISFKY2yfyXELISFKY2oTAR0ggKU5tQmAhpBIWpTShMhDSCwtQmFCZCGkFhahMKEyGNoDC1CYWJkEZQmNqEwkRIIyhMbUJhIqQRFKY2oTAR0ggKU5tQmAhpBIWpTShMhDSCwtQmFCZCGkFhahMKEyGNoDC1CYWJkEZQmNqEwkRIIyhMbUJhIqQRFKY2oTAR0ggKU5tQmAhpBIWpTShMhDSCwtQmFCZCGkFhahMKEyGNoDC1CYWJkEZQmNqEwkRIIyhM7fDjH0Kmf//heYSQJaEwtcOnLPLHf3geIWRJKEwt8aPLUpbxO+GErAqFqSViyMSAiZCVoTC1RQiZGDARsjIUprbwkIkBEyGrQ2FqDQuZGDARsjoUptbQkIkBEyENoDC1h4RMDJgIaQCFqT0QMjFgIqQJFKYW+ZEBEyGNoDC1yCcGTIQ0Yi+E6fPXX3+/n+0h/8d/94rff/nq407IttgHYfq2l6K013zzoSdkO+y+MH3+xZ2FbJBfffQJ2Qq7L0zUpa1AZSLbZOeF6as7CtkwnGgiW2TXhekz55e2xP2ffBcQsnl2XZgYMG0Nhkxke+y6MHGGaWv84ruAkM2z68L0u3sJ2Tj3vgsI2Ty7LkycYtoevgsI2Ty7LkzuI2QL+C4gZPNQmEgdvgsI2TwUJlKH7wJCNg+FidThu4CQzUNhInX4LiBk81CYSB2+CwjZPBQmUofvAkI2D4WJ1OG7gJDNs//C9JhlT744mw2ygS+9zTjLHn2xEdNRt9i0g+6MfXFF0J+GNVvCdwEhm+cghKk79eWNClNfvhs3JyVrF6bpyBc2ju8CQjbPQQhTLjAbFKaX6urNhamaaT/zpY3ju4CQzXMYwhRDpg0KE9r1pYR1C1NNM5vAdwEhm+cwhCkLpzsUpjXiu4CQzXMQwtTPsoklKEzCeOTD8T58FxCyeQ5CmCAxQ0tQmAQZjzV0wncBIZvnIIQJeuRq4MIUJccWBtnj9LEHb32dzV4QXg20sAjT6xDx1rOkhMkIhQaehMnHrlaJvKB0d6SV0aJQVLZnWB6+RmFKjFmq/xjmwsbDbtY18UA3piOYnWIBGfg7G8OS9Qqp2MwTcnsPFgs9ZoPXQdaT/Gd0xU0FtJZtZAJqaS/zLV6I7wJCNs9hCBM80SKlOmF6gDuC7mSkv9kLcqWSpXyG6rlryYHKB1RGEgXp8bqZuPW8MPnaoJGpsVdP9UxXHiylltANbWiMBROmZ12nvUJKQDNT24Ksq0r5mPUhdDLpHzpV6InIoGTNSROEyYs/eM5CfBcQsnkOQ5jEPUVraoUJv9PZk8xGDSezcTfrIVed/mmGcMVKI90fz6ZPCJMkiZX9ybQwWwM1QbyCQEX1xNrNQfJhanIkelAy1s36EBSs1e6hI+jGK6QGmdKN0XQylAUTpm73WaVFexWa6Wfdp+nspWfKhFx0ffwgppA9gbSlKjSRuz+zXhoaPWbojjW8zCSU7wJCNs+BCNMETiiJWmHSNBwyCAMcUxRBHRcnUhLW9LK+RjfIF5HD2sR7kW1xxsCKp8I07Vrc9YJqIhGpMfxVW4iF8IuyqlbTnvxinXZdFkyYTGOGSTP4UeVFXdkEJC3MG/hvL4R9kSlOREvShFq6/RgtH5+F+C4gZPP88c/d5v93J6nHPBfhjLhgrTCpSgTvjhLQl5T4KepCUjzoGKpuhLUByJctoLg8iGLtBkxyAMQPZkrG0JSegU21pVj2QUxinQle7JVugvcqNKMaJqAyTIUtwaZZ/oOrW5Hpk5zuFSQo1kLgqL+L8UOEkM3zjx3n/3Mnqcc8F5FED+JTJ0zmtSgawhiTAC+l3j2Krg3fx9/yREwvpvshaLGkMgwyhmgMtkvGXnF+9hTjr1hWQTdMLWKvLOnqYc1ApTwX2oZehy2BrWzoa6oIsaIRa/kwvYEfIoSQMu4jC3CBwA9csE6YzA+9aC4B+CuMZH3urFiBoCRxaeDnfUADnWjMCKdUbrVsTGeu+w8aNuVlldgNW8BfVzDtlTeT55pexcbl1DHrDp9NcFKqIiZboDAR8i7cRxbg3oaQqTsNHreiMGm+XzczsKIkTHlpNxO9XImlrVzZ2FTm38FApCm1HA3HXmkqbabQmG5Mnvarf92ks0L1HJMtUJgIeRfuIwsI3oZzpof3CJP6dwAr3iVMbsbQemO9TJZ1EfisVZgQF2k4VjrxrLkq57UoTIS8C/eRBURvw3nLpKkw4dysJETldF7azRS0AcTSVq5sTBk/QCygH+nKaDj2SlPeq/nGysIEJnKTpU8fKbX3MXktChMh78J9ZAHR216ybNRMmHyOKb1SVdaW4hyTzGyn2jA3x1R52Wvas5YWzzG5wtTOMaF22jiwOXcHpStkqVCLwkTIu3AfWUDuowgb1PFzUbFLWNEPQ9EoAf7+SfX1YemCe1mYilfl8stlgVG40oYzStguGws8SE/iVTn04NU7YynrlSuK9sqbSa7Koddp4wDZXg3ARuWzcrEWhYmQd+E+soDcR+GPfhNQEBEEUQuFycIau2PIFEWwO5bKwuS3YWrxBfcx2T3YJWNRCFSYYtlwH5MVjb2yvpfvY3ILqGz3MWkqVk6FqebtArHLFCZC3oX7yAIKAiEzLepxIWDpvyFM5sxDFaJp12/WfrVKZWGKilF357eqnBstGbNbzZGtiomVei5nv1FbYq/scTjfBm8GPxoyoY5sS2zcTUkLfga4gFiLwkTIu3AfWUBBIBBkmMchrJBnwiAhbwhT91mflVOfR3glj7c9630H88KE+CZDJCLvI9AzwEK7AmqjyfisXGoMctJDG699vSonKgJLY6Swbl6Ysu6LPv0WeqW/0Fh5Vg4/IluxcSw8TGZTWAwnmguItShMhLwL95EFFAUCGmMep1elcC40WCxMoZjmipwpFrHMCVMw6vnFdgVog4BCqjOpsfB2AUiO4G8X0HXzwmSX/71X0DRtMb5dQC3kjYdOLaM0FCZC1oP7yAKKAjHxx/eR29MJ4DeEaTyWRzpMF0Dy0qR5YZpJ6fjqo7Iw6dqhv7wEpG9g0lQvzv1IWU/FCnmvJC6KvZJ3AehZorxJKVgoNK63CsT3Pi2EwkTIenAf+ThEndo+vgsIIWXcRz4OFCZCdh/3kY8DhYmQVjjJsktfPDru5MuNcB/5OFCYCGmH66xz7IuX+WIz3Ec+DhQmQtoBIdOVL703YKIwbRHfBYQcCJdZdqIL19md/jbn3p3kw0BhIqQljjvZtfwidLrQjOZ8OGHaHe59FxByKCBkOsXP+wOmo1/dS8jG+c13ASEHw112owHTmaa+3GbZrcdOF1i+u156RvwH9xKycb75LiDkYLgQTboWdcKJHaRI0LO7a1vu2BzU23x2LyGb5v5PvgsIORwQMoWA6XvWQbR0oRfoTrPsC/7emkotwzf3E7JhGDCRA+QMJ2+mPtAimW9CTuf46NKCqPOsIz9LwVmmrfDbZx9/Qg6JG5yw6fnaVYiObrNzCNPdqjdcfqYybYFfqUvkIEHIZIJ0E24ZuMS5HHLvrjSAWoGv7ixkU9x/pS6RAyVckuvYdLdw5ZPfnevVtOnzV0ZNm+P+12+c9yYHSxAmlSRD5pcu7nTxvTde7gc/+i8hZEfIhcl+I6eXcv/A+57t3RMy/yWE7AhBkOIcU4GzObU6TChMhOwYQXuuw1W5u+wcKnWuyzcUJkLIFgjChOhIp7q/yL1LV9l3zbyjMBFCtkA8W7vRO7+/6J3f8qqmk6OT7+9/uncvoDARsmNEYUqelbuw5c6q9zLtJxQmQnaMfH77WC7DhbcLnN/IfUzLPsO751CYCCE7B4WJELJzUJgIITsHhYkQsnNQmAghOweFiRCyc1CYCCE7B4WJELJzUJgIITsHhYkQsnNQmAghOweFiRCyc9QKU/hSA/ggr6YihOwKC4TJvm0FKEyEkI2ySJhCyERhIoRslEXCFPSIwkQI2SgLhUk/lk5hIoRsmAXCdBlCJgoTIWSjLBCms5vsVheDMF0UXvNJCCGtsUiYzvxzxC5M+u10nN99iA+BEkK2yCJhOvJPxZgwXWWdL4iaOtmV5BFCSGssFKaTLIMWmTBhWcMnhFEf5DsNhJBtsVCYcPbWwYmbCtMXn3A6upWv7xFCSHssFqYT/QaoCtN1OIW79E8VE0JISywWJqgQQiYVppsQKJ2H25sIIaQd3hCm4052XRKmMwoTIaRd3hAmhEzZCSMmQshGeUuYju6ya84xEUI2ypvCdJFlHVm8yK/KyS0EhBDSGm8KE0ImXQz3MZ3zPiZCSMu8LUxQIl28yrIvx7zzmxDSPm8L09GNL/qzcrd8Vo4Q0i5LCNNZWNS3C3CCiRDSNrXCRAghm+eTkulfzyKEkO3yd5syUn70PEII2Sqf/u2qlGV/MGQihOwGecjEgIkQsiPEkIkBEyFkZwghEwMmQsjO4CETAyZCyA5hIRMDJkLIDqEhEwMmQshOISETAyZCyE6BkIkBEyFkx/g7AyZCyK7x6V8MmAg5WD5//fX3+xnZDL//8tXHnRBSzzeK0qb55kNPCKnm8y/uLGSD/OqjTwiphLq0FahMhCzgqzsK2TCcaCKkls+cX9oS93/yXUAIKcOAaWswZCKkDs4wbY1ffBcQQsr87l5CNs697wJCSBlOMW0P3wWEkDLuI2QL+C4ghJRxHyFbwHcBIaSM+wjZAr4LCCFl3EfIFvBdQAgp4z5CtoDvAkJIGfcRsgV8FxBCyriPkC3gu4AQUsZ9hGwB3wWEkDLuIzUMsoEvKVn26EvL89jLsqEvL6aJ9ZRBlvlSkXFzw6XtXzO+CwghZdxHalhGmKYjX6jkQT5KuZwuLFNucWObEqansS+8D98FhJAy7iM1LBExTPtVYhCYIlya+vJbLKEfixtbvzBVM8ooTIS0ivtIDUsI02OlGAQgCks78RL6sbixDQnTKtu0EN8FhJAy7iM1UJgqoDAR0jbuIzVQmCqgMBHSNu4jNVCYKqAwEdI27iM1lITJPXw87GbZ4FkX5aJb6vivI6wd6lroiFCwMRn1sqz/GObDNWmWcmFKMovJYmPPEKHeaCKLYPrYy7qjaVmYxkM09pILU1Jp+tgvmii2OsgeX3qo6duP5PShiwa0rHVCt6mwqZI/fuxmw9dkfBbiu4AQUsZ9pIZKYXo219RV88IU1sp1/TlheoXHCj2Tg2dPDlSoguQkmTEJe3ljIkFC17x/ComRFH407XhXUFYNp5W8TtZ9kVSxGdlsKJr0OwjTgzcA1SkIU3FTJV8rPSbjsxDfBYSQMu4jNVQJ0ys8cYJ4w929dHb1Aod8nU0e3F2hJcXTnm7Wh29DBNQsVvbHs+kT4gxJmsFSJlpDcjLKsiekQmOiNdPZK35EKpDsPmmPkr7A0mAyG4umaE/TSkOVJKztigCmzaBIdzx7evbth/lsOJm9IGiSsmGbSpuKZvqT6WhSGp8F+C4ghJRxH6mhSpges54mRvabCtMU0qMLyBbvTYUJKQ2VEFPIL86WNCpCtoQt5smlzEHW0yR0BH+9MdQP51zSGopqUm7mlF8HK6XqBLGQGC5V8tTEftNmIEyhqAmTDQMkRwz5NpU3FY3rxpXGZwG+CwghZdxHaqgRJvVhBAziiKkwwfs1hhGBkYjHndhBStdO1fFhwNcNtaxaL2W6bmg+qnpj/dAtSAVygwTAbKEvsSr0SvSkVMliI8lGvFNqBkqkm5gLk/XJGvJtKm8qAiZNlcZnAb4LCCFl3EdqqBKmJ3jgs/mtkArTyL1T5QB/U2GCJHSforfmIQV8HH/VeikTjeVNhcaijIgmoE43e7DUsNiXWNUCnflK2YMLy1wzFlPpggmTJ022fJvKmwp7miqNzwJ8FxBCyriP1FAlTHJqhHObIDCpMA18JrjkxAGdQ+67IOTGLZJS66XMcF7kWGMFowMJVqLkJH3Jq6rhciU578t6I5v6LjUTOxGEyTcK4gYbbqm8qdoKKI3PAnwXEELKuI/UUCVMs9eeeF6WjTQsSIUpeGdw34IcCOHC2ECkya+DGSildUuZpQ5YY4hJcgaFNpK+5FXVcKmSKxO0yWaykmZi0hYGcaPUkrdX3tSYTsdnAb4LCCFl3EdqKDls8L1nvTBupzIrCRMy5NYfnNEhnlAbgeDZnjRqhAl/c5YVplIlMHkwBYEylZqJSVtYUZjS8VmA7wJCSBn3kRpKDpv73vRlZC69qjCB8QO06SHxZEXTpcxSB6IwWdJYWpg8WeD1CdoE/Sg1E5O2UBSmp9heeVOTnufjswDfBYSQMu4jNZQcNvE9v3ieOnwy8YKoqEqY4LY9satTPQXUXimzbo7JZqmcZeeYkkoBnTB/a47JJ9fr55g0ACwMDvDxWYDvAkJIGfeRGhYJ06yvqVSYipeq5I6gamHCStgdpmpg1kuZ+eUyDVasMbh8uMCm9IJwIEqxBeE5VIWcwHC5UgCqMtfMnDB5MhHb8qbO6ZCNzwJ8FxBCyriP1FAlTNEBq4QJauBCVHUfUzSnwpSXHeWeXcqMF/ntypc3pgGXgNXQkXiLAU4RbUGIVaE60tG0Uuy2ClOpmTlhctkq38eUbGoYl9L4LMB3ASGkjPtIDVXCFGIahCDzc0yL7/yGROhFdJzKIcaRsurwftKjf8uZfvs2fqVVbww/piNDfUgEjejNksgu9sXv5oZFtZRWigHUUDucNjMvTHrW5nV8m+bv/JZW5sZnAb4LCCFl3EdqqBIm+KVc7X9xv0SMUfQ/JPuvswmcVeeKUmGCL8vV+de+XpXTsuPZ9NmfQTPPLmXCvcXe0OyExvooC3FBroqB3Ns9nXtWboIejgvPyqWV5Pm6qT4dJxbTZuaFSR5/Q5d0i6d+K2VpU72V8vgswHcBIaSM+0gNftuRArcz38M5jGKvCJCAxF1SCWvtVd+pMMW3C4RH+i1lT+0Hz04z42P/Gt+ExsKrAcL8MwQFdPFjaWNsVaE9ajitFFPW96SZOWHq2VqLqnRUJD/d1DgK6fgswHcBIaSM+0gNlcJk7xuKL1VC/JNcSZvInUrhbUQlYbK3HpVeghQsBc9OMs1ed+hWYmPyaqWYiySCsJEEL542pGr/uSAZxUr6PqbcRLGZOWEaTLG2F7o0hQDKpJjWiZsaWymNTz2+CwghZdxHyAKiTq0Z3wWEkDLuI2QBFCZCNoz7CFkAhYmQDeM+QhZAYSJkw7iPkAVQmAjZMO4jZAEUJkI2zL07CamHwkTIhqEwbY173wWEkDK/upeQjfOb7wJCSJkf3EvIxvnmu4AQUuazewnZNPd/8l1ACJnjm/sJ2TAMmAhZAGeZtsJvn338CSEVfKYybYFfqUuELOarOwvZFPdfqUuEvMXnr4yaNsf9r984700IIYQQQgghhBBCCCGEEEIIIYQQQgghhBBCCCGEEEIIIYQQ0pyjo/8Hs4RaxtfJXKwAAAAASUVORK5CYII=)\n",
    "\n",
    "\n",
    "Así que comenzaremos seleccionando características con **RFE** utilizando una **Regresión Logística** como estimador base\n",
    "(https://scikit-learn.org/stable/modules/generated/sklearn.linear_model.LogisticRegression.html)."
   ]
  },
  {
   "cell_type": "code",
   "execution_count": null,
   "id": "e67c2d30",
   "metadata": {
    "id": "e67c2d30",
    "scrolled": true
   },
   "outputs": [],
   "source": [
    "#Importa la función RFE de sklearn.feature_selection y el estimador LogisticRegression de sklearn.linear_model\n",
    "from sklearn.feature_selection import RFE\n",
    "from sklearn.linear_model import LogisticRegression\n",
    "\n",
    "\n",
    "#Read the train set and separate the descriptors array and the output variable\n",
    "#Carga el dataframe df_train y separa la matriz de descriptores y la variable de salida\n",
    "df_train = pd.read_csv(\"Earthworm_acute_toxicity_Train_descriptors_elimination.csv\", sep = ';')\n",
    "\n",
    "X = df_train.iloc[:,2:]\n",
    "y = df_train.pop(\"y\")\n",
    "\n",
    "#Inicializa el estimador LogisticRegression\n",
    "estimator = LogisticRegression()\n",
    "\n",
    "#Establece el número de descriptores a seleccionar. Comenzaremos con 5 características.\n",
    "num_features = 5\n",
    "#Inicializa el selector RFE\n",
    "selector = RFE(estimator, n_features_to_select=num_features, step=1)\n",
    "#Ajusta el selector RFE a los datos de entrenamiento\n",
    "selector = selector.fit(X,y)\n",
    "\n",
    "#Crea un subconjunto de la matriz de descriptores con las características seleccionadas\n",
    "feats_train_rfe1 = X.loc[:, selector.support_]\n",
    "#Join the selected descriptors to the output variable and SMILES column\n",
    "#Une los SMILES y el valor respuesta\n",
    "df_train_rfe1 = pd.concat([df_train.SMILES, y, feats_train_rfe1], axis=1)\n",
    "\n",
    "#Carga el dataframe df_test y selecciona solo las columnas de descriptores de interés\n",
    "df_test = pd.read_csv(\"Earthworm_acute_toxicity_Test_descriptors_elimination.csv\", sep = ';')\n",
    "descr_test = df_test.loc[:,list(feats_train_rfe1.columns)]\n",
    "df_test_rfe1 = pd.concat([df_test.loc[:,[\"SMILES\",\"y\"]], descr_test], axis=1)\n",
    "\n",
    "#Guarda ambos dataframes como archivos csv, no cambies los nombres ya que se utilizan más adelante\n",
    "df_train_rfe1.to_csv(\"Earthworm_acute_toxicity_Train_RFE_logreg_nonupdated.csv\", index=False)\n",
    "df_test_rfe1.to_csv(\"Earthworm_acute_toxicity_Test_RFE_logreg_nonupdated.csv\", index=False)\n",
    "\n",
    "print(\"The features selected are:\")\n",
    "for feat in list(feats_train_rfe1.columns):\n",
    "    print(\"\\n\",feat)"
   ]
  },
  {
   "cell_type": "markdown",
   "id": "WvmIG8KKAQsh",
   "metadata": {
    "id": "WvmIG8KKAQsh"
   },
   "source": [
    "### **Q2.** ¿Cuáles son las características seleccionadas utilizando este enfoque?"
   ]
  },
  {
   "cell_type": "markdown",
   "id": "d9bc44b6",
   "metadata": {
    "id": "d9bc44b6"
   },
   "source": [
    "Como viste en el código anterior, elegimos un número arbitrario de características (5 en nuestro caso).\n",
    "Es interesante tener en cuenta que existe una proporción límite de características por molécula. Idealmente, deberías utilizar como máximo una característica por cada 5 moléculas en el conjunto de entrenamiento.\n",
    "\n",
    "Comprueba cuál es el número máximo de características que puedes utilizar en nuestro caso:"
   ]
  },
  {
   "cell_type": "code",
   "execution_count": null,
   "id": "2fcff18e",
   "metadata": {
    "id": "2fcff18e"
   },
   "outputs": [],
   "source": [
    "max_num_features = _____________________\n",
    "\n",
    "print(\"The maximum number of features to use is: \", str(max_num_features))"
   ]
  },
  {
   "cell_type": "markdown",
   "id": "3b958cb0",
   "metadata": {
    "id": "3b958cb0"
   },
   "source": [
    "Puedes elegir un número diferente de características si quieres experimentar.\n",
    "Reutiliza el código en la siguiente celda e intenta obtener una cantidad distinta.\n",
    "Recuerda cambiar el nombre del archivo para no sobrescribirlo, ya que lo necesitarás en la próxima sesión práctica."
   ]
  },
  {
   "cell_type": "code",
   "execution_count": null,
   "id": "w4P6VJeyMqiB",
   "metadata": {
    "id": "w4P6VJeyMqiB"
   },
   "outputs": [],
   "source": [
    "#ESCRIBE AQUÍ TU CÓDIGO"
   ]
  },
  {
   "cell_type": "markdown",
   "id": "hWng5jRFMzSm",
   "metadata": {
    "id": "hWng5jRFMzSm"
   },
   "source": [
    "En la siguiente celda, completa el código para utilizar un estimador de árbol de decisión\n",
    "(https://scikit-learn.org/stable/modules/tree.html) para seleccionar 5 características mediante RFE.\n",
    "\n",
    "Como estimador base, vamos a utilizar principalmente los hiperparámetros por defecto del árbol de decisión, excepto el parámetro random_state.\n",
    "Como ocurrió con la división del conjunto de datos, la aleatoriedad puede suponer un problema para la reproducibilidad.\n",
    "Por ello, en este curso vamos a utilizar una semilla fija de 2025 en todos los pasos que involucren aleatoriedad."
   ]
  },
  {
   "cell_type": "code",
   "execution_count": null,
   "id": "IiHGMsz9KpcD",
   "metadata": {
    "id": "IiHGMsz9KpcD"
   },
   "outputs": [],
   "source": [
    "#Importa la función RFE de sklearn.feature_selection y el estimador DecisionTreeClassifier de sklearn.tree\n",
    "from sklearn.tree import DecisionTreeClassifier\n",
    "from sklearn.feature_selection import RFE\n",
    "\n",
    "#Read the train set and separate the descriptors array and the output variable\n",
    "#Carga el juego de datos de entrenamiento y separa la matriz de descriptores y la variable de salida\n",
    "df_train = pd.read_csv(\"Earthworm_acute_toxicity_Train_descriptors_elimination.csv\", sep = ';')\n",
    "X = df_train.iloc[:,2:]\n",
    "y = df_train.pop(\"y\")\n",
    "\n",
    "#Inicializa el estimador DecisionTreeClassifier\n",
    "estimator = ___________________(random_state=2025)\n",
    "\n",
    "#Establecemos el número de descriptores a seleccionar. Comenzaremos con 5.\n",
    "num_features = _______________\n",
    "#Inicia el selector RFE\n",
    "selector = __________________________\n",
    "#Ajusta el selector RFE a los datos de entrenamiento\n",
    "selector = selector.fit(X,y)\n",
    "\n",
    "#Crea un subconjunto de la matriz de descriptores con las características seleccionadas\n",
    "feats_train_rfe2 = X.loc[:, selector.support_]\n",
    "#Junta los SMILES y el valor respuesta\n",
    "df_train_rfe2 = pd.concat([df_train.SMILES, y, feats_train_rfe2], axis=1)\n",
    "\n",
    "#Carga el juego de datos de test y selecciona solo las columnas de descriptores de interés\n",
    "df_test = pd.read_csv(\"Earthworm_acute_toxicity_Test_descriptors_elimination.csv\", sep = ';')\n",
    "descr_test = df_test.loc[:,list(feats_train_rfe2.columns)]\n",
    "df_test_rfe2 = pd.concat([df_test.loc[:,[\"SMILES\",\"y\"]], descr_test], axis=1)\n",
    "\n",
    "#Guarda ambos DataFrames como archivos csv, no cambies los nombres ya que se utilizan más adelante\n",
    "df_train_rfe2.to_csv(\"Earthworm_acute_toxicity_Train_RFE_dectree_nonupdated.csv\", index=False)\n",
    "df_test_rfe2.to_csv(\"Earthworm_acute_toxicity_Test_RFE_dectree_nonupdated.csv\", index=False)\n",
    "\n",
    "print(\"The features selected are:\")\n",
    "for feat in list(feats_train_rfe2.columns):\n",
    "    print(\"\\n\",feat)"
   ]
  },
  {
   "cell_type": "markdown",
   "id": "1aab74a8",
   "metadata": {
    "id": "1aab74a8"
   },
   "source": [
    "### Algoritmo de Importancia por Permutación (PI)\n",
    "Vamos a probar otro método para seleccionar características. Esta vez se trata de la Importancia por Permutación (PI). Consulta este enlace para obtener más información sobre cómo funciona:\n",
    "https://eli5.readthedocs.io/en/latest/blackbox/permutation_importance.html\n",
    "\n",
    "Como puedes ver, también se basa en un algoritmo de aprendizaje supervisado que actúa como estimador para determinar la importancia de cada característica.\n",
    "\n",
    "![PI.png](data:image/png;base64,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)\n",
    "\n",
    "\n",
    "\n",
    "\n",
    "\n",
    "\n",
    "\n"
   ]
  },
  {
   "cell_type": "markdown",
   "id": "2156c83c",
   "metadata": {
    "id": "2156c83c"
   },
   "source": [
    "En este caso trabajaremos con un paquete diferente (eli5), por lo que primero necesitaremos instalarlo.\n",
    "\n",
    "Al usar Importancia por Permutación, vamos a utilizar la Regresión Logística como estimador base, como hicimos antes con RFE.\n",
    "Revisa el siguiente código y ejecuta la celda para obtener las importancias de las características.\n",
    "\n",
    "Como la Importancia por Permutación utiliza aleatoriedad para desordenar los valores de los descriptores, es conveniente incluir un `random_state` para garantizar la reproducibilidad (en este curso utilizaremos 2023)."
   ]
  },
  {
   "cell_type": "code",
   "execution_count": null,
   "id": "009cb592",
   "metadata": {
    "id": "009cb592"
   },
   "outputs": [],
   "source": [
    "#Importa las librerías necesarias\n",
    "from sklearn.feature_selection import SelectFromModel\n",
    "from sklearn.linear_model import LogisticRegression\n",
    "from eli5.sklearn import PermutationImportance\n",
    "\n",
    "#Carga el juego de datos de entrenamiento y separa la matriz de descriptores y la variable de salida\n",
    "df_train = pd.read_csv(\"Earthworm_acute_toxicity_Train_descriptors_elimination.csv\", sep = ';')\n",
    "X = df_train.iloc[:,2:]\n",
    "y = df_train.pop(\"y\")\n",
    "\n",
    "#Inicializa el estimador LogisticRegression\n",
    "estimator = LogisticRegression()\n",
    "\n",
    "#Ajusta el estimador a los datos de entrenamiento\n",
    "estimator.fit(X, y)\n",
    "#Ajusta el permutador a los datos de entrenamiento usando el estimador\n",
    "perm = PermutationImportance(estimator,random_state=2025).fit(X, y)\n",
    "\n",
    "\n",
    "\n",
    "#Usamos el atributo perm.feature_importances_ para la selección de características\n",
    "#Seleccionamos las características que aumentan la precisión al menos 0.01\n",
    "sel = SelectFromModel(perm, threshold=0.01, prefit=True)\n",
    "\n",
    "\n",
    "#Obtén las características y las importancias en un dataframe y ordénalas para ver cuáles son más importantes\n",
    "importances = list(perm.feature_importances_)\n",
    "features_permutation = list(X.columns)\n",
    "\n",
    "dataframe_permutation = pd.DataFrame({'feature' : features_permutation,\n",
    "                            'importance' : importances},\n",
    "                            columns=['feature','importance'])\n",
    "\n",
    "dataframe_permutation_ordered = dataframe_permutation.sort_values('importance',ascending=False)\n",
    "\n",
    "print(dataframe_permutation_ordered)\n"
   ]
  },
  {
   "cell_type": "markdown",
   "id": "d7d0aeea",
   "metadata": {
    "id": "d7d0aeea"
   },
   "source": [
    "Revisa los valores de importancia en el DataFrame impreso. Según estos valores, ¿cuántos descriptores elegirías para construir un modelo?\n",
    "\n",
    "Nota: No te preocupes si este método no arroja características importantes. Es un comportamiento normal, aunque no deseado.\n",
    "Este tipo de resultado sugiere que el uso de este estimador base no es útil con este método.\n",
    "\n",
    "Aun así, puedes elegir un número de características e insertarlo en la variable pi_n_feats, para que podamos seleccionarlas y guardarlas en un archivo CSV.\n",
    "Sin embargo, no utilizaremos este método en la siguiente parte, ya que los valores obtenidos mediante PI no son adecuados."
   ]
  },
  {
   "cell_type": "code",
   "execution_count": null,
   "id": "f10296b0",
   "metadata": {
    "id": "f10296b0"
   },
   "outputs": [],
   "source": [
    "#Elige el número de descriptores a seleccionar.\n",
    "pi_n_feats = ___________\n",
    "\n",
    "#Crea un subconjunto de la matriz de descriptores con las características seleccionadas\n",
    "feat_select_pi = list(dataframe_permutation_ordered.iloc[:pi_n_feats,0])\n",
    "feats_train_pi1 = X.loc[:,feat_select_pi]\n",
    "\n",
    "#Une los SMILES y el valor respuesta\n",
    "df_train_pi1 = pd.concat([df_train.SMILES, y, feats_train_pi1], axis=1)\n",
    "\n",
    "#Carga el juego de datos de test y selecciona solo las columnas de descriptores de interés\n",
    "df_test = pd.read_csv(\"Earthworm_acute_toxicity_Test_descriptors_elimination.csv\", sep = ';')\n",
    "descr_test = df_test.loc[:,list(feats_train_pi1.columns)]\n",
    "df_test_pi1 = pd.concat([df_test.loc[:,[\"SMILES\",\"y\"]], descr_test], axis=1)\n",
    "\n",
    "#Guarda ambos dataframes como archivos csv\n",
    "df_train_pi1.to_csv(\"Earthworm_acute_toxicity_Train_PI_logreg_nonupdated.csv\", index=False, sep = ';')\n",
    "df_test_pi1.to_csv(\"Earthworm_acute_toxicity_Test_PI_logreg_nonupdated.csv\", index=False, sep = ';')\n",
    "\n",
    "print(\"The features selected are:\")\n",
    "for feat in list(feats_train_pi1.columns):\n",
    "    print(\"\\n\",feat)"
   ]
  },
  {
   "cell_type": "markdown",
   "id": "f927d7a3",
   "metadata": {
    "id": "f927d7a3"
   },
   "source": [
    "Probemos el algoritmo de **Árbol de Decisión** como estimador, como hicimos antes con **RFE**.\n",
    "Rellena los espacios en el siguiente código y ejecuta la celda para obtener las importancias de las características."
   ]
  },
  {
   "cell_type": "code",
   "execution_count": null,
   "id": "91f0e97e",
   "metadata": {
    "id": "91f0e97e"
   },
   "outputs": [],
   "source": [
    "from sklearn.feature_selection import SelectFromModel\n",
    "from eli5.sklearn import PermutationImportance\n",
    "#Importa el estimador DecisionTreeClassifier de sklearn.tree\n",
    "\n",
    "\n",
    "\n",
    "#Carga el juego de datos de entrenamiento y separa la matriz de descriptores y la variable de salida\n",
    "df_train = pd.read_csv(\"Earthworm_acute_toxicity_Train_descriptors_elimination.csv\", sep = ';')\n",
    "X = df_train.iloc[:,2:]\n",
    "y = df_train.pop(\"y\")\n",
    "\n",
    "#Inicializa el estimador DecisionTreeClassifier\n",
    "estimator = _______________\n",
    "\n",
    "#Ajusta el estimador a los datos de entrenamiento\n",
    "estimator.fit(X, y)\n",
    "#Ajusta el permutador a los datos de entrenamiento usando el estimador\n",
    "perm = PermutationImportance(estimator).fit(X, y)\n",
    "\n",
    "#Usamos el atributo perm.feature_importances_ para la selección de características\n",
    "#Seleccionamos las características que aumentan la precisión al menos 0.01\n",
    "sel = SelectFromModel(perm, threshold=0.01, prefit=True)\n",
    "\n",
    "#Obtén las características y las importancias en un dataframe y ordénalas para ver cuáles son más importantes\n",
    "importances_ = list(perm.feature_importances_)\n",
    "features__permutation = list(X.columns)\n",
    "\n",
    "dataframe_permutation = pd.DataFrame({'feature' : features__permutation,\n",
    "                            'importance' : importances_},\n",
    "                            columns=['feature','importance'])\n",
    "\n",
    "dataframe_permutation_ordered = dataframe_permutation.sort_values('importance',ascending=False)\n",
    "\n",
    "print(dataframe_permutation_ordered)\n"
   ]
  },
  {
   "cell_type": "markdown",
   "id": "1c4e681d",
   "metadata": {
    "id": "1c4e681d"
   },
   "source": [
    "En este caso deberías obtener valores distintos de cero en las primeras características.\n",
    "Ejecuta la siguiente celda para ver las importancias de las características representadas en un gráfico de barras, y utiliza un enfoque visual para decidir el número de descriptores deseados."
   ]
  },
  {
   "cell_type": "code",
   "execution_count": null,
   "id": "3b2aed7b",
   "metadata": {
    "id": "3b2aed7b"
   },
   "outputs": [],
   "source": [
    "#@title Graph to visualize feature importances\n",
    "%matplotlib inline\n",
    "\n",
    "import matplotlib.pyplot as plt\n",
    "\n",
    "df_plot = dataframe_permutation_ordered.iloc[:20,:].sort_values('importance',ascending=True)\n",
    "\n",
    "df_plot.plot(\n",
    "    x=\"feature\",\n",
    "    kind = \"barh\",\n",
    "    stacked = False,\n",
    "    title = \"Feature importances\")\n"
   ]
  },
  {
   "cell_type": "markdown",
   "id": "56b82c6c",
   "metadata": {
    "id": "56b82c6c"
   },
   "source": [
    "Según lo que has visto, ¿cuántos descriptores elegirías para construir un modelo?\n",
    "Recuerda que calculamos un límite basado en el número de moléculas en el conjunto de entrenamiento. ¿Es esto un problema en este caso?\n",
    "\n",
    "Introduce el número de características seleccionadas en la variable pi_n_feats para que podamos seleccionarlas y guardarlas en un archivo CSV.\n"
   ]
  },
  {
   "cell_type": "markdown",
   "id": "Ow9iYUR_Qa6E",
   "metadata": {
    "id": "Ow9iYUR_Qa6E"
   },
   "source": [
    "### **Q3.** ¿Cuántos descriptores con importancia significativa has encontrado?"
   ]
  },
  {
   "cell_type": "code",
   "execution_count": null,
   "id": "a97f3a24",
   "metadata": {
    "id": "a97f3a24"
   },
   "outputs": [],
   "source": [
    "#Elige el número de descriptores a seleccionar\n",
    "\n",
    "pi_n_feats = _____________\n",
    "\n",
    "\n",
    "#Crea un subconjunto de la matriz de descriptores con las características seleccionadas\n",
    "feat_select_pi = list(dataframe_permutation_ordered.iloc[:pi_n_feats,0])\n",
    "feats_train_pi1 = X.loc[:,feat_select_pi]\n",
    "\n",
    "#Une los SMILES y el valor respuesta\n",
    "df_train_pi1 = pd.concat([df_train.SMILES, y, feats_train_pi1], axis=1)\n",
    "\n",
    "#Carga el juego de datos de test y selecciona solo las columnas de descriptores de interés\n",
    "df_test = pd.read_csv(\"Earthworm_acute_toxicity_Test_descriptors_elimination.csv\", sep=';')\n",
    "descr_test = df_test.loc[:,list(feats_train_pi1.columns)]\n",
    "df_test_pi1 = pd.concat([df_test.loc[:,[\"SMILES\",\"y\"]], descr_test], axis=1)\n",
    "\n",
    "#Guarda ambos dataframes como archivos csv\n",
    "df_train_pi1.to_csv(\"Earthworm_acute_toxicity_Train_PI_dectree_nonupdated.csv\", index=False, sep = ';')\n",
    "df_test_pi1.to_csv(\"Earthworm_acute_toxicity_Test_PI_dectree_nonupdated.csv\", index=False, sep = ';')\n",
    "\n",
    "print(\"The features selected are:\")\n",
    "for feat in list(feats_train_pi1.columns):\n",
    "    print(\"\\n\",feat)"
   ]
  },
  {
   "cell_type": "markdown",
   "id": "3f51681a",
   "metadata": {
    "id": "3f51681a"
   },
   "source": [
    "### Sección 3: Actualización de la imputación / escalado\n",
    "\n",
    "Es importante tener en cuenta que, una vez que hemos seleccionado un conjunto de características, estas son las únicas que deben considerarse en el modelo.\n",
    "Por lo tanto, conviene revisar nuevamente el paso de imputación, ya que el criterio que determinaba qué compuestos eran más similares (y se usaban para hacer la media) incluía todos los descriptores disponibles.\n",
    "Así pues, vamos a repetir los pasos de imputación y escalado/estandarización, pero solo con los descriptores seleccionados.\n",
    "\n",
    "La idea es repetir estos pasos sobre los conjuntos de datos que contengan únicamente las características seleccionadas.\n",
    "\n",
    "Escribiremos una función que realice este proceso automáticamente para todos los DataFrames que contengan las variables seleccionadas. Esta función hará lo siguiente:\n",
    "\n",
    "1. Leer los DataFrames de entrenamiento y prueba con los valores originales de los descriptores.\n",
    "\n",
    "1. Filtrar estos DataFrames utilizando las columnas de los descriptores seleccionados.\n",
    "\n",
    "1. Ajustar (fit) el KNNImputer con el DataFrame de entrenamiento y transformar tanto entrenamiento como prueba.\n",
    "\n",
    "1. Ajustar (fit) el Scaler con el DataFrame de entrenamiento y transformar ambos conjuntos también.\n",
    "\n",
    "Como puedes imaginar, necesitaremos como entradas (inputs):\n",
    "\n",
    "* Los DataFrames originales\n",
    "\n",
    "* Un archivo con las columnas filtradas (las características seleccionadas)"
   ]
  },
  {
   "cell_type": "code",
   "execution_count": null,
   "id": "db634ea2",
   "metadata": {
    "id": "db634ea2"
   },
   "outputs": [],
   "source": [
    "import pandas as pd\n",
    "import numpy as np\n",
    "from sklearn.impute import KNNImputer\n",
    "from sklearn.preprocessing import StandardScaler\n",
    "\n",
    "\n",
    "def imputer_scaler(df_target, df_reference, columns_descriptors):\n",
    "\n",
    "    imputer = KNNImputer(missing_values=np.nan, n_neighbors=3, weights=\"uniform\")\n",
    "    scaler = StandardScaler()\n",
    "\n",
    "    print(columns_descriptors)\n",
    "\n",
    "    reference_descriptors_matrix = df_reference[columns_descriptors]\n",
    "    target_descriptors_matrix = df_target[columns_descriptors]\n",
    "    imputer.fit(reference_descriptors_matrix)\n",
    "\n",
    "\n",
    "\n",
    "    imputed_ref_matrix = imputer.transform(reference_descriptors_matrix)\n",
    "    imputed_tag_matrix = imputer.transform(target_descriptors_matrix)\n",
    "\n",
    "\n",
    "\n",
    "    scaler.fit(imputed_ref_matrix)\n",
    "\n",
    "\n",
    "    imputed_scaled_tag_matrix = scaler.transform(imputed_tag_matrix)\n",
    "    imputed_scaled_ref_matrix = scaler.transform(imputed_ref_matrix)\n",
    "    df_imputed_scaled = pd.DataFrame(imputed_scaled_tag_matrix, columns = columns_descriptors)\n",
    "\n",
    "\n",
    "    smiles_target = list(df_target['SMILES'])\n",
    "\n",
    "    y_target = list(df_target['y'])\n",
    "\n",
    "    df_imputed_scaled.insert(0,'SMILES',smiles_target)\n",
    "    df_imputed_scaled.insert(1,'y',y_target)\n",
    "\n",
    "    return df_imputed_scaled\n",
    "\n",
    "\n",
    "\n"
   ]
  },
  {
   "cell_type": "markdown",
   "id": "wIrLK3FTwSTR",
   "metadata": {
    "id": "wIrLK3FTwSTR"
   },
   "source": [
    "Ahora deberías usar esta función para actualizar los archivos creados por los métodos supervisados.\n",
    "Ten en cuenta que los archivos que deberás utilizar en la siguiente lección son los nuevos archivos creados aquí, sin el sufijo _nonupdated."
   ]
  },
  {
   "cell_type": "code",
   "execution_count": null,
   "id": "ksXCYHxgbTbj",
   "metadata": {
    "id": "ksXCYHxgbTbj"
   },
   "outputs": [],
   "source": [
    "combinations_algorithms_base_estimators = ['RFE_logreg', 'RFE_dectree','PI_dectree']\n",
    "\n",
    "for combination in combinations_algorithms_base_estimators:\n",
    "    print('processing ', combination)\n",
    "\n",
    "    #Carga el archivo con los descriptores seleccionados y lee el nombre de los descriptores\n",
    "    file_with_descriptors = pd.read_csv('Earthworm_acute_toxicity_Train_{}_nonupdated.csv'.format(combination), sep = ';')\n",
    "    list_with_descriptors = file_with_descriptors.columns[2:]\n",
    "\n",
    "\n",
    "    #Procesa el archivo de entrenamiento sin transformar solo con los descriptores seleccionados\n",
    "    df_train_original = pd.read_csv(\"Earthworm_acute_toxicity_Train.csv\", sep = ';')\n",
    "    output_name_train =  'Earthworm_acute_toxicity_Train_{}.csv'.format(combination)\n",
    "    final_train = imputer_scaler(df_train_original,df_train_original,list_with_descriptors)\n",
    "    final_train.to_csv(output_name_train,index = False, sep = ';')\n",
    "\n",
    "    #Procesa el archivo de validación sin transformar solo con los descriptores seleccionados\n",
    "    df_test_original = pd.read_csv(\"Earthworm_acute_toxicity_Test.csv\")\n",
    "    output_name_test =  'Earthworm_acute_toxicity_Test_{}.csv'.format(combination)\n",
    "    final_test = imputer_scaler(df_test_original,df_train_original,list_with_descriptors)\n",
    "    final_test.to_csv(output_name_test,index = False, sep = ';')\n",
    "\n",
    "    print('processed ', combination ,'\\n')\n",
    "\n",
    "\n",
    "\n"
   ]
  }
 ],
 "metadata": {
  "colab": {
   "provenance": [
    {
     "file_id": "1oaf8Ig850dqfp2VVyhn4YucQ4wYAOM7i",
     "timestamp": 1684842248158
    },
    {
     "file_id": "https://github.com/mpalominoschaetzlein/Python_QSAR_course/blob/main/Module2_QSAR_model_1_Classification.ipynb",
     "timestamp": 1683798218234
    }
   ],
   "toc_visible": true
  },
  "kernelspec": {
   "display_name": "Python 3",
   "language": "python",
   "name": "python3"
  },
  "language_info": {
   "codemirror_mode": {
    "name": "ipython",
    "version": 3
   },
   "file_extension": ".py",
   "mimetype": "text/x-python",
   "name": "python",
   "nbconvert_exporter": "python",
   "pygments_lexer": "ipython3",
   "version": "3.9.4"
  }
 },
 "nbformat": 4,
 "nbformat_minor": 5
}
