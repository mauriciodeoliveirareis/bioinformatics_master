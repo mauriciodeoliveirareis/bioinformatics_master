{
 "cells": [
  {
   "cell_type": "markdown",
   "id": "a59b2543",
   "metadata": {
    "id": "a59b2543"
   },
   "source": [
    "# Módulo 4: Modelo de clasificación QSAR (paso a paso)"
   ]
  },
  {
   "cell_type": "markdown",
   "id": "cf6f496f",
   "metadata": {
    "id": "cf6f496f"
   },
   "source": [
    "En este módulo desarrollaremos nuestro primer modelo QSAR, concretamente un modelo para la toxicidad aguda en lombrices de tierra. Dado que desarrollar un modelo QSAR implica un flujo de trabajo con varios pasos y este es tu primer modelo, este módulo será extenso, ya que exploraremos cada paso cuidadosamente. Por ello, el flujo de trabajo se divide en diferentes lecciones, y la práctica en Python correspondiente está separada en distintos archivos Jupyter Notebook. Como recordatorio, en este curso el flujo de trabajo para desarrollar un modelo QSAR se divide en las siguientes partes:\n",
    "\n",
    "- Parte 1: Obtención y depuración de datos\n",
    "- Parte 2: Cálculo de descriptores moleculares\n",
    "- Parte 3: División entre entrenamiento y prueba, y estandarización\n",
    "- Parte 4: Selección de descriptores\n",
    "- Parte 5: Desarrollo y optimización del modelo\n",
    "- Parte 6: Predicción y dominio de aplicabilidad"
   ]
  },
  {
   "cell_type": "markdown",
   "id": "9w6RHksyVMFP",
   "metadata": {
    "id": "9w6RHksyVMFP"
   },
   "source": [
    "# Parte 1: Obtención y depuración de datos"
   ]
  },
  {
   "cell_type": "markdown",
   "id": "96ccd108",
   "metadata": {
    "id": "96ccd108"
   },
   "source": [
    "En esta lección aprenderemos cómo preprocesar la base de datos para obtener un conjunto adecuado de moléculas con las que construir un modelo.\n",
    "\n",
    "Primero, leeremos la base de datos, seleccionaremos qué datos queremos usar en nuestro análisis y, si es necesario, transformaremos los valores del endpoint para tener un conjunto de datos coherente.\n",
    "\n",
    "Después, llevaremos a cabo un procedimiento de depuración para eliminar todas las moléculas que estén descritas con un SMILES incorrecto, que no sean adecuadas para nuestro modelo o que estén duplicadas."
   ]
  },
  {
   "cell_type": "markdown",
   "id": "d18459d7",
   "metadata": {
    "id": "d18459d7"
   },
   "source": [
    "Para comenzar, vamos a ejecutar una celda en el notebook para importar los módulos básicos que utilizaremos en esta lección. Esto puede hacerse al principio si ya sabes qué vas a usar, o justo antes de utilizar un módulo nuevo."
   ]
  },
  {
   "cell_type": "code",
   "execution_count": 1,
   "id": "a14c6c79",
   "metadata": {
    "id": "a14c6c79"
   },
   "outputs": [],
   "source": [
    "#Importa los paquetes requeridos\n",
    "import pandas as pd   #Importa la librería pandas como pd\n",
    "from rdkit import Chem  #Importa la libraría Chem de rdkit\n"
   ]
  },
  {
   "cell_type": "markdown",
   "id": "71bad2f6",
   "metadata": {
    "id": "71bad2f6"
   },
   "source": [
    "## Sección 1. Lectura de un conjunto de datos de moléculas y preparación de un conjunto de datos para el modelado"
   ]
  },
  {
   "cell_type": "markdown",
   "id": "2e5077ec",
   "metadata": {
    "id": "2e5077ec"
   },
   "source": [
    "El primer paso para crear un modelo QSAR es obtener y seleccionar los datos que se van a utilizar. Compilar o encontrar una buena base de datos para tu modelo es muy importante.\n",
    "\n",
    "La forma exacta de acceder a los datos dependerá de su fuente y del formato de la base de datos. Debemos considerar cuestiones como:\n",
    "\n",
    "- ¿Podemos descargarla directamente o necesitamos una API?\n",
    "\n",
    "- ¿Tenemos un solo archivo o necesitamos combinar varios?\n",
    "\n",
    "- ¿Cuál es la extensión del archivo?\n",
    "\n",
    "- ¿Cómo están representadas las moléculas?\n",
    "\n",
    "- ¿Disponemos de campos de datos adicionales con información útil?\n"
   ]
  },
  {
   "cell_type": "markdown",
   "id": "08e74fc0",
   "metadata": {
    "id": "08e74fc0"
   },
   "source": [
    "Los datos pueden encontrarse en múltiples formatos, pero es muy común poder descargar bases de datos de compuestos en forma de una o más tablas. Un formato de archivo muy habitual para tablas es el de valores separados por comas (**CSV**) (consulta este enlace https://docs.fileformat.com/spreadsheet/csv/ para más detalles). Este es el formato que utilizaremos a lo largo del curso.\n",
    "\n",
    "Observa cómo usamos la celda de abajo para leer el archivo **Earthworm_acute_toxicity_raw_data.csv** desde la carpeta en la que estamos trabajando. En este caso, abriremos la base de datos como un DataFrame de Pandas utilizando el método `read_csv` de Pandas. Nota que indicamos que se use el punto y coma (\";\") como separador."
   ]
  },
  {
   "cell_type": "code",
   "execution_count": 2,
   "id": "3d2106dd",
   "metadata": {
    "id": "3d2106dd"
   },
   "outputs": [
    {
     "data": {
      "application/vnd.microsoft.datawrangler.viewer.v0+json": {
       "columns": [
        {
         "name": "index",
         "rawType": "int64",
         "type": "integer"
        },
        {
         "name": "SMILES",
         "rawType": "object",
         "type": "string"
        },
        {
         "name": "value",
         "rawType": "object",
         "type": "string"
        },
        {
         "name": "Experimental guidelines",
         "rawType": "object",
         "type": "string"
        }
       ],
       "conversionMethod": "pd.DataFrame",
       "ref": "9413d61d-92df-44bd-ab00-0d3287f8b287",
       "rows": [
        [
         "0",
         "COc1nc(C)nc(NC(=O)NS(=O)(=O)c2ccccc2OCCCl)n1",
         "Non-toxic",
         "OECD Guidelines 207: Earthworm, Acute Toxicity Tests"
        ],
        [
         "1",
         "CCO/N=C(\\CC)C1=C(O)CC(c2c(C)cc(C)cc2C)CC1=O",
         "Positive",
         "OECD Guidelines 207: Earthworm, Acute Toxicity Tests"
        ],
        [
         "2",
         "CC1(C(=O)Nc2ccc(O)c(Cl)c2Cl)CCCCC1",
         "Non-toxic",
         "OECD Guidelines 207: Earthworm, Acute Toxicity Tests"
        ],
        [
         "3",
         "O=C(NC(=O)c1c(F)cccc1F)Nc1cc(Cl)c(OC(F)(F)C(F)C(F)(F)F)cc1Cl",
         "non-toxic",
         "OECD Guidelines 207: Earthworm, Acute Toxicity Tests"
        ],
        [
         "4",
         "O=[N+]([O-])c1cc(C(F)(F)F)c(Cl)c([N+](=O)[O-])c1Nc1ncc(C(F)(F)F)cc1Cl",
         "negative",
         "OECD Guidelines 207: Earthworm, Acute Toxicity Tests"
        ]
       ],
       "shape": {
        "columns": 3,
        "rows": 5
       }
      },
      "text/html": [
       "<div>\n",
       "<style scoped>\n",
       "    .dataframe tbody tr th:only-of-type {\n",
       "        vertical-align: middle;\n",
       "    }\n",
       "\n",
       "    .dataframe tbody tr th {\n",
       "        vertical-align: top;\n",
       "    }\n",
       "\n",
       "    .dataframe thead th {\n",
       "        text-align: right;\n",
       "    }\n",
       "</style>\n",
       "<table border=\"1\" class=\"dataframe\">\n",
       "  <thead>\n",
       "    <tr style=\"text-align: right;\">\n",
       "      <th></th>\n",
       "      <th>SMILES</th>\n",
       "      <th>value</th>\n",
       "      <th>Experimental guidelines</th>\n",
       "    </tr>\n",
       "  </thead>\n",
       "  <tbody>\n",
       "    <tr>\n",
       "      <th>0</th>\n",
       "      <td>COc1nc(C)nc(NC(=O)NS(=O)(=O)c2ccccc2OCCCl)n1</td>\n",
       "      <td>Non-toxic</td>\n",
       "      <td>OECD Guidelines 207: Earthworm, Acute Toxicity...</td>\n",
       "    </tr>\n",
       "    <tr>\n",
       "      <th>1</th>\n",
       "      <td>CCO/N=C(\\CC)C1=C(O)CC(c2c(C)cc(C)cc2C)CC1=O</td>\n",
       "      <td>Positive</td>\n",
       "      <td>OECD Guidelines 207: Earthworm, Acute Toxicity...</td>\n",
       "    </tr>\n",
       "    <tr>\n",
       "      <th>2</th>\n",
       "      <td>CC1(C(=O)Nc2ccc(O)c(Cl)c2Cl)CCCCC1</td>\n",
       "      <td>Non-toxic</td>\n",
       "      <td>OECD Guidelines 207: Earthworm, Acute Toxicity...</td>\n",
       "    </tr>\n",
       "    <tr>\n",
       "      <th>3</th>\n",
       "      <td>O=C(NC(=O)c1c(F)cccc1F)Nc1cc(Cl)c(OC(F)(F)C(F)...</td>\n",
       "      <td>non-toxic</td>\n",
       "      <td>OECD Guidelines 207: Earthworm, Acute Toxicity...</td>\n",
       "    </tr>\n",
       "    <tr>\n",
       "      <th>4</th>\n",
       "      <td>O=[N+]([O-])c1cc(C(F)(F)F)c(Cl)c([N+](=O)[O-])...</td>\n",
       "      <td>negative</td>\n",
       "      <td>OECD Guidelines 207: Earthworm, Acute Toxicity...</td>\n",
       "    </tr>\n",
       "  </tbody>\n",
       "</table>\n",
       "</div>"
      ],
      "text/plain": [
       "                                              SMILES      value  \\\n",
       "0       COc1nc(C)nc(NC(=O)NS(=O)(=O)c2ccccc2OCCCl)n1  Non-toxic   \n",
       "1        CCO/N=C(\\CC)C1=C(O)CC(c2c(C)cc(C)cc2C)CC1=O   Positive   \n",
       "2                 CC1(C(=O)Nc2ccc(O)c(Cl)c2Cl)CCCCC1  Non-toxic   \n",
       "3  O=C(NC(=O)c1c(F)cccc1F)Nc1cc(Cl)c(OC(F)(F)C(F)...  non-toxic   \n",
       "4  O=[N+]([O-])c1cc(C(F)(F)F)c(Cl)c([N+](=O)[O-])...   negative   \n",
       "\n",
       "                             Experimental guidelines  \n",
       "0  OECD Guidelines 207: Earthworm, Acute Toxicity...  \n",
       "1  OECD Guidelines 207: Earthworm, Acute Toxicity...  \n",
       "2  OECD Guidelines 207: Earthworm, Acute Toxicity...  \n",
       "3  OECD Guidelines 207: Earthworm, Acute Toxicity...  \n",
       "4  OECD Guidelines 207: Earthworm, Acute Toxicity...  "
      ]
     },
     "execution_count": 2,
     "metadata": {},
     "output_type": "execute_result"
    }
   ],
   "source": [
    "#Importa los datos del csv\n",
    "\n",
    "df_classification = pd.read_csv('Earthworm_acute_toxicity_raw_data.csv', sep=';')\n",
    "\n",
    "df_classification.head() #Muestra las primeras filas para comprobar que es el archivo adecuado"
   ]
  },
  {
   "cell_type": "code",
   "execution_count": 3,
   "id": "1b6b1256",
   "metadata": {},
   "outputs": [
    {
     "name": "stdout",
     "output_type": "stream",
     "text": [
      "['OECD Guidelines 207: Earthworm, Acute Toxicity Tests'\n",
      " '850.3100 - Earthworm Subchronic Toxicity Test ']\n"
     ]
    }
   ],
   "source": [
    "# How many different experimental guidelines are there?\n",
    "unique_values = df_classification['Experimental guidelines'].unique()\n",
    "print(unique_values)"
   ]
  },
  {
   "cell_type": "code",
   "execution_count": 4,
   "id": "496b770a",
   "metadata": {},
   "outputs": [
    {
     "name": "stdout",
     "output_type": "stream",
     "text": [
      "Number of lines in the dataset: 202\n"
     ]
    }
   ],
   "source": [
    "# show number of lines in the dataset\n",
    "print(\"Number of lines in the dataset:\", len(df_classification))"
   ]
  },
  {
   "cell_type": "markdown",
   "id": "804eac40",
   "metadata": {
    "id": "804eac40"
   },
   "source": [
    "TAREA 1.2 Obtén información del juego de datos"
   ]
  },
  {
   "cell_type": "markdown",
   "id": "9b40de57",
   "metadata": {
    "id": "9b40de57"
   },
   "source": [
    "Primero, vamos a contar cuántas moléculas hay en el conjunto de datos. Una forma habitual de hacerlo es simplemente comprobar el tamaño de la tabla (usando el parámetro `shape` de un DataFrame, más detalles en https://pandas.pydata.org/docs/reference/api/pandas.DataFrame.shape.html)."
   ]
  },
  {
   "cell_type": "markdown",
   "id": "M4b88MDJYShM",
   "metadata": {
    "id": "M4b88MDJYShM"
   },
   "source": [
    "### **Q1.** ¿Cuántas moléculas hay en el juego de datos?"
   ]
  },
  {
   "cell_type": "code",
   "execution_count": 5,
   "id": "30a033e3",
   "metadata": {
    "cellView": "form",
    "id": "30a033e3"
   },
   "outputs": [
    {
     "name": "stdout",
     "output_type": "stream",
     "text": [
      "Number of molecules(without filter by unique): 202\n"
     ]
    }
   ],
   "source": [
    "#Cuenta las moléculas\n",
    "\n",
    "n_molecules = df_classification.shape[0]\n",
    "print(f\"Number of molecules(without filter by unique): {n_molecules}\")\n"
   ]
  },
  {
   "cell_type": "markdown",
   "id": "454073ef",
   "metadata": {
    "id": "454073ef"
   },
   "source": [
    "Otra pregunta importante es: ¿qué columnas tiene? Imprime los nombres de las columnas."
   ]
  },
  {
   "cell_type": "code",
   "execution_count": 6,
   "id": "5ca32042",
   "metadata": {
    "id": "5ca32042",
    "scrolled": true
   },
   "outputs": [
    {
     "data": {
      "text/plain": [
       "Index(['SMILES', 'value', 'Experimental guidelines'], dtype='object')"
      ]
     },
     "execution_count": 6,
     "metadata": {},
     "output_type": "execute_result"
    }
   ],
   "source": [
    "#Mira el nombre de las columnas\n",
    "\n",
    "df_classification.columns"
   ]
  },
  {
   "cell_type": "markdown",
   "id": "277f0d37",
   "metadata": {
    "id": "277f0d37"
   },
   "source": [
    "Habrás visto que hay un campo en la base de datos relacionado con el protocolo experimental. Es importante revisar este tipo de información y evaluar qué opción es mejor: restringirse a un único método (esto reduce el ruido, pero disminuye la cantidad de datos) o combinar varios.\n",
    "\n",
    "El primer paso es evaluar la distribución de los valores; la forma más rápida y sencilla de hacerlo es usando el método `value_counts` (https://pandas.pydata.org/docs/reference/api/pandas.Series.value_counts.html)."
   ]
  },
  {
   "cell_type": "code",
   "execution_count": 7,
   "id": "e2af5fbf",
   "metadata": {
    "id": "e2af5fbf"
   },
   "outputs": [
    {
     "data": {
      "text/plain": [
       "Experimental guidelines\n",
       "OECD Guidelines 207: Earthworm, Acute Toxicity Tests    174\n",
       "850.3100 - Earthworm Subchronic Toxicity Test            28\n",
       "Name: count, dtype: int64"
      ]
     },
     "execution_count": 7,
     "metadata": {},
     "output_type": "execute_result"
    }
   ],
   "source": [
    "#Comprueba los protocolos experimentales\n",
    "\n",
    "df_classification['Experimental guidelines'].value_counts()"
   ]
  },
  {
   "cell_type": "markdown",
   "id": "0f86928d",
   "metadata": {
    "id": "0f86928d"
   },
   "source": [
    "En este caso, la base de datos incluye diferentes opciones, pero hay una mayoría significativa de valores correspondientes a un solo protocolo. Además, se trata de un protocolo estándar de la OCDE, lo que garantiza que estos valores se han obtenido siguiendo un método estandarizado y que su fiabilidad está establecida. Por tanto, en este caso restringiremos nuestro modelo a los datos obtenidos mediante este método.\n",
    "\n",
    "Crea un nuevo DataFrame llamado `df_classification_filtered` que contenga únicamente los registros correspondientes a este método."
   ]
  },
  {
   "cell_type": "code",
   "execution_count": 8,
   "id": "3baa7457",
   "metadata": {
    "id": "3baa7457"
   },
   "outputs": [
    {
     "data": {
      "text/plain": [
       "174"
      ]
     },
     "execution_count": 8,
     "metadata": {},
     "output_type": "execute_result"
    }
   ],
   "source": [
    "#Filtra la base de datos\n",
    "\n",
    "#ESCRIBE AQUÍ TU CÓDIGO\n",
    "df_classification_filtered = df_classification[df_classification['Experimental guidelines'] == 'OECD Guidelines 207: Earthworm, Acute Toxicity Tests']\n",
    "\n",
    "#Muestra el número de filas al final, para comprobar que el filtro ha funcionado correctamente\n",
    "df_classification_filtered.shape[0]"
   ]
  },
  {
   "cell_type": "markdown",
   "id": "8408e8ac",
   "metadata": {
    "id": "8408e8ac"
   },
   "source": [
    "Ahora vamos a comprobar los valores del endpoint. Necesitamos revisar tres aspectos diferentes:\n",
    "\n",
    "1. ¿Cómo están etiquetados los valores? ¿Ya tenemos una clasificación tal y como requiere este modelo? ¿Están las categorías etiquetadas de forma consistente?\n",
    "\n",
    "1. ¿Tenemos valores vacíos, incorrectos o poco claros que debamos eliminar?\n",
    "\n",
    "1. ¿Tenemos suficientes valores positivos y negativos? Para el modelado, el escenario ideal es contar con un conjunto de datos equilibrado.\n",
    "\n",
    "Visualiza la distribución de los datos para el valor del endpoint (puedes usar el mismo enfoque que utilizamos para el protocolo experimental)."
   ]
  },
  {
   "cell_type": "code",
   "execution_count": 9,
   "id": "4537e611",
   "metadata": {
    "id": "4537e611"
   },
   "outputs": [
    {
     "data": {
      "text/plain": [
       "value\n",
       "negative     31\n",
       "Negative     31\n",
       "toxic        29\n",
       "Non-toxic    24\n",
       "Positive     23\n",
       "positive     15\n",
       "non-toxic    11\n",
       "Toxic        10\n",
       "Name: count, dtype: int64"
      ]
     },
     "execution_count": 9,
     "metadata": {},
     "output_type": "execute_result"
    }
   ],
   "source": [
    "#Comprueba los valores usados para la toxicidad\n",
    "\n",
    "df_classification_filtered['value'].value_counts()"
   ]
  },
  {
   "cell_type": "markdown",
   "id": "fb47917c",
   "metadata": {
    "id": "fb47917c"
   },
   "source": [
    "En este caso, tenemos una variación significativa en las etiquetas. Por tanto, es necesario identificarlas de manera consistente.\n",
    "\n",
    "Se recomienda usar valores numéricos (esto no es un requisito para todos los algoritmos, pero sí puede serlo para algunos, por lo que es mejor utilizar números de forma coherente). Usaremos 1 para los valores tóxicos o positivos y 0 para los valores no-tóxicos o negativos.\n",
    "\n",
    "Convierte los valores a 1/0 y guárdalos en una columna llamada 'y' (que es un nombre habitual para el endpoint en aprendizaje automático).\n",
    "\n",
    "Hay varias formas de hacerlo. Puedes preparar un diccionario con la equivalencia entre los diferentes valores y los valores 1 y 0, y luego usar el método `map` para convertir la columna '**value**' (https://pandas.pydata.org/docs/dev/reference/api/pandas.DataFrame.map.html). Alternativamente, puedes cambiar las etiquetas por números una por una utilizando el método `replace` (https://pandas.pydata.org/docs/reference/api/pandas.DataFrame.replace.html)."
   ]
  },
  {
   "cell_type": "code",
   "execution_count": 10,
   "id": "1cf05d07",
   "metadata": {
    "id": "1cf05d07",
    "scrolled": true
   },
   "outputs": [
    {
     "name": "stderr",
     "output_type": "stream",
     "text": [
      "/var/folders/6m/y19m_stx56g4f1rh6ss7lkmw0000gn/T/ipykernel_59354/3785116728.py:4: SettingWithCopyWarning: \n",
      "A value is trying to be set on a copy of a slice from a DataFrame.\n",
      "Try using .loc[row_indexer,col_indexer] = value instead\n",
      "\n",
      "See the caveats in the documentation: https://pandas.pydata.org/pandas-docs/stable/user_guide/indexing.html#returning-a-view-versus-a-copy\n",
      "  df_classification_filtered['y'] = df_classification_filtered['value'].apply(lambda x: 1 if (x.lower() == 'toxic' or x.lower() == 'positive') else 0)\n"
     ]
    },
    {
     "data": {
      "application/vnd.microsoft.datawrangler.viewer.v0+json": {
       "columns": [
        {
         "name": "index",
         "rawType": "int64",
         "type": "integer"
        },
        {
         "name": "SMILES",
         "rawType": "object",
         "type": "string"
        },
        {
         "name": "value",
         "rawType": "object",
         "type": "string"
        },
        {
         "name": "Experimental guidelines",
         "rawType": "object",
         "type": "string"
        },
        {
         "name": "y",
         "rawType": "int64",
         "type": "integer"
        }
       ],
       "conversionMethod": "pd.DataFrame",
       "ref": "0bcbd966-25d3-42d6-a2e2-8e00bf2cb5e3",
       "rows": [
        [
         "0",
         "COc1nc(C)nc(NC(=O)NS(=O)(=O)c2ccccc2OCCCl)n1",
         "Non-toxic",
         "OECD Guidelines 207: Earthworm, Acute Toxicity Tests",
         "0"
        ],
        [
         "1",
         "CCO/N=C(\\CC)C1=C(O)CC(c2c(C)cc(C)cc2C)CC1=O",
         "Positive",
         "OECD Guidelines 207: Earthworm, Acute Toxicity Tests",
         "1"
        ],
        [
         "2",
         "CC1(C(=O)Nc2ccc(O)c(Cl)c2Cl)CCCCC1",
         "Non-toxic",
         "OECD Guidelines 207: Earthworm, Acute Toxicity Tests",
         "0"
        ],
        [
         "3",
         "O=C(NC(=O)c1c(F)cccc1F)Nc1cc(Cl)c(OC(F)(F)C(F)C(F)(F)F)cc1Cl",
         "non-toxic",
         "OECD Guidelines 207: Earthworm, Acute Toxicity Tests",
         "0"
        ],
        [
         "4",
         "O=[N+]([O-])c1cc(C(F)(F)F)c(Cl)c([N+](=O)[O-])c1Nc1ncc(C(F)(F)F)cc1Cl",
         "negative",
         "OECD Guidelines 207: Earthworm, Acute Toxicity Tests",
         "0"
        ],
        [
         "5",
         "Oc1ccccc1-c1ccccc1",
         "positive",
         "OECD Guidelines 207: Earthworm, Acute Toxicity Tests",
         "1"
        ],
        [
         "6",
         "CC1(C)CC/C(=C/c2ccc(Cl)cc2)C1(O)Cn1cncn1",
         "Negative",
         "OECD Guidelines 207: Earthworm, Acute Toxicity Tests",
         "0"
        ],
        [
         "7",
         "CCS(=O)CCSP(=O)(OC)OC",
         "Positive",
         "OECD Guidelines 207: Earthworm, Acute Toxicity Tests",
         "1"
        ],
        [
         "8",
         "CCC(=O)Nc1ccc(Cl)c(Cl)c1",
         "positive",
         "OECD Guidelines 207: Earthworm, Acute Toxicity Tests",
         "1"
        ],
        [
         "9",
         "O=C(Nc1ccccc1)N(Cc1ccc(Cl)cc1)C1CCCC1",
         "negative",
         "OECD Guidelines 207: Earthworm, Acute Toxicity Tests",
         "0"
        ],
        [
         "11",
         "[SH-].[SH-].[Fe].[Fe+2]",
         "negative",
         "OECD Guidelines 207: Earthworm, Acute Toxicity Tests",
         "0"
        ],
        [
         "12",
         "CC1(c2ccc(Oc3ccccc3)cc2)OC(=O)N(Nc2ccccc2)C1=O",
         "Toxic",
         "OECD Guidelines 207: Earthworm, Acute Toxicity Tests",
         "1"
        ],
        [
         "13",
         "Cc1nn(C)c(F)c1C(=O)Nc1ccccc1C(C)CC(C)C",
         "negative",
         "OECD Guidelines 207: Earthworm, Acute Toxicity Tests",
         "0"
        ],
        [
         "14",
         "Oc1nc2ccc(Cl)cc2nc1O",
         "negative",
         "OECD Guidelines 207: Earthworm, Acute Toxicity Tests",
         "0"
        ],
        [
         "15",
         "CCCSP(=O)(OCC)SCCC",
         "Toxic",
         "OECD Guidelines 207: Earthworm, Acute Toxicity Tests",
         "1"
        ],
        [
         "16",
         "CCOC(=O)[C@@H](C)Oc1ccc(Oc2cnc3cc(Cl)ccc3n2)cc1",
         "toxic",
         "OECD Guidelines 207: Earthworm, Acute Toxicity Tests",
         "1"
        ],
        [
         "17",
         "O=C(NC(=O)c1c(F)cccc1F)Nc1ccc(Cl)cc1",
         "non-toxic",
         "OECD Guidelines 207: Earthworm, Acute Toxicity Tests",
         "0"
        ],
        [
         "18",
         "Nc1c(Cl)c(F)nc(OCC(=O)O)c1Cl",
         "Toxic",
         "OECD Guidelines 207: Earthworm, Acute Toxicity Tests",
         "1"
        ],
        [
         "19",
         "O=C(O)CNCP(=O)(O)O",
         "non-toxic",
         "OECD Guidelines 207: Earthworm, Acute Toxicity Tests",
         "0"
        ],
        [
         "21",
         "[Na+].CCCCCCCCCCCCC1=C(OC(C)=O)C(=O)c2ccccc2C1=O",
         "non-toxic",
         "OECD Guidelines 207: Earthworm, Acute Toxicity Tests",
         "0"
        ],
        [
         "23",
         "Cc1cc(C)nc(NC(=O)NS(=O)(=O)c2ccccc2C(=O)OC2COC2)n1",
         "non-toxic",
         "OECD Guidelines 207: Earthworm, Acute Toxicity Tests",
         "0"
        ],
        [
         "24",
         "COC(=O)c1ccccc1S(=O)(=O)NC(=O)Nc1nc(C)nc(OC)n1",
         "non-toxic",
         "OECD Guidelines 207: Earthworm, Acute Toxicity Tests",
         "0"
        ],
        [
         "25",
         "O=c1c2cc(F)ccc2nc(-n2cncn2)n1-c1ccc(Cl)cc1Cl",
         "non-toxic",
         "OECD Guidelines 207: Earthworm, Acute Toxicity Tests",
         "0"
        ],
        [
         "27",
         "CCC(C)(NC(=O)c1cc(Cl)c(C)c(Cl)c1)C(=O)CCl",
         "non-toxic",
         "OECD Guidelines 207: Earthworm, Acute Toxicity Tests",
         "0"
        ],
        [
         "28",
         "Cc1ccc(N(SC(F)(Cl)Cl)S(=O)(=O)N(C)C)cc1",
         "non-toxic",
         "OECD Guidelines 207: Earthworm, Acute Toxicity Tests",
         "0"
        ],
        [
         "29",
         "Cc1nnc(-c2ccccc2)c(=O)n1N",
         "Toxic",
         "OECD Guidelines 207: Earthworm, Acute Toxicity Tests",
         "1"
        ],
        [
         "30",
         "CCCN(CCOc1c(Cl)cc(Cl)cc1Cl)C(=O)n1ccnc1",
         "non-toxic",
         "OECD Guidelines 207: Earthworm, Acute Toxicity Tests",
         "0"
        ],
        [
         "31",
         "COC(=O)c1ccc(C(F)(F)F)nc1S(=O)(=O)N([Na])C(=O)Nc1nc(OC)cc(OC)n1",
         "non-toxic",
         "OECD Guidelines 207: Earthworm, Acute Toxicity Tests",
         "0"
        ],
        [
         "32",
         "COP(=O)(OC)C(O)C(Cl)(Cl)Cl",
         "Toxic",
         "OECD Guidelines 207: Earthworm, Acute Toxicity Tests",
         "1"
        ],
        [
         "33",
         "Nc1c([N+](=O)[O-])ccc(Oc2ccccc2)c1Cl.[H+].[H+].[Cl-].[Cl-]",
         "Toxic",
         "OECD Guidelines 207: Earthworm, Acute Toxicity Tests",
         "1"
        ],
        [
         "34",
         "CC(COc1ccc(Oc2ccccc2)cc1)Oc1ccccn1",
         "Non-toxic",
         "OECD Guidelines 207: Earthworm, Acute Toxicity Tests",
         "0"
        ],
        [
         "35",
         "CCNC(=O)NC(=O)/C(C#N)=N/OC",
         "Non-toxic",
         "OECD Guidelines 207: Earthworm, Acute Toxicity Tests",
         "0"
        ],
        [
         "36",
         "CNC(=O)ON=C(C)SC",
         "positive",
         "OECD Guidelines 207: Earthworm, Acute Toxicity Tests",
         "1"
        ],
        [
         "37",
         "N#Cc1sc2c(=O)c3ccccc3c(=O)c=2sc1C#N",
         "Toxic",
         "OECD Guidelines 207: Earthworm, Acute Toxicity Tests",
         "1"
        ],
        [
         "38",
         "CC(C)(C)C(O)C(Oc1ccc(-c2ccccc2)cc1)n1cncn1.[Na+]",
         "negative",
         "OECD Guidelines 207: Earthworm, Acute Toxicity Tests",
         "0"
        ],
        [
         "39",
         "[H+].[H+].[Cl-].[Cl-].CCOP(=S)(OCC)SCn1c(=O)oc2cc(Cl)ccc21",
         "positive",
         "OECD Guidelines 207: Earthworm, Acute Toxicity Tests",
         "1"
        ],
        [
         "40",
         "c1ccc(CNc2ncnc3[nH]cnc23)cc1",
         "Non-toxic",
         "OECD Guidelines 207: Earthworm, Acute Toxicity Tests",
         "0"
        ],
        [
         "42",
         "CCC/C(=N\\OCC)C1=C(O)CC(C2CCCSC2)CC1=O",
         "Non-toxic",
         "OECD Guidelines 207: Earthworm, Acute Toxicity Tests",
         "0"
        ],
        [
         "43",
         "CCN(CC)C(=O)C(C)Oc1cccc2ccccc12",
         "Toxic",
         "OECD Guidelines 207: Earthworm, Acute Toxicity Tests",
         "1"
        ],
        [
         "44",
         "COc1ncc(F)c2nc(S(=O)(=O)Nc3c(F)cccc3F)nn12",
         "negative",
         "OECD Guidelines 207: Earthworm, Acute Toxicity Tests",
         "0"
        ],
        [
         "45",
         "CCCOc1nc2ccc(I)cc2c(=O)n1CCC",
         "negative",
         "OECD Guidelines 207: Earthworm, Acute Toxicity Tests",
         "0"
        ],
        [
         "47",
         "CNONFN",
         "negative",
         "OECD Guidelines 207: Earthworm, Acute Toxicity Tests",
         "0"
        ],
        [
         "48",
         "CC(C)(C)C(O)(CCc1ccc(Cl)cc1)Cn1cncn1",
         "negative",
         "OECD Guidelines 207: Earthworm, Acute Toxicity Tests",
         "0"
        ],
        [
         "49",
         "FC(F)C(F)(F)OCC(Cn1cncn1)c1ccc(Cl)cc1Cl",
         "positive",
         "OECD Guidelines 207: Earthworm, Acute Toxicity Tests",
         "1"
        ],
        [
         "50",
         "Nc1ccc(S(=O)(=O)NC(=O)O[Na])cc1",
         "Non-toxic",
         "OECD Guidelines 207: Earthworm, Acute Toxicity Tests",
         "0"
        ],
        [
         "51",
         "O=S(=O)(O)O.CCC(=O)Nc1ccc(Cl)c(Cl)c1",
         "positive",
         "OECD Guidelines 207: Earthworm, Acute Toxicity Tests",
         "1"
        ],
        [
         "52",
         "FClF",
         "positive",
         "OECD Guidelines 207: Earthworm, Acute Toxicity Tests",
         "1"
        ],
        [
         "54",
         "Nc1c([N+](=O)[O-])ccc(Oc2ccccc2)c1Cl",
         "Positive",
         "OECD Guidelines 207: Earthworm, Acute Toxicity Tests",
         "1"
        ],
        [
         "55",
         "O=C(NCCc1ncc(C(F)(F)F)cc1Cl)c1ccccc1C(F)(F)F",
         "negative",
         "OECD Guidelines 207: Earthworm, Acute Toxicity Tests",
         "0"
        ],
        [
         "57",
         "COc1cc(OC)nc(NC(=O)NS(=O)(=O)N(C)S(C)(=O)=O)n1.OC(=O)\\C=C\\C(O)=O",
         "negative",
         "OECD Guidelines 207: Earthworm, Acute Toxicity Tests",
         "0"
        ]
       ],
       "shape": {
        "columns": 4,
        "rows": 174
       }
      },
      "text/html": [
       "<div>\n",
       "<style scoped>\n",
       "    .dataframe tbody tr th:only-of-type {\n",
       "        vertical-align: middle;\n",
       "    }\n",
       "\n",
       "    .dataframe tbody tr th {\n",
       "        vertical-align: top;\n",
       "    }\n",
       "\n",
       "    .dataframe thead th {\n",
       "        text-align: right;\n",
       "    }\n",
       "</style>\n",
       "<table border=\"1\" class=\"dataframe\">\n",
       "  <thead>\n",
       "    <tr style=\"text-align: right;\">\n",
       "      <th></th>\n",
       "      <th>SMILES</th>\n",
       "      <th>value</th>\n",
       "      <th>Experimental guidelines</th>\n",
       "      <th>y</th>\n",
       "    </tr>\n",
       "  </thead>\n",
       "  <tbody>\n",
       "    <tr>\n",
       "      <th>0</th>\n",
       "      <td>COc1nc(C)nc(NC(=O)NS(=O)(=O)c2ccccc2OCCCl)n1</td>\n",
       "      <td>Non-toxic</td>\n",
       "      <td>OECD Guidelines 207: Earthworm, Acute Toxicity...</td>\n",
       "      <td>0</td>\n",
       "    </tr>\n",
       "    <tr>\n",
       "      <th>1</th>\n",
       "      <td>CCO/N=C(\\CC)C1=C(O)CC(c2c(C)cc(C)cc2C)CC1=O</td>\n",
       "      <td>Positive</td>\n",
       "      <td>OECD Guidelines 207: Earthworm, Acute Toxicity...</td>\n",
       "      <td>1</td>\n",
       "    </tr>\n",
       "    <tr>\n",
       "      <th>2</th>\n",
       "      <td>CC1(C(=O)Nc2ccc(O)c(Cl)c2Cl)CCCCC1</td>\n",
       "      <td>Non-toxic</td>\n",
       "      <td>OECD Guidelines 207: Earthworm, Acute Toxicity...</td>\n",
       "      <td>0</td>\n",
       "    </tr>\n",
       "    <tr>\n",
       "      <th>3</th>\n",
       "      <td>O=C(NC(=O)c1c(F)cccc1F)Nc1cc(Cl)c(OC(F)(F)C(F)...</td>\n",
       "      <td>non-toxic</td>\n",
       "      <td>OECD Guidelines 207: Earthworm, Acute Toxicity...</td>\n",
       "      <td>0</td>\n",
       "    </tr>\n",
       "    <tr>\n",
       "      <th>4</th>\n",
       "      <td>O=[N+]([O-])c1cc(C(F)(F)F)c(Cl)c([N+](=O)[O-])...</td>\n",
       "      <td>negative</td>\n",
       "      <td>OECD Guidelines 207: Earthworm, Acute Toxicity...</td>\n",
       "      <td>0</td>\n",
       "    </tr>\n",
       "    <tr>\n",
       "      <th>...</th>\n",
       "      <td>...</td>\n",
       "      <td>...</td>\n",
       "      <td>...</td>\n",
       "      <td>...</td>\n",
       "    </tr>\n",
       "    <tr>\n",
       "      <th>197</th>\n",
       "      <td>O=C(O)/C=C/C(=O)O.O=C(c1ccc(F)c(F)c1Nc1ccc(I)c...</td>\n",
       "      <td>positive</td>\n",
       "      <td>OECD Guidelines 207: Earthworm, Acute Toxicity...</td>\n",
       "      <td>1</td>\n",
       "    </tr>\n",
       "    <tr>\n",
       "      <th>198</th>\n",
       "      <td>O=C(c1ccc(F)c(F)c1Nc1ccc(I)cc1F)N1CC(O)([C@@H]...</td>\n",
       "      <td>positive</td>\n",
       "      <td>OECD Guidelines 207: Earthworm, Acute Toxicity...</td>\n",
       "      <td>1</td>\n",
       "    </tr>\n",
       "    <tr>\n",
       "      <th>199</th>\n",
       "      <td>Cc1c(F)cc(C(=O)NC2CC2)cc1-c1ccc(C(=O)NCC(C)(C)...</td>\n",
       "      <td>positive</td>\n",
       "      <td>OECD Guidelines 207: Earthworm, Acute Toxicity...</td>\n",
       "      <td>1</td>\n",
       "    </tr>\n",
       "    <tr>\n",
       "      <th>200</th>\n",
       "      <td>CClCCC=OF</td>\n",
       "      <td>negative</td>\n",
       "      <td>OECD Guidelines 207: Earthworm, Acute Toxicity...</td>\n",
       "      <td>0</td>\n",
       "    </tr>\n",
       "    <tr>\n",
       "      <th>201</th>\n",
       "      <td>cccCCC</td>\n",
       "      <td>negative</td>\n",
       "      <td>OECD Guidelines 207: Earthworm, Acute Toxicity...</td>\n",
       "      <td>0</td>\n",
       "    </tr>\n",
       "  </tbody>\n",
       "</table>\n",
       "<p>174 rows × 4 columns</p>\n",
       "</div>"
      ],
      "text/plain": [
       "                                                SMILES      value  \\\n",
       "0         COc1nc(C)nc(NC(=O)NS(=O)(=O)c2ccccc2OCCCl)n1  Non-toxic   \n",
       "1          CCO/N=C(\\CC)C1=C(O)CC(c2c(C)cc(C)cc2C)CC1=O   Positive   \n",
       "2                   CC1(C(=O)Nc2ccc(O)c(Cl)c2Cl)CCCCC1  Non-toxic   \n",
       "3    O=C(NC(=O)c1c(F)cccc1F)Nc1cc(Cl)c(OC(F)(F)C(F)...  non-toxic   \n",
       "4    O=[N+]([O-])c1cc(C(F)(F)F)c(Cl)c([N+](=O)[O-])...   negative   \n",
       "..                                                 ...        ...   \n",
       "197  O=C(O)/C=C/C(=O)O.O=C(c1ccc(F)c(F)c1Nc1ccc(I)c...   positive   \n",
       "198  O=C(c1ccc(F)c(F)c1Nc1ccc(I)cc1F)N1CC(O)([C@@H]...   positive   \n",
       "199  Cc1c(F)cc(C(=O)NC2CC2)cc1-c1ccc(C(=O)NCC(C)(C)...   positive   \n",
       "200                                          CClCCC=OF   negative   \n",
       "201                                             cccCCC   negative   \n",
       "\n",
       "                               Experimental guidelines  y  \n",
       "0    OECD Guidelines 207: Earthworm, Acute Toxicity...  0  \n",
       "1    OECD Guidelines 207: Earthworm, Acute Toxicity...  1  \n",
       "2    OECD Guidelines 207: Earthworm, Acute Toxicity...  0  \n",
       "3    OECD Guidelines 207: Earthworm, Acute Toxicity...  0  \n",
       "4    OECD Guidelines 207: Earthworm, Acute Toxicity...  0  \n",
       "..                                                 ... ..  \n",
       "197  OECD Guidelines 207: Earthworm, Acute Toxicity...  1  \n",
       "198  OECD Guidelines 207: Earthworm, Acute Toxicity...  1  \n",
       "199  OECD Guidelines 207: Earthworm, Acute Toxicity...  1  \n",
       "200  OECD Guidelines 207: Earthworm, Acute Toxicity...  0  \n",
       "201  OECD Guidelines 207: Earthworm, Acute Toxicity...  0  \n",
       "\n",
       "[174 rows x 4 columns]"
      ]
     },
     "execution_count": 10,
     "metadata": {},
     "output_type": "execute_result"
    }
   ],
   "source": [
    "#ESCRIBE AQUÍ TU CÓDIGO\n",
    "\n",
    "\n",
    "df_classification_filtered['y'] = df_classification_filtered['value'].apply(lambda x: 1 if (x.lower() == 'toxic' or x.lower() == 'positive') else 0)\n",
    "\n",
    "#Imprime tu Dataframe para comprobar que el progreso es correcto\n",
    "df_classification_filtered\n"
   ]
  },
  {
   "cell_type": "code",
   "execution_count": 11,
   "id": "32037148",
   "metadata": {},
   "outputs": [
    {
     "data": {
      "text/plain": [
       "y\n",
       "0    97\n",
       "1    77\n",
       "Name: count, dtype: int64"
      ]
     },
     "execution_count": 11,
     "metadata": {},
     "output_type": "execute_result"
    }
   ],
   "source": [
    "# Show y value counts to confirm the mapping\n",
    "df_classification_filtered['y'].value_counts()"
   ]
  },
  {
   "cell_type": "markdown",
   "id": "a18d3944",
   "metadata": {
    "id": "a18d3944"
   },
   "source": [
    "Una vez que el conjunto de datos está filtrado y listo, seleccionaremos únicamente las columnas de interés y lo guardaremos como un archivo .csv."
   ]
  },
  {
   "cell_type": "code",
   "execution_count": 12,
   "id": "88646530",
   "metadata": {
    "id": "88646530"
   },
   "outputs": [],
   "source": [
    "df_classification_final = df_classification_filtered[['SMILES', 'y']]\n",
    "\n",
    "df_classification_final.to_csv('Earthworm_acute_toxicity-preprocessed.csv', sep=';', index=False)"
   ]
  },
  {
   "cell_type": "markdown",
   "id": "6a6178e0",
   "metadata": {
    "id": "6a6178e0"
   },
   "source": [
    "## SECCIÓN 2. Limpiando las moléculas del juego de datos"
   ]
  },
  {
   "cell_type": "markdown",
   "id": "1d9651ae",
   "metadata": {
    "id": "1d9651ae"
   },
   "source": [
    "Ahora que ya sabemos cómo importar los datos, vamos a comenzar a depurar el conjunto de datos para filtrar aquellos valores que no son correctos o que no son prácticos para su uso en el desarrollo de un modelo.\n",
    "\n",
    "Trabajaremos con el conjunto de datos filtrado de toxicidad aguda en lombrices de tierra que creamos y guardamos en el archivo CSV \"**Earthworm_acute_toxicity-preprocessed.csv**\" en el paso anterior. Vamos a volver a cargar este conjunto de datos desde el archivo CSV.\n",
    "\n",
    "Ten en cuenta que este paso no es estrictamente necesario, ya que el DataFrame aún está en memoria (acaba de guardarse). Sin embargo, se recomienda leerlo de nuevo, por si necesitas retomar tu trabajo más adelante o para poder repetir la **Sección 2**, asegurándote de que los datos iniciales sean consistentes entre ejecuciones."
   ]
  },
  {
   "cell_type": "code",
   "execution_count": 13,
   "id": "b316aa07",
   "metadata": {
    "id": "b316aa07"
   },
   "outputs": [
    {
     "data": {
      "application/vnd.microsoft.datawrangler.viewer.v0+json": {
       "columns": [
        {
         "name": "index",
         "rawType": "int64",
         "type": "integer"
        },
        {
         "name": "SMILES",
         "rawType": "object",
         "type": "string"
        },
        {
         "name": "y",
         "rawType": "int64",
         "type": "integer"
        }
       ],
       "conversionMethod": "pd.DataFrame",
       "ref": "8a73d86a-d3a5-4a6d-8a52-363d5c9e146e",
       "rows": [
        [
         "0",
         "COc1nc(C)nc(NC(=O)NS(=O)(=O)c2ccccc2OCCCl)n1",
         "0"
        ],
        [
         "1",
         "CCO/N=C(\\CC)C1=C(O)CC(c2c(C)cc(C)cc2C)CC1=O",
         "1"
        ],
        [
         "2",
         "CC1(C(=O)Nc2ccc(O)c(Cl)c2Cl)CCCCC1",
         "0"
        ],
        [
         "3",
         "O=C(NC(=O)c1c(F)cccc1F)Nc1cc(Cl)c(OC(F)(F)C(F)C(F)(F)F)cc1Cl",
         "0"
        ],
        [
         "4",
         "O=[N+]([O-])c1cc(C(F)(F)F)c(Cl)c([N+](=O)[O-])c1Nc1ncc(C(F)(F)F)cc1Cl",
         "0"
        ],
        [
         "5",
         "Oc1ccccc1-c1ccccc1",
         "1"
        ],
        [
         "6",
         "CC1(C)CC/C(=C/c2ccc(Cl)cc2)C1(O)Cn1cncn1",
         "0"
        ],
        [
         "7",
         "CCS(=O)CCSP(=O)(OC)OC",
         "1"
        ],
        [
         "8",
         "CCC(=O)Nc1ccc(Cl)c(Cl)c1",
         "1"
        ],
        [
         "9",
         "O=C(Nc1ccccc1)N(Cc1ccc(Cl)cc1)C1CCCC1",
         "0"
        ],
        [
         "10",
         "[SH-].[SH-].[Fe].[Fe+2]",
         "0"
        ],
        [
         "11",
         "CC1(c2ccc(Oc3ccccc3)cc2)OC(=O)N(Nc2ccccc2)C1=O",
         "1"
        ],
        [
         "12",
         "Cc1nn(C)c(F)c1C(=O)Nc1ccccc1C(C)CC(C)C",
         "0"
        ],
        [
         "13",
         "Oc1nc2ccc(Cl)cc2nc1O",
         "0"
        ],
        [
         "14",
         "CCCSP(=O)(OCC)SCCC",
         "1"
        ],
        [
         "15",
         "CCOC(=O)[C@@H](C)Oc1ccc(Oc2cnc3cc(Cl)ccc3n2)cc1",
         "1"
        ],
        [
         "16",
         "O=C(NC(=O)c1c(F)cccc1F)Nc1ccc(Cl)cc1",
         "0"
        ],
        [
         "17",
         "Nc1c(Cl)c(F)nc(OCC(=O)O)c1Cl",
         "1"
        ],
        [
         "18",
         "O=C(O)CNCP(=O)(O)O",
         "0"
        ],
        [
         "19",
         "[Na+].CCCCCCCCCCCCC1=C(OC(C)=O)C(=O)c2ccccc2C1=O",
         "0"
        ],
        [
         "20",
         "Cc1cc(C)nc(NC(=O)NS(=O)(=O)c2ccccc2C(=O)OC2COC2)n1",
         "0"
        ],
        [
         "21",
         "COC(=O)c1ccccc1S(=O)(=O)NC(=O)Nc1nc(C)nc(OC)n1",
         "0"
        ],
        [
         "22",
         "O=c1c2cc(F)ccc2nc(-n2cncn2)n1-c1ccc(Cl)cc1Cl",
         "0"
        ],
        [
         "23",
         "CCC(C)(NC(=O)c1cc(Cl)c(C)c(Cl)c1)C(=O)CCl",
         "0"
        ],
        [
         "24",
         "Cc1ccc(N(SC(F)(Cl)Cl)S(=O)(=O)N(C)C)cc1",
         "0"
        ],
        [
         "25",
         "Cc1nnc(-c2ccccc2)c(=O)n1N",
         "1"
        ],
        [
         "26",
         "CCCN(CCOc1c(Cl)cc(Cl)cc1Cl)C(=O)n1ccnc1",
         "0"
        ],
        [
         "27",
         "COC(=O)c1ccc(C(F)(F)F)nc1S(=O)(=O)N([Na])C(=O)Nc1nc(OC)cc(OC)n1",
         "0"
        ],
        [
         "28",
         "COP(=O)(OC)C(O)C(Cl)(Cl)Cl",
         "1"
        ],
        [
         "29",
         "Nc1c([N+](=O)[O-])ccc(Oc2ccccc2)c1Cl.[H+].[H+].[Cl-].[Cl-]",
         "1"
        ],
        [
         "30",
         "CC(COc1ccc(Oc2ccccc2)cc1)Oc1ccccn1",
         "0"
        ],
        [
         "31",
         "CCNC(=O)NC(=O)/C(C#N)=N/OC",
         "0"
        ],
        [
         "32",
         "CNC(=O)ON=C(C)SC",
         "1"
        ],
        [
         "33",
         "N#Cc1sc2c(=O)c3ccccc3c(=O)c=2sc1C#N",
         "1"
        ],
        [
         "34",
         "CC(C)(C)C(O)C(Oc1ccc(-c2ccccc2)cc1)n1cncn1.[Na+]",
         "0"
        ],
        [
         "35",
         "[H+].[H+].[Cl-].[Cl-].CCOP(=S)(OCC)SCn1c(=O)oc2cc(Cl)ccc21",
         "1"
        ],
        [
         "36",
         "c1ccc(CNc2ncnc3[nH]cnc23)cc1",
         "0"
        ],
        [
         "37",
         "CCC/C(=N\\OCC)C1=C(O)CC(C2CCCSC2)CC1=O",
         "0"
        ],
        [
         "38",
         "CCN(CC)C(=O)C(C)Oc1cccc2ccccc12",
         "1"
        ],
        [
         "39",
         "COc1ncc(F)c2nc(S(=O)(=O)Nc3c(F)cccc3F)nn12",
         "0"
        ],
        [
         "40",
         "CCCOc1nc2ccc(I)cc2c(=O)n1CCC",
         "0"
        ],
        [
         "41",
         "CNONFN",
         "0"
        ],
        [
         "42",
         "CC(C)(C)C(O)(CCc1ccc(Cl)cc1)Cn1cncn1",
         "0"
        ],
        [
         "43",
         "FC(F)C(F)(F)OCC(Cn1cncn1)c1ccc(Cl)cc1Cl",
         "1"
        ],
        [
         "44",
         "Nc1ccc(S(=O)(=O)NC(=O)O[Na])cc1",
         "0"
        ],
        [
         "45",
         "O=S(=O)(O)O.CCC(=O)Nc1ccc(Cl)c(Cl)c1",
         "1"
        ],
        [
         "46",
         "FClF",
         "1"
        ],
        [
         "47",
         "Nc1c([N+](=O)[O-])ccc(Oc2ccccc2)c1Cl",
         "1"
        ],
        [
         "48",
         "O=C(NCCc1ncc(C(F)(F)F)cc1Cl)c1ccccc1C(F)(F)F",
         "0"
        ],
        [
         "49",
         "COc1cc(OC)nc(NC(=O)NS(=O)(=O)N(C)S(C)(=O)=O)n1.OC(=O)\\C=C\\C(O)=O",
         "0"
        ]
       ],
       "shape": {
        "columns": 2,
        "rows": 174
       }
      },
      "text/html": [
       "<div>\n",
       "<style scoped>\n",
       "    .dataframe tbody tr th:only-of-type {\n",
       "        vertical-align: middle;\n",
       "    }\n",
       "\n",
       "    .dataframe tbody tr th {\n",
       "        vertical-align: top;\n",
       "    }\n",
       "\n",
       "    .dataframe thead th {\n",
       "        text-align: right;\n",
       "    }\n",
       "</style>\n",
       "<table border=\"1\" class=\"dataframe\">\n",
       "  <thead>\n",
       "    <tr style=\"text-align: right;\">\n",
       "      <th></th>\n",
       "      <th>SMILES</th>\n",
       "      <th>y</th>\n",
       "    </tr>\n",
       "  </thead>\n",
       "  <tbody>\n",
       "    <tr>\n",
       "      <th>0</th>\n",
       "      <td>COc1nc(C)nc(NC(=O)NS(=O)(=O)c2ccccc2OCCCl)n1</td>\n",
       "      <td>0</td>\n",
       "    </tr>\n",
       "    <tr>\n",
       "      <th>1</th>\n",
       "      <td>CCO/N=C(\\CC)C1=C(O)CC(c2c(C)cc(C)cc2C)CC1=O</td>\n",
       "      <td>1</td>\n",
       "    </tr>\n",
       "    <tr>\n",
       "      <th>2</th>\n",
       "      <td>CC1(C(=O)Nc2ccc(O)c(Cl)c2Cl)CCCCC1</td>\n",
       "      <td>0</td>\n",
       "    </tr>\n",
       "    <tr>\n",
       "      <th>3</th>\n",
       "      <td>O=C(NC(=O)c1c(F)cccc1F)Nc1cc(Cl)c(OC(F)(F)C(F)...</td>\n",
       "      <td>0</td>\n",
       "    </tr>\n",
       "    <tr>\n",
       "      <th>4</th>\n",
       "      <td>O=[N+]([O-])c1cc(C(F)(F)F)c(Cl)c([N+](=O)[O-])...</td>\n",
       "      <td>0</td>\n",
       "    </tr>\n",
       "    <tr>\n",
       "      <th>...</th>\n",
       "      <td>...</td>\n",
       "      <td>...</td>\n",
       "    </tr>\n",
       "    <tr>\n",
       "      <th>169</th>\n",
       "      <td>O=C(O)/C=C/C(=O)O.O=C(c1ccc(F)c(F)c1Nc1ccc(I)c...</td>\n",
       "      <td>1</td>\n",
       "    </tr>\n",
       "    <tr>\n",
       "      <th>170</th>\n",
       "      <td>O=C(c1ccc(F)c(F)c1Nc1ccc(I)cc1F)N1CC(O)([C@@H]...</td>\n",
       "      <td>1</td>\n",
       "    </tr>\n",
       "    <tr>\n",
       "      <th>171</th>\n",
       "      <td>Cc1c(F)cc(C(=O)NC2CC2)cc1-c1ccc(C(=O)NCC(C)(C)...</td>\n",
       "      <td>1</td>\n",
       "    </tr>\n",
       "    <tr>\n",
       "      <th>172</th>\n",
       "      <td>CClCCC=OF</td>\n",
       "      <td>0</td>\n",
       "    </tr>\n",
       "    <tr>\n",
       "      <th>173</th>\n",
       "      <td>cccCCC</td>\n",
       "      <td>0</td>\n",
       "    </tr>\n",
       "  </tbody>\n",
       "</table>\n",
       "<p>174 rows × 2 columns</p>\n",
       "</div>"
      ],
      "text/plain": [
       "                                                SMILES  y\n",
       "0         COc1nc(C)nc(NC(=O)NS(=O)(=O)c2ccccc2OCCCl)n1  0\n",
       "1          CCO/N=C(\\CC)C1=C(O)CC(c2c(C)cc(C)cc2C)CC1=O  1\n",
       "2                   CC1(C(=O)Nc2ccc(O)c(Cl)c2Cl)CCCCC1  0\n",
       "3    O=C(NC(=O)c1c(F)cccc1F)Nc1cc(Cl)c(OC(F)(F)C(F)...  0\n",
       "4    O=[N+]([O-])c1cc(C(F)(F)F)c(Cl)c([N+](=O)[O-])...  0\n",
       "..                                                 ... ..\n",
       "169  O=C(O)/C=C/C(=O)O.O=C(c1ccc(F)c(F)c1Nc1ccc(I)c...  1\n",
       "170  O=C(c1ccc(F)c(F)c1Nc1ccc(I)cc1F)N1CC(O)([C@@H]...  1\n",
       "171  Cc1c(F)cc(C(=O)NC2CC2)cc1-c1ccc(C(=O)NCC(C)(C)...  1\n",
       "172                                          CClCCC=OF  0\n",
       "173                                             cccCCC  0\n",
       "\n",
       "[174 rows x 2 columns]"
      ]
     },
     "execution_count": 13,
     "metadata": {},
     "output_type": "execute_result"
    }
   ],
   "source": [
    "#ESCRIBE AQUÍ TU CÓDIGO\n",
    "\n",
    "df_classification = pd.read_csv('Earthworm_acute_toxicity-preprocessed.csv', sep=';')\n",
    "\n",
    "#Visualiza el DataFrame para comprobar que es correcto\n",
    "df_classification"
   ]
  },
  {
   "cell_type": "markdown",
   "id": "Al_K5pWvk6G2",
   "metadata": {
    "id": "Al_K5pWvk6G2"
   },
   "source": [
    "### **Q2**. Vamos a comprobar que estamos utilizando el conjunto de datos adecuado. ¿Cuántas moléculas tienes en el conjunto de datos seleccionado en este punto?"
   ]
  },
  {
   "cell_type": "code",
   "execution_count": 14,
   "id": "6p2mpi2FvhkC",
   "metadata": {
    "id": "6p2mpi2FvhkC"
   },
   "outputs": [
    {
     "name": "stdout",
     "output_type": "stream",
     "text": [
      "Number of unique SMILES: 168\n",
      "Number total de lineas: 174\n"
     ]
    }
   ],
   "source": [
    "#ESCRIBE AQUÍ TU CÓDIGO\n",
    "# Count the number of unique SMILES\n",
    "n_unique_smiles = df_classification['SMILES'].nunique()\n",
    "print(f\"Number of unique SMILES: {n_unique_smiles}\")\n",
    "n_lineas = df_classification.shape[0]\n",
    "print(f\"Number total de lineas: {n_lineas}\") "
   ]
  },
  {
   "cell_type": "markdown",
   "id": "11bb1f2b",
   "metadata": {
    "id": "11bb1f2b"
   },
   "source": [
    "### 2.1. Limpiar los SMILES\n",
    "Para empezar a trabajar con un conjunto de moléculas en formato SMILES, debemos verificar que el formato sea correcto. Este paso se denomina **saneamiento** o **sanitización**."
   ]
  },
  {
   "cell_type": "markdown",
   "id": "55b04952",
   "metadata": {
    "id": "55b04952"
   },
   "source": [
    "Antes de aplicarlo al conjunto de datos, podemos ver cómo funciona con un ejemplo sencillo. Por ejemplo, podemos comprobar si el **SMILES 'C(Cl)CCC=O'** representa una molécula válida. Lo convertiremos a un **objeto Mol** y lo volveremos a convertir a **SMILES** utilizando los métodos `MolFromSmiles` y `MolToSmiles` del módulo **Chem** de **RDKit** (http://rdkit.org/docs/source/rdkit.Chem.rdmolfiles.html)."
   ]
  },
  {
   "cell_type": "code",
   "execution_count": 15,
   "id": "692d7440",
   "metadata": {
    "id": "692d7440"
   },
   "outputs": [
    {
     "name": "stdout",
     "output_type": "stream",
     "text": [
      "El SMILES C(Cl)CCC=O es correcto y ha sido sanitizado a O=CCCCCl\n"
     ]
    }
   ],
   "source": [
    "#Define el SMILES de la molécula que quieres comprobar\n",
    "smi = 'C(Cl)CCC=O'\n",
    "\n",
    "#Convierte el SMILES a un objeto mol\n",
    "mol = Chem.MolFromSmiles(smi)\n",
    "\n",
    "#Vuelve a obtener el SMILES del objeto mol\n",
    "smi_sanitized = Chem.MolToSmiles(mol)\n",
    "\n",
    "print('El SMILES {} es correcto y ha sido sanitizado a {}'.format(smi, smi_sanitized))"
   ]
  },
  {
   "cell_type": "markdown",
   "id": "c070722e",
   "metadata": {
    "id": "c070722e"
   },
   "source": [
    "Si el SMILES de entrada es correcto, deberías ver un mensaje como: \"**El SMILES C(Cl)CCC=O es correcto y ha sido sanitizado a O=CCCCCl**\"\n",
    "\n",
    "Observa que el SMILES devuelto no es exactamente el mismo que el original, pero si intentas convertirlo a una molécula, corresponde a la misma estructura.\n",
    "\n",
    "Sin embargo, si el SMILES no es correcto, el método `MolFromSmiles` no puede devolver un objeto Mol y devuelve `None`. Por tanto, no podemos usar ese Mol para obtener un SMILES saneado. Intenta replicar el código que funcionó con '**C(Cl)CCC=O**' y aplícalo a '**CClC=CC=OF**'. Debería generar un error.\n",
    "\n",
    "Ten en cuenta que, además del error de Python (incorrect type in the function), la salida incluye una advertencia de RDKit con detalles sobre el problema exacto en ese SMILES."
   ]
  },
  {
   "cell_type": "code",
   "execution_count": 16,
   "id": "7b91c332",
   "metadata": {
    "id": "7b91c332",
    "scrolled": true
   },
   "outputs": [
    {
     "name": "stdout",
     "output_type": "stream",
     "text": [
      "la molécula CClC=CC=OF fue convertida al objeto mol: None\n",
      "Intentando sanitizar el SMILES...\n",
      "Error sanitizing SMILES CClC=CC=OF: Python argument types in\n",
      "    rdkit.Chem.rdmolfiles.MolToSmiles(NoneType)\n",
      "did not match C++ signature:\n",
      "    MolToSmiles(RDKit::ROMol mol, bool isomericSmiles=True, bool kekuleSmiles=False, int rootedAtAtom=-1, bool canonical=True, bool allBondsExplicit=False, bool allHsExplicit=False, bool doRandom=False, bool ignoreAtomMapNumbers=False)\n",
      "    MolToSmiles(RDKit::ROMol mol, RDKit::SmilesWriteParams params)\n"
     ]
    },
    {
     "name": "stderr",
     "output_type": "stream",
     "text": [
      "[12:07:40] Explicit valence for atom # 1 Cl, 2, is greater than permitted\n"
     ]
    }
   ],
   "source": [
    "#Define el SMILES de la molécula que quieres comprobar\n",
    "smi2 = 'CClC=CC=OF'\n",
    "\n",
    "\n",
    "#Conviértelo a un objeto mol\n",
    "mol = Chem.MolFromSmiles(smi2)\n",
    "print(f\"la molécula {smi2} fue convertida al objeto mol: {mol}\")\n",
    "#Vuelve a obtener el SMILES del objeto mol\n",
    "print(\"Intentando sanitizar el SMILES...\")\n",
    "try:\n",
    "    smi_sanitized = Chem.MolToSmiles(mol)\n",
    "except Exception as e:\n",
    "    print(f\"Error sanitizing SMILES {smi2}: {e}\")"
   ]
  },
  {
   "cell_type": "markdown",
   "id": "86eb3308",
   "metadata": {
    "id": "86eb3308"
   },
   "source": [
    "Este comportamiento es útil para detectar SMILES incorrectos, pero los errores que interrumpen la ejecución del código pueden ser un problema. Por tanto, una alternativa interesante es añadir una estructura `try/except` para evitar que el error detenga el código de forma abrupta, y devolver \"None\" en su lugar (lo que nos permite controlar qué ocurre en caso de encontrar un SMILES no adecuado).\n",
    "\n",
    "This behavior is practical for detecting incorrect SMILES, but errors that interrupt the code are an issue. Thus, an interesting alternative is to add a try/except expression to bypass the error (so the code does not abruptly stop) and return `None` instead (allowing us to control what happens in case of inadequate SMILES)."
   ]
  },
  {
   "cell_type": "code",
   "execution_count": 17,
   "id": "a7450e3e",
   "metadata": {
    "id": "a7450e3e"
   },
   "outputs": [
    {
     "name": "stdout",
     "output_type": "stream",
     "text": [
      "None\n"
     ]
    },
    {
     "name": "stderr",
     "output_type": "stream",
     "text": [
      "[12:07:40] Explicit valence for atom # 1 Cl, 2, is greater than permitted\n"
     ]
    }
   ],
   "source": [
    "#Define el SMILES de la molécula que quieres comprobar\n",
    "smi2 = 'CClCCC=OF'\n",
    "\n",
    "\n",
    "\n",
    "try:\n",
    "  #Conviértelo a un objeto mol y vuelve a obtener el SMILES\n",
    "  #Puede ser hecho en una sola línea.\n",
    "    sanitized_smi2 = Chem.MolToSmiles(Chem.MolFromSmiles(smi2))\n",
    "except:\n",
    "    sanitized_smi2 = None\n",
    "\n",
    "print(sanitized_smi2)"
   ]
  },
  {
   "cell_type": "markdown",
   "id": "064915f9",
   "metadata": {
    "id": "064915f9"
   },
   "source": [
    "Ahora vamos a aplicar esta técnica al DataFrame para nuestro modelo.\n",
    "Itera sobre los elementos de la columna de SMILES y crea una lista llamada `new_smiles` con los SMILES saneados, y un valor vacío `None` para aquellos que sean incorrectos.\n",
    "\n",
    "Después, utiliza esta lista para crear una nueva columna y filtra esa columna utilizando, por ejemplo, el método `notna` de pandas (https://pandas.pydata.org/docs/reference/api/pandas.notna.html).\n",
    "\n",
    "Tu DataFrame resultante debería tener **166** moléculas."
   ]
  },
  {
   "cell_type": "code",
   "execution_count": 18,
   "id": "b766a0c1",
   "metadata": {
    "id": "b766a0c1"
   },
   "outputs": [
    {
     "data": {
      "text/plain": [
       "(166, 3)"
      ]
     },
     "execution_count": 18,
     "metadata": {},
     "output_type": "execute_result"
    }
   ],
   "source": [
    "from rdkit import RDLogger\n",
    "RDLogger.DisableLog('rdApp.*')  # Desactiva los mensajes de advertencia de RDKit\n",
    "#Crea una lista vacía para incluir los SMILES sanitizados\n",
    "new_smiles= []\n",
    "#Itera sobre la columna de SMILES\n",
    "for smi in df_classification['SMILES']:\n",
    "    try:\n",
    "        #Sanitiza el SMILES si es posible\n",
    "        sanitized_smi = Chem.MolToSmiles(Chem.MolFromSmiles(smi))\n",
    "    except:\n",
    "        #Usa None si no es posible (None sin \"\" porque es un valor vacío no un texto)\n",
    "        sanitized_smi = None\n",
    "    #Añade el valor a la lista new_smiles\n",
    "    new_smiles.append(sanitized_smi)\n",
    "\n",
    "#Incluye la lista new_smiles como una nueva columna 'san_SMILES'\n",
    "df_classification['san_SMILES']= new_smiles\n",
    "\n",
    "# filtra el DataFrame para eliminar los SMILES con None\n",
    "df_classification = df_classification[df_classification['san_SMILES'].notnull()]\n",
    "\n",
    "\n",
    "df_classification.shape"
   ]
  },
  {
   "cell_type": "markdown",
   "id": "ccb14d7c",
   "metadata": {
    "id": "ccb14d7c"
   },
   "source": [
    "### 2.2 Eliminar sales del DataFrame"
   ]
  },
  {
   "cell_type": "markdown",
   "id": "c93a539d",
   "metadata": {
    "id": "c93a539d"
   },
   "source": [
    "Necesitamos eliminar las sales de nuestras moléculas, ya que entrenamos nuestros modelos sobre especies individuales. El primer paso es simplificar las sales que incluyen contraiones muy comunes, eliminando dichos contraiones y conservando el ion principal.\n",
    "\n",
    "Consulta la documentación de RDKit para ver cómo hacer esto: https://www.rdkit.org/docs/source/rdkit.Chem.html."
   ]
  },
  {
   "cell_type": "code",
   "execution_count": 19,
   "id": "769f1240",
   "metadata": {
    "id": "769f1240"
   },
   "outputs": [
    {
     "name": "stdout",
     "output_type": "stream",
     "text": [
      "N#Cc1c(Cl)cccc1Cl\n",
      "CC(C)(C)C(O)C(Oc1ccc(-c2ccccc2)cc1)n1cncn1\n",
      "CC(C)N(C(=O)SCC(Cl)=C(Cl)Cl)C(C)C\n",
      "CC(C)Oc1cc(-n2nc(C(C)(C)C)oc2=O)c(Cl)cc1Cl\n",
      "Clc1ccc(C2(Cn3cncn3)CC(Br)CO2)c(Cl)c1\n",
      "C=CCOC(Cn1ccnc1)c1ccc(Cl)cc1Cl\n",
      "CCOc1nc(C(Cl)(Cl)Cl)ns1\n"
     ]
    }
   ],
   "source": [
    "#Importa la función SaltRemover de rdkit\n",
    "from rdkit.Chem.SaltRemover import SaltRemover\n",
    "\n",
    "#Lista de SMILES para analizar\n",
    "list_of_SMILES = ['N#Cc1c(Cl)cccc1Cl.[Na+]',\n",
    "'CC(C)(C)C(O)C(Oc1ccc(-c2ccccc2)cc1)n1cncn1.[Cl-]',\n",
    "'CC(C)N(C(=O)SCC(Cl)=C(Cl)Cl)C(C)C.[K+]',\n",
    "'CC(C)Oc1cc(-n2nc(C(C)(C)C)oc2=O)c(Cl)cc1Cl.[OH-]',\n",
    "'Clc1ccc(C2(Cn3cncn3)CC(Br)CO2)c(Cl)c1.[NH3+]',\n",
    "'C=CCOC(Cn1ccnc1)c1ccc(Cl)cc1Cl.[I-]',\n",
    "'CCOc1nc(C(Cl)(Cl)Cl)ns1.[F-]']\n",
    "\n",
    "#Itera sobre la lista de SMILES\n",
    "for smi in list_of_SMILES:\n",
    "    #Crea un objeto mol a partir del SMILES\n",
    "    mol = Chem.MolFromSmiles(smi)\n",
    "    #Inicializa el objeto SaltRemover con la lista de sales\n",
    "    remover = SaltRemover(defnData='[Na,Cl,K,O,OH,Fe,F,H,Al,Mg,Co,Ti,NH4,Mn,Si,Ca,Au,I,Hg,Mo,Zn,Br,Ag,Sr,Cu,Bi,S,Li,NH3,He,Y,Ar,Ba,La]')\n",
    "    #Aplica el remover sobre el objeto mol usando el método StripMol\n",
    "    res = remover.StripMol(mol, dontRemoveEverything=True)\n",
    "    #Crea el nuevo SMILES a partir del objeto mol sin sales (resultado del paso anterior)\n",
    "    new_smi = Chem.MolToSmiles(res)\n",
    "    #Muestra en pantalla el nuevo SMILES para comprobar el resultado\n",
    "    print(new_smi)"
   ]
  },
  {
   "cell_type": "markdown",
   "id": "dc06c19e",
   "metadata": {
    "id": "dc06c19e"
   },
   "source": [
    "Aplica lo que hemos aprendido hasta ahora para eliminar las sales de nuestro DataFrame `df_classification`.\n",
    "\n",
    "Para facilitar la comparación de los resultados, por favor guarda los SMILES sin sales en una nueva columna llamada '**NO SALTS**'."
   ]
  },
  {
   "cell_type": "code",
   "execution_count": 20,
   "id": "pBc2cUkMm2Pc",
   "metadata": {
    "id": "pBc2cUkMm2Pc"
   },
   "outputs": [
    {
     "name": "stderr",
     "output_type": "stream",
     "text": [
      "/var/folders/6m/y19m_stx56g4f1rh6ss7lkmw0000gn/T/ipykernel_59354/2236891574.py:11: SettingWithCopyWarning: \n",
      "A value is trying to be set on a copy of a slice from a DataFrame.\n",
      "Try using .loc[row_indexer,col_indexer] = value instead\n",
      "\n",
      "See the caveats in the documentation: https://pandas.pydata.org/pandas-docs/stable/user_guide/indexing.html#returning-a-view-versus-a-copy\n",
      "  df_classification['NO SALTS'] = smi_no_salts\n"
     ]
    }
   ],
   "source": [
    "from rdkit.Chem.SaltRemover import SaltRemover\n",
    "\n",
    "smi_no_salts = []\n",
    "for smi in df_classification['san_SMILES']:\n",
    "    mol = Chem.MolFromSmiles(smi)\n",
    "    remover = SaltRemover(defnData='[Na,Cl,K,O,OH,Fe,F,H,Al,Mg,Co,Ti,NH4,Mn,Si,Ca,Au,I,Hg,Mo,Zn,Br,Ag,Sr,Cu,Bi,S,Li,NH3,He,Y,Ar,Ba,La]')\n",
    "    res = remover.StripMol(mol, dontRemoveEverything=True)\n",
    "    new_smi = Chem.MolToSmiles(res)\n",
    "    smi_no_salts.append(new_smi)\n",
    "\n",
    "df_classification['NO SALTS'] = smi_no_salts\n"
   ]
  },
  {
   "cell_type": "markdown",
   "id": "733b9ecc",
   "metadata": {
    "id": "733b9ecc"
   },
   "source": [
    "Antes de continuar, habrás notado varias advertencias relacionadas con átomos de hidrógeno sin vecinos. Esto se debe a que el eliminador de sales no elimina protones aislados. Por tanto, sería una buena práctica eliminarlos utilizando otro enfoque (como detectar el fragmento **[H+]** en los SMILES). Para simplificar, no lo haremos en este curso.\n",
    "\n",
    "Ten en cuenta que llamamos a esta parte **\"eliminación de sales\"**, pero esto no significa que eliminemos las sales del conjunto de datos; en realidad, lo que hacemos es simplificar sus SMILES para conservar únicamente el ion principal. Esto contrasta con otros pasos posteriores, como la eliminación de inorgánicos o mezclas, que sí eliminan datos del conjunto.\n",
    "\n",
    "Sin embargo, puede ocurrir que una sustancia deba eliminarse en este proceso si está formada únicamente por los iones comunes que hemos quitado. Por ello, eliminaremos del conjunto de datos todos los casos en los que la columna \"**NO SALTS**\" haya quedado vacía.\n",
    "\n",
    "¿Se ha eliminado alguna sustancia? (Puedes comprobarlo imprimiendo la longitud del conjunto de datos antes y después.)"
   ]
  },
  {
   "cell_type": "code",
   "execution_count": 21,
   "id": "VN-6xUCengJL",
   "metadata": {
    "id": "VN-6xUCengJL"
   },
   "outputs": [
    {
     "name": "stdout",
     "output_type": "stream",
     "text": [
      "                                            san_SMILES  \\\n",
      "19    CCCCCCCCCCCCC1=C(OC(C)=O)C(=O)c2ccccc2C1=O.[Na+]   \n",
      "29   Nc1c([N+](=O)[O-])ccc(Oc2ccccc2)c1Cl.[Cl-].[Cl...   \n",
      "34    CC(C)(C)C(O)C(Oc1ccc(-c2ccccc2)cc1)n1cncn1.[Na+]   \n",
      "35   CCOP(=S)(OCC)SCn1c(=O)oc2cc(Cl)ccc21.[Cl-].[Cl...   \n",
      "54              CNC(=O)ON=C(C)SC.[Cl-].[Cl-].[H+].[H+]   \n",
      "67    COC(=O)C(C)Oc1ccc(Oc2ccc(Cl)cc2Cl)cc1.[Cl-].[H+]   \n",
      "96   COC(=O)c1ccccc1S(=O)(=O)NC(=O)Nc1nc(C)nc(OC)n1...   \n",
      "143              CCCCCCCCc1c(CC)nc2ncnn2c1N.[Cl-].[H+]   \n",
      "153              CCCCCCCCc1c(CC)nc2ncnn2c1N.[Cl-].[H+]   \n",
      "\n",
      "                                           NO SALTS  \n",
      "19       CCCCCCCCCCCCC1=C(OC(C)=O)C(=O)c2ccccc2C1=O  \n",
      "29   Nc1c([N+](=O)[O-])ccc(Oc2ccccc2)c1Cl.[H+].[H+]  \n",
      "34       CC(C)(C)C(O)C(Oc1ccc(-c2ccccc2)cc1)n1cncn1  \n",
      "35   CCOP(=S)(OCC)SCn1c(=O)oc2cc(Cl)ccc21.[H+].[H+]  \n",
      "54                       CNC(=O)ON=C(C)SC.[H+].[H+]  \n",
      "67       COC(=O)C(C)Oc1ccc(Oc2ccc(Cl)cc2Cl)cc1.[H+]  \n",
      "96   COC(=O)c1ccccc1S(=O)(=O)NC(=O)Nc1nc(C)nc(OC)n1  \n",
      "143                 CCCCCCCCc1c(CC)nc2ncnn2c1N.[H+]  \n",
      "153                 CCCCCCCCc1c(CC)nc2ncnn2c1N.[H+]  \n"
     ]
    }
   ],
   "source": [
    "# df_classification = df_classification[df_classification['NO SALTS']!= '']\n",
    "\n",
    "# Print only df_classification lines where NO SALTS is different from san_SMILES\n",
    "filtered_df = df_classification[df_classification['san_SMILES'] != df_classification['NO SALTS']]\n",
    "print(filtered_df[['san_SMILES', 'NO SALTS']])\n"
   ]
  },
  {
   "cell_type": "markdown",
   "id": "1932f199",
   "metadata": {
    "id": "1932f199"
   },
   "source": [
    "### 2.3 Eliminar moléculas inorgánicas y metalorgánicas\n",
    "\n",
    "El siguiente paso es eliminar las sustancias inorgánicas y organometálicas. Para ello, definiremos una lista de átomos permitidos y eliminaremos cualquier sustancia que contenga otros átomos. Determinarás qué elementos están presentes en cada sustancia e iterarás sobre ellos para compararlos con la lista. Si algún elemento no está en la lista, eliminaremos la sustancia.\n",
    "\n",
    "En este curso, permitiremos los siguientes elementos: **H, N, C, O, P, S, Si, F, Cl, Br e I**.\n",
    "\n",
    "Explora esto en el ejemplo a continuación (dos sustancias deberían mantenerse y dos deberían eliminarse)."
   ]
  },
  {
   "cell_type": "code",
   "execution_count": 22,
   "id": "af63e47f",
   "metadata": {
    "id": "af63e47f"
   },
   "outputs": [
    {
     "name": "stdout",
     "output_type": "stream",
     "text": [
      "['CC(C)(C)C(O)C(Oc1ccc(-c2ccccc2)cc1)n1cncn1', 'O=S(=O)(O)O']\n"
     ]
    }
   ],
   "source": [
    "#Lista de SMILES para analizar\n",
    "list_of_SMILES = ['Cl[Fe](Cl)Cl',\n",
    "'CC(C)(C)C(O)C(Oc1ccc(-c2ccccc2)cc1)n1cncn1',\n",
    "'[N+](=O)([O-])[O-].[N+](=O)([O-])[O-].[Cu+2]',\n",
    "'O=S(=O)(O)O']\n",
    "\n",
    "#Lista de átomos permitidos\n",
    "allowed_atoms = ['H', 'N', 'C', 'O', 'P', 'S', 'Si', 'P', 'F', 'Cl', 'Br', 'I']\n",
    "\n",
    "#Itera sobre la lista de SMILES\n",
    "for smi in list_of_SMILES:\n",
    "    #Crea un objeto mol a partir del SMILES\n",
    "    mol = Chem.MolFromSmiles(smi)\n",
    "    #Itera sobre los átomos de la molécula usando GetAtoms()\n",
    "    for atom in mol.GetAtoms():\n",
    "        #Obténe el símbolo del átomo usando GetSymbol()\n",
    "        atom_symbol = atom.GetSymbol()\n",
    "        #Comprueba si el átomo está en la lista de átomos permitidos\n",
    "        if atom_symbol not in allowed_atoms:\n",
    "           #Si no es un átomo permitido, elimina la molécula de la lista\n",
    "           list_of_SMILES.remove(smi)\n",
    "           break\n",
    "\n",
    "#Comprueba los SMILES restantes\n",
    "print(list_of_SMILES)"
   ]
  },
  {
   "cell_type": "markdown",
   "id": "31920ae0",
   "metadata": {
    "id": "31920ae0"
   },
   "source": [
    "Una vez que consideres que tu código funciona correctamente, aplícalo a la base de datos.\n",
    "\n",
    "Itera sobre los elementos de la columna \"**NO SALTS**\". Para eliminar las filas con átomos no permitidos, una forma práctica es crear primero una lista, por ejemplo llamada \"**non_allowed_indx**\", que contenga los índices de las filas cuyos SMILES contengan átomos no permitidos.\n",
    "\n",
    "Después, puedes usar esta lista para eliminar esos índices del DataFrame utilizando el método `drop`. Esto no cambiará los índices, por lo que, si deseas tener un DataFrame ordenado con un índice que corresponda con las filas, se recomienda reiniciar el índice.\n",
    "\n",
    "Alternativamente, puedes usar un enfoque similar al anterior y modificar los SMILES en la columna \"**NO SALTS**\" asignándoles un valor vacío."
   ]
  },
  {
   "cell_type": "code",
   "execution_count": 25,
   "id": "mMwOpPD3RCZd",
   "metadata": {
    "id": "mMwOpPD3RCZd"
   },
   "outputs": [
    {
     "name": "stderr",
     "output_type": "stream",
     "text": [
      "/var/folders/6m/y19m_stx56g4f1rh6ss7lkmw0000gn/T/ipykernel_59354/715795578.py:19: SettingWithCopyWarning: \n",
      "A value is trying to be set on a copy of a slice from a DataFrame\n",
      "\n",
      "See the caveats in the documentation: https://pandas.pydata.org/pandas-docs/stable/user_guide/indexing.html#returning-a-view-versus-a-copy\n",
      "  df_classification.drop(non_allowed_indx,inplace=True)\n"
     ]
    },
    {
     "data": {
      "application/vnd.microsoft.datawrangler.viewer.v0+json": {
       "columns": [
        {
         "name": "index",
         "rawType": "int64",
         "type": "integer"
        },
        {
         "name": "SMILES",
         "rawType": "object",
         "type": "string"
        },
        {
         "name": "y",
         "rawType": "int64",
         "type": "integer"
        },
        {
         "name": "san_SMILES",
         "rawType": "object",
         "type": "string"
        },
        {
         "name": "NO SALTS",
         "rawType": "object",
         "type": "string"
        }
       ],
       "conversionMethod": "pd.DataFrame",
       "ref": "67bc9c25-f812-4c67-a4c8-1b6e6c630184",
       "rows": [
        [
         "0",
         "COc1nc(C)nc(NC(=O)NS(=O)(=O)c2ccccc2OCCCl)n1",
         "0",
         "COc1nc(C)nc(NC(=O)NS(=O)(=O)c2ccccc2OCCCl)n1",
         "COc1nc(C)nc(NC(=O)NS(=O)(=O)c2ccccc2OCCCl)n1"
        ],
        [
         "1",
         "CCO/N=C(\\CC)C1=C(O)CC(c2c(C)cc(C)cc2C)CC1=O",
         "1",
         "CCO/N=C(\\CC)C1=C(O)CC(c2c(C)cc(C)cc2C)CC1=O",
         "CCO/N=C(\\CC)C1=C(O)CC(c2c(C)cc(C)cc2C)CC1=O"
        ],
        [
         "2",
         "CC1(C(=O)Nc2ccc(O)c(Cl)c2Cl)CCCCC1",
         "0",
         "CC1(C(=O)Nc2ccc(O)c(Cl)c2Cl)CCCCC1",
         "CC1(C(=O)Nc2ccc(O)c(Cl)c2Cl)CCCCC1"
        ],
        [
         "3",
         "O=C(NC(=O)c1c(F)cccc1F)Nc1cc(Cl)c(OC(F)(F)C(F)C(F)(F)F)cc1Cl",
         "0",
         "O=C(NC(=O)c1c(F)cccc1F)Nc1cc(Cl)c(OC(F)(F)C(F)C(F)(F)F)cc1Cl",
         "O=C(NC(=O)c1c(F)cccc1F)Nc1cc(Cl)c(OC(F)(F)C(F)C(F)(F)F)cc1Cl"
        ],
        [
         "4",
         "O=[N+]([O-])c1cc(C(F)(F)F)c(Cl)c([N+](=O)[O-])c1Nc1ncc(C(F)(F)F)cc1Cl",
         "0",
         "O=[N+]([O-])c1cc(C(F)(F)F)c(Cl)c([N+](=O)[O-])c1Nc1ncc(C(F)(F)F)cc1Cl",
         "O=[N+]([O-])c1cc(C(F)(F)F)c(Cl)c([N+](=O)[O-])c1Nc1ncc(C(F)(F)F)cc1Cl"
        ],
        [
         "5",
         "Oc1ccccc1-c1ccccc1",
         "1",
         "Oc1ccccc1-c1ccccc1",
         "Oc1ccccc1-c1ccccc1"
        ],
        [
         "6",
         "CC1(C)CC/C(=C/c2ccc(Cl)cc2)C1(O)Cn1cncn1",
         "0",
         "CC1(C)CC/C(=C/c2ccc(Cl)cc2)C1(O)Cn1cncn1",
         "CC1(C)CC/C(=C/c2ccc(Cl)cc2)C1(O)Cn1cncn1"
        ],
        [
         "7",
         "CCS(=O)CCSP(=O)(OC)OC",
         "1",
         "CCS(=O)CCSP(=O)(OC)OC",
         "CCS(=O)CCSP(=O)(OC)OC"
        ],
        [
         "8",
         "CCC(=O)Nc1ccc(Cl)c(Cl)c1",
         "1",
         "CCC(=O)Nc1ccc(Cl)c(Cl)c1",
         "CCC(=O)Nc1ccc(Cl)c(Cl)c1"
        ],
        [
         "9",
         "O=C(Nc1ccccc1)N(Cc1ccc(Cl)cc1)C1CCCC1",
         "0",
         "O=C(Nc1ccccc1)N(Cc1ccc(Cl)cc1)C1CCCC1",
         "O=C(Nc1ccccc1)N(Cc1ccc(Cl)cc1)C1CCCC1"
        ],
        [
         "10",
         "CC1(c2ccc(Oc3ccccc3)cc2)OC(=O)N(Nc2ccccc2)C1=O",
         "1",
         "CC1(c2ccc(Oc3ccccc3)cc2)OC(=O)N(Nc2ccccc2)C1=O",
         "CC1(c2ccc(Oc3ccccc3)cc2)OC(=O)N(Nc2ccccc2)C1=O"
        ],
        [
         "11",
         "Cc1nn(C)c(F)c1C(=O)Nc1ccccc1C(C)CC(C)C",
         "0",
         "Cc1nn(C)c(F)c1C(=O)Nc1ccccc1C(C)CC(C)C",
         "Cc1nn(C)c(F)c1C(=O)Nc1ccccc1C(C)CC(C)C"
        ],
        [
         "12",
         "Oc1nc2ccc(Cl)cc2nc1O",
         "0",
         "Oc1nc2ccc(Cl)cc2nc1O",
         "Oc1nc2ccc(Cl)cc2nc1O"
        ],
        [
         "13",
         "CCCSP(=O)(OCC)SCCC",
         "1",
         "CCCSP(=O)(OCC)SCCC",
         "CCCSP(=O)(OCC)SCCC"
        ],
        [
         "14",
         "CCOC(=O)[C@@H](C)Oc1ccc(Oc2cnc3cc(Cl)ccc3n2)cc1",
         "1",
         "CCOC(=O)[C@@H](C)Oc1ccc(Oc2cnc3cc(Cl)ccc3n2)cc1",
         "CCOC(=O)[C@@H](C)Oc1ccc(Oc2cnc3cc(Cl)ccc3n2)cc1"
        ],
        [
         "15",
         "O=C(NC(=O)c1c(F)cccc1F)Nc1ccc(Cl)cc1",
         "0",
         "O=C(NC(=O)c1c(F)cccc1F)Nc1ccc(Cl)cc1",
         "O=C(NC(=O)c1c(F)cccc1F)Nc1ccc(Cl)cc1"
        ],
        [
         "16",
         "Nc1c(Cl)c(F)nc(OCC(=O)O)c1Cl",
         "1",
         "Nc1c(Cl)c(F)nc(OCC(=O)O)c1Cl",
         "Nc1c(Cl)c(F)nc(OCC(=O)O)c1Cl"
        ],
        [
         "17",
         "O=C(O)CNCP(=O)(O)O",
         "0",
         "O=C(O)CNCP(=O)(O)O",
         "O=C(O)CNCP(=O)(O)O"
        ],
        [
         "18",
         "[Na+].CCCCCCCCCCCCC1=C(OC(C)=O)C(=O)c2ccccc2C1=O",
         "0",
         "CCCCCCCCCCCCC1=C(OC(C)=O)C(=O)c2ccccc2C1=O.[Na+]",
         "CCCCCCCCCCCCC1=C(OC(C)=O)C(=O)c2ccccc2C1=O"
        ],
        [
         "19",
         "Cc1cc(C)nc(NC(=O)NS(=O)(=O)c2ccccc2C(=O)OC2COC2)n1",
         "0",
         "Cc1cc(C)nc(NC(=O)NS(=O)(=O)c2ccccc2C(=O)OC2COC2)n1",
         "Cc1cc(C)nc(NC(=O)NS(=O)(=O)c2ccccc2C(=O)OC2COC2)n1"
        ],
        [
         "20",
         "COC(=O)c1ccccc1S(=O)(=O)NC(=O)Nc1nc(C)nc(OC)n1",
         "0",
         "COC(=O)c1ccccc1S(=O)(=O)NC(=O)Nc1nc(C)nc(OC)n1",
         "COC(=O)c1ccccc1S(=O)(=O)NC(=O)Nc1nc(C)nc(OC)n1"
        ],
        [
         "21",
         "O=c1c2cc(F)ccc2nc(-n2cncn2)n1-c1ccc(Cl)cc1Cl",
         "0",
         "O=c1c2cc(F)ccc2nc(-n2cncn2)n1-c1ccc(Cl)cc1Cl",
         "O=c1c2cc(F)ccc2nc(-n2cncn2)n1-c1ccc(Cl)cc1Cl"
        ],
        [
         "22",
         "CCC(C)(NC(=O)c1cc(Cl)c(C)c(Cl)c1)C(=O)CCl",
         "0",
         "CCC(C)(NC(=O)c1cc(Cl)c(C)c(Cl)c1)C(=O)CCl",
         "CCC(C)(NC(=O)c1cc(Cl)c(C)c(Cl)c1)C(=O)CCl"
        ],
        [
         "23",
         "Cc1ccc(N(SC(F)(Cl)Cl)S(=O)(=O)N(C)C)cc1",
         "0",
         "Cc1ccc(N(SC(F)(Cl)Cl)S(=O)(=O)N(C)C)cc1",
         "Cc1ccc(N(SC(F)(Cl)Cl)S(=O)(=O)N(C)C)cc1"
        ],
        [
         "24",
         "Cc1nnc(-c2ccccc2)c(=O)n1N",
         "1",
         "Cc1nnc(-c2ccccc2)c(=O)n1N",
         "Cc1nnc(-c2ccccc2)c(=O)n1N"
        ],
        [
         "25",
         "CCCN(CCOc1c(Cl)cc(Cl)cc1Cl)C(=O)n1ccnc1",
         "0",
         "CCCN(CCOc1c(Cl)cc(Cl)cc1Cl)C(=O)n1ccnc1",
         "CCCN(CCOc1c(Cl)cc(Cl)cc1Cl)C(=O)n1ccnc1"
        ],
        [
         "26",
         "COP(=O)(OC)C(O)C(Cl)(Cl)Cl",
         "1",
         "COP(=O)(OC)C(O)C(Cl)(Cl)Cl",
         "COP(=O)(OC)C(O)C(Cl)(Cl)Cl"
        ],
        [
         "27",
         "Nc1c([N+](=O)[O-])ccc(Oc2ccccc2)c1Cl.[H+].[H+].[Cl-].[Cl-]",
         "1",
         "Nc1c([N+](=O)[O-])ccc(Oc2ccccc2)c1Cl.[Cl-].[Cl-].[H+].[H+]",
         "Nc1c([N+](=O)[O-])ccc(Oc2ccccc2)c1Cl.[H+].[H+]"
        ],
        [
         "28",
         "CC(COc1ccc(Oc2ccccc2)cc1)Oc1ccccn1",
         "0",
         "CC(COc1ccc(Oc2ccccc2)cc1)Oc1ccccn1",
         "CC(COc1ccc(Oc2ccccc2)cc1)Oc1ccccn1"
        ],
        [
         "29",
         "CCNC(=O)NC(=O)/C(C#N)=N/OC",
         "0",
         "CCNC(=O)NC(=O)/C(C#N)=N/OC",
         "CCNC(=O)NC(=O)/C(C#N)=N/OC"
        ],
        [
         "30",
         "CNC(=O)ON=C(C)SC",
         "1",
         "CNC(=O)ON=C(C)SC",
         "CNC(=O)ON=C(C)SC"
        ],
        [
         "31",
         "N#Cc1sc2c(=O)c3ccccc3c(=O)c=2sc1C#N",
         "1",
         "N#Cc1sc2c(=O)c3ccccc3c(=O)c=2sc1C#N",
         "N#Cc1sc2c(=O)c3ccccc3c(=O)c=2sc1C#N"
        ],
        [
         "32",
         "CC(C)(C)C(O)C(Oc1ccc(-c2ccccc2)cc1)n1cncn1.[Na+]",
         "0",
         "CC(C)(C)C(O)C(Oc1ccc(-c2ccccc2)cc1)n1cncn1.[Na+]",
         "CC(C)(C)C(O)C(Oc1ccc(-c2ccccc2)cc1)n1cncn1"
        ],
        [
         "33",
         "[H+].[H+].[Cl-].[Cl-].CCOP(=S)(OCC)SCn1c(=O)oc2cc(Cl)ccc21",
         "1",
         "CCOP(=S)(OCC)SCn1c(=O)oc2cc(Cl)ccc21.[Cl-].[Cl-].[H+].[H+]",
         "CCOP(=S)(OCC)SCn1c(=O)oc2cc(Cl)ccc21.[H+].[H+]"
        ],
        [
         "34",
         "c1ccc(CNc2ncnc3[nH]cnc23)cc1",
         "0",
         "c1ccc(CNc2ncnc3[nH]cnc23)cc1",
         "c1ccc(CNc2ncnc3[nH]cnc23)cc1"
        ],
        [
         "35",
         "CCC/C(=N\\OCC)C1=C(O)CC(C2CCCSC2)CC1=O",
         "0",
         "CCC/C(=N\\OCC)C1=C(O)CC(C2CCCSC2)CC1=O",
         "CCC/C(=N\\OCC)C1=C(O)CC(C2CCCSC2)CC1=O"
        ],
        [
         "36",
         "CCN(CC)C(=O)C(C)Oc1cccc2ccccc12",
         "1",
         "CCN(CC)C(=O)C(C)Oc1cccc2ccccc12",
         "CCN(CC)C(=O)C(C)Oc1cccc2ccccc12"
        ],
        [
         "37",
         "COc1ncc(F)c2nc(S(=O)(=O)Nc3c(F)cccc3F)nn12",
         "0",
         "COc1ncc(F)c2nc(S(=O)(=O)Nc3c(F)cccc3F)nn12",
         "COc1ncc(F)c2nc(S(=O)(=O)Nc3c(F)cccc3F)nn12"
        ],
        [
         "38",
         "CCCOc1nc2ccc(I)cc2c(=O)n1CCC",
         "0",
         "CCCOc1nc2ccc(I)cc2c(=O)n1CCC",
         "CCCOc1nc2ccc(I)cc2c(=O)n1CCC"
        ],
        [
         "39",
         "CC(C)(C)C(O)(CCc1ccc(Cl)cc1)Cn1cncn1",
         "0",
         "CC(C)(C)C(O)(CCc1ccc(Cl)cc1)Cn1cncn1",
         "CC(C)(C)C(O)(CCc1ccc(Cl)cc1)Cn1cncn1"
        ],
        [
         "40",
         "FC(F)C(F)(F)OCC(Cn1cncn1)c1ccc(Cl)cc1Cl",
         "1",
         "FC(F)C(F)(F)OCC(Cn1cncn1)c1ccc(Cl)cc1Cl",
         "FC(F)C(F)(F)OCC(Cn1cncn1)c1ccc(Cl)cc1Cl"
        ],
        [
         "41",
         "O=S(=O)(O)O.CCC(=O)Nc1ccc(Cl)c(Cl)c1",
         "1",
         "CCC(=O)Nc1ccc(Cl)c(Cl)c1.O=S(=O)(O)O",
         "CCC(=O)Nc1ccc(Cl)c(Cl)c1.O=S(=O)(O)O"
        ],
        [
         "42",
         "Nc1c([N+](=O)[O-])ccc(Oc2ccccc2)c1Cl",
         "1",
         "Nc1c([N+](=O)[O-])ccc(Oc2ccccc2)c1Cl",
         "Nc1c([N+](=O)[O-])ccc(Oc2ccccc2)c1Cl"
        ],
        [
         "43",
         "O=C(NCCc1ncc(C(F)(F)F)cc1Cl)c1ccccc1C(F)(F)F",
         "0",
         "O=C(NCCc1ncc(C(F)(F)F)cc1Cl)c1ccccc1C(F)(F)F",
         "O=C(NCCc1ncc(C(F)(F)F)cc1Cl)c1ccccc1C(F)(F)F"
        ],
        [
         "44",
         "COc1cc(OC)nc(NC(=O)NS(=O)(=O)N(C)S(C)(=O)=O)n1.OC(=O)\\C=C\\C(O)=O",
         "0",
         "COc1cc(OC)nc(NC(=O)NS(=O)(=O)N(C)S(C)(=O)=O)n1.O=C(O)/C=C/C(=O)O",
         "COc1cc(OC)nc(NC(=O)NS(=O)(=O)N(C)S(C)(=O)=O)n1.O=C(O)/C=C/C(=O)O"
        ],
        [
         "45",
         "CSc1nnc(C(C)(C)C)c(=O)n1N.O=S(=O)(O)O",
         "1",
         "CSc1nnc(C(C)(C)C)c(=O)n1N.O=S(=O)(O)O",
         "CSc1nnc(C(C)(C)C)c(=O)n1N.O=S(=O)(O)O"
        ],
        [
         "46",
         "CCOc1cc(Oc2ccc(C(F)(F)F)cc2Cl)ccc1[N+](=O)[O-]",
         "0",
         "CCOc1cc(Oc2ccc(C(F)(F)F)cc2Cl)ccc1[N+](=O)[O-]",
         "CCOc1cc(Oc2ccc(C(F)(F)F)cc2Cl)ccc1[N+](=O)[O-]"
        ],
        [
         "47",
         "CCOP(=S)(OCC)Oc1cc(C)nc(C(C)C)n1",
         "1",
         "CCOP(=S)(OCC)Oc1cc(C)nc(C(C)C)n1",
         "CCOP(=S)(OCC)Oc1cc(C)nc(C(C)C)n1"
        ],
        [
         "48",
         "CNC(=O)ON=C(C)SC.[H+].[H+].[Cl-].[Cl-]",
         "1",
         "CNC(=O)ON=C(C)SC.[Cl-].[Cl-].[H+].[H+]",
         "CNC(=O)ON=C(C)SC.[H+].[H+]"
        ],
        [
         "49",
         "CCCCOC(=O)[C@@H](C)Oc1ccc(Oc2ccc(C(F)(F)F)cn2)cc1",
         "0",
         "CCCCOC(=O)[C@@H](C)Oc1ccc(Oc2ccc(C(F)(F)F)cn2)cc1",
         "CCCCOC(=O)[C@@H](C)Oc1ccc(Oc2ccc(C(F)(F)F)cn2)cc1"
        ]
       ],
       "shape": {
        "columns": 4,
        "rows": 162
       }
      },
      "text/html": [
       "<div>\n",
       "<style scoped>\n",
       "    .dataframe tbody tr th:only-of-type {\n",
       "        vertical-align: middle;\n",
       "    }\n",
       "\n",
       "    .dataframe tbody tr th {\n",
       "        vertical-align: top;\n",
       "    }\n",
       "\n",
       "    .dataframe thead th {\n",
       "        text-align: right;\n",
       "    }\n",
       "</style>\n",
       "<table border=\"1\" class=\"dataframe\">\n",
       "  <thead>\n",
       "    <tr style=\"text-align: right;\">\n",
       "      <th></th>\n",
       "      <th>SMILES</th>\n",
       "      <th>y</th>\n",
       "      <th>san_SMILES</th>\n",
       "      <th>NO SALTS</th>\n",
       "    </tr>\n",
       "  </thead>\n",
       "  <tbody>\n",
       "    <tr>\n",
       "      <th>0</th>\n",
       "      <td>COc1nc(C)nc(NC(=O)NS(=O)(=O)c2ccccc2OCCCl)n1</td>\n",
       "      <td>0</td>\n",
       "      <td>COc1nc(C)nc(NC(=O)NS(=O)(=O)c2ccccc2OCCCl)n1</td>\n",
       "      <td>COc1nc(C)nc(NC(=O)NS(=O)(=O)c2ccccc2OCCCl)n1</td>\n",
       "    </tr>\n",
       "    <tr>\n",
       "      <th>1</th>\n",
       "      <td>CCO/N=C(\\CC)C1=C(O)CC(c2c(C)cc(C)cc2C)CC1=O</td>\n",
       "      <td>1</td>\n",
       "      <td>CCO/N=C(\\CC)C1=C(O)CC(c2c(C)cc(C)cc2C)CC1=O</td>\n",
       "      <td>CCO/N=C(\\CC)C1=C(O)CC(c2c(C)cc(C)cc2C)CC1=O</td>\n",
       "    </tr>\n",
       "    <tr>\n",
       "      <th>2</th>\n",
       "      <td>CC1(C(=O)Nc2ccc(O)c(Cl)c2Cl)CCCCC1</td>\n",
       "      <td>0</td>\n",
       "      <td>CC1(C(=O)Nc2ccc(O)c(Cl)c2Cl)CCCCC1</td>\n",
       "      <td>CC1(C(=O)Nc2ccc(O)c(Cl)c2Cl)CCCCC1</td>\n",
       "    </tr>\n",
       "    <tr>\n",
       "      <th>3</th>\n",
       "      <td>O=C(NC(=O)c1c(F)cccc1F)Nc1cc(Cl)c(OC(F)(F)C(F)...</td>\n",
       "      <td>0</td>\n",
       "      <td>O=C(NC(=O)c1c(F)cccc1F)Nc1cc(Cl)c(OC(F)(F)C(F)...</td>\n",
       "      <td>O=C(NC(=O)c1c(F)cccc1F)Nc1cc(Cl)c(OC(F)(F)C(F)...</td>\n",
       "    </tr>\n",
       "    <tr>\n",
       "      <th>4</th>\n",
       "      <td>O=[N+]([O-])c1cc(C(F)(F)F)c(Cl)c([N+](=O)[O-])...</td>\n",
       "      <td>0</td>\n",
       "      <td>O=[N+]([O-])c1cc(C(F)(F)F)c(Cl)c([N+](=O)[O-])...</td>\n",
       "      <td>O=[N+]([O-])c1cc(C(F)(F)F)c(Cl)c([N+](=O)[O-])...</td>\n",
       "    </tr>\n",
       "    <tr>\n",
       "      <th>...</th>\n",
       "      <td>...</td>\n",
       "      <td>...</td>\n",
       "      <td>...</td>\n",
       "      <td>...</td>\n",
       "    </tr>\n",
       "    <tr>\n",
       "      <th>157</th>\n",
       "      <td>CCC(=O)O[C@]1(C(=O)CCl)[C@@H](C)C[C@H]2[C@@H]3...</td>\n",
       "      <td>1</td>\n",
       "      <td>CCC(=O)O[C@]1(C(=O)CCl)[C@@H](C)C[C@H]2[C@@H]3...</td>\n",
       "      <td>CCC(=O)O[C@]1(C(=O)CCl)[C@@H](C)C[C@H]2[C@@H]3...</td>\n",
       "    </tr>\n",
       "    <tr>\n",
       "      <th>158</th>\n",
       "      <td>Cn1cnc2c(F)c(Nc3ccc(Br)cc3Cl)c(C(=O)NOCCO)cc21</td>\n",
       "      <td>1</td>\n",
       "      <td>Cn1cnc2c(F)c(Nc3ccc(Br)cc3Cl)c(C(=O)NOCCO)cc21</td>\n",
       "      <td>Cn1cnc2c(F)c(Nc3ccc(Br)cc3Cl)c(C(=O)NOCCO)cc21</td>\n",
       "    </tr>\n",
       "    <tr>\n",
       "      <th>159</th>\n",
       "      <td>O=C(O)/C=C/C(=O)O.O=C(c1ccc(F)c(F)c1Nc1ccc(I)c...</td>\n",
       "      <td>1</td>\n",
       "      <td>O=C(O)/C=C/C(=O)O.O=C(c1ccc(F)c(F)c1Nc1ccc(I)c...</td>\n",
       "      <td>O=C(O)/C=C/C(=O)O.O=C(c1ccc(F)c(F)c1Nc1ccc(I)c...</td>\n",
       "    </tr>\n",
       "    <tr>\n",
       "      <th>160</th>\n",
       "      <td>O=C(c1ccc(F)c(F)c1Nc1ccc(I)cc1F)N1CC(O)([C@@H]...</td>\n",
       "      <td>1</td>\n",
       "      <td>O=C(c1ccc(F)c(F)c1Nc1ccc(I)cc1F)N1CC(O)([C@@H]...</td>\n",
       "      <td>O=C(c1ccc(F)c(F)c1Nc1ccc(I)cc1F)N1CC(O)([C@@H]...</td>\n",
       "    </tr>\n",
       "    <tr>\n",
       "      <th>161</th>\n",
       "      <td>Cc1c(F)cc(C(=O)NC2CC2)cc1-c1ccc(C(=O)NCC(C)(C)...</td>\n",
       "      <td>1</td>\n",
       "      <td>Cc1c(F)cc(C(=O)NC2CC2)cc1-c1ccc(C(=O)NCC(C)(C)...</td>\n",
       "      <td>Cc1c(F)cc(C(=O)NC2CC2)cc1-c1ccc(C(=O)NCC(C)(C)...</td>\n",
       "    </tr>\n",
       "  </tbody>\n",
       "</table>\n",
       "<p>162 rows × 4 columns</p>\n",
       "</div>"
      ],
      "text/plain": [
       "                                                SMILES  y  \\\n",
       "0         COc1nc(C)nc(NC(=O)NS(=O)(=O)c2ccccc2OCCCl)n1  0   \n",
       "1          CCO/N=C(\\CC)C1=C(O)CC(c2c(C)cc(C)cc2C)CC1=O  1   \n",
       "2                   CC1(C(=O)Nc2ccc(O)c(Cl)c2Cl)CCCCC1  0   \n",
       "3    O=C(NC(=O)c1c(F)cccc1F)Nc1cc(Cl)c(OC(F)(F)C(F)...  0   \n",
       "4    O=[N+]([O-])c1cc(C(F)(F)F)c(Cl)c([N+](=O)[O-])...  0   \n",
       "..                                                 ... ..   \n",
       "157  CCC(=O)O[C@]1(C(=O)CCl)[C@@H](C)C[C@H]2[C@@H]3...  1   \n",
       "158     Cn1cnc2c(F)c(Nc3ccc(Br)cc3Cl)c(C(=O)NOCCO)cc21  1   \n",
       "159  O=C(O)/C=C/C(=O)O.O=C(c1ccc(F)c(F)c1Nc1ccc(I)c...  1   \n",
       "160  O=C(c1ccc(F)c(F)c1Nc1ccc(I)cc1F)N1CC(O)([C@@H]...  1   \n",
       "161  Cc1c(F)cc(C(=O)NC2CC2)cc1-c1ccc(C(=O)NCC(C)(C)...  1   \n",
       "\n",
       "                                            san_SMILES  \\\n",
       "0         COc1nc(C)nc(NC(=O)NS(=O)(=O)c2ccccc2OCCCl)n1   \n",
       "1          CCO/N=C(\\CC)C1=C(O)CC(c2c(C)cc(C)cc2C)CC1=O   \n",
       "2                   CC1(C(=O)Nc2ccc(O)c(Cl)c2Cl)CCCCC1   \n",
       "3    O=C(NC(=O)c1c(F)cccc1F)Nc1cc(Cl)c(OC(F)(F)C(F)...   \n",
       "4    O=[N+]([O-])c1cc(C(F)(F)F)c(Cl)c([N+](=O)[O-])...   \n",
       "..                                                 ...   \n",
       "157  CCC(=O)O[C@]1(C(=O)CCl)[C@@H](C)C[C@H]2[C@@H]3...   \n",
       "158     Cn1cnc2c(F)c(Nc3ccc(Br)cc3Cl)c(C(=O)NOCCO)cc21   \n",
       "159  O=C(O)/C=C/C(=O)O.O=C(c1ccc(F)c(F)c1Nc1ccc(I)c...   \n",
       "160  O=C(c1ccc(F)c(F)c1Nc1ccc(I)cc1F)N1CC(O)([C@@H]...   \n",
       "161  Cc1c(F)cc(C(=O)NC2CC2)cc1-c1ccc(C(=O)NCC(C)(C)...   \n",
       "\n",
       "                                              NO SALTS  \n",
       "0         COc1nc(C)nc(NC(=O)NS(=O)(=O)c2ccccc2OCCCl)n1  \n",
       "1          CCO/N=C(\\CC)C1=C(O)CC(c2c(C)cc(C)cc2C)CC1=O  \n",
       "2                   CC1(C(=O)Nc2ccc(O)c(Cl)c2Cl)CCCCC1  \n",
       "3    O=C(NC(=O)c1c(F)cccc1F)Nc1cc(Cl)c(OC(F)(F)C(F)...  \n",
       "4    O=[N+]([O-])c1cc(C(F)(F)F)c(Cl)c([N+](=O)[O-])...  \n",
       "..                                                 ...  \n",
       "157  CCC(=O)O[C@]1(C(=O)CCl)[C@@H](C)C[C@H]2[C@@H]3...  \n",
       "158     Cn1cnc2c(F)c(Nc3ccc(Br)cc3Cl)c(C(=O)NOCCO)cc21  \n",
       "159  O=C(O)/C=C/C(=O)O.O=C(c1ccc(F)c(F)c1Nc1ccc(I)c...  \n",
       "160  O=C(c1ccc(F)c(F)c1Nc1ccc(I)cc1F)N1CC(O)([C@@H]...  \n",
       "161  Cc1c(F)cc(C(=O)NC2CC2)cc1-c1ccc(C(=O)NCC(C)(C)...  \n",
       "\n",
       "[162 rows x 4 columns]"
      ]
     },
     "execution_count": 25,
     "metadata": {},
     "output_type": "execute_result"
    }
   ],
   "source": [
    "allowed_atoms = ['H', 'N', 'C', 'O', 'P', 'S', 'Si', 'F', 'Cl', 'Br', 'I']\n",
    "\n",
    "non_allowed_indx = []\n",
    "#Reseteamos el índice para asegurarnos de que el índice corresponde a la posición real de los SMILES en la lista\n",
    "df_classification.reset_index(drop=True, inplace=True)\n",
    "\n",
    "#Usa enumerate para obtener el índice además del SMILES\n",
    "for i, smi in enumerate(df_classification['NO SALTS']):\n",
    "\n",
    "    mol = Chem.MolFromSmiles(smi)\n",
    "    for atom in mol.GetAtoms():\n",
    "        atom_symbol = atom.GetSymbol()\n",
    "        if atom_symbol not in allowed_atoms:\n",
    "            print(f\"Molécula {smi} contiene un átomo no permitido: {atom_symbol}\")\n",
    "            #Añade el índice a la lista\n",
    "            non_allowed_indx.append(i)\n",
    "            break\n",
    "\n",
    "df_classification.drop(non_allowed_indx,inplace=True)\n",
    "df_classification.reset_index(drop=True, inplace=True)\n",
    "\n",
    "df_classification\n"
   ]
  },
  {
   "cell_type": "markdown",
   "id": "4ca60971",
   "metadata": {
    "id": "4ca60971"
   },
   "source": [
    "### 2.4 Eliminar mezclas"
   ]
  },
  {
   "cell_type": "markdown",
   "id": "0902a271",
   "metadata": {
    "id": "0902a271"
   },
   "source": [
    "Las **mezclas** están codificadas en **SMILES** mediante un punto que **separa** las dos moléculas, por ejemplo, **\"CCO.O\"** (**etanol y agua**). Para calcular descriptores, es importante que los **SMILES** representen únicamente **moléculas independientes**. Por lo tanto, eliminaremos las **mezclas** en este paso (esto también incluye la eliminación de cualquier sal que haya quedado en el paso anterior si contiene más de un componente).\n",
    "\n",
    "Un buen enfoque sería explorar **manualmente** las mezclas para detectar el componente principal y conservarlo. **Por ejemplo**, a menudo es posible eliminar excipientes comunes como el **agua ('O'), el etanol ('CCO')** o el **DMSO ('CS(=O)C')**. Sin embargo, para simplificar el proceso en este curso, eliminaremos **todas** las mezclas.\n",
    "\n",
    "**Por favor, elimina todas las mezclas** del DataFrame `df_classification`. Una forma sencilla es utilizar el carácter **\".\"** en los **SMILES** como indicador de mezcla."
   ]
  },
  {
   "cell_type": "code",
   "execution_count": 26,
   "id": "30982a4d",
   "metadata": {
    "id": "30982a4d"
   },
   "outputs": [
    {
     "name": "stdout",
     "output_type": "stream",
     "text": [
      "Molécula Nc1c([N+](=O)[O-])ccc(Oc2ccccc2)c1Cl.[H+].[H+] es una mezcla\n",
      "Molécula CCOP(=S)(OCC)SCn1c(=O)oc2cc(Cl)ccc21.[H+].[H+] es una mezcla\n",
      "Molécula CCC(=O)Nc1ccc(Cl)c(Cl)c1.O=S(=O)(O)O es una mezcla\n",
      "Molécula COc1cc(OC)nc(NC(=O)NS(=O)(=O)N(C)S(C)(=O)=O)n1.O=C(O)/C=C/C(=O)O es una mezcla\n",
      "Molécula CSc1nnc(C(C)(C)C)c(=O)n1N.O=S(=O)(O)O es una mezcla\n",
      "Molécula CNC(=O)ON=C(C)SC.[H+].[H+] es una mezcla\n",
      "Molécula COC(=O)C(C)Oc1ccc(Oc2ccc(Cl)cc2Cl)cc1.[H+] es una mezcla\n",
      "Molécula O=C(Nc1ccccc1)N(Cc1ccc(Cl)cc1)C1CCCC1.O=S(=O)(O)O es una mezcla\n",
      "Molécula CCOc1nc(NC)nc(NC(=O)NS(=O)(=O)c2ccccc2C(=O)OC)n1.CS(C)=O es una mezcla\n",
      "Molécula CCCCCCCCc1c(CC)nc2ncnn2c1N.[H+] es una mezcla\n",
      "Molécula CCCCCCCCc1c(CC)nc2ncnn2c1N.[H+] es una mezcla\n",
      "Molécula Cc1cc(F)ccc1-c1nc(NC(CO)CO)nc2c1ccc(=O)n2-c1c(F)cccc1F.Cc1ccc(S(=O)(=O)O)cc1 es una mezcla\n",
      "Molécula Cn1cnc2c(F)c(Nc3ccc(Br)cc3Cl)c(C(=O)NOCCO)cc21.O=S(=O)(O)O es una mezcla\n",
      "Molécula O=C(O)/C=C/C(=O)O.O=C(c1ccc(F)c(F)c1Nc1ccc(I)cc1F)N1CC(O)([C@@H]2CCCCN2)C1.O=C(c1ccc(F)c(F)c1Nc1ccc(I)cc1F)N1CC(O)([C@@H]2CCCCN2)C1 es una mezcla\n"
     ]
    },
    {
     "name": "stderr",
     "output_type": "stream",
     "text": [
      "/var/folders/6m/y19m_stx56g4f1rh6ss7lkmw0000gn/T/ipykernel_59354/1011347772.py:8: SettingWithCopyWarning: \n",
      "A value is trying to be set on a copy of a slice from a DataFrame\n",
      "\n",
      "See the caveats in the documentation: https://pandas.pydata.org/pandas-docs/stable/user_guide/indexing.html#returning-a-view-versus-a-copy\n",
      "  df_classification.drop(mixtures_indx, inplace=True)\n"
     ]
    }
   ],
   "source": [
    "mixtures_indx = []\n",
    "\n",
    "for i, smi in enumerate(df_classification['NO SALTS']):\n",
    "    if '.' in smi:\n",
    "        print(f\"Molécula {smi} es una mezcla\")\n",
    "        mixtures_indx.append(i)\n",
    "\n",
    "df_classification.drop(mixtures_indx, inplace=True)\n",
    "df_classification.reset_index(drop=True, inplace=True)"
   ]
  },
  {
   "cell_type": "markdown",
   "id": "fed52c72",
   "metadata": {
    "id": "fed52c72"
   },
   "source": [
    "### 2.5 Eliminar duplicados"
   ]
  },
  {
   "cell_type": "markdown",
   "id": "0e920dfe",
   "metadata": {
    "id": "0e920dfe"
   },
   "source": [
    "Para eliminar duplicados, Pandas ofrece una función integrada que realiza esta tarea.\n",
    "Para obtener más información sobre cómo funciona esta función, puedes visitar:\n",
    "https://pandas.pydata.org/docs/reference/api/pandas.DataFrame.drop_duplicates.html\n",
    "\n",
    "Los principales parámetros de esta función son:\n",
    "\n",
    "* `subset`: columna (o columnas) que se deben considerar para identificar duplicados.\n",
    "\n",
    "* `keep`: determina si se desea conservar el primer (`first`) o el último (`last`) duplicado (o ninguno si se establece en `False`).\n",
    "\n",
    "**Nota**: Si decidimos conservar una de las moléculas duplicadas, primero debemos comprobar si tienen la misma variable de salida. Conservar duplicados con etiquetas conflictivas podría introducir sesgos e inconsistencias en nuestro conjunto de datos. Para evitar este problema y simplificar el proceso, en este caso eliminaremos todas las moléculas duplicadas."
   ]
  },
  {
   "cell_type": "code",
   "execution_count": 30,
   "id": "e74097e8",
   "metadata": {
    "id": "e74097e8"
   },
   "outputs": [
    {
     "name": "stderr",
     "output_type": "stream",
     "text": [
      "/var/folders/6m/y19m_stx56g4f1rh6ss7lkmw0000gn/T/ipykernel_59354/3212529102.py:1: SettingWithCopyWarning: \n",
      "A value is trying to be set on a copy of a slice from a DataFrame\n",
      "\n",
      "See the caveats in the documentation: https://pandas.pydata.org/pandas-docs/stable/user_guide/indexing.html#returning-a-view-versus-a-copy\n",
      "  df_classification.drop_duplicates(subset=['NO SALTS'], keep=False, inplace=True)\n"
     ]
    }
   ],
   "source": [
    "df_classification.drop_duplicates(subset=['NO SALTS'], keep=False, inplace=True)"
   ]
  },
  {
   "cell_type": "markdown",
   "id": "Liy48zoEQZP1",
   "metadata": {
    "id": "Liy48zoEQZP1"
   },
   "source": [
    "### **Q3.** Hagamos una comprobación final. ¿Cuántas moléculas tienes en tu conjunto de datos depurado?\n"
   ]
  },
  {
   "cell_type": "code",
   "execution_count": 31,
   "id": "KDZ0r50fQwVW",
   "metadata": {
    "id": "KDZ0r50fQwVW"
   },
   "outputs": [
    {
     "name": "stdout",
     "output_type": "stream",
     "text": [
      "Numero de moléculas después de eliminar mezclas y duplicados: 130\n"
     ]
    }
   ],
   "source": [
    "print(f\"Numero de moléculas después de eliminar mezclas y duplicados: {df_classification.shape[0]}\")"
   ]
  },
  {
   "cell_type": "markdown",
   "id": "481a1089",
   "metadata": {
    "id": "481a1089"
   },
   "source": [
    "### 2.6 Selecciona y renombre las columnas para crear el juego de datos final"
   ]
  },
  {
   "cell_type": "markdown",
   "id": "acecd65f",
   "metadata": {
    "id": "acecd65f"
   },
   "source": [
    "Con los **SMILES** **saneados** y la lista de **compuestos** depurada de sales, duplicados, etc., es momento de crear un conjunto de datos **final** con la lista definitiva de **SMILES** y sus valores de respuesta.\n",
    "\n",
    "Es importante guardar la base de datos **saneada** como un archivo para poder utilizarla en los siguientes pasos del proceso y tener una copia que documente tu modelo."
   ]
  },
  {
   "cell_type": "code",
   "execution_count": 41,
   "id": "cb9d99ed",
   "metadata": {
    "id": "cb9d99ed"
   },
   "outputs": [
    {
     "data": {
      "text/plain": [
       "0           COc1nc(C)nc(NC(=O)NS(=O)(=O)c2ccccc2OCCCl)n1\n",
       "1            CCO/N=C(\\CC)C1=C(O)CC(c2c(C)cc(C)cc2C)CC1=O\n",
       "2                     CC1(C(=O)Nc2ccc(O)c(Cl)c2Cl)CCCCC1\n",
       "3      O=C(NC(=O)c1c(F)cccc1F)Nc1cc(Cl)c(OC(F)(F)C(F)...\n",
       "4      O=[N+]([O-])c1cc(C(F)(F)F)c(Cl)c([N+](=O)[O-])...\n",
       "                             ...                        \n",
       "143    CC(=O)O[C@H]1C[C@@H](C)[C@]23OC(C)(C)[C@H](C[C...\n",
       "144    CCC(=O)O[C@]1(C(=O)CCl)[C@@H](C)C[C@H]2[C@@H]3...\n",
       "145       Cn1cnc2c(F)c(Nc3ccc(Br)cc3Cl)c(C(=O)NOCCO)cc21\n",
       "146    O=C(c1ccc(F)c(F)c1Nc1ccc(I)cc1F)N1CC(O)([C@@H]...\n",
       "147    Cc1c(F)cc(C(=O)NC2CC2)cc1-c1ccc(C(=O)NCC(C)(C)...\n",
       "Name: NO SALTS, Length: 130, dtype: object"
      ]
     },
     "execution_count": 41,
     "metadata": {},
     "output_type": "execute_result"
    }
   ],
   "source": [
    "#Crea un dataframe df_classification_final con las columnas 'NO SALTS' y 'y'\n",
    "df_classification_final = df_classification[['NO SALTS', 'y']]\n",
    "\n",
    "#Renombra las columnas como 'SMILES' y 'y'\n",
    "df_classification_final.columns = ['SMILES', 'y']\n",
    "\n",
    "# #Guarda el dataframe resultante en un archivo csv llamado Earthworm_acute_toxicity.csv\n",
    "df_classification_final.to_csv('Earthworm_acute_toxicity.csv', sep=';', index=False)"
   ]
  },
  {
   "cell_type": "code",
   "execution_count": null,
   "id": "0a56833c",
   "metadata": {},
   "outputs": [],
   "source": []
  },
  {
   "cell_type": "code",
   "execution_count": null,
   "id": "ff055b64",
   "metadata": {},
   "outputs": [],
   "source": []
  },
  {
   "cell_type": "code",
   "execution_count": null,
   "id": "cec992d7",
   "metadata": {},
   "outputs": [],
   "source": []
  }
 ],
 "metadata": {
  "colab": {
   "provenance": [
    {
     "file_id": "1oaf8Ig850dqfp2VVyhn4YucQ4wYAOM7i",
     "timestamp": 1684842248158
    },
    {
     "file_id": "https://github.com/mpalominoschaetzlein/Python_QSAR_course/blob/main/Module2_QSAR_model_1_Classification.ipynb",
     "timestamp": 1683798218234
    }
   ],
   "toc_visible": true
  },
  "kernelspec": {
   "display_name": "bioinformatics",
   "language": "python",
   "name": "python3"
  },
  "language_info": {
   "codemirror_mode": {
    "name": "ipython",
    "version": 3
   },
   "file_extension": ".py",
   "mimetype": "text/x-python",
   "name": "python",
   "nbconvert_exporter": "python",
   "pygments_lexer": "ipython3",
   "version": "3.13.1"
  }
 },
 "nbformat": 4,
 "nbformat_minor": 5
}
