{
 "cells": [
  {
   "cell_type": "markdown",
   "id": "b49bf5c4",
   "metadata": {},
   "source": [
    "# Máster de Formación Permanente en Bioinformática e Inteligencia Artificial en Salud\n",
    "## MÓDULO 6 - Diseño de terapias y medicamentos innovadores. \n",
    "### UNIDAD 1.4 Introducción a la quimioinformática. \n",
    "### Ejercicios extra de introducción al paquete RDkit para el manejo de compuestos químicos y el cálculo de descriptores moleculares."
   ]
  },
  {
   "cell_type": "markdown",
   "id": "cf6f496f",
   "metadata": {
    "id": "cf6f496f"
   },
   "source": [
    "En este módulo, tendremos una primera aproximación al uso de Python en el campo de la quimioinformática, centrándonos en la biblioteca de Python RDKit, que es un conjunto de herramientas potente diseñado específicamente para la quimioinformática y la modelización molecular. RDKit ofrece una amplia gama de herramientas y funciones que permiten a investigadores y profesionales del campo manipular, analizar y visualizar datos químicos con facilidad.\n",
    "\n",
    "A lo largo de este módulo, explorarás los conceptos fundamentales y las aplicaciones prácticas de RDKit, desde el manejo de estructuras moleculares, el cálculo de propiedades químicas esenciales, hasta la exploración de bases de datos y la visualización molecular. Al final de este módulo, habrás adquirido conocimientos valiosos sobre cómo Python, junto con RDKit, puede agilizar los flujos de trabajo en quimioinformática, convirtiéndose en un recurso indispensable para quienes trabajan en las industrias química y farmacéutica, la química computacional y más."
   ]
  },
  {
   "cell_type": "markdown",
   "id": "c4d244c2",
   "metadata": {
    "id": "c4d244c2"
   },
   "source": [
    "## Sección 1. Empezando con RDKit: Manjenado moléculas"
   ]
  },
  {
   "cell_type": "markdown",
   "id": "_8ww7jABTFZS",
   "metadata": {
    "id": "_8ww7jABTFZS"
   },
   "source": [
    "En esta tarea introductoria, profundizaremos en los aspectos fundamentales del trabajo con moléculas en quimioinformática utilizando la biblioteca RDKit, que es un potente conjunto de herramientas de Python. RDKit ofrece un conjunto extenso de herramientas para manejar datos moleculares, lo que lo convierte en un recurso invaluable para los profesionales de la quimioinformática.\n",
    "\n",
    "Si necesitas más ejemplos de ejercicios para hacer con RDKit, puedes visitar la guía de inicio proporcionada por [RDKit](https://www.rdkit.org/docs/GettingStartedInPython.html). Además, siempre que te encuentres con un problema que no sepas cómo resolver, te recomendamos consultar sitios web como [StackOverflow](https://stackoverflow.com/questions/tagged/rdkit), donde otros usuarios de Python hacen sus preguntas y reciben respuestas de otros usuarios. Estos recursos se utilizan comúnmente para resolver problemas de código y son una de las mejores formas de aprender, especialmente al principio."
   ]
  },
  {
   "cell_type": "markdown",
   "id": "e0440839",
   "metadata": {
    "id": "e0440839"
   },
   "source": [
    "Primero, importa el módulo `Chem` de `rdkit`."
   ]
  },
  {
   "cell_type": "code",
   "execution_count": null,
   "id": "7d5a37af",
   "metadata": {
    "executionInfo": {
     "elapsed": 288,
     "status": "ok",
     "timestamp": 1700495329973,
     "user": {
      "displayName": "Rita Ortega Vallbona",
      "userId": "17830401129805231568"
     },
     "user_tz": -60
    },
    "id": "7d5a37af"
   },
   "outputs": [],
   "source": [
    "# ESCRIBE AQUÍ TU CÓDIGO"
   ]
  },
  {
   "cell_type": "markdown",
   "id": "ef083a2a",
   "metadata": {
    "id": "ef083a2a"
   },
   "source": [
    "Usa la función `Chem.MolFromSmiles` para convertir la molécula con el SMILES `COc1cc2c(c3oc4cccc(OC(=O)c5ccc(Br)cc5)c4c(=O)c13)[C@@H]1C=CO[C@@H]1O2` a formato `mol` y visualízala."
   ]
  },
  {
   "cell_type": "code",
   "execution_count": null,
   "id": "-BdE2IW1l3oq",
   "metadata": {
    "id": "-BdE2IW1l3oq"
   },
   "outputs": [],
   "source": [
    "# ESCRIBE AQUÍ TU CÓDIGO"
   ]
  },
  {
   "cell_type": "markdown",
   "id": "4ae15c75",
   "metadata": {
    "id": "4ae15c75"
   },
   "source": [
    "Convierte la molécula de nuevo al formato SMILES, pero obteniendo ahora el SMILES canónico. Usa la función correspondiente con el argumento `isomericSmiles=False`."
   ]
  },
  {
   "cell_type": "code",
   "execution_count": null,
   "id": "TUzbO6zHmAhC",
   "metadata": {
    "id": "TUzbO6zHmAhC"
   },
   "outputs": [],
   "source": [
    "# ESCRIBE AQUÍ TU CÓDIGO"
   ]
  },
  {
   "cell_type": "markdown",
   "id": "57f54abf",
   "metadata": {
    "id": "57f54abf"
   },
   "source": [
    "Usa la función `NumValenceElectrons` de `rdkit.Chem.Descriptors` para calcular el número de electrones de valencia. Utiliza directamente el SMILES como entrada."
   ]
  },
  {
   "cell_type": "code",
   "execution_count": null,
   "id": "MP3JbXjjmIEL",
   "metadata": {
    "id": "MP3JbXjjmIEL"
   },
   "outputs": [],
   "source": [
    "# ESCRIBE AQUÍ TU CÓDIGO"
   ]
  },
  {
   "cell_type": "markdown",
   "id": "1e97d3ed",
   "metadata": {
    "id": "1e97d3ed"
   },
   "source": [
    "Encuentra si el compuesto tiene átomos quirales usando la función `FindMolChiralCenters` del módulo `Chem`."
   ]
  },
  {
   "cell_type": "code",
   "execution_count": null,
   "id": "APiwppOTmL_i",
   "metadata": {
    "id": "APiwppOTmL_i"
   },
   "outputs": [],
   "source": [
    "# ESCRIBE AQUÍ TU CÓDIGO"
   ]
  },
  {
   "cell_type": "markdown",
   "id": "a112eba0",
   "metadata": {
    "id": "a112eba0"
   },
   "source": [
    "Obtén una huella molecular numérica de la molécula con la función `GetMACCSKeysFingerprint` del módulo `rdkit.Chem.rdMolDescriptors`. Convierte la huella molecular a una lista para poder visualizarla (usa la función `list()` para hacerlo)."
   ]
  },
  {
   "cell_type": "code",
   "execution_count": null,
   "id": "zcBe_nGfmOtq",
   "metadata": {
    "id": "zcBe_nGfmOtq"
   },
   "outputs": [],
   "source": [
    "# ESCRIBE AQUÍ TU CÓDIGO"
   ]
  },
  {
   "cell_type": "markdown",
   "id": "42efb776",
   "metadata": {
    "id": "42efb776"
   },
   "source": [
    "Confirma si la molécula tiene algún átomo de bromo usando la función `HasSubstructMatch` del modulo `Chem`."
   ]
  },
  {
   "cell_type": "code",
   "execution_count": null,
   "id": "Io3xlhcnmRJy",
   "metadata": {
    "id": "Io3xlhcnmRJy"
   },
   "outputs": [],
   "source": [
    "# ESCRIBE AQUÍ TU CÓDIGO"
   ]
  },
  {
   "cell_type": "markdown",
   "id": "c99650be",
   "metadata": {
    "id": "c99650be"
   },
   "source": [
    "## Sección 2. Visualizando moléculas: Representación 2D y red molécular\n",
    "\n",
    "Poder visualizar estructuras moleculares es un aspecto crucial de la quimioinformática, ya que ayuda en la comunicación y comprensión de información química compleja. En esta tarea exploraremos algunas funcionalidades de representación de moléculas utilizando RDKit."
   ]
  },
  {
   "cell_type": "markdown",
   "id": "jB6iCc9DYNGn",
   "metadata": {
    "id": "jB6iCc9DYNGn"
   },
   "source": [
    "Primero, obtén el objeto mol del siguiente SMILES:\n",
    "\n",
    "C1=CC=C(C(=C1)CC(=O)O)NC2=C(C=CC=C2Cl)Cl\n",
    "\n",
    "Luego, usando la función `MolToFile`, obtén un archivo .png con su representación 2D."
   ]
  },
  {
   "cell_type": "code",
   "execution_count": null,
   "id": "BO659MNxYLul",
   "metadata": {
    "colab": {
     "base_uri": "https://localhost:8080/",
     "height": 145
    },
    "executionInfo": {
     "elapsed": 274,
     "status": "error",
     "timestamp": 1697192560039,
     "user": {
      "displayName": "Rita Ortega Vallbona",
      "userId": "17830401129805231568"
     },
     "user_tz": -120
    },
    "id": "BO659MNxYLul",
    "outputId": "32f491b5-6e5b-4a91-a16d-df9369381bbe"
   },
   "outputs": [],
   "source": [
    "# ESCRIBE AQUÍ TU CÓDIGO"
   ]
  },
  {
   "cell_type": "markdown",
   "id": "3aE-ylAMZJhm",
   "metadata": {
    "id": "3aE-ylAMZJhm"
   },
   "source": [
    "También se pueden visualizar varias moléculas en una cuadrícula.\n",
    "\n",
    "Crea una lista de objetos mol y usa la función `MolsToGridImage` para visualizarlos."
   ]
  },
  {
   "cell_type": "code",
   "execution_count": null,
   "id": "Eb1IHabPZRtE",
   "metadata": {
    "colab": {
     "base_uri": "https://localhost:8080/",
     "height": 145
    },
    "executionInfo": {
     "elapsed": 227,
     "status": "error",
     "timestamp": 1697192567259,
     "user": {
      "displayName": "Rita Ortega Vallbona",
      "userId": "17830401129805231568"
     },
     "user_tz": -120
    },
    "id": "Eb1IHabPZRtE",
    "outputId": "2a8e5563-0c22-4b1a-d586-7f5668b2e8db"
   },
   "outputs": [],
   "source": [
    "smiles = [\n",
    "    'N#CC(OC1OC(COC2OC(CO)C(O)C(O)C2O)C(O)C(O)C1O)c1ccccc1',\n",
    "    'c1ccc2c(c1)ccc1c2ccc2c3ccccc3ccc21',\n",
    "    'C=C(C)C1Cc2c(ccc3c2OC2COc4cc(OC)c(OC)cc4C2C3=O)O1',\n",
    "    'ClC(Cl)=C(c1ccc(Cl)cc1)c1ccc(Cl)cc1'\n",
    "]\n",
    "\n",
    "# ESCRIBE AQUÍ TU CÓDIGO\n",
    "\n",
    "# Crea una lista de objetos mol a partir de la lista de smiles\n",
    "\n",
    "\n",
    "# Dibuja las estructuras en una cuadrícula\n"
   ]
  },
  {
   "cell_type": "markdown",
   "id": "42mysF0a0fm5",
   "metadata": {
    "id": "42mysF0a0fm5"
   },
   "source": [
    "RDKit ofrece la posibilidad de resaltar un fragmento molecular dentro de una molécula, una técnica valiosa para ilustrar y enfatizar grupos funcionales o componentes estructurales clave.\n",
    "\n",
    "Usa la función `GetSubstructMatch` sobre el objeto `mol`."
   ]
  },
  {
   "cell_type": "code",
   "execution_count": null,
   "id": "Sx62PpOs1RpZ",
   "metadata": {
    "colab": {
     "base_uri": "https://localhost:8080/",
     "height": 167
    },
    "executionInfo": {
     "elapsed": 243,
     "status": "ok",
     "timestamp": 1697192574077,
     "user": {
      "displayName": "Rita Ortega Vallbona",
      "userId": "17830401129805231568"
     },
     "user_tz": -120
    },
    "id": "Sx62PpOs1RpZ",
    "outputId": "fba2ca31-397c-4eca-bd25-207d3f93ea5e"
   },
   "outputs": [],
   "source": [
    "# ESCRIBE AQUÍ TU CÓDIGO\n",
    "\n",
    "# Importa el módulo Chem de rdkit\n",
    "\n",
    "\n",
    "# Convierte el SMILES en un objeto mol\n",
    "\n",
    "\n",
    "# Crea una variable para almacenar el objeto mol con la subestructura\n",
    "\n",
    "\n",
    "# Usa la función GetSubstructMatch para resaltar la subestructura en el objeto mol\n",
    "\n",
    "\n",
    "# Dibuja la molécula con la subestructura resaltada\n"
   ]
  },
  {
   "cell_type": "markdown",
   "id": "QLBRcbe3BUTr",
   "metadata": {
    "id": "QLBRcbe3BUTr"
   },
   "source": [
    "Ahora, itera la siguiente lista de SMILES y resalta en ellos el grupo carboxilo.\n",
    "\n",
    "**Nota:** Represéntalos en una cuadrícula, como has visto en el ejercicio anterior."
   ]
  },
  {
   "cell_type": "code",
   "execution_count": null,
   "id": "YulMLtC0BjJy",
   "metadata": {
    "id": "YulMLtC0BjJy"
   },
   "outputs": [],
   "source": [
    "smiles_list = [\"OC(C(O)C(O)=O)C(O)=O\",\n",
    "               \"CCCC(CCC)C(=O)O\",\n",
    "               \"C1CCN(CC1)C2=NC(=N)N(C(=C2)N)O\",\n",
    "               \"C(=O)(C(C(C(C(C(F)(F)F)(F)F)(F)F)(F)F)(F)F)O\"]\n",
    "\n",
    "\n",
    "# ESCRIBE AQUÍ TU CÓDIGO"
   ]
  },
  {
   "cell_type": "markdown",
   "id": "-0ugiALyaFMg",
   "metadata": {
    "id": "-0ugiALyaFMg"
   },
   "source": [
    "¿Hay algún compuesto sin grupo carboxilo?"
   ]
  },
  {
   "cell_type": "markdown",
   "id": "BEIkhCkSUlQv",
   "metadata": {
    "id": "BEIkhCkSUlQv"
   },
   "source": [
    "Si estás interesado en las diferentes opciones que RDKit ofrece para la visualización de moléculas, puedes visitar este [enlace](https://www.rdkit.org/docs/Cookbook.html) para encontrar más ejercicios para practicar."
   ]
  },
  {
   "cell_type": "markdown",
   "id": "8446c0d9",
   "metadata": {
    "id": "8446c0d9"
   },
   "source": [
    "## Sección 3. Análisis de una base datos de compuestos químicos con RDKit y Pandas\n",
    "\n",
    "En nuestra tercera tarea, nos centraremos en explorar bases de datos químicas de forma práctica. Es esencial adquirir la habilidad de analizar datos químicos de manera eficiente para la quimioinformática. Aquí, exploraremos algunas técnicas útiles para la exploración de datos, incluyendo la creación de gráficos informativos para la visualización de datos.\n",
    "\n",
    "Si necesitas más ejemplos o ejercicios con Pandas, consulta su [documentación](https://pandas.pydata.org/docs/user_guide/10min.html). Ofrecen muchos ejemplos para diferentes usos, así como visualizaciones simples."
   ]
  },
  {
   "cell_type": "markdown",
   "id": "6a8235fd",
   "metadata": {
    "id": "6a8235fd"
   },
   "source": [
    "Primero, carga el archivo `IntroPythonChemometrics.csv` en un DataFrame con Pandas."
   ]
  },
  {
   "cell_type": "code",
   "execution_count": null,
   "id": "a548e360",
   "metadata": {
    "colab": {
     "background_save": true,
     "base_uri": "https://localhost:8080/",
     "height": 310
    },
    "executionInfo": {
     "elapsed": 431,
     "status": "ok",
     "timestamp": 1697192605206,
     "user": {
      "displayName": "Rita Ortega Vallbona",
      "userId": "17830401129805231568"
     },
     "user_tz": -120
    },
    "id": "a548e360",
    "outputId": "7668fa4f-9803-42fe-fd9d-ca834edf11bb"
   },
   "outputs": [],
   "source": [
    "# ESCRIBE AQUÍ TU CÓDIGO"
   ]
  },
  {
   "cell_type": "markdown",
   "id": "691f66b3",
   "metadata": {
    "id": "691f66b3"
   },
   "source": [
    "Obten el número de compuestos carcinogénicos y no-carcinogénicos."
   ]
  },
  {
   "cell_type": "code",
   "execution_count": null,
   "id": "jjqbvmkym2ow",
   "metadata": {
    "id": "jjqbvmkym2ow"
   },
   "outputs": [],
   "source": [
    "# ESCRIBE AQUÍ TU CÓDIGO"
   ]
  },
  {
   "cell_type": "markdown",
   "id": "NvUxhUgzTvT9",
   "metadata": {
    "id": "NvUxhUgzTvT9"
   },
   "source": [
    "¿Cuántos compuestos carcinogénicos hay en el dataset?"
   ]
  },
  {
   "cell_type": "markdown",
   "id": "5ac17431",
   "metadata": {
    "id": "5ac17431"
   },
   "source": [
    "En este juego de datos los compuestos están clasificados por categorias. \n",
    "Calcula el número de compuestos carcinogénicos y no-carcinogénicos para cada categoría, y guárdalos en un DataFrame llamado \n",
    "`carcinogenic_cat` y en otro llamado `non_carcinogenic_cat`."
   ]
  },
  {
   "cell_type": "code",
   "execution_count": null,
   "id": "P89xlHcwm5ue",
   "metadata": {
    "id": "P89xlHcwm5ue"
   },
   "outputs": [],
   "source": [
    "# ESCRIBE AQUÍ TU CÓDIGO\n",
    "\n",
    "# Crea un DataFrame con los compuestos carcinogénicos\n",
    "\n",
    "# Obtén el número de compuestos para cada categoría usando groupby y size\n",
    "\n",
    "# Resetea el índice y da el nombre a la columna: \"carcinogenic_count\"\n",
    "\n",
    "\n",
    "\n",
    "# Crea un DataFrame con los compuestos no carcinogénicos\n",
    "\n",
    "# Obtén el número de compuestos para cada categoría\n",
    "\n",
    "# Resetea el índice y da el nombre a la columna: \"non_carcinogenic_count\"\n",
    "\n",
    "\n",
    "\n",
    "# Combina los dos DataFrames en uno solo usando merge\n",
    "\n",
    "\n",
    "# Muestra en pantalla el DataFrame resultante\n"
   ]
  },
  {
   "cell_type": "markdown",
   "id": "gdG0j4cIYM5u",
   "metadata": {
    "id": "gdG0j4cIYM5u"
   },
   "source": [
    "¿Cuántas categorías tenemos?"
   ]
  },
  {
   "cell_type": "markdown",
   "id": "b97725c9",
   "metadata": {
    "id": "b97725c9"
   },
   "source": [
    "Después de construir los DataFrames con los recuentos de categorías, obtén una representación visual del número de compuestos carcinogénicos y no carcinogénicos en cada categoría."
   ]
  },
  {
   "cell_type": "code",
   "execution_count": null,
   "id": "S4bd2YG6F3Su",
   "metadata": {
    "colab": {
     "base_uri": "https://localhost:8080/",
     "height": 766
    },
    "executionInfo": {
     "elapsed": 4507,
     "status": "ok",
     "timestamp": 1697192632138,
     "user": {
      "displayName": "Rita Ortega Vallbona",
      "userId": "17830401129805231568"
     },
     "user_tz": -120
    },
    "id": "S4bd2YG6F3Su",
    "outputId": "d15e45ae-a3f6-4d4a-e6d7-0108acac63bd"
   },
   "outputs": [],
   "source": [
    "# ESCRIBE AQUÍ TU CÓDIGO\n",
    "\n",
    "# Crea la figura\n",
    "plt.figure(figsize=(15, 8))\n",
    "\n",
    "# Grafica cada serie individual\n",
    "\n",
    "\n",
    "\n",
    "# Rota las etiquetas del eje x (categoría) 90 grados\n",
    "\n",
    "\n",
    "# Añade etiquetas, título y leyenda\n",
    "\n",
    "\n"
   ]
  },
  {
   "cell_type": "markdown",
   "id": "FC8G1gjXHAOG",
   "metadata": {
    "id": "FC8G1gjXHAOG"
   },
   "source": [
    "Puede ser un desafío visualizar datos con tantas categorías. Sin embargo, con el código proporcionado a continuación, puedes establecer un umbral para el número total de compuestos en cada categoría. Esto te permitirá mostrar solo las categorías con un mayor número de compuestos, lo que facilita el análisis de los datos."
   ]
  },
  {
   "cell_type": "code",
   "execution_count": null,
   "id": "jwAdOkCVHbBH",
   "metadata": {
    "colab": {
     "base_uri": "https://localhost:8080/"
    },
    "executionInfo": {
     "elapsed": 266,
     "status": "ok",
     "timestamp": 1697192635616,
     "user": {
      "displayName": "Rita Ortega Vallbona",
      "userId": "17830401129805231568"
     },
     "user_tz": -120
    },
    "id": "jwAdOkCVHbBH",
    "outputId": "d1c53dc4-2c24-45a6-84a2-3adeecc596f9"
   },
   "outputs": [],
   "source": [
    "threshold = 50 # puedes modificar el umbral para ver los diferentes resultados\n",
    "\n",
    "\n",
    "# Combina los dos DataFrames en uno solo usando merge\n",
    "merged_counts_df = carcinogenicity_cat.merge(category_count, on='category', how='inner')\n",
    "\n",
    "# Filtra las categorías con un número de compuestos por encima del umbral\n",
    "filtered_counts_df = merged_counts_df[merged_counts_df['compound_count'] >= threshold]\n",
    "\n",
    "print(filtered_counts_df)\n"
   ]
  },
  {
   "cell_type": "markdown",
   "id": "cKgS0JFUZNAr",
   "metadata": {
    "id": "cKgS0JFUZNAr"
   },
   "source": [
    "Ahora crea la representación de barras apiladas usando el `filtered_counts_df` que acabamos de crear.\n",
    "\n",
    "¿Qué categoría tiene mayor número de compuestos?"
   ]
  },
  {
   "cell_type": "code",
   "execution_count": null,
   "id": "hLNW4bB_m7p5",
   "metadata": {
    "colab": {
     "base_uri": "https://localhost:8080/",
     "height": 54
    },
    "executionInfo": {
     "elapsed": 415,
     "status": "ok",
     "timestamp": 1697034764339,
     "user": {
      "displayName": "Rita Ortega Vallbona",
      "userId": "17830401129805231568"
     },
     "user_tz": -120
    },
    "id": "hLNW4bB_m7p5",
    "outputId": "448b90c0-eb98-47ae-ca22-17e727ca7b92"
   },
   "outputs": [],
   "source": [
    "# ESCRIBE AQUÍ TU CÓDIGO"
   ]
  },
  {
   "cell_type": "markdown",
   "id": "BfY5KdGbkfFP",
   "metadata": {
    "id": "BfY5KdGbkfFP"
   },
   "source": [
    "Ahora obtén solo las moléculas de la categoría más abundante y guárdalas en un nuevo DataFrame llamado `subset_df`."
   ]
  },
  {
   "cell_type": "code",
   "execution_count": null,
   "id": "nIf8tB08lUur",
   "metadata": {
    "id": "nIf8tB08lUur"
   },
   "outputs": [],
   "source": [
    "# ESCRIBE AQUÍ TU CÓDIGO\n"
   ]
  },
  {
   "cell_type": "markdown",
   "id": "b6a1eb79",
   "metadata": {
    "id": "b6a1eb79"
   },
   "source": [
    "Extrae la columna con los SMILES con el comando `.iloc` y visualiza las primeras líneas."
   ]
  },
  {
   "cell_type": "code",
   "execution_count": null,
   "id": "y0ELwI-Sm9rQ",
   "metadata": {
    "id": "y0ELwI-Sm9rQ"
   },
   "outputs": [],
   "source": [
    "# ESCRIBE AQUÍ TU CÓDIGO"
   ]
  },
  {
   "cell_type": "markdown",
   "id": "8373ec2e",
   "metadata": {
    "id": "8373ec2e"
   },
   "source": [
    "Extrae la información sobre carcinogenicidad directamente como un objeto `Series` y visualiza las primeras líneas."
   ]
  },
  {
   "cell_type": "code",
   "execution_count": null,
   "id": "ULxd1h-2m_wF",
   "metadata": {
    "id": "ULxd1h-2m_wF"
   },
   "outputs": [],
   "source": [
    "# ESCRIBE AQUÍ TU CÓDIGO"
   ]
  },
  {
   "cell_type": "markdown",
   "id": "e518e50b",
   "metadata": {
    "id": "e518e50b"
   },
   "source": [
    "Crea un nuevo DataFrame llamado `carcinogenicity_df` concatenando los SMILES y la información sobre carcinogenicidad. Llama a las columnas `'SMILES'` e `'y'`."
   ]
  },
  {
   "cell_type": "code",
   "execution_count": null,
   "id": "a4c63G3gNzyN",
   "metadata": {
    "id": "a4c63G3gNzyN"
   },
   "outputs": [],
   "source": [
    "# ESCRIBE AQUÍ TU CÓDIGO"
   ]
  },
  {
   "cell_type": "markdown",
   "id": "AhhIQNvPygj6",
   "metadata": {
    "id": "AhhIQNvPygj6"
   },
   "source": [
    "## Sección 4. Cálculo de propiedades químicas\n",
    "\n",
    "Comprender las propiedades químicas es de gran importancia en el campo de la quimioinformática. Los profesionales de la quimioinformática dependen en gran medida de estas propiedades para tomar decisiones fundamentadas sobre la selección y el diseño de compuestos. Al aprender a calcular propiedades moleculares y filtrar bases de datos en función de ellas, estarás mejor preparado para analizar y manipular datos químicos. Estas habilidades son esenciales para tareas como el descubrimiento de fármacos, la predicción de toxicidad y el diseño de materiales."
   ]
  },
  {
   "cell_type": "markdown",
   "id": "FudgOKshr7H-",
   "metadata": {
    "id": "FudgOKshr7H-"
   },
   "source": [
    "Para empezar, determina el peso molecular de las moléculas presentes en el DataFrame `carcinogenicity_df` y conviértelo en una nueva columna. Puedes llevar esto a cabo combinando la función `apply` de `Pandas` con la función `MolWt` del módulo `rdkit.Chem.Descriptors`.\n",
    "\n",
    "Visuliza las primeras columnas del DataFrame resultante para confirmar que se ha realizado correctamente."
   ]
  },
  {
   "cell_type": "code",
   "execution_count": null,
   "id": "RzuIrJGkyPWl",
   "metadata": {
    "colab": {
     "base_uri": "https://localhost:8080/",
     "height": 206
    },
    "executionInfo": {
     "elapsed": 691,
     "status": "ok",
     "timestamp": 1697192678054,
     "user": {
      "displayName": "Rita Ortega Vallbona",
      "userId": "17830401129805231568"
     },
     "user_tz": -120
    },
    "id": "RzuIrJGkyPWl",
    "outputId": "5eb2f452-e4b2-4290-9bab-835bc1e0cd12"
   },
   "outputs": [],
   "source": [
    "# ESCRIBE AQUÍ TU CÓDIGO"
   ]
  },
  {
   "cell_type": "markdown",
   "id": "IF31FrCCtG3C",
   "metadata": {
    "id": "IF31FrCCtG3C"
   },
   "source": [
    "Ahora, siguiendo el mismo procedimiento, usa la función `MolLogP` para crear una columna llamada `LogP`.\n",
    "\n",
    "Visuliza las primeras columnas del DataFrame resultante para confirmar que se ha realizado correctamente."
   ]
  },
  {
   "cell_type": "code",
   "execution_count": null,
   "id": "wFHs741QuLL8",
   "metadata": {
    "id": "wFHs741QuLL8"
   },
   "outputs": [],
   "source": [
    "# ESCRIBE AQUÍ TU CÓDIGO"
   ]
  },
  {
   "cell_type": "markdown",
   "id": "QptfBexwuhp0",
   "metadata": {
    "id": "QptfBexwuhp0"
   },
   "source": [
    "Para terminar, filtra el DataFrame resultante y quédate solo con las moléculas con un peso molecular por debajo de 300 y un valor de LogP inferior a 4.\n",
    "\n",
    "¿Cuántos compuestos han quedado en el DataFrame final?"
   ]
  },
  {
   "cell_type": "code",
   "execution_count": null,
   "id": "Pg6oaqL2vKah",
   "metadata": {
    "id": "Pg6oaqL2vKah"
   },
   "outputs": [],
   "source": [
    "# ESCRIBE AQUÍ TU CÓDIGO"
   ]
  },
  {
   "cell_type": "markdown",
   "id": "7e85abef",
   "metadata": {
    "id": "7e85abef"
   },
   "source": [
    "Guarda el DataFrame final en formato `.csv`."
   ]
  },
  {
   "cell_type": "code",
   "execution_count": null,
   "id": "ZJliNNkrnEVK",
   "metadata": {
    "id": "ZJliNNkrnEVK"
   },
   "outputs": [],
   "source": [
    "# ESCRIBE AQUÍ TU CÓDIGO"
   ]
  }
 ],
 "metadata": {
  "colab": {
   "provenance": [
    {
     "file_id": "1BDhXBxo498T8Jh5B4x4nh4Ldd4hsTa7H",
     "timestamp": 1684842428006
    },
    {
     "file_id": "https://github.com/mpalominoschaetzlein/Python_QSAR_course/blob/main/Module1_Python_for_chemoinformaticsMPS.ipynb",
     "timestamp": 1684827171978
    }
   ],
   "toc_visible": true
  },
  "kernelspec": {
   "display_name": "Python 3",
   "language": "python",
   "name": "python3"
  },
  "language_info": {
   "codemirror_mode": {
    "name": "ipython",
    "version": 3
   },
   "file_extension": ".py",
   "mimetype": "text/x-python",
   "name": "python",
   "nbconvert_exporter": "python",
   "pygments_lexer": "ipython3",
   "version": "3.7.11"
  }
 },
 "nbformat": 4,
 "nbformat_minor": 5
}
