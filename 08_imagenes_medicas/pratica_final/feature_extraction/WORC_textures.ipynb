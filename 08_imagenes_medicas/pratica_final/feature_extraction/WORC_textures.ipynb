{
 "cells": [
  {
   "cell_type": "code",
   "execution_count": 3,
   "id": "0eaf3ae4",
   "metadata": {},
   "outputs": [],
   "source": [
    "from radiomics import featureextractor\n",
    "import os\n",
    "from pathlib import Path\n",
    "import pandas as pd\n",
    "import logging\n"
   ]
  },
  {
   "cell_type": "code",
   "execution_count": 8,
   "id": "070d6a8c",
   "metadata": {},
   "outputs": [
    {
     "name": "stdout",
     "output_type": "stream",
     "text": [
      "GIST-001_CT\n",
      "GIST-002_CT\n",
      "GIST-003_CT\n",
      "GIST-004_CT\n",
      "GIST-005_CT\n",
      "GIST-006_CT\n",
      "GIST-007_CT\n",
      "GIST-008_CT\n",
      "GIST-009_CT\n",
      "GIST-010_CT\n",
      "GIST-011_CT\n",
      "GIST-012_CT\n",
      "GIST-013_CT\n",
      "GIST-014_CT\n",
      "GIST-015_CT\n",
      "GIST-016_CT\n",
      "GIST-017_CT\n",
      "GIST-018_CT\n",
      "GIST-019_CT\n",
      "GIST-020_CT\n",
      "GIST-021_CT\n",
      "GIST-022_CT\n",
      "GIST-023_CT\n",
      "GIST-024_CT\n",
      "GIST-025_CT\n",
      "GIST-026_CT\n",
      "GIST-027_CT\n",
      "GIST-028_CT\n",
      "GIST-029_CT\n",
      "GIST-030_CT\n",
      "GIST-031_CT\n",
      "GIST-032_CT\n",
      "GIST-033_CT\n",
      "GIST-034_CT\n",
      "GIST-035_CT\n",
      "GIST-036_CT\n",
      "GIST-037_CT\n",
      "GIST-038_CT\n",
      "GIST-039_CT\n",
      "GIST-040_CT\n",
      "GIST-041_CT\n",
      "GIST-042_CT\n",
      "GIST-043_CT\n",
      "GIST-044_CT\n",
      "GIST-045_CT\n",
      "GIST-046_CT\n",
      "GIST-047_CT\n",
      "GIST-048_CT\n",
      "GIST-049_CT\n",
      "GIST-050_CT\n",
      "GIST-051_CT\n",
      "GIST-052_CT\n",
      "GIST-053_CT\n",
      "GIST-054_CT\n",
      "GIST-055_CT\n",
      "GIST-056_CT\n",
      "GIST-057_CT\n",
      "GIST-058_CT\n",
      "GIST-059_CT\n",
      "GIST-060_CT\n",
      "GIST-061_CT\n",
      "GIST-062_CT\n",
      "GIST-063_CT\n",
      "GIST-064_CT\n",
      "GIST-065_CT\n",
      "GIST-066_CT\n",
      "GIST-067_CT\n",
      "GIST-068_CT\n",
      "GIST-069_CT\n",
      "GIST-070_CT\n",
      "GIST-071_CT\n",
      "GIST-072_CT\n",
      "GIST-073_CT\n",
      "GIST-074_CT\n",
      "GIST-075_CT\n",
      "GIST-076_CT\n",
      "GIST-077_CT\n",
      "GIST-078_CT\n",
      "GIST-079_CT\n",
      "GIST-080_CT\n",
      "GIST-081_CT\n",
      "GIST-082_CT\n",
      "GIST-083_CT\n",
      "GIST-084_CT\n",
      "GIST-085_CT\n",
      "GIST-086_CT\n",
      "GIST-087_CT\n",
      "GIST-088_CT\n",
      "GIST-089_CT\n",
      "GIST-090_CT\n",
      "GIST-091_CT\n",
      "GIST-092_CT\n",
      "GIST-093_CT\n",
      "GIST-094_CT\n",
      "GIST-095_CT\n",
      "GIST-096_CT\n",
      "GIST-097_CT\n",
      "GIST-098_CT\n",
      "GIST-099_CT\n",
      "GIST-100_CT\n",
      "GIST-101_CT\n",
      "GIST-102_CT\n",
      "GIST-103_CT\n",
      "GIST-104_CT\n",
      "GIST-105_CT\n",
      "GIST-106_CT\n",
      "GIST-107_CT\n",
      "GIST-108_CT\n",
      "GIST-109_CT\n",
      "GIST-110_CT\n",
      "GIST-111_CT\n",
      "GIST-112_CT\n",
      "GIST-113_CT\n",
      "GIST-114_CT\n",
      "GIST-115_CT\n",
      "GIST-116_CT\n",
      "GIST-117_CT\n",
      "GIST-118_CT\n",
      "GIST-119_CT\n",
      "GIST-120_CT\n",
      "GIST-121_CT\n",
      "GIST-122_CT\n",
      "GIST-123_CT\n",
      "GIST-124_CT\n",
      "GIST-125_CT\n",
      "GIST-126_CT\n",
      "GIST-127_CT\n",
      "GIST-128_CT\n",
      "GIST-129_CT\n",
      "GIST-130_CT\n",
      "GIST-131_CT\n",
      "GIST-132_CT\n",
      "GIST-133_CT\n",
      "GIST-134_CT\n",
      "GIST-135_CT\n",
      "GIST-136_CT\n",
      "GIST-137_CT\n",
      "GIST-138_CT\n",
      "GIST-139_CT\n",
      "GIST-140_CT\n",
      "GIST-141_CT\n",
      "GIST-142_CT\n",
      "GIST-143_CT\n",
      "GIST-144_CT\n",
      "GIST-145_CT\n",
      "GIST-146_CT\n",
      "GIST-147_CT\n",
      "GIST-148_CT\n",
      "GIST-149_CT\n",
      "GIST-150_CT\n",
      "GIST-151_CT\n",
      "GIST-152_CT\n",
      "GIST-153_CT\n",
      "GIST-154_CT\n",
      "GIST-155_CT\n",
      "GIST-156_CT\n",
      "GIST-157_CT\n",
      "GIST-158_CT\n",
      "GIST-159_CT\n",
      "GIST-160_CT\n",
      "GIST-161_CT\n",
      "GIST-162_CT\n",
      "GIST-163_CT\n",
      "GIST-164_CT\n",
      "GIST-165_CT\n",
      "GIST-166_CT\n",
      "GIST-167_CT\n",
      "GIST-168_CT\n",
      "GIST-169_CT\n",
      "GIST-170_CT\n",
      "GIST-171_CT\n",
      "GIST-172_CT\n",
      "GIST-173_CT\n",
      "GIST-174_CT\n",
      "GIST-175_CT\n",
      "GIST-176_CT\n",
      "GIST-177_CT\n",
      "GIST-178_CT\n",
      "GIST-179_CT\n",
      "GIST-180_CT\n",
      "GIST-181_CT\n",
      "GIST-182_CT\n",
      "GIST-183_CT\n",
      "GIST-184_CT\n",
      "GIST-185_CT\n",
      "GIST-186_CT\n",
      "GIST-187_CT\n",
      "GIST-188_CT\n",
      "GIST-189_CT\n",
      "GIST-190_CT\n",
      "GIST-191_CT\n",
      "GIST-192_CT\n",
      "GIST-193_CT\n",
      "GIST-194_CT\n",
      "GIST-195_CT\n",
      "GIST-196_CT\n",
      "GIST-197_CT\n",
      "GIST-198_CT\n",
      "GIST-199_CT\n",
      "GIST-200_CT\n",
      "GIST-201_CT\n",
      "GIST-202_CT\n",
      "GIST-203_CT\n",
      "GIST-204_CT\n",
      "GIST-205_CT\n",
      "GIST-206_CT\n",
      "GIST-207_CT\n",
      "GIST-208_CT\n",
      "GIST-209_CT\n",
      "GIST-210_CT\n",
      "GIST-211_CT\n",
      "GIST-212_CT\n",
      "GIST-213_CT\n",
      "GIST-214_CT\n",
      "GIST-215_CT\n",
      "GIST-216_CT\n",
      "GIST-217_CT\n",
      "GIST-218_CT\n",
      "GIST-219_CT\n",
      "GIST-220_CT\n",
      "GIST-221_CT\n",
      "GIST-222_CT\n",
      "GIST-223_CT\n",
      "GIST-224_CT\n",
      "GIST-225_CT\n",
      "GIST-226_CT\n",
      "GIST-227_CT\n",
      "GIST-228_CT\n",
      "GIST-229_CT\n",
      "GIST-230_CT\n",
      "GIST-231_CT\n",
      "GIST-232_CT\n",
      "GIST-233_CT\n",
      "GIST-234_CT\n",
      "GIST-235_CT\n",
      "GIST-236_CT\n",
      "GIST-237_CT\n",
      "GIST-238_CT\n",
      "GIST-239_CT\n",
      "GIST-240_CT\n",
      "GIST-241_CT\n",
      "GIST-242_CT\n",
      "GIST-243_CT\n",
      "GIST-244_CT\n",
      "GIST-245_CT\n",
      "GIST-246_CT\n"
     ]
    },
    {
     "ename": "TypeError",
     "evalue": "unsupported operand type(s) for /: 'str' and 'str'",
     "output_type": "error",
     "traceback": [
      "\u001b[0;31m---------------------------------------------------------------------------\u001b[0m",
      "\u001b[0;31mTypeError\u001b[0m                                 Traceback (most recent call last)",
      "Cell \u001b[0;32mIn[8], line 98\u001b[0m\n\u001b[1;32m     96\u001b[0m \u001b[38;5;66;03m# Save Radiomics\u001b[39;00m\n\u001b[1;32m     97\u001b[0m logging\u001b[38;5;241m.\u001b[39minfo(\u001b[38;5;124m'\u001b[39m\u001b[38;5;124mSaving Results\u001b[39m\u001b[38;5;124m'\u001b[39m)\n\u001b[0;32m---> 98\u001b[0m path_results \u001b[38;5;241m=\u001b[39m \u001b[43mpath_cases\u001b[49m\u001b[43m \u001b[49m\u001b[38;5;241;43m/\u001b[39;49m\u001b[43m \u001b[49m\u001b[38;5;124;43m'\u001b[39;49m\u001b[38;5;124;43mtexture_results.csv\u001b[39;49m\u001b[38;5;124;43m'\u001b[39;49m\n\u001b[1;32m     99\u001b[0m df_radiomics\u001b[38;5;241m.\u001b[39mto_csv(path_results, index\u001b[38;5;241m=\u001b[39m\u001b[38;5;28;01mFalse\u001b[39;00m)\n",
      "\u001b[0;31mTypeError\u001b[0m: unsupported operand type(s) for /: 'str' and 'str'"
     ]
    }
   ],
   "source": [
    "\n",
    "class TexturesError(Exception):\n",
    "    \"\"\"Base error related to Texture analysis method\"\"\"\n",
    "\n",
    "def params_file_path(modality):\n",
    "    main_path = Path('params_files')\n",
    "\n",
    "    if modality == 'CT':\n",
    "        params_path = main_path / 'params_CT.yaml'\n",
    "    elif modality == 'MR':\n",
    "        params_path = main_path / 'params_MR.yaml'\n",
    "    else:\n",
    "        raise TexturesError(\"Unsupported image modality!\")\n",
    "    \n",
    "    return str(params_path)\n",
    "\n",
    "\n",
    "# PARAMETERS #\n",
    "###################################################\n",
    "DISEASE = 'GIST' \n",
    "MODALITY = 'CT'\n",
    "\n",
    "mask_file_name = 'mask.nii.gz'\n",
    "serie_file_name = 'image.nii.gz'\n",
    "###################################################\n",
    "\n",
    "\n",
    "# List Patients\n",
    "path_cases = '../data/' + DISEASE\n",
    "patients = os.listdir(path_cases)\n",
    "patients.sort()\n",
    "\n",
    "if '.DS_Store' in patients:\n",
    "    patients.remove('.DS_Store')\n",
    "\n",
    "if '_output.log' in patients:\n",
    "    patients.remove('_output.log')\n",
    "\n",
    "if 'texture_results.csv' in patients:\n",
    "    patients.remove('texture_results.csv')\n",
    "\n",
    "for patient in patients:\n",
    "    if not Path(path_cases + '/' + patient).is_dir():\n",
    "        patients.remove(patient)\n",
    "\n",
    "# Logger\n",
    "path_log = path_cases + '/_output.log'\n",
    "logging.basicConfig(filename=path_log, level=logging.INFO, filemode='w',\n",
    "                    format='%(asctime)s - %(levelname)s - %(message)s')\n",
    "\n",
    "\n",
    "df_radiomics = pd.DataFrame()\n",
    "\n",
    "for p, patient in enumerate(patients):\n",
    "    print(patient)\n",
    "    logging.info(f'Analysing patient: {patient}')\n",
    "    path_patient = Path(path_cases) / patient\n",
    "\n",
    "    try:\n",
    "        timepoints = os.listdir(path_patient)\n",
    "        timepoints.sort()\n",
    "    except NotADirectoryError:\n",
    "        logging.error(f'Error in Directory {patient}')\n",
    "        continue\n",
    "\n",
    "    if '.DS_Store' in timepoints:\n",
    "        timepoints.remove('.DS_Store')\n",
    "    \n",
    "\n",
    "    # Analyze Timepoints\n",
    "    for t, timepoint in enumerate(timepoints):\n",
    "        logging.info(f'Analysing timepoint: {timepoint} ')\n",
    "        path_timepoint = path_patient / timepoint / 'NIFTI' \n",
    "        try: \n",
    "            path_mask = os.path.join(path_timepoint, mask_file_name)\n",
    "            path_serie = os.path.join(path_timepoint, serie_file_name)\n",
    "\n",
    "            if not os.path.exists(path_mask):\n",
    "                logging.warning(f'Mask not detected for patient: {patient}, timepoint: {timepoint}')\n",
    "                continue\n",
    "\n",
    "            # TEXTURE ANALYSIS\n",
    "            # ======================================\n",
    "            params_path = params_file_path(MODALITY)\n",
    "            extractor = featureextractor.RadiomicsFeatureExtractor(params_path)\n",
    "            result = extractor.execute(path_serie, path_mask)\n",
    "\n",
    "            # Store Results\n",
    "            result = pd.DataFrame(result.items()).set_index(0).transpose()\n",
    "            result.insert(0, 'PatientID', patient)\n",
    "            df_radiomics = pd.concat([df_radiomics, result], axis=0)\n",
    "\n",
    "        except Exception as e:\n",
    "            logging.error(f'{patient} | {e}')\n",
    "            continue\n",
    "\n"
   ]
  },
  {
   "cell_type": "code",
   "execution_count": 9,
   "id": "0639bbaa",
   "metadata": {},
   "outputs": [],
   "source": [
    "# Save Radiomics\n",
    "logging.info('Saving texture_results.csv')\n",
    "path_results = path_cases + '/texture_results.csv'\n",
    "df_radiomics.to_csv(path_results, index=False)\n"
   ]
  },
  {
   "cell_type": "code",
   "execution_count": 12,
   "id": "6b944fff",
   "metadata": {},
   "outputs": [],
   "source": [
    "# Read clinical data and prepare to merge with radiomics results\n",
    "clinical_df = pd.read_csv('../data/clinical_data.csv')\n",
    "# Filter only GIST patients\n",
    "clinical_df = clinical_df[clinical_df['Subject'].str.startswith('GIST')]\n",
    "# Add suffix to Subject for CT modality to make it compatible with radiomics results\n",
    "clinical_df['Subject'] = clinical_df['Subject'] + '_CT'\n",
    "\n",
    "# Merge clinical data with radiomics results\n",
    "df_all = df_radiomics.merge(clinical_df, left_on='PatientID', right_on='Subject', how='left')\n",
    "\n"
   ]
  },
  {
   "cell_type": "code",
   "execution_count": 14,
   "id": "539985f0",
   "metadata": {},
   "outputs": [],
   "source": [
    "# Save aggregated dataframe\n",
    "logging.info('Saving texture_results_plus_clinical_data.csv')\n",
    "path_results_clinical = path_cases + '/texture_results_plus_clinical_data.csv'\n",
    "df_all.to_csv(path_results_clinical, index=False)\n"
   ]
  },
  {
   "cell_type": "code",
   "execution_count": 15,
   "id": "f5daff30",
   "metadata": {},
   "outputs": [
    {
     "data": {
      "application/vnd.microsoft.datawrangler.viewer.v0+json": {
       "columns": [
        {
         "name": "index",
         "rawType": "int64",
         "type": "integer"
        },
        {
         "name": "PatientID",
         "rawType": "object",
         "type": "string"
        },
        {
         "name": "diagnostics_Versions_PyRadiomics",
         "rawType": "object",
         "type": "string"
        },
        {
         "name": "diagnostics_Versions_Numpy",
         "rawType": "object",
         "type": "string"
        },
        {
         "name": "diagnostics_Versions_SimpleITK",
         "rawType": "object",
         "type": "string"
        },
        {
         "name": "diagnostics_Versions_PyWavelet",
         "rawType": "object",
         "type": "string"
        },
        {
         "name": "diagnostics_Versions_Python",
         "rawType": "object",
         "type": "string"
        },
        {
         "name": "diagnostics_Configuration_Settings",
         "rawType": "object",
         "type": "unknown"
        },
        {
         "name": "diagnostics_Configuration_EnabledImageTypes",
         "rawType": "object",
         "type": "unknown"
        },
        {
         "name": "diagnostics_Image-original_Hash",
         "rawType": "object",
         "type": "string"
        },
        {
         "name": "diagnostics_Image-original_Dimensionality",
         "rawType": "object",
         "type": "string"
        },
        {
         "name": "diagnostics_Image-original_Spacing",
         "rawType": "object",
         "type": "unknown"
        },
        {
         "name": "diagnostics_Image-original_Size",
         "rawType": "object",
         "type": "unknown"
        },
        {
         "name": "diagnostics_Image-original_Mean",
         "rawType": "object",
         "type": "unknown"
        },
        {
         "name": "diagnostics_Image-original_Minimum",
         "rawType": "object",
         "type": "unknown"
        },
        {
         "name": "diagnostics_Image-original_Maximum",
         "rawType": "object",
         "type": "unknown"
        },
        {
         "name": "diagnostics_Mask-original_Hash",
         "rawType": "object",
         "type": "string"
        },
        {
         "name": "diagnostics_Mask-original_Spacing",
         "rawType": "object",
         "type": "unknown"
        },
        {
         "name": "diagnostics_Mask-original_Size",
         "rawType": "object",
         "type": "unknown"
        },
        {
         "name": "diagnostics_Mask-original_BoundingBox",
         "rawType": "object",
         "type": "unknown"
        },
        {
         "name": "diagnostics_Mask-original_VoxelNum",
         "rawType": "object",
         "type": "unknown"
        },
        {
         "name": "diagnostics_Mask-original_VolumeNum",
         "rawType": "object",
         "type": "unknown"
        },
        {
         "name": "diagnostics_Mask-original_CenterOfMassIndex",
         "rawType": "object",
         "type": "unknown"
        },
        {
         "name": "diagnostics_Mask-original_CenterOfMass",
         "rawType": "object",
         "type": "unknown"
        },
        {
         "name": "diagnostics_Image-interpolated_Spacing",
         "rawType": "object",
         "type": "unknown"
        },
        {
         "name": "diagnostics_Image-interpolated_Size",
         "rawType": "object",
         "type": "unknown"
        },
        {
         "name": "diagnostics_Image-interpolated_Mean",
         "rawType": "object",
         "type": "unknown"
        },
        {
         "name": "diagnostics_Image-interpolated_Minimum",
         "rawType": "object",
         "type": "unknown"
        },
        {
         "name": "diagnostics_Image-interpolated_Maximum",
         "rawType": "object",
         "type": "unknown"
        },
        {
         "name": "diagnostics_Mask-interpolated_Spacing",
         "rawType": "object",
         "type": "unknown"
        },
        {
         "name": "diagnostics_Mask-interpolated_Size",
         "rawType": "object",
         "type": "unknown"
        },
        {
         "name": "diagnostics_Mask-interpolated_BoundingBox",
         "rawType": "object",
         "type": "unknown"
        },
        {
         "name": "diagnostics_Mask-interpolated_VoxelNum",
         "rawType": "object",
         "type": "unknown"
        },
        {
         "name": "diagnostics_Mask-interpolated_VolumeNum",
         "rawType": "object",
         "type": "unknown"
        },
        {
         "name": "diagnostics_Mask-interpolated_CenterOfMassIndex",
         "rawType": "object",
         "type": "unknown"
        },
        {
         "name": "diagnostics_Mask-interpolated_CenterOfMass",
         "rawType": "object",
         "type": "unknown"
        },
        {
         "name": "diagnostics_Mask-interpolated_Mean",
         "rawType": "object",
         "type": "unknown"
        },
        {
         "name": "diagnostics_Mask-interpolated_Minimum",
         "rawType": "object",
         "type": "unknown"
        },
        {
         "name": "diagnostics_Mask-interpolated_Maximum",
         "rawType": "object",
         "type": "unknown"
        },
        {
         "name": "original_shape_Elongation",
         "rawType": "object",
         "type": "unknown"
        },
        {
         "name": "original_shape_Flatness",
         "rawType": "object",
         "type": "unknown"
        },
        {
         "name": "original_shape_LeastAxisLength",
         "rawType": "object",
         "type": "unknown"
        },
        {
         "name": "original_shape_MajorAxisLength",
         "rawType": "object",
         "type": "unknown"
        },
        {
         "name": "original_shape_Maximum2DDiameterColumn",
         "rawType": "object",
         "type": "unknown"
        },
        {
         "name": "original_shape_Maximum2DDiameterRow",
         "rawType": "object",
         "type": "unknown"
        },
        {
         "name": "original_shape_Maximum2DDiameterSlice",
         "rawType": "object",
         "type": "unknown"
        },
        {
         "name": "original_shape_Maximum3DDiameter",
         "rawType": "object",
         "type": "unknown"
        },
        {
         "name": "original_shape_MeshVolume",
         "rawType": "object",
         "type": "unknown"
        },
        {
         "name": "original_shape_MinorAxisLength",
         "rawType": "object",
         "type": "unknown"
        },
        {
         "name": "original_shape_Sphericity",
         "rawType": "object",
         "type": "unknown"
        },
        {
         "name": "original_shape_SurfaceArea",
         "rawType": "object",
         "type": "unknown"
        },
        {
         "name": "original_shape_SurfaceVolumeRatio",
         "rawType": "object",
         "type": "unknown"
        },
        {
         "name": "original_shape_VoxelVolume",
         "rawType": "object",
         "type": "unknown"
        },
        {
         "name": "original_firstorder_10Percentile",
         "rawType": "object",
         "type": "unknown"
        },
        {
         "name": "original_firstorder_90Percentile",
         "rawType": "object",
         "type": "unknown"
        },
        {
         "name": "original_firstorder_Energy",
         "rawType": "object",
         "type": "unknown"
        },
        {
         "name": "original_firstorder_Entropy",
         "rawType": "object",
         "type": "unknown"
        },
        {
         "name": "original_firstorder_InterquartileRange",
         "rawType": "object",
         "type": "unknown"
        },
        {
         "name": "original_firstorder_Kurtosis",
         "rawType": "object",
         "type": "unknown"
        },
        {
         "name": "original_firstorder_Maximum",
         "rawType": "object",
         "type": "unknown"
        },
        {
         "name": "original_firstorder_MeanAbsoluteDeviation",
         "rawType": "object",
         "type": "unknown"
        },
        {
         "name": "original_firstorder_Mean",
         "rawType": "object",
         "type": "unknown"
        },
        {
         "name": "original_firstorder_Median",
         "rawType": "object",
         "type": "unknown"
        },
        {
         "name": "original_firstorder_Minimum",
         "rawType": "object",
         "type": "unknown"
        },
        {
         "name": "original_firstorder_Range",
         "rawType": "object",
         "type": "unknown"
        },
        {
         "name": "original_firstorder_RobustMeanAbsoluteDeviation",
         "rawType": "object",
         "type": "unknown"
        },
        {
         "name": "original_firstorder_RootMeanSquared",
         "rawType": "object",
         "type": "unknown"
        },
        {
         "name": "original_firstorder_Skewness",
         "rawType": "object",
         "type": "unknown"
        },
        {
         "name": "original_firstorder_TotalEnergy",
         "rawType": "object",
         "type": "unknown"
        },
        {
         "name": "original_firstorder_Uniformity",
         "rawType": "object",
         "type": "unknown"
        },
        {
         "name": "original_firstorder_Variance",
         "rawType": "object",
         "type": "unknown"
        },
        {
         "name": "original_glcm_Autocorrelation",
         "rawType": "object",
         "type": "unknown"
        },
        {
         "name": "original_glcm_JointAverage",
         "rawType": "object",
         "type": "unknown"
        },
        {
         "name": "original_glcm_ClusterProminence",
         "rawType": "object",
         "type": "unknown"
        },
        {
         "name": "original_glcm_ClusterShade",
         "rawType": "object",
         "type": "unknown"
        },
        {
         "name": "original_glcm_ClusterTendency",
         "rawType": "object",
         "type": "unknown"
        },
        {
         "name": "original_glcm_Contrast",
         "rawType": "object",
         "type": "unknown"
        },
        {
         "name": "original_glcm_Correlation",
         "rawType": "object",
         "type": "unknown"
        },
        {
         "name": "original_glcm_DifferenceAverage",
         "rawType": "object",
         "type": "unknown"
        },
        {
         "name": "original_glcm_DifferenceEntropy",
         "rawType": "object",
         "type": "unknown"
        },
        {
         "name": "original_glcm_DifferenceVariance",
         "rawType": "object",
         "type": "unknown"
        },
        {
         "name": "original_glcm_JointEnergy",
         "rawType": "object",
         "type": "unknown"
        },
        {
         "name": "original_glcm_JointEntropy",
         "rawType": "object",
         "type": "unknown"
        },
        {
         "name": "original_glcm_Imc1",
         "rawType": "object",
         "type": "unknown"
        },
        {
         "name": "original_glcm_Imc2",
         "rawType": "object",
         "type": "unknown"
        },
        {
         "name": "original_glcm_Idm",
         "rawType": "object",
         "type": "unknown"
        },
        {
         "name": "original_glcm_Idmn",
         "rawType": "object",
         "type": "unknown"
        },
        {
         "name": "original_glcm_Id",
         "rawType": "object",
         "type": "unknown"
        },
        {
         "name": "original_glcm_Idn",
         "rawType": "object",
         "type": "unknown"
        },
        {
         "name": "original_glcm_InverseVariance",
         "rawType": "object",
         "type": "unknown"
        },
        {
         "name": "original_glcm_MaximumProbability",
         "rawType": "object",
         "type": "unknown"
        },
        {
         "name": "original_glcm_SumEntropy",
         "rawType": "object",
         "type": "unknown"
        },
        {
         "name": "original_glcm_SumSquares",
         "rawType": "object",
         "type": "unknown"
        },
        {
         "name": "original_glrlm_GrayLevelNonUniformity",
         "rawType": "object",
         "type": "unknown"
        },
        {
         "name": "original_glrlm_GrayLevelNonUniformityNormalized",
         "rawType": "object",
         "type": "unknown"
        },
        {
         "name": "original_glrlm_GrayLevelVariance",
         "rawType": "object",
         "type": "unknown"
        },
        {
         "name": "original_glrlm_HighGrayLevelRunEmphasis",
         "rawType": "object",
         "type": "unknown"
        },
        {
         "name": "original_glrlm_LongRunEmphasis",
         "rawType": "object",
         "type": "unknown"
        },
        {
         "name": "original_glrlm_LongRunHighGrayLevelEmphasis",
         "rawType": "object",
         "type": "unknown"
        },
        {
         "name": "original_glrlm_LongRunLowGrayLevelEmphasis",
         "rawType": "object",
         "type": "unknown"
        },
        {
         "name": "original_glrlm_LowGrayLevelRunEmphasis",
         "rawType": "object",
         "type": "unknown"
        },
        {
         "name": "original_glrlm_RunEntropy",
         "rawType": "object",
         "type": "unknown"
        },
        {
         "name": "original_glrlm_RunLengthNonUniformity",
         "rawType": "object",
         "type": "unknown"
        },
        {
         "name": "original_glrlm_RunLengthNonUniformityNormalized",
         "rawType": "object",
         "type": "unknown"
        },
        {
         "name": "original_glrlm_RunPercentage",
         "rawType": "object",
         "type": "unknown"
        },
        {
         "name": "original_glrlm_RunVariance",
         "rawType": "object",
         "type": "unknown"
        },
        {
         "name": "original_glrlm_ShortRunEmphasis",
         "rawType": "object",
         "type": "unknown"
        },
        {
         "name": "original_glrlm_ShortRunHighGrayLevelEmphasis",
         "rawType": "object",
         "type": "unknown"
        },
        {
         "name": "original_glrlm_ShortRunLowGrayLevelEmphasis",
         "rawType": "object",
         "type": "unknown"
        },
        {
         "name": "original_glszm_GrayLevelNonUniformity",
         "rawType": "object",
         "type": "unknown"
        },
        {
         "name": "original_glszm_GrayLevelNonUniformityNormalized",
         "rawType": "object",
         "type": "unknown"
        },
        {
         "name": "original_glszm_GrayLevelVariance",
         "rawType": "object",
         "type": "unknown"
        },
        {
         "name": "original_glszm_HighGrayLevelZoneEmphasis",
         "rawType": "object",
         "type": "unknown"
        },
        {
         "name": "original_glszm_LargeAreaEmphasis",
         "rawType": "object",
         "type": "unknown"
        },
        {
         "name": "original_glszm_LargeAreaHighGrayLevelEmphasis",
         "rawType": "object",
         "type": "unknown"
        },
        {
         "name": "original_glszm_LargeAreaLowGrayLevelEmphasis",
         "rawType": "object",
         "type": "unknown"
        },
        {
         "name": "original_glszm_LowGrayLevelZoneEmphasis",
         "rawType": "object",
         "type": "unknown"
        },
        {
         "name": "original_glszm_SizeZoneNonUniformity",
         "rawType": "object",
         "type": "unknown"
        },
        {
         "name": "original_glszm_SizeZoneNonUniformityNormalized",
         "rawType": "object",
         "type": "unknown"
        },
        {
         "name": "original_glszm_SmallAreaEmphasis",
         "rawType": "object",
         "type": "unknown"
        },
        {
         "name": "original_glszm_SmallAreaHighGrayLevelEmphasis",
         "rawType": "object",
         "type": "unknown"
        },
        {
         "name": "original_glszm_SmallAreaLowGrayLevelEmphasis",
         "rawType": "object",
         "type": "unknown"
        },
        {
         "name": "original_glszm_ZoneEntropy",
         "rawType": "object",
         "type": "unknown"
        },
        {
         "name": "original_glszm_ZonePercentage",
         "rawType": "object",
         "type": "unknown"
        },
        {
         "name": "original_glszm_ZoneVariance",
         "rawType": "object",
         "type": "unknown"
        },
        {
         "name": "original_gldm_DependenceEntropy",
         "rawType": "object",
         "type": "unknown"
        },
        {
         "name": "original_gldm_DependenceNonUniformity",
         "rawType": "object",
         "type": "unknown"
        },
        {
         "name": "original_gldm_DependenceNonUniformityNormalized",
         "rawType": "object",
         "type": "unknown"
        },
        {
         "name": "original_gldm_DependenceVariance",
         "rawType": "object",
         "type": "unknown"
        },
        {
         "name": "original_gldm_GrayLevelNonUniformity",
         "rawType": "object",
         "type": "unknown"
        },
        {
         "name": "original_gldm_GrayLevelVariance",
         "rawType": "object",
         "type": "unknown"
        },
        {
         "name": "original_gldm_HighGrayLevelEmphasis",
         "rawType": "object",
         "type": "unknown"
        },
        {
         "name": "original_gldm_LargeDependenceEmphasis",
         "rawType": "object",
         "type": "unknown"
        },
        {
         "name": "original_gldm_LargeDependenceHighGrayLevelEmphasis",
         "rawType": "object",
         "type": "unknown"
        },
        {
         "name": "original_gldm_LargeDependenceLowGrayLevelEmphasis",
         "rawType": "object",
         "type": "unknown"
        },
        {
         "name": "original_gldm_LowGrayLevelEmphasis",
         "rawType": "object",
         "type": "unknown"
        },
        {
         "name": "original_gldm_SmallDependenceEmphasis",
         "rawType": "object",
         "type": "unknown"
        },
        {
         "name": "original_gldm_SmallDependenceHighGrayLevelEmphasis",
         "rawType": "object",
         "type": "unknown"
        },
        {
         "name": "original_gldm_SmallDependenceLowGrayLevelEmphasis",
         "rawType": "object",
         "type": "unknown"
        },
        {
         "name": "original_ngtdm_Busyness",
         "rawType": "object",
         "type": "unknown"
        },
        {
         "name": "original_ngtdm_Coarseness",
         "rawType": "object",
         "type": "unknown"
        },
        {
         "name": "original_ngtdm_Complexity",
         "rawType": "object",
         "type": "unknown"
        },
        {
         "name": "original_ngtdm_Contrast",
         "rawType": "object",
         "type": "unknown"
        },
        {
         "name": "original_ngtdm_Strength",
         "rawType": "object",
         "type": "unknown"
        },
        {
         "name": "Subject",
         "rawType": "object",
         "type": "string"
        },
        {
         "name": "M/F",
         "rawType": "object",
         "type": "string"
        },
        {
         "name": "Hand",
         "rawType": "float64",
         "type": "float"
        },
        {
         "name": "YOB",
         "rawType": "float64",
         "type": "float"
        },
        {
         "name": "Notes",
         "rawType": "float64",
         "type": "float"
        },
        {
         "name": "Age",
         "rawType": "int64",
         "type": "integer"
        },
        {
         "name": "Sex",
         "rawType": "object",
         "type": "string"
        },
        {
         "name": "Dataset",
         "rawType": "object",
         "type": "string"
        },
        {
         "name": "Diagnosis",
         "rawType": "object",
         "type": "string"
        },
        {
         "name": "Diagnosis_binary",
         "rawType": "int64",
         "type": "integer"
        },
        {
         "name": "Phenotype",
         "rawType": "object",
         "type": "string"
        },
        {
         "name": "MR Sessions",
         "rawType": "float64",
         "type": "float"
        },
        {
         "name": "CT Sessions",
         "rawType": "float64",
         "type": "float"
        }
       ],
       "ref": "dc604347-74b0-4013-a389-78b32d746cf5",
       "rows": [
        [
         "0",
         "GIST-001_CT",
         "v3.0.1",
         "1.24.4",
         "2.5.0.dev",
         "1.4.1",
         "3.8.20",
         "{'minimumROIDimensions': 2, 'minimumROISize': None, 'normalize': True, 'normalizeScale': 500, 'removeOutliers': None, 'resampledPixelSpacing': [1, 1, 1], 'interpolator': 'sitkBSpline', 'preCrop': False, 'padDistance': 5, 'distances': [1], 'force2D': False, 'force2Ddimension': 0, 'resegmentRange': None, 'label': 1, 'additionalInfo': True, 'binWidth': 25, 'voxelArrayShift': 1024}",
         "{'Original': {}}",
         "5c637760b10c85a50664384c6bffec559062fbae",
         "3D",
         "(0.781000018119812, 0.781000018119812, 3.0)",
         "(512, 512, 161)",
         "-749.5661603560359",
         "-2048.0",
         "1714.0",
         "95257947108bf895a632772a287202179bcd39df",
         "(0.781000018119812, 0.781000018119812, 3.0)",
         "(512, 512, 161)",
         "(183, 84, 78, 239, 229, 67)",
         "1464862",
         "1",
         "(310.81238778806465, 199.14986053293757, 107.93321896533598)",
         "(43.13518178828585, -44.07325402127242, 1580.799656896008)",
         "(1.0, 1.0, 1.0)",
         "(199, 191, 213)",
         "434.0400458623158",
         "-226.3056373689052",
         "1340.8744721326348",
         "(1.0, 1.0, 1.0)",
         "(199, 191, 213)",
         "(6, 6, 7, 187, 178, 201)",
         "2680344",
         "1",
         "(105.64391100545303, 95.43591009213743, 97.7946450157144)",
         "(43.14411229033844, -44.06388862297716, 1580.7946450157144)",
         "481.0851381250311",
         "153.49422223490635",
         "894.3172730241821",
         "0.9298843374855017",
         "0.69718987263295",
         "125.74205445289483",
         "180.35553783652614",
         "212.55822731665788",
         "204.71443525066815",
         "200.3696583817021",
         "215.04185639079662",
         "2680008.5416666665",
         "167.70978981295943",
         "0.6820137623327431",
         "136809.1374982708",
         "0.05104802293398318",
         "2680344.0",
         "464.6942324119768",
         "502.2834366727056",
         "6072357109914.534",
         "1.501891725959357",
         "18.562037968257187",
         "6.298152780701887",
         "894.3172730241821",
         "11.73971663326885",
         "481.0851381250311",
         "478.51616740824744",
         "153.49422223490635",
         "740.8230507892757",
         "7.875628176753827",
         "1505.1624810722697",
         "0.639111508968064",
         "6072357109914.534",
         "0.400170333985691",
         "232.82142278601273",
         "188.9586590102081",
         "13.73547709284939",
         "9.336610417066478",
         "1.1414299441726334",
         "1.548372824181636",
         "0.36706468345118587",
         "0.6163119961757693",
         "0.3516861540835578",
         "0.9610139287794901",
         "0.23879589377777555",
         "0.21531220464066791",
         "2.5959765508960118",
         "-0.24566673878918277",
         "0.7059926727183765",
         "0.8256356628736714",
         "0.9995928332230021",
         "0.8264352841204106",
         "0.9886704868787297",
         "0.34051101980798565",
         "0.3315985958465687",
         "2.20378516599554",
         "0.47885937690820524",
         "356569.74689514784",
         "0.3728768699441834",
         "0.6012947390582484",
         "190.06283846007938",
         "16.99261508379429",
         "3197.259030247839",
         "0.0910978656532717",
         "0.005331326169922716",
         "4.268965532109019",
         "228466.8067808543",
         "0.22980911111569824",
         "0.3560317114290037",
         "7.440943950033466",
         "0.4472833897233812",
         "85.27753858966648",
         "0.0023860637328808666",
         "2030.526701997554",
         "0.20694320240496883",
         "3.44926247160436",
         "183.96157766000815",
         "288271833.5077456",
         "54009377614.13565",
         "1547845.584675063",
         "0.006053818858928081",
         "1734.520587036282",
         "0.1767754369176806",
         "0.4005938006740708",
         "71.90744955977826",
         "0.0025395962475377506",
         "5.878522163513961",
         "0.0036607241458559052",
         "288197211.66107285",
         "5.8552041482916035",
         "139142.4658260283",
         "0.051912167179297995",
         "29.613201016846368",
         "1072594.153676543",
         "0.4939000450086121",
         "189.19088408055086",
         "344.43347794163736",
         "64897.28839320625",
         "1.8440546653661518",
         "0.005341696934596667",
         "0.0073705581671237525",
         "1.3800668962790514",
         "4.1280993673504025e-05",
         "500.41232993825463",
         "2.9471047371437e-06",
         "124.14949555285968",
         "0.000464109327959359",
         "0.004171448544392873",
         "GIST-001_CT",
         "U",
         null,
         null,
         null,
         "70",
         "M",
         "GIST",
         "GIST",
         "1",
         "GIST",
         null,
         "1.0"
        ],
        [
         "1",
         "GIST-002_CT",
         "v3.0.1",
         "1.24.4",
         "2.5.0.dev",
         "1.4.1",
         "3.8.20",
         "{'minimumROIDimensions': 2, 'minimumROISize': None, 'normalize': True, 'normalizeScale': 500, 'removeOutliers': None, 'resampledPixelSpacing': [1, 1, 1], 'interpolator': 'sitkBSpline', 'preCrop': False, 'padDistance': 5, 'distances': [1], 'force2D': False, 'force2Ddimension': 0, 'resegmentRange': None, 'label': 1, 'additionalInfo': True, 'binWidth': 25, 'voxelArrayShift': 1024}",
         "{'Original': {}}",
         "b3318c749240991216db44d1623f03545ebcaf16",
         "3D",
         "(0.8046875, 0.8046875, 3.0000152587890625)",
         "(512, 512, 157)",
         "-458.0013601704008",
         "-1024.0",
         "3070.0",
         "3f0d2af8698aedb1818ccccb3fba769c0d588dc1",
         "(0.8046875, 0.8046875, 3.0000152587890625)",
         "(512, 512, 157)",
         "(236, 209, 39, 90, 96, 27)",
         "111528",
         "1",
         "(283.03870776845275, 255.26934043468904, 51.89998924037013)",
         "(10.160053907426828, -177.68560886896117, 411.40075660034074)",
         "(1.0, 1.0, 1.0)",
         "(84, 90, 93)",
         "474.03509336920206",
         "-486.16244307406726",
         "1575.5715772303083",
         "(1.0, 1.0, 1.0)",
         "(84, 90, 93)",
         "(6, 6, 7, 72, 77, 81)",
         "216567",
         "1",
         "(43.66917397387414, 43.346479380515035, 46.70352823837427)",
         "(10.169173973874138, -177.65352061948496, 411.4035175572219)",
         "516.5430891232894",
         "356.27266065300023",
         "959.1726360346323",
         "0.8259414914137989",
         "0.7435695329015007",
         "58.73486009634802",
         "78.9904070802327",
         "89.05054744357274",
         "88.63972021616495",
         "75.8023746329889",
         "90.24411338142782",
         "216460.70833333334",
         "65.2414546312305",
         "0.7497822806402322",
         "23252.429448695806",
         "0.10742101708772384",
         "216567.0",
         "478.9566412110498",
         "544.69950766607",
         "514173012673.60126",
         "2.133347394059829",
         "27.659531414351136",
         "10.758096599264782",
         "959.1726360346323",
         "21.044932342947913",
         "516.5430891232894",
         "521.9080884901208",
         "356.27266065300023",
         "602.8999753816321",
         "12.158539078752128",
         "1540.8433871025777",
         "-0.6325041161850421",
         "514173012673.60126",
         "0.2984197211967045",
         "925.3341322161858",
         "53.325836760131295",
         "7.24374202418078",
         "217.92411551786228",
         "-5.654557238199493",
         "4.383302061101403",
         "0.9687287114429487",
         "0.6353166644796283",
         "0.652717490359167",
         "1.4042713941525233",
         "0.5296054622197419",
         "0.12688514334725118",
         "3.7269170626317916",
         "-0.17678193301616496",
         "0.694276161689317",
         "0.7017941945633063",
         "0.9984711731052858",
         "0.7140655866384678",
         "0.9753211310659112",
         "0.46807312846043325",
         "0.2089710162332845",
         "2.815437947750312",
         "1.3380076931360878",
         "29516.242813677276",
         "0.244057821128172",
         "2.127549099280485",
         "51.46501872937176",
         "6.157714466386772",
         "336.98843020725536",
         "0.12585429147726962",
         "0.025666809638080247",
         "4.10764743246328",
         "51389.202800125895",
         "0.4177002498601423",
         "0.5546434199968672",
         "2.448969953040776",
         "0.663110277939335",
         "33.459195002339825",
         "0.018473621231805577",
         "609.1561253561254",
         "0.17354875366271377",
         "10.89816316426003",
         "59.46039886039886",
         "3888186.980911681",
         "217077523.64928776",
         "71556.52556437512",
         "0.05581075144018379",
         "613.7270655270655",
         "0.1748510158196768",
         "0.3855875909287498",
         "23.91796033280047",
         "0.02542426729955251",
         "6.263296316355176",
         "0.01620745542949757",
         "3884380.090911681",
         "6.2658711676627785",
         "10638.709715699992",
         "0.04912433434318244",
         "30.194604273655273",
         "64627.86376040671",
         "1.562613466180113",
         "52.88120997197172",
         "188.4326651798289",
         "10441.656886783305",
         "3.626122868480774",
         "0.023145488353540456",
         "0.02337444541481427",
         "1.2545680743525942",
         "0.0009658933540990896",
         "87.41275717914898",
         "3.6528307861574585e-05",
         "187.74058757292627",
         "0.0026127403634049343",
         "0.04033108151666235",
         "GIST-002_CT",
         "U",
         null,
         null,
         null,
         "77",
         "M",
         "GIST",
         "non-GIST",
         "0",
         "Schwannoma",
         null,
         "1.0"
        ],
        [
         "2",
         "GIST-003_CT",
         "v3.0.1",
         "1.24.4",
         "2.5.0.dev",
         "1.4.1",
         "3.8.20",
         "{'minimumROIDimensions': 2, 'minimumROISize': None, 'normalize': True, 'normalizeScale': 500, 'removeOutliers': None, 'resampledPixelSpacing': [1, 1, 1], 'interpolator': 'sitkBSpline', 'preCrop': False, 'padDistance': 5, 'distances': [1], 'force2D': False, 'force2Ddimension': 0, 'resegmentRange': None, 'label': 1, 'additionalInfo': True, 'binWidth': 25, 'voxelArrayShift': 1024}",
         "{'Original': {}}",
         "1cfd3973cf84fe61456ec70b81bd5d54526d7f8f",
         "3D",
         "(0.802734375, 0.802734375, 3.0)",
         "(512, 512, 223)",
         "-481.2761531539027",
         "-1024.0",
         "3050.0",
         "90751da01f887a91781e2682bab45f2683b01650",
         "(0.802734375, 0.802734375, 3.0)",
         "(512, 512, 223)",
         "(229, 285, 16, 47, 47, 12)",
         "12100",
         "1",
         "(249.9701652892562, 305.8628099173554, 21.971239669421486)",
         "(-10.438988410382251, -128.07204125774794, -4.186279465856643)",
         "(1.0, 1.0, 1.0)",
         "(50, 50, 48)",
         "474.92395542364983",
         "-563.6816419336755",
         "1916.6034888056406",
         "(1.0, 1.0, 1.0)",
         "(50, 50, 48)",
         "(6, 6, 7, 38, 38, 36)",
         "23379",
         "1",
         "(22.55216219684332, 22.42166046451944, 25.93378673168228)",
         "(-10.44783780315668, -128.07833953548052, -4.166211742438815)",
         "530.0715537961406",
         "259.2549287251451",
         "643.6019680438324",
         "0.7931634933533508",
         "0.625782681271359",
         "25.769432864856363",
         "41.17952387640771",
         "42.720018726587654",
         "48.16637831516918",
         "40.22437072223753",
         "51.12729212465687",
         "23330.958333333332",
         "32.66209501243925",
         "0.7096088239645836",
         "5564.423412269987",
         "0.23849956494586003",
         "23379.0",
         "499.7117566241215",
         "561.7849387963361",
         "56480518462.49432",
         "2.126230499584156",
         "31.76425576425936",
         "9.96189202820296",
         "643.6019680438324",
         "19.956273774830485",
         "530.0715537961406",
         "530.895344988638",
         "259.2549287251451",
         "384.3470393186873",
         "13.262331369518117",
         "1554.3054572941496",
         "-1.1418621103585262",
         "56480518462.49432",
         "0.27874241749307127",
         "727.0602560244084",
         "137.95314825149674",
         "11.727119509647103",
         "75.0208085546638",
         "-4.153065266223203",
         "3.07362651097894",
         "1.3628145158992393",
         "0.38250381905940034",
         "0.8187541695783356",
         "1.5796356697167604",
         "0.6661795843170621",
         "0.09490280080634121",
         "3.9632096471393607",
         "-0.08185325635172365",
         "0.4560664807423687",
         "0.6409375316119884",
         "0.994825527470359",
         "0.6627540207480414",
         "0.953511532321197",
         "0.4896020480261628",
         "0.1802263542742174",
         "2.7837631002651273",
         "1.109110256719545",
         "3754.525657475126",
         "0.24869391283718006",
         "1.5603500286910974",
         "137.79468739213084",
         "3.9301622797758924",
         "543.7151608526394",
         "0.02962738716825515",
         "0.008009626449536995",
         "3.6934239726785836",
         "7676.284971314749",
         "0.4962482600170745",
         "0.6446909948770594",
         "1.2283151713568978",
         "0.7222086887232209",
         "99.20044125554617",
         "0.00594647674192296",
         "108.73809523809524",
         "0.16181264172335602",
         "7.106071074263038",
         "124.27380952380952",
         "212771.85267857142",
         "29540097.76488095",
         "1549.5570235657628",
         "0.014873319456676793",
         "129.27678571428572",
         "0.19237616921768708",
         "0.4219401919650688",
         "50.66285393221325",
         "0.007790432551843333",
         "5.933243815346905",
         "0.028743744385987424",
         "211561.4961535395",
         "6.094941235159014",
         "1360.7180375550709",
         "0.058202576566793736",
         "21.825242313561816",
         "6516.718978570512",
         "1.2484070090236274",
         "138.1461140339621",
         "126.64258522605758",
         "17544.669318619275",
         "0.931027329902927",
         "0.007779420863805575",
         "0.03524042390380594",
         "4.5808590822300825",
         "0.0004255388692012966",
         "10.904979241459175",
         "0.0003081614686967665",
         "87.63804951534112",
         "0.006508095733036432",
         "0.07163587554244136",
         "GIST-003_CT",
         "U",
         null,
         null,
         null,
         "65",
         "M",
         "GIST",
         "GIST",
         "1",
         "GIST",
         null,
         "1.0"
        ],
        [
         "3",
         "GIST-004_CT",
         "v3.0.1",
         "1.24.4",
         "2.5.0.dev",
         "1.4.1",
         "3.8.20",
         "{'minimumROIDimensions': 2, 'minimumROISize': None, 'normalize': True, 'normalizeScale': 500, 'removeOutliers': None, 'resampledPixelSpacing': [1, 1, 1], 'interpolator': 'sitkBSpline', 'preCrop': False, 'padDistance': 5, 'distances': [1], 'force2D': False, 'force2Ddimension': 0, 'resegmentRange': None, 'label': 1, 'additionalInfo': True, 'binWidth': 25, 'voxelArrayShift': 1024}",
         "{'Original': {}}",
         "2b733ee63c64529c3def603ca69bee2c784fc59f",
         "3D",
         "(0.841796875, 0.841796875, 5.0)",
         "(512, 512, 87)",
         "-551.5918141946025",
         "-1024.0",
         "1460.0",
         "081f13b29dae8d8c292db34a19f68f78dff371da",
         "(0.841796875, 0.841796875, 5.0)",
         "(512, 512, 87)",
         "(135, 276, 38, 65, 57, 12)",
         "19192",
         "1",
         "(167.2431221342226, 304.8939141308879, 43.46211963318049)",
         "(-74.71526242216808, 161.15874412189976, 263.2105615448087)",
         "(1.0, 1.0, 1.0)",
         "(66, 60, 72)",
         "549.3692333426795",
         "385.7347219799503",
         "1603.3785690777408",
         "(1.0, 1.0, 1.0)",
         "(66, 60, 72)",
         "(6, 6, 8, 54, 48, 60)",
         "67965",
         "1",
         "(32.720297211800194, 30.566468035018023, 37.31700139777827)",
         "(-74.70060122569981, 161.14556959751803, 263.2169647766845)",
         "575.6623026517352",
         "441.03948268780346",
         "746.7096161531286",
         "0.5900106354347932",
         "0.5753680709325231",
         "37.59540248746725",
         "65.34148206474997",
         "70.7248188403477",
         "60.83584469702052",
         "52.80151512977634",
         "81.14185110040317",
         "67900.33333333333",
         "38.55216935327427",
         "0.7496661389671652",
         "10736.535564084736",
         "0.15812198610833628",
         "67965.0",
         "548.8939300233409",
         "602.0531919802105",
         "173953082430.9187",
         "1.942123348296968",
         "26.73602609073737",
         "5.256670931484408",
         "746.7096161531286",
         "17.24984181583808",
         "575.6623026517352",
         "577.1607311319624",
         "441.03948268780346",
         "305.6701334653252",
         "11.207951447542193",
         "1599.8284063016363",
         "-0.6910154509578572",
         "173953082430.9187",
         "0.3202712737739736",
         "531.4470845815379",
         "43.64750228299919",
         "6.573675242235665",
         "34.748058983943835",
         "-2.4007915532301443",
         "2.5321529524838247",
         "0.7958079064613544",
         "0.5189665715132387",
         "0.610900221640199",
         "1.3100652549497478",
         "0.4026794812197986",
         "0.1343645777907917",
         "3.4801322807043578",
         "-0.14567009258389232",
         "0.5948271809308824",
         "0.7129841037501704",
         "0.9953653649918326",
         "0.7235887055962386",
         "0.9572316502505037",
         "0.4655124251990989",
         "0.23450305075597763",
         "2.628820686044182",
         "0.8319902147362949",
         "10336.195717668954",
         "0.2749739600516407",
         "1.203958170664148",
         "42.772741154942615",
         "6.852112585693264",
         "303.07271885656394",
         "0.1662892125293886",
         "0.02742772079731715",
         "3.8988818894257005",
         "15471.244760799542",
         "0.39797807531784407",
         "0.5496403691945515",
         "2.6783174131742085",
         "0.639135770322202",
         "26.92118573055017",
         "0.01847454253888591",
         "160.7675033025099",
         "0.21237450898614255",
         "4.4769155866252275",
         "37.31571994715984",
         "1880470.3342140026",
         "82822370.24174373",
         "43861.73640018179",
         "0.051521823154508775",
         "80.14134742404227",
         "0.10586703754827248",
         "0.28801341455228724",
         "9.258529811827085",
         "0.018874517096034122",
         "6.309210246831163",
         "0.011138085779445302",
         "1872409.5205226778",
         "6.097806898780375",
         "3554.4428308688293",
         "0.052298136259381",
         "27.170021449572598",
         "21767.237122048115",
         "0.929925512604075",
         "43.49928639741043",
         "188.69760906348856",
         "8399.06238505113",
         "4.457520922617599",
         "0.02585921573544395",
         "0.018097123357119584",
         "0.7163803597762562",
         "0.0006919603612849133",
         "64.00968435591372",
         "0.00011772631338440808",
         "37.65407949236803",
         "0.005584216832210462",
         "0.012378388356288385",
         "GIST-004_CT",
         "U",
         null,
         null,
         null,
         "65",
         "M",
         "GIST",
         "non-GIST",
         "0",
         "Schwannoma",
         null,
         "1.0"
        ],
        [
         "4",
         "GIST-005_CT",
         "v3.0.1",
         "1.24.4",
         "2.5.0.dev",
         "1.4.1",
         "3.8.20",
         "{'minimumROIDimensions': 2, 'minimumROISize': None, 'normalize': True, 'normalizeScale': 500, 'removeOutliers': None, 'resampledPixelSpacing': [1, 1, 1], 'interpolator': 'sitkBSpline', 'preCrop': False, 'padDistance': 5, 'distances': [1], 'force2D': False, 'force2Ddimension': 0, 'resegmentRange': None, 'label': 1, 'additionalInfo': True, 'binWidth': 25, 'voxelArrayShift': 1024}",
         "{'Original': {}}",
         "587739276b67478d100cae8edb9b8c301c992a08",
         "3D",
         "(0.859375, 0.859375, 3.0)",
         "(512, 512, 243)",
         "-592.4188750153215",
         "-1024.0",
         "3071.0",
         "fdc0a2c64a2e83a6a63b385e8995dba6e56faad1",
         "(0.859375, 0.859375, 3.0)",
         "(512, 512, 243)",
         "(272, 254, 123, 55, 55, 9)",
         "11907",
         "1",
         "(296.00167968421937, 281.40833123372806, 126.8573108255648)",
         "(36.806130978626015, -143.23502784601496, -93.42806752330563)",
         "(1.0, 1.0, 1.0)",
         "(59, 60, 39)",
         "668.7326469354159",
         "445.5687568520612",
         "1304.2744926751498",
         "(1.0, 1.0, 1.0)",
         "(59, 60, 39)",
         "(6, 6, 7, 47, 48, 27)",
         "26412",
         "1",
         "(26.254316219900044, 29.777828259881872, 19.607791912766924)",
         "(36.75431621990005, -143.22217174011814, -93.39220808723307)",
         "652.2093034119375",
         "514.0062836028083",
         "717.035169057494",
         "0.9685029476774805",
         "0.6604573812657599",
         "26.9869248012262",
         "40.86096327594375",
         "48.76474136094644",
         "43.829214001622255",
         "49.33558553417604",
         "51.22499389946279",
         "26359.5",
         "39.5739633776928",
         "0.6599417450809711",
         "6490.377673770324",
         "0.24622537126160676",
         "26412.0",
         "631.8170849655548",
         "672.3379653160089",
         "74217114219.7614",
         "1.5843875264432115",
         "20.672645809378423",
         "5.915374979927655",
         "717.035169057494",
         "13.010666247891347",
         "652.2093034119375",
         "653.2884190639128",
         "514.0062836028083",
         "203.0288854546858",
         "8.607321283908977",
         "1676.2986202357272",
         "-0.8532032151597578",
         "74217114219.7614",
         "0.3997663086840985",
         "299.4353594699",
         "43.947958444652016",
         "6.6144420777853945",
         "10.353281859282426",
         "-1.1400210779404993",
         "1.4140026458761843",
         "0.6256865620684238",
         "0.3843590662724677",
         "0.5246535989875377",
         "1.2026207298435436",
         "0.3400972046098002",
         "0.1896776990838286",
         "2.916872978564782",
         "-0.09528739115361799",
         "0.44887253693255763",
         "0.7477512608712391",
         "0.992471064312282",
         "0.7537787424659746",
         "0.948439380338367",
         "0.44299801396139526",
         "0.3221085504503639",
         "2.218988280160572",
         "0.509922301986152",
         "4665.913211674761",
         "0.3393270955578408",
         "0.7584412378719254",
         "43.32024975426214",
         "7.022016804608068",
         "314.80149318696436",
         "0.1629251337382182",
         "0.025295672633575978",
         "3.6523477764160726",
         "5281.836130351376",
         "0.37319732293227925",
         "0.5193472663940633",
         "2.6514091693014565",
         "0.6172184032644386",
         "26.49209411326781",
         "0.016192124006835798",
         "125.7281795511222",
         "0.31353660735940697",
         "3.3343200601986305",
         "42.38902743142145",
         "681553.1521197008",
         "30481065.167082295",
         "15564.517410861941",
         "0.03834623687380189",
         "55.96259351620947",
         "0.13955758981598373",
         "0.3220927508967947",
         "12.954767174466609",
         "0.014379679183970507",
         "5.428843021093782",
         "0.015182492806300166",
         "677214.9095465823",
         "5.753071659754523",
         "1287.991897622293",
         "0.048765405786093174",
         "31.050763201798436",
         "10558.62774496441",
         "0.5605033694224184",
         "43.95214296531879",
         "213.2189913675602",
         "9604.973572618506",
         "4.8643752642333205",
         "0.024270862362689535",
         "0.019245657065109285",
         "0.8121143925781905",
         "0.000628416062603955",
         "41.571286047834235",
         "0.00027128846137869123",
         "17.900530444190544",
         "0.0066315823533553316",
         "0.015594717860786655",
         "GIST-005_CT",
         "U",
         null,
         null,
         null,
         "26",
         "M",
         "GIST",
         "non-GIST",
         "0",
         "Lymphoma",
         null,
         "1.0"
        ]
       ],
       "shape": {
        "columns": 156,
        "rows": 5
       }
      },
      "text/html": [
       "<div>\n",
       "<style scoped>\n",
       "    .dataframe tbody tr th:only-of-type {\n",
       "        vertical-align: middle;\n",
       "    }\n",
       "\n",
       "    .dataframe tbody tr th {\n",
       "        vertical-align: top;\n",
       "    }\n",
       "\n",
       "    .dataframe thead th {\n",
       "        text-align: right;\n",
       "    }\n",
       "</style>\n",
       "<table border=\"1\" class=\"dataframe\">\n",
       "  <thead>\n",
       "    <tr style=\"text-align: right;\">\n",
       "      <th></th>\n",
       "      <th>PatientID</th>\n",
       "      <th>diagnostics_Versions_PyRadiomics</th>\n",
       "      <th>diagnostics_Versions_Numpy</th>\n",
       "      <th>diagnostics_Versions_SimpleITK</th>\n",
       "      <th>diagnostics_Versions_PyWavelet</th>\n",
       "      <th>diagnostics_Versions_Python</th>\n",
       "      <th>diagnostics_Configuration_Settings</th>\n",
       "      <th>diagnostics_Configuration_EnabledImageTypes</th>\n",
       "      <th>diagnostics_Image-original_Hash</th>\n",
       "      <th>diagnostics_Image-original_Dimensionality</th>\n",
       "      <th>...</th>\n",
       "      <th>YOB</th>\n",
       "      <th>Notes</th>\n",
       "      <th>Age</th>\n",
       "      <th>Sex</th>\n",
       "      <th>Dataset</th>\n",
       "      <th>Diagnosis</th>\n",
       "      <th>Diagnosis_binary</th>\n",
       "      <th>Phenotype</th>\n",
       "      <th>MR Sessions</th>\n",
       "      <th>CT Sessions</th>\n",
       "    </tr>\n",
       "  </thead>\n",
       "  <tbody>\n",
       "    <tr>\n",
       "      <th>0</th>\n",
       "      <td>GIST-001_CT</td>\n",
       "      <td>v3.0.1</td>\n",
       "      <td>1.24.4</td>\n",
       "      <td>2.5.0.dev</td>\n",
       "      <td>1.4.1</td>\n",
       "      <td>3.8.20</td>\n",
       "      <td>{'minimumROIDimensions': 2, 'minimumROISize': ...</td>\n",
       "      <td>{'Original': {}}</td>\n",
       "      <td>5c637760b10c85a50664384c6bffec559062fbae</td>\n",
       "      <td>3D</td>\n",
       "      <td>...</td>\n",
       "      <td>NaN</td>\n",
       "      <td>NaN</td>\n",
       "      <td>70</td>\n",
       "      <td>M</td>\n",
       "      <td>GIST</td>\n",
       "      <td>GIST</td>\n",
       "      <td>1</td>\n",
       "      <td>GIST</td>\n",
       "      <td>NaN</td>\n",
       "      <td>1.0</td>\n",
       "    </tr>\n",
       "    <tr>\n",
       "      <th>1</th>\n",
       "      <td>GIST-002_CT</td>\n",
       "      <td>v3.0.1</td>\n",
       "      <td>1.24.4</td>\n",
       "      <td>2.5.0.dev</td>\n",
       "      <td>1.4.1</td>\n",
       "      <td>3.8.20</td>\n",
       "      <td>{'minimumROIDimensions': 2, 'minimumROISize': ...</td>\n",
       "      <td>{'Original': {}}</td>\n",
       "      <td>b3318c749240991216db44d1623f03545ebcaf16</td>\n",
       "      <td>3D</td>\n",
       "      <td>...</td>\n",
       "      <td>NaN</td>\n",
       "      <td>NaN</td>\n",
       "      <td>77</td>\n",
       "      <td>M</td>\n",
       "      <td>GIST</td>\n",
       "      <td>non-GIST</td>\n",
       "      <td>0</td>\n",
       "      <td>Schwannoma</td>\n",
       "      <td>NaN</td>\n",
       "      <td>1.0</td>\n",
       "    </tr>\n",
       "    <tr>\n",
       "      <th>2</th>\n",
       "      <td>GIST-003_CT</td>\n",
       "      <td>v3.0.1</td>\n",
       "      <td>1.24.4</td>\n",
       "      <td>2.5.0.dev</td>\n",
       "      <td>1.4.1</td>\n",
       "      <td>3.8.20</td>\n",
       "      <td>{'minimumROIDimensions': 2, 'minimumROISize': ...</td>\n",
       "      <td>{'Original': {}}</td>\n",
       "      <td>1cfd3973cf84fe61456ec70b81bd5d54526d7f8f</td>\n",
       "      <td>3D</td>\n",
       "      <td>...</td>\n",
       "      <td>NaN</td>\n",
       "      <td>NaN</td>\n",
       "      <td>65</td>\n",
       "      <td>M</td>\n",
       "      <td>GIST</td>\n",
       "      <td>GIST</td>\n",
       "      <td>1</td>\n",
       "      <td>GIST</td>\n",
       "      <td>NaN</td>\n",
       "      <td>1.0</td>\n",
       "    </tr>\n",
       "    <tr>\n",
       "      <th>3</th>\n",
       "      <td>GIST-004_CT</td>\n",
       "      <td>v3.0.1</td>\n",
       "      <td>1.24.4</td>\n",
       "      <td>2.5.0.dev</td>\n",
       "      <td>1.4.1</td>\n",
       "      <td>3.8.20</td>\n",
       "      <td>{'minimumROIDimensions': 2, 'minimumROISize': ...</td>\n",
       "      <td>{'Original': {}}</td>\n",
       "      <td>2b733ee63c64529c3def603ca69bee2c784fc59f</td>\n",
       "      <td>3D</td>\n",
       "      <td>...</td>\n",
       "      <td>NaN</td>\n",
       "      <td>NaN</td>\n",
       "      <td>65</td>\n",
       "      <td>M</td>\n",
       "      <td>GIST</td>\n",
       "      <td>non-GIST</td>\n",
       "      <td>0</td>\n",
       "      <td>Schwannoma</td>\n",
       "      <td>NaN</td>\n",
       "      <td>1.0</td>\n",
       "    </tr>\n",
       "    <tr>\n",
       "      <th>4</th>\n",
       "      <td>GIST-005_CT</td>\n",
       "      <td>v3.0.1</td>\n",
       "      <td>1.24.4</td>\n",
       "      <td>2.5.0.dev</td>\n",
       "      <td>1.4.1</td>\n",
       "      <td>3.8.20</td>\n",
       "      <td>{'minimumROIDimensions': 2, 'minimumROISize': ...</td>\n",
       "      <td>{'Original': {}}</td>\n",
       "      <td>587739276b67478d100cae8edb9b8c301c992a08</td>\n",
       "      <td>3D</td>\n",
       "      <td>...</td>\n",
       "      <td>NaN</td>\n",
       "      <td>NaN</td>\n",
       "      <td>26</td>\n",
       "      <td>M</td>\n",
       "      <td>GIST</td>\n",
       "      <td>non-GIST</td>\n",
       "      <td>0</td>\n",
       "      <td>Lymphoma</td>\n",
       "      <td>NaN</td>\n",
       "      <td>1.0</td>\n",
       "    </tr>\n",
       "  </tbody>\n",
       "</table>\n",
       "<p>5 rows × 156 columns</p>\n",
       "</div>"
      ],
      "text/plain": [
       "     PatientID diagnostics_Versions_PyRadiomics diagnostics_Versions_Numpy  \\\n",
       "0  GIST-001_CT                           v3.0.1                     1.24.4   \n",
       "1  GIST-002_CT                           v3.0.1                     1.24.4   \n",
       "2  GIST-003_CT                           v3.0.1                     1.24.4   \n",
       "3  GIST-004_CT                           v3.0.1                     1.24.4   \n",
       "4  GIST-005_CT                           v3.0.1                     1.24.4   \n",
       "\n",
       "  diagnostics_Versions_SimpleITK diagnostics_Versions_PyWavelet  \\\n",
       "0                      2.5.0.dev                          1.4.1   \n",
       "1                      2.5.0.dev                          1.4.1   \n",
       "2                      2.5.0.dev                          1.4.1   \n",
       "3                      2.5.0.dev                          1.4.1   \n",
       "4                      2.5.0.dev                          1.4.1   \n",
       "\n",
       "  diagnostics_Versions_Python  \\\n",
       "0                      3.8.20   \n",
       "1                      3.8.20   \n",
       "2                      3.8.20   \n",
       "3                      3.8.20   \n",
       "4                      3.8.20   \n",
       "\n",
       "                  diagnostics_Configuration_Settings  \\\n",
       "0  {'minimumROIDimensions': 2, 'minimumROISize': ...   \n",
       "1  {'minimumROIDimensions': 2, 'minimumROISize': ...   \n",
       "2  {'minimumROIDimensions': 2, 'minimumROISize': ...   \n",
       "3  {'minimumROIDimensions': 2, 'minimumROISize': ...   \n",
       "4  {'minimumROIDimensions': 2, 'minimumROISize': ...   \n",
       "\n",
       "  diagnostics_Configuration_EnabledImageTypes  \\\n",
       "0                            {'Original': {}}   \n",
       "1                            {'Original': {}}   \n",
       "2                            {'Original': {}}   \n",
       "3                            {'Original': {}}   \n",
       "4                            {'Original': {}}   \n",
       "\n",
       "            diagnostics_Image-original_Hash  \\\n",
       "0  5c637760b10c85a50664384c6bffec559062fbae   \n",
       "1  b3318c749240991216db44d1623f03545ebcaf16   \n",
       "2  1cfd3973cf84fe61456ec70b81bd5d54526d7f8f   \n",
       "3  2b733ee63c64529c3def603ca69bee2c784fc59f   \n",
       "4  587739276b67478d100cae8edb9b8c301c992a08   \n",
       "\n",
       "  diagnostics_Image-original_Dimensionality  ... YOB Notes Age Sex Dataset  \\\n",
       "0                                        3D  ... NaN   NaN  70   M    GIST   \n",
       "1                                        3D  ... NaN   NaN  77   M    GIST   \n",
       "2                                        3D  ... NaN   NaN  65   M    GIST   \n",
       "3                                        3D  ... NaN   NaN  65   M    GIST   \n",
       "4                                        3D  ... NaN   NaN  26   M    GIST   \n",
       "\n",
       "  Diagnosis Diagnosis_binary   Phenotype MR Sessions CT Sessions  \n",
       "0      GIST                1        GIST         NaN         1.0  \n",
       "1  non-GIST                0  Schwannoma         NaN         1.0  \n",
       "2      GIST                1        GIST         NaN         1.0  \n",
       "3  non-GIST                0  Schwannoma         NaN         1.0  \n",
       "4  non-GIST                0    Lymphoma         NaN         1.0  \n",
       "\n",
       "[5 rows x 156 columns]"
      ]
     },
     "execution_count": 15,
     "metadata": {},
     "output_type": "execute_result"
    }
   ],
   "source": [
    "df_all.head()  # Display the first few rows of the aggregated dataframe"
   ]
  },
  {
   "cell_type": "markdown",
   "id": "7b608fbe",
   "metadata": {},
   "source": [
    "# 3. Análisis descriptivo de variables clínicas y radiómicas\n"
   ]
  },
  {
   "cell_type": "code",
   "execution_count": 16,
   "id": "341fddf9",
   "metadata": {},
   "outputs": [
    {
     "name": "stdout",
     "output_type": "stream",
     "text": [
      "Distribución de Edad:\n",
      "count    246.000000\n",
      "mean      60.760163\n",
      "std       13.608948\n",
      "min       18.000000\n",
      "25%       53.000000\n",
      "50%       62.000000\n",
      "75%       71.000000\n",
      "max       91.000000\n",
      "Name: Age, dtype: float64\n",
      "\n",
      "Distribución de Sexo:\n",
      "Sex\n",
      "M    123\n",
      "F    123\n",
      "Name: count, dtype: int64\n",
      "\n",
      "Distribución de Diagnosis:\n",
      "Diagnosis\n",
      "GIST        125\n",
      "non-GIST    121\n",
      "Name: count, dtype: int64\n",
      "\n",
      "Distribución de Diagnosis_binary:\n",
      "Diagnosis_binary\n",
      "1    125\n",
      "0    121\n",
      "Name: count, dtype: int64\n",
      "\n",
      "Distribución de Phenotype:\n",
      "Phenotype\n",
      "GIST                     125\n",
      "Leiomyosarcoma            25\n",
      "Gastricadenocarcinoma     25\n",
      "Leiomyoma                 25\n",
      "Schwannoma                23\n",
      "Lymphoma                  23\n",
      "Name: count, dtype: int64\n"
     ]
    }
   ],
   "source": [
    "# Variables clínicas: distribución de edad, sexo y variables relevantes\n",
    "clinical_vars = ['Age', 'Sex', 'Diagnosis', 'Diagnosis_binary', 'Phenotype']\n",
    "\n",
    "# Estadísticas descriptivas para la edad\n",
    "edad_desc = df_all['Age'].describe()\n",
    "print('Distribución de Edad:')\n",
    "print(edad_desc)\n",
    "\n",
    "# Distribución de sexo\n",
    "sexo_counts = df_all['Sex'].value_counts(dropna=False)\n",
    "print('\\nDistribución de Sexo:')\n",
    "print(sexo_counts)\n",
    "\n",
    "# Distribución de Diagnosis, Diagnosis_binary y Phenotype\n",
    "for var in ['Diagnosis', 'Diagnosis_binary', 'Phenotype']:\n",
    "    print(f\"\\nDistribución de {var}:\")\n",
    "    print(df_all[var].value_counts(dropna=False))"
   ]
  },
  {
   "cell_type": "markdown",
   "id": "d31f1c25",
   "metadata": {},
   "source": [
    "Ahora se resumen estadísticamente las principales variables radiómicas extraídas (media, mediana, desviación estándar, mínimo y máximo). Se excluyen las columnas clínicas y de diagnóstico."
   ]
  },
  {
   "cell_type": "code",
   "execution_count": 19,
   "id": "2b75052f",
   "metadata": {},
   "outputs": [
    {
     "name": "stdout",
     "output_type": "stream",
     "text": [
      "Columnas candidatas a radiómicas y su tipo:\n",
      "original_shape_Elongation                  object\n",
      "original_shape_Flatness                    object\n",
      "original_shape_LeastAxisLength             object\n",
      "original_shape_MajorAxisLength             object\n",
      "original_shape_Maximum2DDiameterColumn     object\n",
      "                                           ...   \n",
      "original_ngtdm_Complexity                  object\n",
      "original_ngtdm_Contrast                    object\n",
      "original_ngtdm_Strength                    object\n",
      "M/F                                        object\n",
      "Hand                                      float64\n",
      "Length: 107, dtype: object\n",
      "\n",
      "Primeros valores de cada columna candidata:\n",
      "  original_shape_Elongation original_shape_Flatness  \\\n",
      "0                  0.929884                 0.69719   \n",
      "1                  0.825941                 0.74357   \n",
      "2                  0.793163                0.625783   \n",
      "3                  0.590011                0.575368   \n",
      "4                  0.968503                0.660457   \n",
      "\n",
      "  original_shape_LeastAxisLength original_shape_MajorAxisLength  \\\n",
      "0                     125.742054                     180.355538   \n",
      "1                       58.73486                      78.990407   \n",
      "2                      25.769433                      41.179524   \n",
      "3                      37.595402                      65.341482   \n",
      "4                      26.986925                      40.860963   \n",
      "\n",
      "  original_shape_Maximum2DDiameterColumn original_shape_Maximum2DDiameterRow  \\\n",
      "0                     212.55822731665788                  204.71443525066815   \n",
      "1                      89.05054744357274                   88.63972021616495   \n",
      "2                     42.720018726587654                   48.16637831516918   \n",
      "3                       70.7248188403477                   60.83584469702052   \n",
      "4                      48.76474136094644                  43.829214001622255   \n",
      "\n",
      "  original_shape_Maximum2DDiameterSlice original_shape_Maximum3DDiameter  \\\n",
      "0                     200.3696583817021               215.04185639079662   \n",
      "1                      75.8023746329889                90.24411338142782   \n",
      "2                     40.22437072223753                51.12729212465687   \n",
      "3                     52.80151512977634                81.14185110040317   \n",
      "4                     49.33558553417604                51.22499389946279   \n",
      "\n",
      "  original_shape_MeshVolume original_shape_MinorAxisLength  ...  \\\n",
      "0        2680008.5416666665                      167.70979  ...   \n",
      "1        216460.70833333334                      65.241455  ...   \n",
      "2        23330.958333333332                      32.662095  ...   \n",
      "3         67900.33333333333                      38.552169  ...   \n",
      "4                   26359.5                      39.573963  ...   \n",
      "\n",
      "  original_gldm_SmallDependenceEmphasis  \\\n",
      "0                 0.0073705581671237525   \n",
      "1                   0.02337444541481427   \n",
      "2                   0.03524042390380594   \n",
      "3                  0.018097123357119584   \n",
      "4                  0.019245657065109285   \n",
      "\n",
      "  original_gldm_SmallDependenceHighGrayLevelEmphasis  \\\n",
      "0                                 1.3800668962790514   \n",
      "1                                 1.2545680743525942   \n",
      "2                                 4.5808590822300825   \n",
      "3                                 0.7163803597762562   \n",
      "4                                 0.8121143925781905   \n",
      "\n",
      "  original_gldm_SmallDependenceLowGrayLevelEmphasis original_ngtdm_Busyness  \\\n",
      "0                            4.1280993673504025e-05      500.41232993825463   \n",
      "1                             0.0009658933540990896       87.41275717914898   \n",
      "2                             0.0004255388692012966      10.904979241459175   \n",
      "3                             0.0006919603612849133       64.00968435591372   \n",
      "4                              0.000628416062603955      41.571286047834235   \n",
      "\n",
      "  original_ngtdm_Coarseness original_ngtdm_Complexity original_ngtdm_Contrast  \\\n",
      "0       2.9471047371437e-06        124.14949555285968    0.000464109327959359   \n",
      "1    3.6528307861574585e-05        187.74058757292627   0.0026127403634049343   \n",
      "2     0.0003081614686967665         87.63804951534112    0.006508095733036432   \n",
      "3    0.00011772631338440808         37.65407949236803    0.005584216832210462   \n",
      "4    0.00027128846137869123        17.900530444190544   0.0066315823533553316   \n",
      "\n",
      "  original_ngtdm_Strength M/F Hand  \n",
      "0    0.004171448544392873   U  NaN  \n",
      "1     0.04033108151666235   U  NaN  \n",
      "2     0.07163587554244136   U  NaN  \n",
      "3    0.012378388356288385   U  NaN  \n",
      "4    0.015594717860786655   U  NaN  \n",
      "\n",
      "[5 rows x 107 columns]\n"
     ]
    }
   ],
   "source": [
    "# Mostrar nombres y tipos de columnas candidatas a radiómicas\n",
    "exclude_cols = ['PatientID', 'Age', 'Sex', 'Diagnosis', 'Diagnosis_binary', 'Phenotype', 'Subject', 'Dataset', 'Notes', 'YOB', 'MR Sessions', 'CT Sessions']\n",
    "exclude_cols += [col for col in df_all.columns if col.startswith('diagnostics_')]\n",
    "\n",
    "radiomic_cols = [col for col in df_all.columns if col not in exclude_cols]\n",
    "\n",
    "print('Columnas candidatas a radiómicas y su tipo:')\n",
    "print(df_all[radiomic_cols].dtypes)\n",
    "\n",
    "print('\\nPrimeros valores de cada columna candidata:')\n",
    "print(df_all[radiomic_cols].head())"
   ]
  },
  {
   "cell_type": "markdown",
   "id": "062b873f",
   "metadata": {},
   "source": [
    "### Análisis exploratorio de las variables radiómicas\n",
    "A continuación se realiza un análisis exploratorio de las variables radiómicas numéricas extraídas, incluyendo:\n",
    "- Estadísticos descriptivos (media, mediana, desviación estándar, mínimo, máximo)\n",
    "- Histograma de la distribución de valores para las 5 features más variables\n",
    "- Matriz de correlación entre las principales features"
   ]
  },
  {
   "cell_type": "code",
   "execution_count": 22,
   "id": "4b1dc454",
   "metadata": {},
   "outputs": [
    {
     "name": "stdout",
     "output_type": "stream",
     "text": [
      "Estadísticos descriptivos de las variables radiómicas numéricas:\n"
     ]
    },
    {
     "data": {
      "application/vnd.microsoft.datawrangler.viewer.v0+json": {
       "columns": [
        {
         "name": "index",
         "rawType": "object",
         "type": "string"
        },
        {
         "name": "mean",
         "rawType": "float64",
         "type": "float"
        },
        {
         "name": "median",
         "rawType": "float64",
         "type": "float"
        },
        {
         "name": "std",
         "rawType": "float64",
         "type": "float"
        },
        {
         "name": "min",
         "rawType": "float64",
         "type": "float"
        },
        {
         "name": "max",
         "rawType": "float64",
         "type": "float"
        }
       ],
       "ref": "81fc2ae7-0f60-46d3-947c-3e6b256aa8a0",
       "rows": [
        [
         "original_shape_VoxelVolume",
         "408684.2479674797",
         "91342.5",
         "933806.804408435",
         "708.0",
         "7930040.0"
        ],
        [
         "original_shape_MajorAxisLength",
         "88.06941728006832",
         "71.06251491934782",
         "56.555991240644495",
         "12.44574833492622",
         "322.87243297991176"
        ],
        [
         "original_shape_MinorAxisLength",
         "65.51816846566228",
         "54.55915238152414",
         "41.00576480225518",
         "10.674467343702227",
         "213.68982761143138"
        ],
        [
         "original_shape_LeastAxisLength",
         "44.36274464985323",
         "36.196069617279704",
         "33.05023639134307",
         "2.9762101759541393",
         "182.97929742854333"
        ],
        [
         "original_shape_Flatness",
         "0.5374496452894356",
         "0.5952315501877253",
         "0.218526783426353",
         "0.05510907547256089",
         "0.9294379179654594"
        ],
        [
         "original_shape_Elongation",
         "0.7637147853588211",
         "0.7902462801040566",
         "0.13591002894260276",
         "0.26996498427193794",
         "0.9874094012223356"
        ],
        [
         "M/F",
         null,
         null,
         null,
         null,
         null
        ],
        [
         "Hand",
         null,
         null,
         null,
         null,
         null
        ]
       ],
       "shape": {
        "columns": 5,
        "rows": 8
       }
      },
      "text/html": [
       "<div>\n",
       "<style scoped>\n",
       "    .dataframe tbody tr th:only-of-type {\n",
       "        vertical-align: middle;\n",
       "    }\n",
       "\n",
       "    .dataframe tbody tr th {\n",
       "        vertical-align: top;\n",
       "    }\n",
       "\n",
       "    .dataframe thead th {\n",
       "        text-align: right;\n",
       "    }\n",
       "</style>\n",
       "<table border=\"1\" class=\"dataframe\">\n",
       "  <thead>\n",
       "    <tr style=\"text-align: right;\">\n",
       "      <th></th>\n",
       "      <th>mean</th>\n",
       "      <th>median</th>\n",
       "      <th>std</th>\n",
       "      <th>min</th>\n",
       "      <th>max</th>\n",
       "    </tr>\n",
       "  </thead>\n",
       "  <tbody>\n",
       "    <tr>\n",
       "      <th>original_shape_VoxelVolume</th>\n",
       "      <td>408684.247967</td>\n",
       "      <td>91342.500000</td>\n",
       "      <td>933806.804408</td>\n",
       "      <td>708.000000</td>\n",
       "      <td>7.930040e+06</td>\n",
       "    </tr>\n",
       "    <tr>\n",
       "      <th>original_shape_MajorAxisLength</th>\n",
       "      <td>88.069417</td>\n",
       "      <td>71.062515</td>\n",
       "      <td>56.555991</td>\n",
       "      <td>12.445748</td>\n",
       "      <td>3.228724e+02</td>\n",
       "    </tr>\n",
       "    <tr>\n",
       "      <th>original_shape_MinorAxisLength</th>\n",
       "      <td>65.518168</td>\n",
       "      <td>54.559152</td>\n",
       "      <td>41.005765</td>\n",
       "      <td>10.674467</td>\n",
       "      <td>2.136898e+02</td>\n",
       "    </tr>\n",
       "    <tr>\n",
       "      <th>original_shape_LeastAxisLength</th>\n",
       "      <td>44.362745</td>\n",
       "      <td>36.196070</td>\n",
       "      <td>33.050236</td>\n",
       "      <td>2.976210</td>\n",
       "      <td>1.829793e+02</td>\n",
       "    </tr>\n",
       "    <tr>\n",
       "      <th>original_shape_Flatness</th>\n",
       "      <td>0.537450</td>\n",
       "      <td>0.595232</td>\n",
       "      <td>0.218527</td>\n",
       "      <td>0.055109</td>\n",
       "      <td>9.294379e-01</td>\n",
       "    </tr>\n",
       "    <tr>\n",
       "      <th>original_shape_Elongation</th>\n",
       "      <td>0.763715</td>\n",
       "      <td>0.790246</td>\n",
       "      <td>0.135910</td>\n",
       "      <td>0.269965</td>\n",
       "      <td>9.874094e-01</td>\n",
       "    </tr>\n",
       "    <tr>\n",
       "      <th>M/F</th>\n",
       "      <td>NaN</td>\n",
       "      <td>NaN</td>\n",
       "      <td>NaN</td>\n",
       "      <td>NaN</td>\n",
       "      <td>NaN</td>\n",
       "    </tr>\n",
       "    <tr>\n",
       "      <th>Hand</th>\n",
       "      <td>NaN</td>\n",
       "      <td>NaN</td>\n",
       "      <td>NaN</td>\n",
       "      <td>NaN</td>\n",
       "      <td>NaN</td>\n",
       "    </tr>\n",
       "  </tbody>\n",
       "</table>\n",
       "</div>"
      ],
      "text/plain": [
       "                                         mean        median            std  \\\n",
       "original_shape_VoxelVolume      408684.247967  91342.500000  933806.804408   \n",
       "original_shape_MajorAxisLength      88.069417     71.062515      56.555991   \n",
       "original_shape_MinorAxisLength      65.518168     54.559152      41.005765   \n",
       "original_shape_LeastAxisLength      44.362745     36.196070      33.050236   \n",
       "original_shape_Flatness              0.537450      0.595232       0.218527   \n",
       "original_shape_Elongation            0.763715      0.790246       0.135910   \n",
       "M/F                                       NaN           NaN            NaN   \n",
       "Hand                                      NaN           NaN            NaN   \n",
       "\n",
       "                                       min           max  \n",
       "original_shape_VoxelVolume      708.000000  7.930040e+06  \n",
       "original_shape_MajorAxisLength   12.445748  3.228724e+02  \n",
       "original_shape_MinorAxisLength   10.674467  2.136898e+02  \n",
       "original_shape_LeastAxisLength    2.976210  1.829793e+02  \n",
       "original_shape_Flatness           0.055109  9.294379e-01  \n",
       "original_shape_Elongation         0.269965  9.874094e-01  \n",
       "M/F                                    NaN           NaN  \n",
       "Hand                                   NaN           NaN  "
      ]
     },
     "metadata": {},
     "output_type": "display_data"
    },
    {
     "data": {
      "image/png": "[encoded data removed]",
      "text/plain": [
       "<Figure size 2000x400 with 5 Axes>"
      ]
     },
     "metadata": {},
     "output_type": "display_data"
    },
    {
     "data": {
      "image/png": "[encoded data removed]",
      "text/plain": [
       "<Figure size 1000x800 with 2 Axes>"
      ]
     },
     "metadata": {},
     "output_type": "display_data"
    }
   ],
   "source": [
    "import matplotlib.pyplot as plt\n",
    "import seaborn as sns\n",
    "\n",
    "# Selección de columnas radiómicas numéricas\n",
    "exclude_cols = ['PatientID', 'Age', 'Sex', 'Diagnosis', 'Diagnosis_binary', 'Phenotype', 'Subject', 'Dataset', 'Notes', 'YOB', 'MR Sessions', 'CT Sessions']\n",
    "exclude_cols += [col for col in df_all.columns if col.startswith('diagnostics_')]\n",
    "radiomic_cols = [col for col in df_all.columns if col not in exclude_cols]\n",
    "radiomic_numeric = df_all[radiomic_cols].apply(pd.to_numeric, errors='coerce')\n",
    "\n",
    "# Estadísticos descriptivos\n",
    "desc = radiomic_numeric.describe().T[['mean', '50%', 'std', 'min', 'max']].rename(columns={'50%': 'median'})\n",
    "desc_sorted = desc.sort_values('std', ascending=False)\n",
    "print('Estadísticos descriptivos de las variables radiómicas numéricas:')\n",
    "display(desc_sorted)\n",
    "\n",
    "# Seleccionar las 5 features más variables\n",
    "top5 = desc_sorted.head(5).index.tolist()\n",
    "\n",
    "# Histogramas\n",
    "fig, axs = plt.subplots(1, 5, figsize=(20, 4))\n",
    "for i, col in enumerate(top5):\n",
    "    sns.histplot(radiomic_numeric[col].dropna(), ax=axs[i], kde=True)\n",
    "    axs[i].set_title(col)\n",
    "plt.tight_layout()\n",
    "plt.show()\n",
    "\n",
    "# Matriz de correlación de las 10 features más variables\n",
    "top10 = desc_sorted.head(10).index.tolist()\n",
    "plt.figure(figsize=(10, 8))\n",
    "sns.heatmap(radiomic_numeric[top10].corr(), annot=True, cmap='coolwarm', fmt='.2f')\n",
    "plt.title('Matriz de correlación entre las 10 features radiómicas más variables')\n",
    "plt.show()"
   ]
  },
  {
   "cell_type": "markdown",
   "id": "03109ca4",
   "metadata": {},
   "source": [
    "Este análisis permite identificar la variabilidad, distribución y relaciones entre las principales variables radiómicas extraídas del dataset."
   ]
  },
  {
   "cell_type": "markdown",
   "id": "b8ab9714",
   "metadata": {},
   "source": [
    "### Distribución de las clases\n",
    "A continuación se analiza la variable objetivo (Diagnosis_binary), mostrando el número y porcentaje de casos por clase, y visualizando la distribución con gráficos de barras y pastel."
   ]
  },
  {
   "cell_type": "markdown",
   "id": "e27d6697",
   "metadata": {},
   "source": [
    "Este análisis muestra la distribución de la variable objetivo, tanto en número absoluto como en porcentaje, vemos que las dos clases estan bastante balanceadas aqui. "
   ]
  },
  {
   "cell_type": "markdown",
   "id": "a1d48723",
   "metadata": {},
   "source": [
    "### Relación entre Diagnosis y Diagnosis_binary\n",
    "A continuación se muestra una tabla cruzada y visualización conjunta de las variables Diagnosis y Diagnosis_binary para analizar la correspondencia entre ambas."
   ]
  },
  {
   "cell_type": "code",
   "execution_count": 24,
   "id": "63013e11",
   "metadata": {},
   "outputs": [
    {
     "name": "stdout",
     "output_type": "stream",
     "text": [
      "Tabla cruzada Diagnosis vs Diagnosis_binary:\n"
     ]
    },
    {
     "data": {
      "application/vnd.microsoft.datawrangler.viewer.v0+json": {
       "columns": [
        {
         "name": "Diagnosis",
         "rawType": "object",
         "type": "string"
        },
        {
         "name": "0",
         "rawType": "int64",
         "type": "integer"
        },
        {
         "name": "1",
         "rawType": "int64",
         "type": "integer"
        },
        {
         "name": "All",
         "rawType": "int64",
         "type": "integer"
        }
       ],
       "ref": "d1415c80-7897-489a-ad92-84e3891949d8",
       "rows": [
        [
         "GIST",
         "0",
         "125",
         "125"
        ],
        [
         "non-GIST",
         "121",
         "0",
         "121"
        ],
        [
         "All",
         "121",
         "125",
         "246"
        ]
       ],
       "shape": {
        "columns": 3,
        "rows": 3
       }
      },
      "text/html": [
       "<div>\n",
       "<style scoped>\n",
       "    .dataframe tbody tr th:only-of-type {\n",
       "        vertical-align: middle;\n",
       "    }\n",
       "\n",
       "    .dataframe tbody tr th {\n",
       "        vertical-align: top;\n",
       "    }\n",
       "\n",
       "    .dataframe thead th {\n",
       "        text-align: right;\n",
       "    }\n",
       "</style>\n",
       "<table border=\"1\" class=\"dataframe\">\n",
       "  <thead>\n",
       "    <tr style=\"text-align: right;\">\n",
       "      <th>Diagnosis_binary</th>\n",
       "      <th>0</th>\n",
       "      <th>1</th>\n",
       "      <th>All</th>\n",
       "    </tr>\n",
       "    <tr>\n",
       "      <th>Diagnosis</th>\n",
       "      <th></th>\n",
       "      <th></th>\n",
       "      <th></th>\n",
       "    </tr>\n",
       "  </thead>\n",
       "  <tbody>\n",
       "    <tr>\n",
       "      <th>GIST</th>\n",
       "      <td>0</td>\n",
       "      <td>125</td>\n",
       "      <td>125</td>\n",
       "    </tr>\n",
       "    <tr>\n",
       "      <th>non-GIST</th>\n",
       "      <td>121</td>\n",
       "      <td>0</td>\n",
       "      <td>121</td>\n",
       "    </tr>\n",
       "    <tr>\n",
       "      <th>All</th>\n",
       "      <td>121</td>\n",
       "      <td>125</td>\n",
       "      <td>246</td>\n",
       "    </tr>\n",
       "  </tbody>\n",
       "</table>\n",
       "</div>"
      ],
      "text/plain": [
       "Diagnosis_binary    0    1  All\n",
       "Diagnosis                      \n",
       "GIST                0  125  125\n",
       "non-GIST          121    0  121\n",
       "All               121  125  246"
      ]
     },
     "metadata": {},
     "output_type": "display_data"
    },
    {
     "data": {
      "image/png": "[encoded data removed]",
      "text/plain": [
       "<Figure size 800x500 with 1 Axes>"
      ]
     },
     "metadata": {},
     "output_type": "display_data"
    }
   ],
   "source": [
    "import seaborn as sns\n",
    "import matplotlib.pyplot as plt\n",
    "\n",
    "# Tabla cruzada\n",
    "cross_tab = pd.crosstab(df_all['Diagnosis'], df_all['Diagnosis_binary'], margins=True)\n",
    "print('Tabla cruzada Diagnosis vs Diagnosis_binary:')\n",
    "display(cross_tab)\n",
    "\n",
    "# Gráfico de barras agrupadas\n",
    "plt.figure(figsize=(8,5))\n",
    "sns.countplot(data=df_all, x='Diagnosis', hue='Diagnosis_binary', palette='Set2')\n",
    "plt.title('Distribución conjunta de Diagnosis y Diagnosis_binary')\n",
    "plt.xlabel('Diagnosis')\n",
    "plt.ylabel('Número de casos')\n",
    "plt.legend(title='Diagnosis_binary')\n",
    "plt.xticks(rotation=45)\n",
    "plt.tight_layout()\n",
    "plt.show()"
   ]
  },
  {
   "cell_type": "markdown",
   "id": "76595d14",
   "metadata": {},
   "source": [
    "A partir de la tabla cruzada entre Diagnosis y Diagnosis_binary, se pueden extraer las siguientes conclusiones:\n",
    "\n",
    "**Correspondencia perfecta entre variables:**\n",
    "- Todos los casos con Diagnosis = \"GIST\" tienen Diagnosis_binary = 1 (125 casos).\n",
    "- Todos los casos con Diagnosis = \"non-GIST\" tienen Diagnosis_binary = 0 (121 casos).\n",
    "- No hay casos con Diagnosis = \"GIST\" y Diagnosis_binary = 0, ni con Diagnosis = \"non-GIST\" y Diagnosis_binary = 1.\n",
    "\n",
    "**No hay discrepancias:**\n",
    "- No existen inconsistencias entre ambas variables. Diagnosis_binary es una codificación binaria directa de Diagnosis.\n",
    "\n",
    "**Distribución de clases:**\n",
    "- Hay 125 casos de GIST (50.8%) y 121 casos de non-GIST (49.2%), lo que indica un dataset balanceado entre ambas clases.\n",
    "\n",
    "**Conclusión:**\n",
    "Diagnosis_binary representa fielmente la variable Diagnosis, codificando \"GIST\" como 1 y \"non-GIST\" como 0. No hay errores de codificación ni casos ambiguos. El dataset es equilibrado, lo que es favorable para análisis estadísticos y modelos de clasificación."
   ]
  },
  {
   "cell_type": "markdown",
   "id": "e5974c87",
   "metadata": {},
   "source": [
    "# Correlación entre variables numéricas y la variable objetivo\n",
    "Se calcula la correlación de Spearman entre las variables numéricas (radiómicas y clínicas) y Diagnosis_binary. Se muestran las 10 variables más correlacionadas positiva y negativamente."
   ]
  },
  {
   "cell_type": "markdown",
   "id": "f078f716",
   "metadata": {},
   "source": [
    "# Asociación entre variables categóricas y la variable objetivo\n",
    "Se analiza la asociación entre variables categóricas (clínicas) y Diagnosis_binary usando el test de chi-cuadrado. Se muestran los p-valores para identificar posibles asociaciones relevantes."
   ]
  },
  {
   "cell_type": "code",
   "execution_count": 27,
   "id": "b8ea16b8",
   "metadata": {},
   "outputs": [
    {
     "name": "stdout",
     "output_type": "stream",
     "text": [
      "Resultados del test de chi-cuadrado para variables categóricas:\n"
     ]
    },
    {
     "data": {
      "application/vnd.microsoft.datawrangler.viewer.v0+json": {
       "columns": [
        {
         "name": "index",
         "rawType": "int64",
         "type": "integer"
        },
        {
         "name": "Variable",
         "rawType": "object",
         "type": "string"
        },
        {
         "name": "p-value",
         "rawType": "float64",
         "type": "float"
        },
        {
         "name": "chi2",
         "rawType": "float64",
         "type": "float"
        },
        {
         "name": "dof",
         "rawType": "int64",
         "type": "integer"
        }
       ],
       "ref": "fd9a7c80-44d4-433b-9063-7275f5daff77",
       "rows": [
        [
         "1",
         "Phenotype",
         "3.9653873566779396e-51",
         "246.0",
         "5"
        ],
        [
         "0",
         "Sex",
         "0.4441564974474099",
         "0.5855206611570247",
         "1"
        ]
       ],
       "shape": {
        "columns": 4,
        "rows": 2
       }
      },
      "text/html": [
       "<div>\n",
       "<style scoped>\n",
       "    .dataframe tbody tr th:only-of-type {\n",
       "        vertical-align: middle;\n",
       "    }\n",
       "\n",
       "    .dataframe tbody tr th {\n",
       "        vertical-align: top;\n",
       "    }\n",
       "\n",
       "    .dataframe thead th {\n",
       "        text-align: right;\n",
       "    }\n",
       "</style>\n",
       "<table border=\"1\" class=\"dataframe\">\n",
       "  <thead>\n",
       "    <tr style=\"text-align: right;\">\n",
       "      <th></th>\n",
       "      <th>Variable</th>\n",
       "      <th>p-value</th>\n",
       "      <th>chi2</th>\n",
       "      <th>dof</th>\n",
       "    </tr>\n",
       "  </thead>\n",
       "  <tbody>\n",
       "    <tr>\n",
       "      <th>1</th>\n",
       "      <td>Phenotype</td>\n",
       "      <td>3.965387e-51</td>\n",
       "      <td>246.000000</td>\n",
       "      <td>5</td>\n",
       "    </tr>\n",
       "    <tr>\n",
       "      <th>0</th>\n",
       "      <td>Sex</td>\n",
       "      <td>4.441565e-01</td>\n",
       "      <td>0.585521</td>\n",
       "      <td>1</td>\n",
       "    </tr>\n",
       "  </tbody>\n",
       "</table>\n",
       "</div>"
      ],
      "text/plain": [
       "    Variable       p-value        chi2  dof\n",
       "1  Phenotype  3.965387e-51  246.000000    5\n",
       "0        Sex  4.441565e-01    0.585521    1"
      ]
     },
     "metadata": {},
     "output_type": "display_data"
    }
   ],
   "source": [
    "from scipy.stats import chi2_contingency\n",
    "\n",
    "# Selección de variables categóricas (excluyendo Diagnosis, Diagnosis_binary, PatientID, Subject, Dataset, Notes, YOB)\n",
    "cat_cols = ['Sex', 'Phenotype', 'MR Sessions', 'CT Sessions']\n",
    "\n",
    "results = []\n",
    "for col in cat_cols:\n",
    "    contingency = pd.crosstab(df_all[col], df_all['Diagnosis_binary'])\n",
    "    if contingency.shape[0] > 1 and contingency.shape[1] > 1:\n",
    "        chi2, p, dof, expected = chi2_contingency(contingency)\n",
    "        results.append({'Variable': col, 'p-value': p, 'chi2': chi2, 'dof': dof})\n",
    "\n",
    "results_df = pd.DataFrame(results).sort_values('p-value')\n",
    "print('Resultados del test de chi-cuadrado para variables categóricas:')\n",
    "display(results_df)"
   ]
  },
  {
   "cell_type": "code",
   "execution_count": 35,
   "id": "81d77e00",
   "metadata": {},
   "outputs": [
    {
     "name": "stdout",
     "output_type": "stream",
     "text": [
      "Número de incidencias: 0\n"
     ]
    },
    {
     "data": {
      "application/vnd.microsoft.datawrangler.viewer.v0+json": {
       "columns": [
        {
         "name": "index",
         "rawType": "int64",
         "type": "integer"
        },
        {
         "name": "PatientID",
         "rawType": "object",
         "type": "unknown"
        },
        {
         "name": "Phenotype",
         "rawType": "object",
         "type": "unknown"
        },
        {
         "name": "Diagnosis",
         "rawType": "object",
         "type": "unknown"
        },
        {
         "name": "Diagnosis_binary",
         "rawType": "int64",
         "type": "integer"
        }
       ],
       "ref": "9864e3e3-c506-4613-ac4c-5ce3fa9021fd",
       "rows": [],
       "shape": {
        "columns": 4,
        "rows": 0
       }
      },
      "text/html": [
       "<div>\n",
       "<style scoped>\n",
       "    .dataframe tbody tr th:only-of-type {\n",
       "        vertical-align: middle;\n",
       "    }\n",
       "\n",
       "    .dataframe tbody tr th {\n",
       "        vertical-align: top;\n",
       "    }\n",
       "\n",
       "    .dataframe thead th {\n",
       "        text-align: right;\n",
       "    }\n",
       "</style>\n",
       "<table border=\"1\" class=\"dataframe\">\n",
       "  <thead>\n",
       "    <tr style=\"text-align: right;\">\n",
       "      <th></th>\n",
       "      <th>PatientID</th>\n",
       "      <th>Phenotype</th>\n",
       "      <th>Diagnosis</th>\n",
       "      <th>Diagnosis_binary</th>\n",
       "    </tr>\n",
       "  </thead>\n",
       "  <tbody>\n",
       "  </tbody>\n",
       "</table>\n",
       "</div>"
      ],
      "text/plain": [
       "Empty DataFrame\n",
       "Columns: [PatientID, Phenotype, Diagnosis, Diagnosis_binary]\n",
       "Index: []"
      ]
     },
     "metadata": {},
     "output_type": "display_data"
    }
   ],
   "source": [
    "# Buscar incidencias donde Phenotype es 'GIST' y Diagnosis_binary no es 1\n",
    "incidencias = df_all[(df_all['Phenotype'] == 'GIST') & (df_all['Diagnosis_binary'] != 1)]\n",
    "print(f\"Número de incidencias: {len(incidencias)}\")\n",
    "display(incidencias[['PatientID', 'Phenotype', 'Diagnosis', 'Diagnosis_binary']])"
   ]
  },
  {
   "cell_type": "markdown",
   "id": "377a111d",
   "metadata": {},
   "source": [
    "La conclusión principal del análisis de asociación entre variables categóricas y la variable objetivo Diagnosis_binary es la siguiente:\n",
    "\n",
    "- **Phenotype** muestra una asociación altamente significativa con Diagnosis_binary (p-value ≈ 3.97e-51, chi2 = 246). Pero despues he verificado que no tiene ninguna incidencia en el dataset donde el phenotype es GIST y el Diagnosis_binary no es 1 entonces esto representa la misma informacion probablemente.  \n",
    "\n",
    "- **Sex** no muestra una asociación significativa con Diagnosis_binary (p-value ≈ 0.44, chi2 ≈ 0.59). Esto significa que la proporción de sexos es similar en ambos grupos y, por tanto, el sexo no es un factor discriminante entre GIST y non-GIST en este dataset.\n"
   ]
  },
  {
   "cell_type": "markdown",
   "id": "cf21383f",
   "metadata": {},
   "source": [
    "# Análisis del fabricante de imagen\n",
    "Si los metadatos contienen información sobre el fabricante o tipo de escáner, se analiza la posible existencia de sesgos o agrupaciones por fabricante. Se visualiza la distribución de clases y algunas características radiómicas por fabricante."
   ]
  },
  {
   "cell_type": "code",
   "execution_count": 31,
   "id": "13fd7782",
   "metadata": {},
   "outputs": [
    {
     "data": {
      "text/plain": [
       "[]"
      ]
     },
     "metadata": {},
     "output_type": "display_data"
    }
   ],
   "source": [
    "# Buscar columnas relacionadas con fabricante o escáner\n",
    "display([col for col in df_all.columns if 'manufacturer' in col.lower() or 'scanner' in col.lower() or 'vendor' in col.lower()])"
   ]
  },
  {
   "cell_type": "code",
   "execution_count": 33,
   "id": "12f5d030",
   "metadata": {},
   "outputs": [
    {
     "name": "stdout",
     "output_type": "stream",
     "text": [
      "No se encontró información de fabricante o escáner en los metadatos.\n"
     ]
    }
   ],
   "source": [
    "# Si existe una columna relevante, por ejemplo 'Manufacturer', realiza el análisis\n",
    "fabricante_col = None\n",
    "for col in df_all.columns:\n",
    "    if 'manufacturer' in col.lower() or 'scanner' in col.lower() or 'vendor' in col.lower():\n",
    "        fabricante_col = col\n",
    "        break\n",
    "\n",
    "if fabricante_col:\n",
    "    print(f\"Columna de fabricante encontrada: {fabricante_col}\")\n",
    "    print(df_all[fabricante_col].value_counts(dropna=False))\n",
    "    # Distribución de clases por fabricante\n",
    "    import matplotlib.pyplot as plt\n",
    "    import seaborn as sns\n",
    "    plt.figure(figsize=(8,4))\n",
    "    sns.countplot(data=df_all, x=fabricante_col, hue='Diagnosis_binary')\n",
    "    plt.title('Distribución de Diagnosis_binary por fabricante')\n",
    "    plt.xlabel('Fabricante')\n",
    "    plt.ylabel('Número de casos')\n",
    "    plt.xticks(rotation=45)\n",
    "    plt.tight_layout()\n",
    "    plt.show()\n",
    "    # Distribución de una feature radiómica por fabricante\n",
    "    feature = 'original_firstorder_Mean' if 'original_firstorder_Mean' in df_all.columns else None\n",
    "    if feature:\n",
    "        plt.figure(figsize=(8,4))\n",
    "        sns.boxplot(data=df_all, x=fabricante_col, y=feature)\n",
    "        plt.title(f'Distribución de {feature} por fabricante')\n",
    "        plt.xlabel('Fabricante')\n",
    "        plt.ylabel(feature)\n",
    "        plt.xticks(rotation=45)\n",
    "        plt.tight_layout()\n",
    "        plt.show()\n",
    "else:\n",
    "    print('No se encontró información de fabricante o escáner en los metadatos.')"
   ]
  },
  {
   "cell_type": "markdown",
   "id": "5c4347ec",
   "metadata": {},
   "source": [
    "No se dispone de información sobre el fabricante o tipo de escáner en los metadatos de este dataset, por lo que no es posible analizar posibles sesgos o agrupaciones por fabricante."
   ]
  },
  {
   "cell_type": "markdown",
   "id": "890a4783",
   "metadata": {},
   "source": [
    "# 4. Contextualización clínica\n",
    "\n",
    "Los tumores estromales gastrointestinales (GIST) son el tipo más común de tumor mesenquimal del tracto digestivo, originados principalmente en el estómago o el intestino delgado. Su diagnóstico diferencial frente a otros tumores mesenquimales (non-GIST) es fundamental, ya que el manejo clínico, el pronóstico y la respuesta al tratamiento pueden variar considerablemente entre ambos grupos.\n",
    "\n",
    "En la práctica clínica, la distinción entre GIST y non-GIST suele basarse en hallazgos histopatológicos (biopsia) y estudios inmunohistoquímicos tras la obtención de una muestra tumoral. Sin embargo, existen situaciones en las que la obtención de tejido es limitada, la biopsia no es concluyente o los riesgos del procedimiento son elevados.\n",
    "\n",
    "En este contexto, el desarrollo de modelos predictivos basados en biomarcadores radiómicos extraídos de imágenes de TC puede aportar valor añadido al diagnóstico no invasivo. La radiómica permite cuantificar características de textura, forma y heterogeneidad tumoral que pueden reflejar diferencias biológicas subyacentes entre GIST y otros tumores mesenquimales. Un modelo capaz de discriminar entre ambos grupos a partir de imágenes podría apoyar la toma de decisiones clínicas, orientar la necesidad de procedimientos invasivos y contribuir a una mejor planificación terapéutica.\n",
    "\n",
    "En este trabajo, el objetivo es evaluar la capacidad de las variables radiómicas y clínicas para diferenciar entre GIST y non-GIST, proporcionando una herramienta de apoyo al diagnóstico basada en datos accesibles y no invasivos."
   ]
  },
  {
   "cell_type": "markdown",
   "id": "9dfe1f2f",
   "metadata": {},
   "source": [
    "### Modelo predictivo: Regresión logística explicable\n",
    "\n",
    "Se construirá un modelo de regresión logística utilizando las 10 variables radiómicas numéricas más correlacionadas con Diagnosis_binary, junto con las variables clínicas Age y Sex. Se realizará un split estratificado 70% train, 15% validación, 15% test. Se evaluará el modelo con F1-score y se mostrarán los coeficientes y p-values de las variables para valorar su significancia."
   ]
  },
  {
   "cell_type": "code",
   "execution_count": 43,
   "id": "7f1b3eb2",
   "metadata": {},
   "outputs": [
    {
     "name": "stdout",
     "output_type": "stream",
     "text": [
      "Train: 172, Val: 37, Test: 37\n",
      "Train F1-score: 0.683\n",
      "              precision    recall  f1-score   support\n",
      "\n",
      "           0      0.673     0.776     0.721        85\n",
      "           1      0.743     0.632     0.683        87\n",
      "\n",
      "    accuracy                          0.703       172\n",
      "   macro avg      0.708     0.704     0.702       172\n",
      "weighted avg      0.709     0.703     0.702       172\n",
      "\n",
      "Val F1-score: 0.686\n",
      "              precision    recall  f1-score   support\n",
      "\n",
      "           0      0.667     0.778     0.718        18\n",
      "           1      0.750     0.632     0.686        19\n",
      "\n",
      "    accuracy                          0.703        37\n",
      "   macro avg      0.708     0.705     0.702        37\n",
      "weighted avg      0.709     0.703     0.701        37\n",
      "\n",
      "Test F1-score: 0.722\n",
      "              precision    recall  f1-score   support\n",
      "\n",
      "           0      0.700     0.778     0.737        18\n",
      "           1      0.765     0.684     0.722        19\n",
      "\n",
      "    accuracy                          0.730        37\n",
      "   macro avg      0.732     0.731     0.730        37\n",
      "weighted avg      0.733     0.730     0.729        37\n",
      "\n",
      "Coeficientes y p-values de las variables:\n"
     ]
    },
    {
     "data": {
      "application/vnd.microsoft.datawrangler.viewer.v0+json": {
       "columns": [
        {
         "name": "index",
         "rawType": "object",
         "type": "string"
        },
        {
         "name": "Coef.",
         "rawType": "float64",
         "type": "float"
        },
        {
         "name": "Std.Err.",
         "rawType": "float64",
         "type": "float"
        },
        {
         "name": "z",
         "rawType": "float64",
         "type": "float"
        },
        {
         "name": "P>|z|",
         "rawType": "float64",
         "type": "float"
        },
        {
         "name": "[0.025",
         "rawType": "float64",
         "type": "float"
        },
        {
         "name": "0.975]",
         "rawType": "float64",
         "type": "float"
        }
       ],
       "ref": "1aaff175-930f-4cb4-b315-32c6c103ecb9",
       "rows": [
        [
         "const",
         "0.7940622234880726",
         "1.3060280491896998",
         "0.6079978328036166",
         "0.5431889112604069",
         "-1.765705715722845",
         "3.3538301626989906"
        ],
        [
         "original_firstorder_Minimum",
         "-0.0020667535004777085",
         "0.0029162359334712357",
         "-0.7087058618119499",
         "0.478507026472927",
         "-0.007782470900502875",
         "0.0036489638995474585"
        ],
        [
         "original_glszm_SmallAreaHighGrayLevelEmphasis",
         "-0.003885631786623194",
         "0.006135355555935278",
         "-0.6333181102869051",
         "0.5265259290987586",
         "-0.01591070770860406",
         "0.008139444135357672"
        ],
        [
         "original_firstorder_10Percentile",
         "-0.003929699794225893",
         "0.003036475472525488",
         "-1.2941648400530288",
         "0.19560848869127356",
         "-0.009881082360315093",
         "0.0020216827718633062"
        ],
        [
         "original_glszm_LowGrayLevelZoneEmphasis",
         "-37.76572682591976",
         "17.20412882695986",
         "-2.195154849499772",
         "0.028152491803957045",
         "-71.48519971214841",
         "-4.0462539396911055"
        ],
        [
         "original_gldm_SmallDependenceHighGrayLevelEmphasis",
         "0.046813636370467905",
         "0.06442040684933828",
         "0.726689548545575",
         "0.4674161573384681",
         "-0.07944804092365254",
         "0.17307531366458834"
        ],
        [
         "original_glszm_HighGrayLevelZoneEmphasis",
         "0.006179986656665769",
         "0.007225483448493117",
         "0.8553042437533522",
         "0.3923827387951756",
         "-0.007981700673271011",
         "0.020341673986602547"
        ],
        [
         "original_glrlm_ShortRunHighGrayLevelEmphasis",
         "-0.014602809756289652",
         "0.011086624747418684",
         "-1.3171555896387352",
         "0.18778647667354087",
         "-0.03633219497134075",
         "0.007126575458761443"
        ],
        [
         "original_glrlm_HighGrayLevelRunEmphasis",
         "0.03964064325447609",
         "0.06577813112853942",
         "0.6026416770189605",
         "0.5467470884935071",
         "-0.08928212472781419",
         "0.16856341123676635"
        ],
        [
         "original_glszm_SmallAreaLowGrayLevelEmphasis",
         "81.48703160036023",
         "33.37748087775585",
         "2.441377523330905",
         "0.014631350376136184",
         "16.068371185284406",
         "146.90569201543605"
        ],
        [
         "original_gldm_HighGrayLevelEmphasis",
         "-0.03409379004009489",
         "0.058736615831586354",
         "-0.5804520665244136",
         "0.5616098022397502",
         "-0.1492154416437693",
         "0.08102786156357952"
        ],
        [
         "Age",
         "0.023817650904879722",
         "0.013344038839601752",
         "1.7848907059678907",
         "0.07427904647998368",
         "-0.0023361846290433676",
         "0.04997148643880281"
        ],
        [
         "Sex",
         "0.06893476820820536",
         "0.35443239511771985",
         "0.194493418654098",
         "0.8457895484919792",
         "-0.6257399611767956",
         "0.7636094975932063"
        ]
       ],
       "shape": {
        "columns": 6,
        "rows": 13
       }
      },
      "text/html": [
       "<div>\n",
       "<style scoped>\n",
       "    .dataframe tbody tr th:only-of-type {\n",
       "        vertical-align: middle;\n",
       "    }\n",
       "\n",
       "    .dataframe tbody tr th {\n",
       "        vertical-align: top;\n",
       "    }\n",
       "\n",
       "    .dataframe thead th {\n",
       "        text-align: right;\n",
       "    }\n",
       "</style>\n",
       "<table border=\"1\" class=\"dataframe\">\n",
       "  <thead>\n",
       "    <tr style=\"text-align: right;\">\n",
       "      <th></th>\n",
       "      <th>Coef.</th>\n",
       "      <th>Std.Err.</th>\n",
       "      <th>z</th>\n",
       "      <th>P&gt;|z|</th>\n",
       "      <th>[0.025</th>\n",
       "      <th>0.975]</th>\n",
       "    </tr>\n",
       "  </thead>\n",
       "  <tbody>\n",
       "    <tr>\n",
       "      <th>const</th>\n",
       "      <td>0.794062</td>\n",
       "      <td>1.306028</td>\n",
       "      <td>0.607998</td>\n",
       "      <td>0.543189</td>\n",
       "      <td>-1.765706</td>\n",
       "      <td>3.353830</td>\n",
       "    </tr>\n",
       "    <tr>\n",
       "      <th>original_firstorder_Minimum</th>\n",
       "      <td>-0.002067</td>\n",
       "      <td>0.002916</td>\n",
       "      <td>-0.708706</td>\n",
       "      <td>0.478507</td>\n",
       "      <td>-0.007782</td>\n",
       "      <td>0.003649</td>\n",
       "    </tr>\n",
       "    <tr>\n",
       "      <th>original_glszm_SmallAreaHighGrayLevelEmphasis</th>\n",
       "      <td>-0.003886</td>\n",
       "      <td>0.006135</td>\n",
       "      <td>-0.633318</td>\n",
       "      <td>0.526526</td>\n",
       "      <td>-0.015911</td>\n",
       "      <td>0.008139</td>\n",
       "    </tr>\n",
       "    <tr>\n",
       "      <th>original_firstorder_10Percentile</th>\n",
       "      <td>-0.003930</td>\n",
       "      <td>0.003036</td>\n",
       "      <td>-1.294165</td>\n",
       "      <td>0.195608</td>\n",
       "      <td>-0.009881</td>\n",
       "      <td>0.002022</td>\n",
       "    </tr>\n",
       "    <tr>\n",
       "      <th>original_glszm_LowGrayLevelZoneEmphasis</th>\n",
       "      <td>-37.765727</td>\n",
       "      <td>17.204129</td>\n",
       "      <td>-2.195155</td>\n",
       "      <td>0.028152</td>\n",
       "      <td>-71.485200</td>\n",
       "      <td>-4.046254</td>\n",
       "    </tr>\n",
       "    <tr>\n",
       "      <th>original_gldm_SmallDependenceHighGrayLevelEmphasis</th>\n",
       "      <td>0.046814</td>\n",
       "      <td>0.064420</td>\n",
       "      <td>0.726690</td>\n",
       "      <td>0.467416</td>\n",
       "      <td>-0.079448</td>\n",
       "      <td>0.173075</td>\n",
       "    </tr>\n",
       "    <tr>\n",
       "      <th>original_glszm_HighGrayLevelZoneEmphasis</th>\n",
       "      <td>0.006180</td>\n",
       "      <td>0.007225</td>\n",
       "      <td>0.855304</td>\n",
       "      <td>0.392383</td>\n",
       "      <td>-0.007982</td>\n",
       "      <td>0.020342</td>\n",
       "    </tr>\n",
       "    <tr>\n",
       "      <th>original_glrlm_ShortRunHighGrayLevelEmphasis</th>\n",
       "      <td>-0.014603</td>\n",
       "      <td>0.011087</td>\n",
       "      <td>-1.317156</td>\n",
       "      <td>0.187786</td>\n",
       "      <td>-0.036332</td>\n",
       "      <td>0.007127</td>\n",
       "    </tr>\n",
       "    <tr>\n",
       "      <th>original_glrlm_HighGrayLevelRunEmphasis</th>\n",
       "      <td>0.039641</td>\n",
       "      <td>0.065778</td>\n",
       "      <td>0.602642</td>\n",
       "      <td>0.546747</td>\n",
       "      <td>-0.089282</td>\n",
       "      <td>0.168563</td>\n",
       "    </tr>\n",
       "    <tr>\n",
       "      <th>original_glszm_SmallAreaLowGrayLevelEmphasis</th>\n",
       "      <td>81.487032</td>\n",
       "      <td>33.377481</td>\n",
       "      <td>2.441378</td>\n",
       "      <td>0.014631</td>\n",
       "      <td>16.068371</td>\n",
       "      <td>146.905692</td>\n",
       "    </tr>\n",
       "    <tr>\n",
       "      <th>original_gldm_HighGrayLevelEmphasis</th>\n",
       "      <td>-0.034094</td>\n",
       "      <td>0.058737</td>\n",
       "      <td>-0.580452</td>\n",
       "      <td>0.561610</td>\n",
       "      <td>-0.149215</td>\n",
       "      <td>0.081028</td>\n",
       "    </tr>\n",
       "    <tr>\n",
       "      <th>Age</th>\n",
       "      <td>0.023818</td>\n",
       "      <td>0.013344</td>\n",
       "      <td>1.784891</td>\n",
       "      <td>0.074279</td>\n",
       "      <td>-0.002336</td>\n",
       "      <td>0.049971</td>\n",
       "    </tr>\n",
       "    <tr>\n",
       "      <th>Sex</th>\n",
       "      <td>0.068935</td>\n",
       "      <td>0.354432</td>\n",
       "      <td>0.194493</td>\n",
       "      <td>0.845790</td>\n",
       "      <td>-0.625740</td>\n",
       "      <td>0.763609</td>\n",
       "    </tr>\n",
       "  </tbody>\n",
       "</table>\n",
       "</div>"
      ],
      "text/plain": [
       "                                                        Coef.   Std.Err.  \\\n",
       "const                                                0.794062   1.306028   \n",
       "original_firstorder_Minimum                         -0.002067   0.002916   \n",
       "original_glszm_SmallAreaHighGrayLevelEmphasis       -0.003886   0.006135   \n",
       "original_firstorder_10Percentile                    -0.003930   0.003036   \n",
       "original_glszm_LowGrayLevelZoneEmphasis            -37.765727  17.204129   \n",
       "original_gldm_SmallDependenceHighGrayLevelEmphasis   0.046814   0.064420   \n",
       "original_glszm_HighGrayLevelZoneEmphasis             0.006180   0.007225   \n",
       "original_glrlm_ShortRunHighGrayLevelEmphasis        -0.014603   0.011087   \n",
       "original_glrlm_HighGrayLevelRunEmphasis              0.039641   0.065778   \n",
       "original_glszm_SmallAreaLowGrayLevelEmphasis        81.487032  33.377481   \n",
       "original_gldm_HighGrayLevelEmphasis                 -0.034094   0.058737   \n",
       "Age                                                  0.023818   0.013344   \n",
       "Sex                                                  0.068935   0.354432   \n",
       "\n",
       "                                                           z     P>|z|  \\\n",
       "const                                               0.607998  0.543189   \n",
       "original_firstorder_Minimum                        -0.708706  0.478507   \n",
       "original_glszm_SmallAreaHighGrayLevelEmphasis      -0.633318  0.526526   \n",
       "original_firstorder_10Percentile                   -1.294165  0.195608   \n",
       "original_glszm_LowGrayLevelZoneEmphasis            -2.195155  0.028152   \n",
       "original_gldm_SmallDependenceHighGrayLevelEmphasis  0.726690  0.467416   \n",
       "original_glszm_HighGrayLevelZoneEmphasis            0.855304  0.392383   \n",
       "original_glrlm_ShortRunHighGrayLevelEmphasis       -1.317156  0.187786   \n",
       "original_glrlm_HighGrayLevelRunEmphasis             0.602642  0.546747   \n",
       "original_glszm_SmallAreaLowGrayLevelEmphasis        2.441378  0.014631   \n",
       "original_gldm_HighGrayLevelEmphasis                -0.580452  0.561610   \n",
       "Age                                                 1.784891  0.074279   \n",
       "Sex                                                 0.194493  0.845790   \n",
       "\n",
       "                                                       [0.025      0.975]  \n",
       "const                                               -1.765706    3.353830  \n",
       "original_firstorder_Minimum                         -0.007782    0.003649  \n",
       "original_glszm_SmallAreaHighGrayLevelEmphasis       -0.015911    0.008139  \n",
       "original_firstorder_10Percentile                    -0.009881    0.002022  \n",
       "original_glszm_LowGrayLevelZoneEmphasis            -71.485200   -4.046254  \n",
       "original_gldm_SmallDependenceHighGrayLevelEmphasis  -0.079448    0.173075  \n",
       "original_glszm_HighGrayLevelZoneEmphasis            -0.007982    0.020342  \n",
       "original_glrlm_ShortRunHighGrayLevelEmphasis        -0.036332    0.007127  \n",
       "original_glrlm_HighGrayLevelRunEmphasis             -0.089282    0.168563  \n",
       "original_glszm_SmallAreaLowGrayLevelEmphasis        16.068371  146.905692  \n",
       "original_gldm_HighGrayLevelEmphasis                 -0.149215    0.081028  \n",
       "Age                                                 -0.002336    0.049971  \n",
       "Sex                                                 -0.625740    0.763609  "
      ]
     },
     "metadata": {},
     "output_type": "display_data"
    },
    {
     "name": "stdout",
     "output_type": "stream",
     "text": [
      "Variables con p-value < 0.05:\n"
     ]
    },
    {
     "data": {
      "application/vnd.microsoft.datawrangler.viewer.v0+json": {
       "columns": [
        {
         "name": "index",
         "rawType": "object",
         "type": "string"
        },
        {
         "name": "Coef.",
         "rawType": "float64",
         "type": "float"
        },
        {
         "name": "Std.Err.",
         "rawType": "float64",
         "type": "float"
        },
        {
         "name": "z",
         "rawType": "float64",
         "type": "float"
        },
        {
         "name": "P>|z|",
         "rawType": "float64",
         "type": "float"
        },
        {
         "name": "[0.025",
         "rawType": "float64",
         "type": "float"
        },
        {
         "name": "0.975]",
         "rawType": "float64",
         "type": "float"
        }
       ],
       "ref": "d2768f03-7977-498d-9b8f-860f69845f03",
       "rows": [
        [
         "original_glszm_LowGrayLevelZoneEmphasis",
         "-37.76572682591976",
         "17.20412882695986",
         "-2.195154849499772",
         "0.028152491803957045",
         "-71.48519971214841",
         "-4.0462539396911055"
        ],
        [
         "original_glszm_SmallAreaLowGrayLevelEmphasis",
         "81.48703160036023",
         "33.37748087775585",
         "2.441377523330905",
         "0.014631350376136184",
         "16.068371185284406",
         "146.90569201543605"
        ]
       ],
       "shape": {
        "columns": 6,
        "rows": 2
       }
      },
      "text/html": [
       "<div>\n",
       "<style scoped>\n",
       "    .dataframe tbody tr th:only-of-type {\n",
       "        vertical-align: middle;\n",
       "    }\n",
       "\n",
       "    .dataframe tbody tr th {\n",
       "        vertical-align: top;\n",
       "    }\n",
       "\n",
       "    .dataframe thead th {\n",
       "        text-align: right;\n",
       "    }\n",
       "</style>\n",
       "<table border=\"1\" class=\"dataframe\">\n",
       "  <thead>\n",
       "    <tr style=\"text-align: right;\">\n",
       "      <th></th>\n",
       "      <th>Coef.</th>\n",
       "      <th>Std.Err.</th>\n",
       "      <th>z</th>\n",
       "      <th>P&gt;|z|</th>\n",
       "      <th>[0.025</th>\n",
       "      <th>0.975]</th>\n",
       "    </tr>\n",
       "  </thead>\n",
       "  <tbody>\n",
       "    <tr>\n",
       "      <th>original_glszm_LowGrayLevelZoneEmphasis</th>\n",
       "      <td>-37.765727</td>\n",
       "      <td>17.204129</td>\n",
       "      <td>-2.195155</td>\n",
       "      <td>0.028152</td>\n",
       "      <td>-71.485200</td>\n",
       "      <td>-4.046254</td>\n",
       "    </tr>\n",
       "    <tr>\n",
       "      <th>original_glszm_SmallAreaLowGrayLevelEmphasis</th>\n",
       "      <td>81.487032</td>\n",
       "      <td>33.377481</td>\n",
       "      <td>2.441378</td>\n",
       "      <td>0.014631</td>\n",
       "      <td>16.068371</td>\n",
       "      <td>146.905692</td>\n",
       "    </tr>\n",
       "  </tbody>\n",
       "</table>\n",
       "</div>"
      ],
      "text/plain": [
       "                                                  Coef.   Std.Err.         z  \\\n",
       "original_glszm_LowGrayLevelZoneEmphasis      -37.765727  17.204129 -2.195155   \n",
       "original_glszm_SmallAreaLowGrayLevelEmphasis  81.487032  33.377481  2.441378   \n",
       "\n",
       "                                                 P>|z|     [0.025      0.975]  \n",
       "original_glszm_LowGrayLevelZoneEmphasis       0.028152 -71.485200   -4.046254  \n",
       "original_glszm_SmallAreaLowGrayLevelEmphasis  0.014631  16.068371  146.905692  "
      ]
     },
     "metadata": {},
     "output_type": "display_data"
    }
   ],
   "source": [
    "import numpy as np\n",
    "from sklearn.model_selection import train_test_split\n",
    "from sklearn.linear_model import LogisticRegression\n",
    "from sklearn.metrics import f1_score, classification_report\n",
    "import statsmodels.api as sm\n",
    "\n",
    "# 1. Selección de las 10 variables radiómicas más correlacionadas con Diagnosis_binary\n",
    "radiomic_numeric = df_all[radiomic_cols].apply(pd.to_numeric, errors='coerce')\n",
    "correlations = radiomic_numeric.corrwith(df_all['Diagnosis_binary'], method='spearman').abs()\n",
    "top10_corr = correlations.sort_values(ascending=False).head(10).index.tolist()\n",
    "\n",
    "# 2. Preparar el dataframe de entrada\n",
    "features = top10_corr + ['Age', 'Sex']\n",
    "X = df_all[features].copy()\n",
    "X['Sex'] = X['Sex'].map({'M': 1, 'F': 0})\n",
    "y = df_all['Diagnosis_binary']\n",
    "\n",
    "# Eliminar filas con NaN en X o y\n",
    "mask = X.notnull().all(axis=1) & y.notnull()\n",
    "X = X[mask]\n",
    "y = y[mask]\n",
    "\n",
    "# 3. Split 70/15/15 estratificado\n",
    "X_train, X_temp, y_train, y_temp = train_test_split(X, y, test_size=0.30, stratify=y, random_state=42)\n",
    "X_val, X_test, y_val, y_test = train_test_split(X_temp, y_temp, test_size=0.5, stratify=y_temp, random_state=42)\n",
    "\n",
    "print(f\"Train: {X_train.shape[0]}, Val: {X_val.shape[0]}, Test: {X_test.shape[0]}\")\n",
    "\n",
    "# 4. Entrenamiento del modelo\n",
    "model = LogisticRegression(max_iter=1000, solver='liblinear')\n",
    "model.fit(X_train, y_train)\n",
    "\n",
    "# 5. Evaluación\n",
    "for split, X_split, y_split in [('Train', X_train, y_train), ('Val', X_val, y_val), ('Test', X_test, y_test)]:\n",
    "    y_pred = model.predict(X_split)\n",
    "    f1 = f1_score(y_split, y_pred)\n",
    "    print(f\"{split} F1-score: {f1:.3f}\")\n",
    "    print(classification_report(y_split, y_pred, digits=3))\n",
    "\n",
    "# 6. Coeficientes y p-values usando statsmodels\n",
    "X_train_sm = sm.add_constant(X_train)\n",
    "# Convert all columns to float to avoid dtype=object issues\n",
    "X_train_sm = X_train_sm.astype(float)\n",
    "y_train_sm = y_train.astype(float)\n",
    "logit_model = sm.Logit(y_train_sm, X_train_sm)\n",
    "result = logit_model.fit(disp=0)\n",
    "summary_df = result.summary2().tables[1]\n",
    "print(\"Coeficientes y p-values de las variables:\")\n",
    "display(summary_df)\n",
    "\n",
    "# Mostrar solo las variables con p-value < 0.05\n",
    "print(\"Variables con p-value < 0.05:\")\n",
    "display(summary_df[summary_df['P>|z|'] < 0.05])"
   ]
  },
  {
   "cell_type": "markdown",
   "id": "3045eda6",
   "metadata": {},
   "source": [
    "**Notas:**\n",
    "- Si alguna variable no es significativa (p-value > 0.05), se recomienda considerar su exclusión y volver a ajustar el modelo.\n",
    "- El F1-score se reporta para train, validación y test.\n",
    "- Los coeficientes y p-values permiten interpretar la importancia y significancia estadística de cada variable."
   ]
  },
  {
   "cell_type": "markdown",
   "id": "904e9cfa",
   "metadata": {},
   "source": [
    "### Modelo final solo con variables significativas\n",
    "\n",
    "Se reentrena el modelo de regresión logística únicamente con las dos variables radiómicas que resultaron significativas (p < 0.05):\n",
    "- original_glszm_LowGrayLevelZoneEmphasis\n",
    "- original_glszm_SmallAreaLowGrayLevelEmphasis\n",
    "\n",
    "Se evalúa el F1-score y se muestran los nuevos coeficientes y p-values."
   ]
  },
  {
   "cell_type": "code",
   "execution_count": 44,
   "id": "53ef96dd",
   "metadata": {},
   "outputs": [
    {
     "name": "stdout",
     "output_type": "stream",
     "text": [
      "Train: 172, Val: 37, Test: 37\n",
      "Train F1-score: 0.650\n",
      "              precision    recall  f1-score   support\n",
      "\n",
      "           0      0.500     0.094     0.158        85\n",
      "           1      0.506     0.908     0.650        87\n",
      "\n",
      "    accuracy                          0.506       172\n",
      "   macro avg      0.503     0.501     0.404       172\n",
      "weighted avg      0.503     0.506     0.407       172\n",
      "\n",
      "Val F1-score: 0.667\n",
      "              precision    recall  f1-score   support\n",
      "\n",
      "           0      0.500     0.056     0.100        18\n",
      "           1      0.514     0.947     0.667        19\n",
      "\n",
      "    accuracy                          0.514        37\n",
      "   macro avg      0.507     0.501     0.383        37\n",
      "weighted avg      0.507     0.514     0.391        37\n",
      "\n",
      "Test F1-score: 0.679\n",
      "              precision    recall  f1-score   support\n",
      "\n",
      "           0      0.000     0.000     0.000        18\n",
      "           1      0.514     1.000     0.679        19\n",
      "\n",
      "    accuracy                          0.514        37\n",
      "   macro avg      0.257     0.500     0.339        37\n",
      "weighted avg      0.264     0.514     0.348        37\n",
      "\n",
      "Coeficientes y p-values de las variables (modelo reducido):\n"
     ]
    },
    {
     "name": "stderr",
     "output_type": "stream",
     "text": [
      "/Users/mauriciodeoliveirareis/.pyenv/versions/bioinformatics_py_3_8/lib/python3.8/site-packages/sklearn/metrics/_classification.py:1471: UndefinedMetricWarning: Precision and F-score are ill-defined and being set to 0.0 in labels with no predicted samples. Use `zero_division` parameter to control this behavior.\n",
      "  _warn_prf(average, modifier, msg_start, len(result))\n",
      "/Users/mauriciodeoliveirareis/.pyenv/versions/bioinformatics_py_3_8/lib/python3.8/site-packages/sklearn/metrics/_classification.py:1471: UndefinedMetricWarning: Precision and F-score are ill-defined and being set to 0.0 in labels with no predicted samples. Use `zero_division` parameter to control this behavior.\n",
      "  _warn_prf(average, modifier, msg_start, len(result))\n",
      "/Users/mauriciodeoliveirareis/.pyenv/versions/bioinformatics_py_3_8/lib/python3.8/site-packages/sklearn/metrics/_classification.py:1471: UndefinedMetricWarning: Precision and F-score are ill-defined and being set to 0.0 in labels with no predicted samples. Use `zero_division` parameter to control this behavior.\n",
      "  _warn_prf(average, modifier, msg_start, len(result))\n"
     ]
    },
    {
     "data": {
      "application/vnd.microsoft.datawrangler.viewer.v0+json": {
       "columns": [
        {
         "name": "index",
         "rawType": "object",
         "type": "string"
        },
        {
         "name": "Coef.",
         "rawType": "float64",
         "type": "float"
        },
        {
         "name": "Std.Err.",
         "rawType": "float64",
         "type": "float"
        },
        {
         "name": "z",
         "rawType": "float64",
         "type": "float"
        },
        {
         "name": "P>|z|",
         "rawType": "float64",
         "type": "float"
        },
        {
         "name": "[0.025",
         "rawType": "float64",
         "type": "float"
        },
        {
         "name": "0.975]",
         "rawType": "float64",
         "type": "float"
        }
       ],
       "ref": "3a04c1fc-078c-49b2-a99a-99f2626c5cb0",
       "rows": [
        [
         "const",
         "0.22596741567523448",
         "0.19928118486641955",
         "1.1339124455060974",
         "0.25683127609099",
         "-0.1646165294594163",
         "0.6165513608098853"
        ],
        [
         "original_glszm_LowGrayLevelZoneEmphasis",
         "-43.73930586583242",
         "16.68197667279954",
         "-2.6219498278732556",
         "0.008742830071699084",
         "-76.43537933545684",
         "-11.043232396208005"
        ],
        [
         "original_glszm_SmallAreaLowGrayLevelEmphasis",
         "79.44184731646155",
         "32.380816854229714",
         "2.4533614353859186",
         "0.014152805406276336",
         "15.97661249218374",
         "142.90708214073936"
        ]
       ],
       "shape": {
        "columns": 6,
        "rows": 3
       }
      },
      "text/html": [
       "<div>\n",
       "<style scoped>\n",
       "    .dataframe tbody tr th:only-of-type {\n",
       "        vertical-align: middle;\n",
       "    }\n",
       "\n",
       "    .dataframe tbody tr th {\n",
       "        vertical-align: top;\n",
       "    }\n",
       "\n",
       "    .dataframe thead th {\n",
       "        text-align: right;\n",
       "    }\n",
       "</style>\n",
       "<table border=\"1\" class=\"dataframe\">\n",
       "  <thead>\n",
       "    <tr style=\"text-align: right;\">\n",
       "      <th></th>\n",
       "      <th>Coef.</th>\n",
       "      <th>Std.Err.</th>\n",
       "      <th>z</th>\n",
       "      <th>P&gt;|z|</th>\n",
       "      <th>[0.025</th>\n",
       "      <th>0.975]</th>\n",
       "    </tr>\n",
       "  </thead>\n",
       "  <tbody>\n",
       "    <tr>\n",
       "      <th>const</th>\n",
       "      <td>0.225967</td>\n",
       "      <td>0.199281</td>\n",
       "      <td>1.133912</td>\n",
       "      <td>0.256831</td>\n",
       "      <td>-0.164617</td>\n",
       "      <td>0.616551</td>\n",
       "    </tr>\n",
       "    <tr>\n",
       "      <th>original_glszm_LowGrayLevelZoneEmphasis</th>\n",
       "      <td>-43.739306</td>\n",
       "      <td>16.681977</td>\n",
       "      <td>-2.621950</td>\n",
       "      <td>0.008743</td>\n",
       "      <td>-76.435379</td>\n",
       "      <td>-11.043232</td>\n",
       "    </tr>\n",
       "    <tr>\n",
       "      <th>original_glszm_SmallAreaLowGrayLevelEmphasis</th>\n",
       "      <td>79.441847</td>\n",
       "      <td>32.380817</td>\n",
       "      <td>2.453361</td>\n",
       "      <td>0.014153</td>\n",
       "      <td>15.976612</td>\n",
       "      <td>142.907082</td>\n",
       "    </tr>\n",
       "  </tbody>\n",
       "</table>\n",
       "</div>"
      ],
      "text/plain": [
       "                                                  Coef.   Std.Err.         z  \\\n",
       "const                                          0.225967   0.199281  1.133912   \n",
       "original_glszm_LowGrayLevelZoneEmphasis      -43.739306  16.681977 -2.621950   \n",
       "original_glszm_SmallAreaLowGrayLevelEmphasis  79.441847  32.380817  2.453361   \n",
       "\n",
       "                                                 P>|z|     [0.025      0.975]  \n",
       "const                                         0.256831  -0.164617    0.616551  \n",
       "original_glszm_LowGrayLevelZoneEmphasis       0.008743 -76.435379  -11.043232  \n",
       "original_glszm_SmallAreaLowGrayLevelEmphasis  0.014153  15.976612  142.907082  "
      ]
     },
     "metadata": {},
     "output_type": "display_data"
    }
   ],
   "source": [
    "# Variables significativas\n",
    "sig_vars = ['original_glszm_LowGrayLevelZoneEmphasis', 'original_glszm_SmallAreaLowGrayLevelEmphasis']\n",
    "\n",
    "X_sig = df_all[sig_vars].copy()\n",
    "mask = X_sig.notnull().all(axis=1) & y.notnull()\n",
    "X_sig = X_sig[mask]\n",
    "y_sig = y[mask]\n",
    "\n",
    "# Split 70/15/15 estratificado\n",
    "X_train, X_temp, y_train, y_temp = train_test_split(X_sig, y_sig, test_size=0.30, stratify=y_sig, random_state=42)\n",
    "X_val, X_test, y_val, y_test = train_test_split(X_temp, y_temp, test_size=0.5, stratify=y_temp, random_state=42)\n",
    "\n",
    "print(f\"Train: {X_train.shape[0]}, Val: {X_val.shape[0]}, Test: {X_test.shape[0]}\")\n",
    "\n",
    "# Entrenamiento\n",
    "model = LogisticRegression(max_iter=1000, solver='liblinear')\n",
    "model.fit(X_train, y_train)\n",
    "\n",
    "# Evaluación\n",
    "for split, X_split, y_split in [('Train', X_train, y_train), ('Val', X_val, y_val), ('Test', X_test, y_test)]:\n",
    "    y_pred = model.predict(X_split)\n",
    "    f1 = f1_score(y_split, y_pred)\n",
    "    print(f\"{split} F1-score: {f1:.3f}\")\n",
    "    print(classification_report(y_split, y_pred, digits=3))\n",
    "\n",
    "# Coeficientes y p-values con statsmodels\n",
    "X_train_sm = sm.add_constant(X_train).astype(float)\n",
    "y_train_sm = y_train.astype(float)\n",
    "logit_model = sm.Logit(y_train_sm, X_train_sm)\n",
    "result = logit_model.fit(disp=0)\n",
    "summary_df = result.summary2().tables[1]\n",
    "print(\"Coeficientes y p-values de las variables (modelo reducido):\")\n",
    "display(summary_df)"
   ]
  },
  {
   "cell_type": "markdown",
   "id": "c167d063",
   "metadata": {},
   "source": [
    "**Conclusión:**\n",
    "- Este modelo es más simple y explicable, usando solo las variables estadísticamente significativas. Pero no es un modelo bueno porque no discrimina entre GIST y no GIST bien.\n"
   ]
  },
  {
   "cell_type": "markdown",
   "id": "7c96dcbb",
   "metadata": {},
   "source": [
    "### Evaluación del modelo\n",
    "\n",
    "Además del F1-score, se calcularán y mostrarán otras métricas de rendimiento del modelo en los conjuntos de train, validación y test:\n",
    "- Accuracy\n",
    "- AUC-ROC\n",
    "- Matriz de confusión\n",
    "- Curva ROC (solo para test)"
   ]
  },
  {
   "cell_type": "code",
   "execution_count": 45,
   "id": "4d4ae4c2",
   "metadata": {},
   "outputs": [
    {
     "name": "stdout",
     "output_type": "stream",
     "text": [
      "Train F1-score: 0.650 | Accuracy: 0.506 | AUC-ROC: 0.676\n",
      "              precision    recall  f1-score   support\n",
      "\n",
      "           0      0.500     0.094     0.158        85\n",
      "           1      0.506     0.908     0.650        87\n",
      "\n",
      "    accuracy                          0.506       172\n",
      "   macro avg      0.503     0.501     0.404       172\n",
      "weighted avg      0.503     0.506     0.407       172\n",
      "\n"
     ]
    },
    {
     "data": {
      "image/png": "[encoded data removed]",
      "text/plain": [
       "<Figure size 300x300 with 2 Axes>"
      ]
     },
     "metadata": {},
     "output_type": "display_data"
    },
    {
     "name": "stdout",
     "output_type": "stream",
     "text": [
      "Val F1-score: 0.667 | Accuracy: 0.514 | AUC-ROC: 0.667\n",
      "              precision    recall  f1-score   support\n",
      "\n",
      "           0      0.500     0.056     0.100        18\n",
      "           1      0.514     0.947     0.667        19\n",
      "\n",
      "    accuracy                          0.514        37\n",
      "   macro avg      0.507     0.501     0.383        37\n",
      "weighted avg      0.507     0.514     0.391        37\n",
      "\n"
     ]
    },
    {
     "data": {
      "image/png": "[encoded data removed]",
      "text/plain": [
       "<Figure size 300x300 with 2 Axes>"
      ]
     },
     "metadata": {},
     "output_type": "display_data"
    },
    {
     "name": "stdout",
     "output_type": "stream",
     "text": [
      "Test F1-score: 0.679 | Accuracy: 0.514 | AUC-ROC: 0.734\n",
      "              precision    recall  f1-score   support\n",
      "\n",
      "           0      0.000     0.000     0.000        18\n",
      "           1      0.514     1.000     0.679        19\n",
      "\n",
      "    accuracy                          0.514        37\n",
      "   macro avg      0.257     0.500     0.339        37\n",
      "weighted avg      0.264     0.514     0.348        37\n",
      "\n"
     ]
    },
    {
     "name": "stderr",
     "output_type": "stream",
     "text": [
      "/Users/mauriciodeoliveirareis/.pyenv/versions/bioinformatics_py_3_8/lib/python3.8/site-packages/sklearn/metrics/_classification.py:1471: UndefinedMetricWarning: Precision and F-score are ill-defined and being set to 0.0 in labels with no predicted samples. Use `zero_division` parameter to control this behavior.\n",
      "  _warn_prf(average, modifier, msg_start, len(result))\n",
      "/Users/mauriciodeoliveirareis/.pyenv/versions/bioinformatics_py_3_8/lib/python3.8/site-packages/sklearn/metrics/_classification.py:1471: UndefinedMetricWarning: Precision and F-score are ill-defined and being set to 0.0 in labels with no predicted samples. Use `zero_division` parameter to control this behavior.\n",
      "  _warn_prf(average, modifier, msg_start, len(result))\n",
      "/Users/mauriciodeoliveirareis/.pyenv/versions/bioinformatics_py_3_8/lib/python3.8/site-packages/sklearn/metrics/_classification.py:1471: UndefinedMetricWarning: Precision and F-score are ill-defined and being set to 0.0 in labels with no predicted samples. Use `zero_division` parameter to control this behavior.\n",
      "  _warn_prf(average, modifier, msg_start, len(result))\n"
     ]
    },
    {
     "data": {
      "image/png": "[encoded data removed]",
      "text/plain": [
       "<Figure size 300x300 with 2 Axes>"
      ]
     },
     "metadata": {},
     "output_type": "display_data"
    },
    {
     "data": {
      "image/png": "[encoded data removed]",
      "text/plain": [
       "<Figure size 500x400 with 1 Axes>"
      ]
     },
     "metadata": {},
     "output_type": "display_data"
    }
   ],
   "source": [
    "# Evaluación\n",
    "from sklearn.metrics import roc_auc_score, roc_curve, accuracy_score, confusion_matrix\n",
    "import matplotlib.pyplot as plt\n",
    "import seaborn as sns\n",
    "\n",
    "for split, X_split, y_split in [('Train', X_train, y_train), ('Val', X_val, y_val), ('Test', X_test, y_test)]:\n",
    "    y_pred = model.predict(X_split)\n",
    "    y_proba = model.predict_proba(X_split)[:, 1]\n",
    "    f1 = f1_score(y_split, y_pred)\n",
    "    acc = accuracy_score(y_split, y_pred)\n",
    "    auc = roc_auc_score(y_split, y_proba)\n",
    "    print(f\"{split} F1-score: {f1:.3f} | Accuracy: {acc:.3f} | AUC-ROC: {auc:.3f}\")\n",
    "    print(classification_report(y_split, y_pred, digits=3))\n",
    "    # Matriz de confusión\n",
    "    cm = confusion_matrix(y_split, y_pred)\n",
    "    plt.figure(figsize=(3,3))\n",
    "    sns.heatmap(cm, annot=True, fmt='d', cmap='Blues')\n",
    "    plt.title(f'Matriz de confusión - {split}')\n",
    "    plt.xlabel('Predicho')\n",
    "    plt.ylabel('Real')\n",
    "    plt.show()\n",
    "    # Curva ROC solo para test\n",
    "    if split == 'Test':\n",
    "        fpr, tpr, _ = roc_curve(y_split, y_proba)\n",
    "        plt.figure(figsize=(5,4))\n",
    "        plt.plot(fpr, tpr, label=f'AUC = {auc:.2f}')\n",
    "        plt.plot([0,1], [0,1], 'k--')\n",
    "        plt.xlabel('1 - Especificidad (FPR)')\n",
    "        plt.ylabel('Sensibilidad (TPR)')\n",
    "        plt.title('Curva ROC - Test')\n",
    "        plt.legend()\n",
    "        plt.show()"
   ]
  },
  {
   "cell_type": "markdown",
   "id": "ff1206b7",
   "metadata": {},
   "source": [
    "# 6. Explicabilidad  \n",
    "\n",
    "Las dos variables radiómicas seleccionadas para el modelo final, ambas derivadas de la matriz de zonas de nivel de gris (GLSZM), aportan información relevante sobre la textura y la heterogeneidad del tumor en las imágenes de TC:\n",
    "\n",
    "- **original_glszm_LowGrayLevelZoneEmphasis (LGZE):**\n",
    "  - Esta métrica cuantifica la proporción de zonas con valores bajos de gris en la imagen. Un valor alto indica que el tumor contiene muchas áreas homogéneas con baja intensidad, lo que puede estar relacionado con regiones menos densas o necróticas.\n",
    "  - En el contexto de GIST, la presencia de zonas de baja atenuación puede reflejar necrosis, degeneración o menor celularidad, características que pueden diferenciar GIST de otros tumores mesenquimales.\n",
    "\n",
    "- **original_glszm_SmallAreaLowGrayLevelEmphasis (SALGLE):**\n",
    "  - Esta métrica mide la proporción de pequeñas áreas (zonas) con baja intensidad de gris. Un valor alto sugiere que existen múltiples focos pequeños y homogéneos de baja densidad dentro del tumor.\n",
    "  - En GIST, la aparición de pequeñas áreas hipodensas puede estar asociada a patrones de crecimiento específicos, degeneración focal o cambios en la matriz extracelular, lo que puede ayudar a distinguirlos de otros tumores.\n",
    "\n",
    "**Relevancia clínica:**\n",
    "- Ambas variables reflejan la heterogeneidad interna y la composición tisular del tumor, aspectos que pueden estar relacionados con el subtipo molecular, la agresividad y la respuesta al tratamiento.\n",
    "- Su capacidad para discriminar entre GIST y non-GIST de forma no invasiva puede ser útil para apoyar el diagnóstico y la toma de decisiones clínicas, especialmente cuando la biopsia no es concluyente o no es posible.\n",
    "\n",
    "En resumen, estas variables radiómicas capturan patrones de textura que tienen correlato histopatológico y pondrian aportar valor añadido al diagnóstico por imagen de los tumores GIST pero el modelo corrente no es suficientemiente bueno para hacer esto. El AUC-ROC sugiere que, con un umbral diferente, pondria mejorar la sensibilidad para la clase 0, pero a costa de la clase 1. Lo mejor aqui iba a ser intentar crear otros modelos predictivos y/o utilizar tecnicas de feature selection como lasso."
   ]
  }
 ],
 "metadata": {
  "kernelspec": {
   "display_name": "bioinformatics_py_3_8",
   "language": "python",
   "name": "python3"
  },
  "language_info": {
   "codemirror_mode": {
    "name": "ipython",
    "version": 3
   },
   "file_extension": ".py",
   "mimetype": "text/x-python",
   "name": "python",
   "nbconvert_exporter": "python",
   "pygments_lexer": "ipython3",
   "version": "3.8.20"
  }
 },
 "nbformat": 4,
 "nbformat_minor": 5
}
